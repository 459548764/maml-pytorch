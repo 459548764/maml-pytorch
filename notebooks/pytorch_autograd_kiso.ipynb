{
 "cells": [
  {
   "cell_type": "markdown",
   "metadata": {},
   "source": [
    "### n階微分【PyTorch】\n",
    "### 1万階微分すれば計算グラフがわかる説【PyTorch】\n",
    "- 理系ヲタでも一万回告白したらさすがに付き合える説を検証してみた【ドリカム/何度でも】歌詞検証"
   ]
  },
  {
   "cell_type": "code",
   "execution_count": 1,
   "metadata": {},
   "outputs": [],
   "source": [
    "import torch"
   ]
  },
  {
   "cell_type": "code",
   "execution_count": 2,
   "metadata": {},
   "outputs": [],
   "source": [
    "# x の宣言時にrequires_grad=True がないとエラー\n",
    "# x = torch.tensor([2.])\n",
    "# y = x*2 # (dy/dx|x=2) = 2\n",
    "# print(torch.autograd.grad(y, x))"
   ]
  },
  {
   "cell_type": "code",
   "execution_count": 6,
   "metadata": {},
   "outputs": [
    {
     "name": "stdout",
     "output_type": "stream",
     "text": [
      "tensor([2.], requires_grad=True)\n",
      "(tensor([2.]),)\n",
      "(tensor([4.]),)\n",
      "(tensor([6.]),)\n"
     ]
    }
   ],
   "source": [
    "x = torch.tensor([2.], requires_grad=True)\n",
    "print(x)\n",
    "\n",
    "y = x*2 # (dy/dx|x=2) = 2\n",
    "print(torch.autograd.grad(y, x))\n",
    "\n",
    "y = x**2 # (dy/dx|x=2) = 4\n",
    "print(torch.autograd.grad(y, x))\n",
    "\n",
    "y = x**2 + x*2 + 2 # (dy/dx|x=2) = (2x+2|x=2) = 6\n",
    "print(torch.autograd.grad(y, x))\n",
    "\n",
    "# z = torch.autograd.grad(y, x)\n",
    "# z # yのグラフ情報は消えている"
   ]
  },
  {
   "cell_type": "code",
   "execution_count": 6,
   "metadata": {},
   "outputs": [
    {
     "data": {
      "text/plain": [
       "(tensor([6.], grad_fn=<ThAddBackward>),)"
      ]
     },
     "execution_count": 6,
     "metadata": {},
     "output_type": "execute_result"
    }
   ],
   "source": [
    "x = torch.tensor([2.], requires_grad=True)\n",
    "y = x**2 + x*2 + 2\n",
    "dy = torch.autograd.grad(y, x, create_graph=True)\n",
    "dy"
   ]
  },
  {
   "cell_type": "code",
   "execution_count": 5,
   "metadata": {},
   "outputs": [
    {
     "data": {
      "text/plain": [
       "(tensor([2.], grad_fn=<ThMulBackward>),)"
      ]
     },
     "execution_count": 5,
     "metadata": {},
     "output_type": "execute_result"
    }
   ],
   "source": [
    "x = torch.tensor([2.], requires_grad=True)\n",
    "y = x**2 + x*2 + 2\n",
    "dy = torch.autograd.grad(y, x, create_graph=True)\n",
    "ddy = torch.autograd.grad(dy[0], x, create_graph=True)\n",
    "ddy"
   ]
  },
  {
   "cell_type": "code",
   "execution_count": 23,
   "metadata": {},
   "outputs": [
    {
     "name": "stdout",
     "output_type": "stream",
     "text": [
      "7.389056205749512 7.389056205749512 7.389056205749512 7.389056205749512\n"
     ]
    }
   ],
   "source": [
    "x = torch.tensor([2.], requires_grad=True)\n",
    "# y = x**2 + x*2 + 2\n",
    "y = torch.exp(x)\n",
    "dy = torch.autograd.grad(y, x, create_graph=True)\n",
    "ddy = torch.autograd.grad(dy[0], x, create_graph=True)\n",
    "dddy = torch.autograd.grad(ddy[0], x, create_graph=True)\n",
    "print(y.item(), dy[0].item(), ddy[0].item(), dddy[0].item())"
   ]
  },
  {
   "cell_type": "markdown",
   "metadata": {},
   "source": [
    "create_graph=Trueにするとretain_graphもTrueになるんだけど、これってメモリを圧迫し続けるの？  \n",
    "xが消えたら消失してくれるのかな"
   ]
  },
  {
   "cell_type": "markdown",
   "metadata": {},
   "source": [
    "ターミナルで\n",
    "```\n",
    "$ vmstat -SM 1\n",
    "```\n",
    "等を実行してメモリ使用量を監視することをおすすめします"
   ]
  },
  {
   "cell_type": "code",
   "execution_count": 5,
   "metadata": {},
   "outputs": [
    {
     "name": "stderr",
     "output_type": "stream",
     "text": [
      "100%|██████████| 1000000/1000000 [00:29<00:00, 34434.98it/s]\n"
     ]
    }
   ],
   "source": [
    "import torch\n",
    "from tqdm import tqdm\n",
    "\n",
    "\n",
    "N = 1000000\n",
    "\n",
    "x = torch.tensor([2.], requires_grad=True)\n",
    "y = torch.exp(x)\n",
    "Y = []\n",
    "Y.append(y)\n",
    "\n",
    "# メモリを2GBほど持っていきます。\n",
    "for j in tqdm(range(N)):\n",
    "\n",
    "    dy = torch.autograd.grad(Y[-1], x, create_graph=True)\n",
    "    Y.append(dy)"
   ]
  },
  {
   "cell_type": "code",
   "execution_count": 2,
   "metadata": {},
   "outputs": [
    {
     "name": "stderr",
     "output_type": "stream",
     "text": [
      "100%|██████████| 500000/500000 [00:14<00:00, 34928.24it/s]\n"
     ]
    }
   ],
   "source": [
    "import torch\n",
    "from tqdm import tqdm\n",
    "\n",
    "N = 500000\n",
    "\n",
    "x = torch.tensor([2.], requires_grad=True)\n",
    "y = torch.exp(x)\n",
    "dy = torch.autograd.grad(y, x, create_graph=True)\n",
    "\n",
    "for i in tqdm(range(N)):\n",
    "    dy = torch.autograd.grad(dy, x, create_graph=True)"
   ]
  },
  {
   "cell_type": "code",
   "execution_count": null,
   "metadata": {},
   "outputs": [],
   "source": [
    "# 勾配だけdyに保存されている\n",
    "# 上書きしていってもちゃんと微分できてる。\n",
    "# createもretainもするけど、明示的に変数を用意して保管しないと普通に消える"
   ]
  },
  {
   "cell_type": "code",
   "execution_count": 160,
   "metadata": {},
   "outputs": [
    {
     "name": "stdout",
     "output_type": "stream",
     "text": [
      "(tensor([80.], grad_fn=<ThMulBackward>),)\n",
      "(tensor([160.], grad_fn=<ThMulBackward>),)\n",
      "(tensor([240.], grad_fn=<ThMulBackward>),)\n",
      "(tensor([240.], grad_fn=<ThMulBackward>),)\n",
      "(tensor([120.], grad_fn=<ThMulBackward>),)\n",
      "(tensor([0.]),)\n"
     ]
    }
   ],
   "source": [
    "import torch\n",
    "\n",
    "x = torch.tensor([2.], requires_grad=True)\n",
    "y = x**5\n",
    "\n",
    "# 5x**4, 20x**3, 60x**2, 120x, 120, 0\n",
    "# 80, 160, 240, 240, 120, 0\n",
    "\n",
    "for i in range(6):\n",
    "    y = torch.autograd.grad(y, x, create_graph=True)\n",
    "    print(y)"
   ]
  },
  {
   "cell_type": "code",
   "execution_count": 163,
   "metadata": {},
   "outputs": [],
   "source": []
  },
  {
   "cell_type": "code",
   "execution_count": 35,
   "metadata": {},
   "outputs": [],
   "source": [
    "x = torch.Tensor(1)"
   ]
  },
  {
   "cell_type": "markdown",
   "metadata": {},
   "source": [
    "- 先に関数を作って微分してあとから値を入れることはできぬのだろうか\n",
    "- 'Define and Run'(Tensorflow, Keras): 静的フレームワーク。ネットワークを固定してから学習\n",
    "- 'Define by Run'(Chainer, PyTorch, DyNet)：動的フレームワーク。ネットワークは順伝搬後に確定し学習"
   ]
  },
  {
   "cell_type": "code",
   "execution_count": 134,
   "metadata": {},
   "outputs": [
    {
     "name": "stdout",
     "output_type": "stream",
     "text": [
      "tensor([17.], grad_fn=<ThAddBackward>)\n",
      "None\n"
     ]
    }
   ],
   "source": [
    "x = torch.tensor([3.], requires_grad=True)\n",
    "w1 = torch.tensor([5.], requires_grad=True)\n",
    "b1 = torch.tensor([2.], requires_grad=True)\n",
    "\n",
    "y1 = w1*x+b1\n",
    "print(y1)\n",
    "print(x.grad)"
   ]
  },
  {
   "cell_type": "code",
   "execution_count": 135,
   "metadata": {},
   "outputs": [
    {
     "name": "stdout",
     "output_type": "stream",
     "text": [
      "tensor([5.])\n"
     ]
    }
   ],
   "source": [
    "y1.backward(retain_graph=True)\n",
    "print(x.grad)"
   ]
  },
  {
   "cell_type": "code",
   "execution_count": 133,
   "metadata": {},
   "outputs": [],
   "source": []
  },
  {
   "cell_type": "code",
   "execution_count": 136,
   "metadata": {},
   "outputs": [
    {
     "data": {
      "text/plain": [
       "tensor([5.])"
      ]
     },
     "execution_count": 136,
     "metadata": {},
     "output_type": "execute_result"
    }
   ],
   "source": [
    "x.grad"
   ]
  },
  {
   "cell_type": "code",
   "execution_count": 110,
   "metadata": {},
   "outputs": [
    {
     "name": "stdout",
     "output_type": "stream",
     "text": [
      "tensor([21.], grad_fn=<ThAddBackward>)\n",
      "tensor([25.])\n"
     ]
    }
   ],
   "source": [
    "w2 = torch.tensor([6.], requires_grad=True)\n",
    "b2 = torch.tensor([3.], requires_grad=True)\n",
    "\n",
    "y2 = w2*x+b2 \n",
    "print(y2)\n",
    "print(x.grad)"
   ]
  },
  {
   "cell_type": "code",
   "execution_count": 117,
   "metadata": {},
   "outputs": [
    {
     "name": "stdout",
     "output_type": "stream",
     "text": [
      "tensor([6.])\n"
     ]
    }
   ],
   "source": [
    "y2.backward(retain_graph=True)\n",
    "print(x.grad) # どんどん足される"
   ]
  },
  {
   "cell_type": "code",
   "execution_count": 119,
   "metadata": {},
   "outputs": [
    {
     "data": {
      "text/plain": [
       "tensor([0.])"
      ]
     },
     "execution_count": 119,
     "metadata": {},
     "output_type": "execute_result"
    }
   ],
   "source": [
    "x.grad.data.zero_()"
   ]
  },
  {
   "cell_type": "code",
   "execution_count": 125,
   "metadata": {},
   "outputs": [
    {
     "data": {
      "text/plain": [
       "tensor([3.], requires_grad=True)"
      ]
     },
     "execution_count": 125,
     "metadata": {},
     "output_type": "execute_result"
    }
   ],
   "source": [
    "x"
   ]
  },
  {
   "cell_type": "code",
   "execution_count": 124,
   "metadata": {},
   "outputs": [
    {
     "data": {
      "text/plain": [
       "tensor([0.1411], grad_fn=<SinBackward>)"
      ]
     },
     "execution_count": 124,
     "metadata": {},
     "output_type": "execute_result"
    }
   ],
   "source": [
    "x.sin()"
   ]
  },
  {
   "cell_type": "code",
   "execution_count": 120,
   "metadata": {},
   "outputs": [
    {
     "data": {
      "text/plain": [
       "tensor([0.])"
      ]
     },
     "execution_count": 120,
     "metadata": {},
     "output_type": "execute_result"
    }
   ],
   "source": [
    "x.grad"
   ]
  },
  {
   "cell_type": "markdown",
   "metadata": {},
   "source": [
    "---"
   ]
  },
  {
   "cell_type": "code",
   "execution_count": 126,
   "metadata": {},
   "outputs": [
    {
     "data": {
      "text/plain": [
       "0.1411200080598672"
      ]
     },
     "execution_count": 126,
     "metadata": {},
     "output_type": "execute_result"
    }
   ],
   "source": [
    "import numpy as np\n",
    "np.sin(3)"
   ]
  },
  {
   "cell_type": "code",
   "execution_count": 128,
   "metadata": {},
   "outputs": [
    {
     "name": "stdout",
     "output_type": "stream",
     "text": [
      "tensor([[5.]])\n",
      "1\n",
      "2\n",
      "3\n",
      "4\n",
      "tensor([[1.]])\n"
     ]
    }
   ],
   "source": [
    "import torch\n",
    "from torch.autograd import Variable\n",
    "\n",
    "x = Variable(torch.Tensor([[0]]), requires_grad=True)\n",
    "\n",
    "for t in range(5):\n",
    "    y = x.sin() # torch.sin(0)\n",
    "    y.backward() # cos(0)\n",
    "    \n",
    "print(x.grad) # shows 5\n",
    "\n",
    "x = Variable(torch.Tensor([[0]]), requires_grad=True) \n",
    "\n",
    "for t in range(5):\n",
    "    if x.grad is not None:\n",
    "        print(t)\n",
    "        x.grad.data.zero_()\n",
    "    y = x.sin() \n",
    "    y.backward()\n",
    "\n",
    "print(x.grad) # shows 1"
   ]
  },
  {
   "cell_type": "markdown",
   "metadata": {},
   "source": [
    "---"
   ]
  },
  {
   "cell_type": "code",
   "execution_count": 19,
   "metadata": {},
   "outputs": [
    {
     "name": "stdout",
     "output_type": "stream",
     "text": [
      "\n",
      "\n",
      "true func:    y = 2x\n",
      "model func:   y = wx\n",
      "initial func: y = 1x\n",
      "\n",
      "\n",
      "------------------------------------------------------------ \n",
      "w0 == 1.0\n"
     ]
    },
    {
     "data": {
      "image/png": "[encoded data removed]",
      "text/plain": [
       "<Figure size 216x216 with 1 Axes>"
      ]
     },
     "metadata": {},
     "output_type": "display_data"
    },
    {
     "name": "stdout",
     "output_type": "stream",
     "text": [
      "loss: tensor(1., grad_fn=<L1LossBackward>)\n",
      "grads[0] tensor([-1.], grad_fn=<ThMulBackward>)\n",
      "------------------------------------------------------------\n",
      "w1 = w0 - lr*grads[0]\n",
      "w1 == 1.100000023841858\n"
     ]
    },
    {
     "data": {
      "image/png": "[encoded data removed]",
      "text/plain": [
       "<Figure size 216x216 with 1 Axes>"
      ]
     },
     "metadata": {},
     "output_type": "display_data"
    },
    {
     "name": "stdout",
     "output_type": "stream",
     "text": [
      "loss: tensor(1.8000, grad_fn=<L1LossBackward>)\n",
      "grads[0] tensor([-2.], grad_fn=<ThMulBackward>)\n",
      "------------------------------------------------------------\n",
      "w2 = w1 - lr*grads[0]\n",
      "w2 == 1.3000000715255737\n",
      "del w1\n"
     ]
    },
    {
     "data": {
      "image/png": "[encoded data removed]",
      "text/plain": [
       "<Figure size 216x216 with 1 Axes>"
      ]
     },
     "metadata": {},
     "output_type": "display_data"
    },
    {
     "name": "stdout",
     "output_type": "stream",
     "text": [
      "loss: tensor(2.1000, grad_fn=<L1LossBackward>)\n",
      "grads[0] tensor([-3.], grad_fn=<ThMulBackward>)\n",
      "------------------------------------------------------------\n",
      "w3 = w2 - lr*grads[0]\n",
      "w3 == 1.6000001430511475\n",
      "del w2\n"
     ]
    },
    {
     "data": {
      "image/png": "[encoded data removed]",
      "text/plain": [
       "<Figure size 216x216 with 1 Axes>"
      ]
     },
     "metadata": {},
     "output_type": "display_data"
    },
    {
     "name": "stdout",
     "output_type": "stream",
     "text": [
      "\n",
      "\n",
      "------------------------------------------------------------ \n",
      "test\n",
      "------------------------------------------------------------ \n",
      "\n",
      "loss: tensor(1.6000, grad_fn=<L1LossBackward>)\n",
      "\n",
      "dL/dw0 ==\n",
      "  grads[0] tensor([-4.], grad_fn=<ThAddBackward>)\n"
     ]
    }
   ],
   "source": [
    "import torch\n",
    "import matplotlib.pyplot as plt\n",
    "import numpy as np\n",
    "\n",
    "def plot(w):\n",
    "    x = np.linspace(-3,3,4)\n",
    "    plt.figure(figsize=(3,3)); plt.xlim([-3,3]); plt.ylim([-3,3])\n",
    "    y = w*x; plt.plot(x,y,\"k\", label=\"pred\")\n",
    "    y = 2*x; plt.plot(x,y,\"r\", label=\"true\")\n",
    "    plt.legend()\n",
    "    plt.show()\n",
    "\n",
    "lr=0.1\n",
    "\n",
    "loss_fn = torch.nn.L1Loss()\n",
    "\n",
    "\n",
    "print(\"\\n\")\n",
    "print(\"true func:    y = 2x\")\n",
    "print(\"model func:   y = wx\")\n",
    "print(\"initial func: y = 1x\")\n",
    "print(\"\\n\")\n",
    "\n",
    "#####################################################################\n",
    "\n",
    "w0 = torch.tensor([1.], requires_grad=True)\n",
    "print(\"-\"*60, \"\\nw0 ==\", w0.item())\n",
    "plot(w0.item())\n",
    "\n",
    "train_x = torch.tensor([1.])\n",
    "train_y = torch.tensor([2.])\n",
    "\n",
    "_loss = loss_fn(w0*train_x,train_y) # torch.absとかでもおｋ\n",
    "print(\"loss:\", _loss) # 1.0\n",
    "grads = torch.autograd.grad(_loss, w0, create_graph=True)\n",
    "print(\"grads[0]\", grads[0])\n",
    "\n",
    "#####################################################################\n",
    "\n",
    "w1 = w0 - lr*grads[0]\n",
    "print(\"-\"*60, )\n",
    "print(\"w1 = w0 - lr*grads[0]\")\n",
    "print(\"w1 ==\", w1.item())\n",
    "plot(w1.item())\n",
    "\n",
    "train_x = torch.tensor([2.])\n",
    "train_y = torch.tensor([4.])\n",
    "\n",
    "_loss = loss_fn(w1*train_x,train_y)\n",
    "print(\"loss:\", _loss) # 1.8\n",
    "grads = torch.autograd.grad(_loss, w1, create_graph=True)\n",
    "\n",
    "print(\"grads[0]\", grads[0])\n",
    "\n",
    "#####################################################################\n",
    "\n",
    "w2 = w1 - lr*grads[0]\n",
    "print(\"-\"*60)\n",
    "print(\"w2 = w1 - lr*grads[0]\")\n",
    "print(\"w2 ==\", w2.item())\n",
    "print(\"del w1\")\n",
    "del w1\n",
    "plot(w2.item())\n",
    "\n",
    "train_x = torch.tensor([3.])\n",
    "train_y = torch.tensor([6.])\n",
    "\n",
    "_loss = loss_fn(w2*train_x,train_y)\n",
    "print(\"loss:\", _loss) # 1.8\n",
    "grads = torch.autograd.grad(_loss, w2, create_graph=True)\n",
    "\n",
    "print(\"grads[0]\", grads[0])\n",
    "\n",
    "#####################################################################\n",
    "\n",
    "w3 = w2 - lr*grads[0]\n",
    "print(\"-\"*60)\n",
    "print(\"w3 = w2 - lr*grads[0]\")\n",
    "print(\"w3 ==\", w3.item())\n",
    "print(\"del w2\")\n",
    "del w2\n",
    "\n",
    "plot(w3.item())\n",
    "\n",
    "#####################################################################\n",
    "\n",
    "print(\"\\n\"); print(\"-\"*60, \"\\ntest\"); print(\"-\"*60, \"\\n\")\n",
    "\n",
    "test_x = torch.tensor([4.])\n",
    "test_y = torch.tensor([8.])\n",
    "\n",
    "_loss = loss_fn(w3*test_x,test_y)\n",
    "print(\"loss:\", _loss) # 1.6\n",
    "print(\"\\ndL/dw0 ==\")\n",
    "grads = torch.autograd.grad(_loss, w0, create_graph=True)\n",
    "\n",
    "print(\"  grads[0]\", grads[0])"
   ]
  },
  {
   "cell_type": "code",
   "execution_count": 9,
   "metadata": {},
   "outputs": [
    {
     "data": {
      "text/plain": [
       "tensor([1.], requires_grad=True)"
      ]
     },
     "execution_count": 9,
     "metadata": {},
     "output_type": "execute_result"
    }
   ],
   "source": [
    "w0"
   ]
  },
  {
   "cell_type": "code",
   "execution_count": 14,
   "metadata": {},
   "outputs": [
    {
     "data": {
      "text/plain": [
       "1.100000023841858"
      ]
     },
     "execution_count": 14,
     "metadata": {},
     "output_type": "execute_result"
    }
   ],
   "source": [
    "w1.item()"
   ]
  },
  {
   "cell_type": "code",
   "execution_count": null,
   "metadata": {},
   "outputs": [],
   "source": []
  },
  {
   "cell_type": "code",
   "execution_count": null,
   "metadata": {},
   "outputs": [],
   "source": []
  },
  {
   "cell_type": "code",
   "execution_count": null,
   "metadata": {},
   "outputs": [],
   "source": []
  },
  {
   "cell_type": "code",
   "execution_count": null,
   "metadata": {},
   "outputs": [],
   "source": []
  },
  {
   "cell_type": "code",
   "execution_count": null,
   "metadata": {},
   "outputs": [],
   "source": []
  },
  {
   "cell_type": "code",
   "execution_count": null,
   "metadata": {},
   "outputs": [],
   "source": []
  },
  {
   "cell_type": "code",
   "execution_count": null,
   "metadata": {},
   "outputs": [],
   "source": []
  },
  {
   "cell_type": "code",
   "execution_count": null,
   "metadata": {},
   "outputs": [],
   "source": []
  },
  {
   "cell_type": "code",
   "execution_count": null,
   "metadata": {},
   "outputs": [],
   "source": []
  },
  {
   "cell_type": "code",
   "execution_count": null,
   "metadata": {},
   "outputs": [],
   "source": []
  }
 ],
 "metadata": {
  "kernelspec": {
   "display_name": "Python 3",
   "language": "python",
   "name": "python3"
  },
  "language_info": {
   "codemirror_mode": {
    "name": "ipython",
    "version": 3
   },
   "file_extension": ".py",
   "mimetype": "text/x-python",
   "name": "python",
   "nbconvert_exporter": "python",
   "pygments_lexer": "ipython3",
   "version": "3.6.6"
  }
 },
 "nbformat": 4,
 "nbformat_minor": 2
}
