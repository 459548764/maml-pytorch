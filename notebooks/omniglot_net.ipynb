{
 "cells": [
  {
   "cell_type": "markdown",
   "metadata": {},
   "source": [
    "https://github.com/pytorch/examples/blob/master/mnist/main.py\n",
    "https://hacks.deeplearning.jp/pytorch%E3%81%AEdataloader/"
   ]
  },
  {
   "cell_type": "markdown",
   "metadata": {},
   "source": [
    "### モデル"
   ]
  },
  {
   "cell_type": "code",
   "execution_count": 1,
   "metadata": {},
   "outputs": [],
   "source": [
    "import torch\n",
    "import torch.nn as nn\n",
    "import torch.nn.functional as F\n",
    "import torch.optim as optim\n",
    "from torchvision import datasets, transforms\n",
    "\n",
    "from torch.utils.data import Dataset, DataLoader\n",
    "\n",
    "from tqdm import tqdm\n",
    "from collections import OrderedDict\n",
    "\n",
    "import os\n",
    "import numpy as np\n",
    "from skimage import io\n",
    "import matplotlib.pyplot as plt\n",
    "\n",
    "n_shot = 1 # 使っていない\n",
    "\n",
    "class OmniglotNet(nn.Module):\n",
    "    def __init__(self, n_class):\n",
    "        super(OmniglotNet, self).__init__()\n",
    "        self.conv1 = nn.Conv2d(1, 10, kernel_size=5)\n",
    "        self.conv2 = nn.Conv2d(10, 20, kernel_size=5)\n",
    "        self.fc1 = nn.Linear(320, 50)\n",
    "        self.fc2 = nn.Linear(50, n_class)\n",
    "\n",
    "    def forward(self, x):\n",
    "        x = F.relu(F.max_pool2d(self.conv1(x), 2))\n",
    "        x = F.relu(F.max_pool2d(self.conv2(x), 2))\n",
    "        x = x.view(-1, 320)\n",
    "        x = F.relu(self.fc1(x))\n",
    "        x = F.dropout(x, training=self.training)\n",
    "        x = F.log_softmax(self.fc2(x), dim=1)\n",
    "        return x\n",
    "\n",
    "def train(model, device, train_loader, optimizer, epoch):\n",
    "    model.train()\n",
    "    \n",
    "    for data, target in train_loader:\n",
    "        data, target = data.to(device), target.to(device)\n",
    "        optimizer.zero_grad()\n",
    "        output = model(data)\n",
    "        loss = F.nll_loss(output, target)\n",
    "        loss.backward()\n",
    "        optimizer.step()\n",
    "\n",
    "def test(model, device, test_loader):\n",
    "    model.eval()\n",
    "    test_loss = 0\n",
    "    correct = 0\n",
    "    \n",
    "    with torch.no_grad():\n",
    "        for data, target in test_loader:\n",
    "            data, target = data.to(device), target.to(device)\n",
    "            output = model(data)\n",
    "            loss = F.nll_loss(output, target, reduction='sum').item() # sum up batch loss\n",
    "            test_loss += loss\n",
    "            pred = output.max(1, keepdim=True)[1] # get the index of the max log-probability\n",
    "            correct += pred.eq(target.view_as(pred)).sum().item()\n",
    "\n",
    "    test_loss /= len(test_loader.dataset)\n",
    "    return test_loss, correct / len(test_loader.dataset)"
   ]
  },
  {
   "cell_type": "markdown",
   "metadata": {},
   "source": [
    "### データセット"
   ]
  },
  {
   "cell_type": "code",
   "execution_count": 2,
   "metadata": {},
   "outputs": [],
   "source": [
    "# inputs: ../omniglot_mini/images_background/Japanese_(hiragana)/\n",
    "# outputs: {'image': image,'label': label} (1 image)\n",
    "\n",
    "# check len(label)>=20 before\n",
    "class OmniglotDataset(Dataset):\n",
    "    def __init__(self, path_to_lang, train, train_indices, transform):\n",
    "\n",
    "        self.data = []\n",
    "        \n",
    "        labels = sorted(os.listdir(path_to_lang))[:20]\n",
    "        \n",
    "        for label_i, label in enumerate(labels):\n",
    "            path_to_label = os.path.join(path_to_lang, label)\n",
    "            chars = np.array(sorted(os.listdir(path_to_label)))\n",
    "            if train:\n",
    "                chars = chars[train_indices]\n",
    "            else:\n",
    "                test_indices = list(set(np.arange(20)) - set(train_indices))\n",
    "                chars = chars[test_indices]\n",
    "            for char in chars:\n",
    "                path_to_char = os.path.join(path_to_label, char)\n",
    "                image = io.imread(path_to_char)\n",
    "                label_i = np.array(label_i)\n",
    "                self.data.append([image, label_i])\n",
    "            \n",
    "        self.transform = transform\n",
    " \n",
    "    def __len__(self):\n",
    "        return len(self.data)\n",
    " \n",
    "    def __getitem__(self, idx):\n",
    "        return self.transform(self.data[idx])\n",
    "\n",
    "class ToTensor(object):\n",
    "    def __call__(self, sample):\n",
    "        image, label = sample[0], sample[1]\n",
    "        image = image / 255\n",
    "        image = image.reshape([28,28, 1])\n",
    "        image = image.transpose((2, 0, 1))\n",
    "        image = np.array(image, np.float32)\n",
    "        return [torch.from_numpy(image), torch.from_numpy(label)]"
   ]
  },
  {
   "cell_type": "markdown",
   "metadata": {},
   "source": [
    "### プロットしてみる"
   ]
  },
  {
   "cell_type": "code",
   "execution_count": 3,
   "metadata": {},
   "outputs": [
    {
     "data": {
      "image/png": "[encoded data removed]",
      "text/plain": [
       "<Figure size 1440x72 with 20 Axes>"
      ]
     },
     "metadata": {},
     "output_type": "display_data"
    },
    {
     "name": "stdout",
     "output_type": "stream",
     "text": [
      "tensor([13, 16, 10,  4, 11,  1, 15,  5,  7, 18, 12,  3, 19,  8, 14,  0,  2,  9,\n",
      "         6, 17])\n"
     ]
    }
   ],
   "source": [
    "batch_size = 20\n",
    "\n",
    "local_task_train_data_loader = DataLoader(\n",
    "    OmniglotDataset(\"../omniglot_mini/images_background/Japanese_(hiragana)/\", \n",
    "                    train=True,\n",
    "                    train_indices=[0],\n",
    "                    transform=transforms.Compose([\n",
    "                        ToTensor()\n",
    "                    ])),\n",
    "    batch_size=batch_size, shuffle=True)\n",
    "\n",
    "for batch in local_task_train_data_loader:\n",
    "    plt.figure(figsize=(20,1))\n",
    "    for i, (image, label) in enumerate(zip(batch[0], batch[1])):\n",
    "        plt.subplot(1, batch_size, i+1)\n",
    "        plt.imshow(image[0])\n",
    "    plt.show()\n",
    "    print(batch[1])"
   ]
  },
  {
   "cell_type": "markdown",
   "metadata": {},
   "source": [
    "### 学習 (Omniglot_Japanese-(hiragana), 20classes, 1shot)"
   ]
  },
  {
   "cell_type": "code",
   "execution_count": 4,
   "metadata": {},
   "outputs": [
    {
     "name": "stderr",
     "output_type": "stream",
     "text": [
      "100%|██████████| 1000/1000 [00:17<00:00, 56.78it/s, step=1e+03, loss=3.96, acc=0.276]\n"
     ]
    }
   ],
   "source": [
    "batch_size = 20 # batch_size==1だとバグる\n",
    "lr = 0.01\n",
    "momentum = 0.5\n",
    "epochs = 1000\n",
    "\n",
    "device = 'cuda' if torch.cuda.is_available() else 'cpu'\n",
    "\n",
    "local_task_train_data_loader = DataLoader(\n",
    "    OmniglotDataset(\"../omniglot_mini/images_background/Japanese_(hiragana)/\", \n",
    "                    train=True,\n",
    "                    train_indices=[0],\n",
    "                    transform=transforms.Compose([\n",
    "                        ToTensor()\n",
    "                    ])),\n",
    "    batch_size=batch_size, shuffle=True)\n",
    "\n",
    "local_task_test_data_loader = DataLoader(\n",
    "    OmniglotDataset(\"../omniglot_mini/images_background/Japanese_(hiragana)/\", \n",
    "                    train=False,\n",
    "                    train_indices=[0],\n",
    "                    transform=transforms.Compose([\n",
    "                        ToTensor()\n",
    "                    ])),\n",
    "    batch_size=batch_size, shuffle=True)\n",
    "\n",
    "model = OmniglotNet(n_class=20).to(device)\n",
    "optimizer = optim.SGD(model.parameters(), lr=lr, momentum=momentum)\n",
    "\n",
    "with tqdm(range(1, epochs + 1)) as _tqdm:\n",
    "    for epoch in _tqdm:\n",
    "        train(model, device, local_task_train_data_loader, optimizer, epoch)\n",
    "        temp_loss, temp_acc = test(model, device, local_task_test_data_loader)\n",
    "        _tqdm.set_postfix(OrderedDict(step=epoch, loss=temp_loss, acc= temp_acc))"
   ]
  },
  {
   "cell_type": "markdown",
   "metadata": {},
   "source": [
    "### データセットをMNISTに変えても動きます"
   ]
  },
  {
   "cell_type": "code",
   "execution_count": 5,
   "metadata": {},
   "outputs": [
    {
     "name": "stderr",
     "output_type": "stream",
     "text": [
      "100%|██████████| 2/2 [00:14<00:00,  7.47s/it, step=2, loss=0.0705, acc=0.978]\n"
     ]
    }
   ],
   "source": [
    "batch_size = 20 # batch_size==1だとバグる\n",
    "lr = 0.01\n",
    "momentum = 0.5\n",
    "epochs = 2\n",
    "\n",
    "device = 'cuda' if torch.cuda.is_available() else 'cpu'\n",
    "    \n",
    "train_loader = DataLoader(\n",
    "    datasets.MNIST('../mnist', train=True, download=True,\n",
    "                   transform=transforms.Compose([\n",
    "                       transforms.ToTensor(),\n",
    "                   ])),\n",
    "    batch_size=batch_size, shuffle=True)\n",
    "\n",
    "test_loader = DataLoader(\n",
    "    datasets.MNIST('../mnist', train=False, transform=transforms.Compose([\n",
    "                       transforms.ToTensor(),\n",
    "                   ])),\n",
    "    batch_size=batch_size, shuffle=True)\n",
    "\n",
    "model = OmniglotNet(n_class=10).to(device)\n",
    "optimizer = optim.SGD(model.parameters(), lr=lr, momentum=momentum)\n",
    "\n",
    "with tqdm(range(1, epochs + 1)) as _tqdm:\n",
    "    for epoch in _tqdm:\n",
    "        train(model, device, train_loader, optimizer, epoch)\n",
    "        temp_loss, temp_acc = test(model, device, test_loader)\n",
    "        _tqdm.set_postfix(OrderedDict(step=epoch, loss=temp_loss, acc= temp_acc))"
   ]
  },
  {
   "cell_type": "markdown",
   "metadata": {},
   "source": [
    "### タスクセット"
   ]
  },
  {
   "cell_type": "code",
   "execution_count": 6,
   "metadata": {},
   "outputs": [],
   "source": [
    "class Taskset(object):\n",
    "    def __getitem__(self, index):\n",
    "        raise NotImplementedError\n",
    "    def __len__(self):\n",
    "        raise NotImplementedError\n",
    "\n",
    "class TaskLoader(object):\n",
    "    def __init__(self, taskset, shuffle=True):\n",
    "        self.taskset = taskset\n",
    "        self.sample_iter = iter(np.random.permutation(np.arange(len(taskset))))\n",
    "    def __iter__(self):\n",
    "        return self\n",
    "    def __next__(self):\n",
    "        return self.taskset[next(self.sample_iter)]\n",
    "    def __len__(self):\n",
    "        return 1"
   ]
  },
  {
   "cell_type": "code",
   "execution_count": 7,
   "metadata": {},
   "outputs": [],
   "source": [
    "class OmniglotTaskset(Taskset):\n",
    "    def __init__(self, path_to_omniglot, meta_train):\n",
    "        \n",
    "        if meta_train:\n",
    "            path_to_lang = os.path.join(path_to_omniglot, \"images_background/\")\n",
    "        else:\n",
    "            path_to_lang = os.path.join(path_to_omniglot, \"images_evaluation/\")\n",
    "        \n",
    "        langs = sorted(os.listdir(path_to_lang))\n",
    "        tasks = [os.path.join(path_to_lang, lang) for lang in langs]\n",
    "        tasks = [task for task in tasks if len(os.listdir(task))>=20]\n",
    "        self.tasks = tasks\n",
    "        \n",
    "    def __len__(self):\n",
    "        return len(self.tasks)\n",
    " \n",
    "    def __getitem__(self, idx):\n",
    "        train_indices=[0] #TODO 必要に応じて変える\n",
    "        return {\"train\":\n",
    "                DataLoader(\n",
    "                    OmniglotDataset(self.tasks[idx], \n",
    "                                    train=True,\n",
    "                                    train_indices=train_indices,\n",
    "                                    transform=transforms.Compose([\n",
    "                                        ToTensor()\n",
    "                                    ])),\n",
    "                    batch_size=batch_size, shuffle=True), \n",
    "                \"test\":\n",
    "                DataLoader(\n",
    "                    OmniglotDataset(self.tasks[idx], \n",
    "                                    train=False,\n",
    "                                    train_indices=train_indices,\n",
    "                                    transform=transforms.Compose([\n",
    "                                        ToTensor()\n",
    "                                    ])),\n",
    "                    batch_size=batch_size, shuffle=True),\n",
    "                \"task\": self.tasks[idx] \n",
    "               }"
   ]
  },
  {
   "cell_type": "code",
   "execution_count": 8,
   "metadata": {
    "scrolled": false
   },
   "outputs": [
    {
     "name": "stdout",
     "output_type": "stream",
     "text": [
      "0 ../omniglot_mini/images_background/Braille\n"
     ]
    },
    {
     "data": {
      "image/png": "[encoded data removed]",
      "text/plain": [
       "<Figure size 1440x72 with 20 Axes>"
      ]
     },
     "metadata": {},
     "output_type": "display_data"
    },
    {
     "name": "stdout",
     "output_type": "stream",
     "text": [
      "tensor([ 3,  9, 13, 14,  4,  1, 11,  8,  2, 17, 19, 10, 16,  0, 18,  5,  7,  6,\n",
      "        12, 15])\n",
      "1 ../omniglot_mini/images_background/Balinese\n"
     ]
    },
    {
     "data": {
      "image/png": "[encoded data removed]",
      "text/plain": [
       "<Figure size 1440x72 with 20 Axes>"
      ]
     },
     "metadata": {},
     "output_type": "display_data"
    },
    {
     "name": "stdout",
     "output_type": "stream",
     "text": [
      "tensor([ 6, 13,  7,  2, 18, 10, 19,  5,  8,  1,  3, 11,  9,  0, 14,  4, 15, 12,\n",
      "        16, 17])\n",
      "2 ../omniglot_mini/images_background/Alphabet_of_the_Magi\n"
     ]
    },
    {
     "data": {
      "image/png": "[encoded data removed]",
      "text/plain": [
       "<Figure size 1440x72 with 20 Axes>"
      ]
     },
     "metadata": {},
     "output_type": "display_data"
    },
    {
     "name": "stdout",
     "output_type": "stream",
     "text": [
      "tensor([ 4, 18, 11, 14, 10, 15, 13,  1,  5,  8, 16,  6,  3, 19,  7,  0,  2, 17,\n",
      "        12,  9])\n",
      "3 ../omniglot_mini/images_background/Anglo-Saxon_Futhorc\n"
     ]
    },
    {
     "data": {
      "image/png": "[encoded data removed]",
      "text/plain": [
       "<Figure size 1440x72 with 20 Axes>"
      ]
     },
     "metadata": {},
     "output_type": "display_data"
    },
    {
     "name": "stdout",
     "output_type": "stream",
     "text": [
      "tensor([ 0, 10, 17, 13,  4, 14,  9, 16,  6,  1,  8, 19, 15,  2, 18, 12,  3,  7,\n",
      "         5, 11])\n",
      "4 ../omniglot_mini/images_background/Futurama\n"
     ]
    },
    {
     "data": {
      "image/png": "[encoded data removed]",
      "text/plain": [
       "<Figure size 1440x72 with 20 Axes>"
      ]
     },
     "metadata": {},
     "output_type": "display_data"
    },
    {
     "name": "stdout",
     "output_type": "stream",
     "text": [
      "tensor([15, 19,  3, 17, 12, 18, 16,  6,  1, 13,  7, 14, 11,  5,  4,  2, 10,  0,\n",
      "         9,  8])\n"
     ]
    }
   ],
   "source": [
    "meta_train_task_loader = TaskLoader(\n",
    "    OmniglotTaskset(\"../omniglot_mini/\", meta_train=True)\n",
    ")\n",
    "\n",
    "for task_i, meta_train_task in enumerate(meta_train_task_loader):\n",
    "    print(task_i, meta_train_task[\"task\"])\n",
    "    local_task_train_data_loader = meta_train_task[\"train\"]\n",
    "    for batch in local_task_train_data_loader:\n",
    "        plt.figure(figsize=(20,1))\n",
    "        for i, (image, label) in enumerate(zip(batch[0], batch[1])):\n",
    "            plt.subplot(1, batch_size, i+1)\n",
    "            plt.imshow(image[0])\n",
    "        plt.show()\n",
    "        print(batch[1])\n",
    "    if task_i==4:\n",
    "        break"
   ]
  },
  {
   "cell_type": "markdown",
   "metadata": {},
   "source": [
    "### モデルのコピー"
   ]
  },
  {
   "cell_type": "markdown",
   "metadata": {},
   "source": [
    "master_model"
   ]
  },
  {
   "cell_type": "code",
   "execution_count": 87,
   "metadata": {
    "scrolled": true
   },
   "outputs": [
    {
     "name": "stderr",
     "output_type": "stream",
     "text": [
      "100%|██████████| 1/1 [00:07<00:00,  7.30s/it, step=1, loss=0.128, acc=0.958]\n"
     ]
    }
   ],
   "source": [
    "batch_size = 20 # batch_size==1だとバグる\n",
    "lr = 0.01\n",
    "momentum = 0.5\n",
    "epochs = 1\n",
    "\n",
    "device = 'cuda' if torch.cuda.is_available() else 'cpu'\n",
    "    \n",
    "train_loader = DataLoader(\n",
    "    datasets.MNIST('../mnist', train=True, download=True,\n",
    "                   transform=transforms.Compose([\n",
    "                       transforms.ToTensor(),\n",
    "                   ])),\n",
    "    batch_size=batch_size, shuffle=True)\n",
    "\n",
    "test_loader = DataLoader(\n",
    "    datasets.MNIST('../mnist', train=False, transform=transforms.Compose([\n",
    "                       transforms.ToTensor(),\n",
    "                   ])),\n",
    "    batch_size=batch_size, shuffle=True)\n",
    "\n",
    "master_model = OmniglotNet(n_class=10).to(device)\n",
    "master_optimizer = optim.SGD(master_model.parameters(), lr=lr, momentum=momentum)\n",
    "\n",
    "with tqdm(range(1, epochs + 1)) as _tqdm:\n",
    "    for epoch in _tqdm:\n",
    "        train(master_model, device, train_loader, master_optimizer, epoch)\n",
    "        temp_loss, temp_acc = test(master_model, device, test_loader)\n",
    "        _tqdm.set_postfix(OrderedDict(step=epoch, loss=temp_loss, acc= temp_acc))"
   ]
  },
  {
   "cell_type": "code",
   "execution_count": 88,
   "metadata": {
    "scrolled": false
   },
   "outputs": [
    {
     "data": {
      "image/png": "[encoded data removed]",
      "text/plain": [
       "<Figure size 1440x72 with 20 Axes>"
      ]
     },
     "metadata": {},
     "output_type": "display_data"
    },
    {
     "name": "stdout",
     "output_type": "stream",
     "text": [
      "[1 7 9 9 9 9 2 3 9 2 6 1 9 9 9 3 9 8 1 0]\n",
      "[1 7 9 9 9 9 2 3 9 2 6 1 9 9 9 3 9 8 1 0]\n"
     ]
    }
   ],
   "source": [
    "for batch_i, (images, labels) in enumerate(test_loader):\n",
    "    plt.figure(figsize=(20,1))\n",
    "    for i, image in enumerate(images):\n",
    "        plt.subplot(1, len(images),i+1)\n",
    "        plt.imshow(image[0])\n",
    "    plt.show()\n",
    "    print(labels.detach().numpy())\n",
    "    y_pred = master_model(images.to(device))\n",
    "    y_pred = np.argmax(y_pred.cpu().detach().numpy(), 1)\n",
    "    print(y_pred)\n",
    "    if batch_i==0:\n",
    "        break"
   ]
  },
  {
   "cell_type": "markdown",
   "metadata": {},
   "source": [
    "faster_model"
   ]
  },
  {
   "cell_type": "code",
   "execution_count": 89,
   "metadata": {},
   "outputs": [],
   "source": [
    "faster_model = OmniglotNet(n_class=10).to(device)\n",
    "faster_optimizer = optim.SGD(faster_model.parameters(), lr=lr, momentum=momentum)"
   ]
  },
  {
   "cell_type": "code",
   "execution_count": 90,
   "metadata": {},
   "outputs": [
    {
     "data": {
      "image/png": "[encoded data removed]",
      "text/plain": [
       "<Figure size 1440x72 with 20 Axes>"
      ]
     },
     "metadata": {},
     "output_type": "display_data"
    },
    {
     "name": "stdout",
     "output_type": "stream",
     "text": [
      "[0 1 8 0 3 7 3 4 1 1 6 7 9 8 0 5 0 6 7 1]\n",
      "[9 9 9 8 9 0 9 4 9 4 9 0 4 8 2 2 9 9 0 0]\n"
     ]
    }
   ],
   "source": [
    "for batch_i, (images, labels) in enumerate(test_loader):\n",
    "    plt.figure(figsize=(20,1))\n",
    "    for i, image in enumerate(images):\n",
    "        plt.subplot(1, len(images),i+1)\n",
    "        plt.imshow(image[0])\n",
    "    plt.show()\n",
    "    print(labels.detach().numpy())\n",
    "    y_pred = faster_model(images.to(device))\n",
    "    y_pred = np.argmax(y_pred.cpu().detach().numpy(), 1)\n",
    "    print(y_pred)\n",
    "    if batch_i==0:\n",
    "        break"
   ]
  },
  {
   "cell_type": "code",
   "execution_count": 91,
   "metadata": {},
   "outputs": [],
   "source": [
    "faster_model.load_state_dict(model.state_dict())"
   ]
  },
  {
   "cell_type": "code",
   "execution_count": 92,
   "metadata": {},
   "outputs": [
    {
     "data": {
      "image/png": "[encoded data removed]",
      "text/plain": [
       "<Figure size 1440x72 with 20 Axes>"
      ]
     },
     "metadata": {},
     "output_type": "display_data"
    },
    {
     "name": "stdout",
     "output_type": "stream",
     "text": [
      "[3 7 9 1 6 5 5 2 3 6 1 3 4 8 8 1 5 2 8 1]\n",
      "[3 7 9 1 6 5 5 2 3 6 1 3 4 8 8 1 5 2 8 1]\n"
     ]
    }
   ],
   "source": [
    "for batch_i, (images, labels) in enumerate(test_loader):\n",
    "    plt.figure(figsize=(20,1))\n",
    "    for i, image in enumerate(images):\n",
    "        plt.subplot(1, len(images),i+1)\n",
    "        plt.imshow(image[0])\n",
    "    plt.show()\n",
    "    print(labels.detach().numpy())\n",
    "    y_pred = faster_model(images.to(device))\n",
    "    y_pred = np.argmax(y_pred.cpu().detach().numpy(), 1)\n",
    "    print(y_pred)\n",
    "    if batch_i==0:\n",
    "        break"
   ]
  },
  {
   "cell_type": "code",
   "execution_count": null,
   "metadata": {},
   "outputs": [],
   "source": []
  },
  {
   "cell_type": "code",
   "execution_count": null,
   "metadata": {},
   "outputs": [],
   "source": []
  },
  {
   "cell_type": "code",
   "execution_count": null,
   "metadata": {},
   "outputs": [],
   "source": []
  },
  {
   "cell_type": "code",
   "execution_count": null,
   "metadata": {},
   "outputs": [],
   "source": []
  },
  {
   "cell_type": "code",
   "execution_count": null,
   "metadata": {},
   "outputs": [],
   "source": []
  },
  {
   "cell_type": "code",
   "execution_count": null,
   "metadata": {},
   "outputs": [],
   "source": []
  },
  {
   "cell_type": "code",
   "execution_count": null,
   "metadata": {},
   "outputs": [],
   "source": []
  },
  {
   "cell_type": "code",
   "execution_count": null,
   "metadata": {},
   "outputs": [],
   "source": []
  },
  {
   "cell_type": "code",
   "execution_count": null,
   "metadata": {},
   "outputs": [],
   "source": []
  },
  {
   "cell_type": "code",
   "execution_count": null,
   "metadata": {},
   "outputs": [],
   "source": []
  }
 ],
 "metadata": {
  "kernelspec": {
   "display_name": "Python 3",
   "language": "python",
   "name": "python3"
  },
  "language_info": {
   "codemirror_mode": {
    "name": "ipython",
    "version": 3
   },
   "file_extension": ".py",
   "mimetype": "text/x-python",
   "name": "python",
   "nbconvert_exporter": "python",
   "pygments_lexer": "ipython3",
   "version": "3.6.5"
  }
 },
 "nbformat": 4,
 "nbformat_minor": 2
}
