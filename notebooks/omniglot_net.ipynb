{
 "cells": [
  {
   "cell_type": "markdown",
   "metadata": {},
   "source": [
    "https://github.com/pytorch/examples/blob/master/mnist/main.py\n",
    "https://hacks.deeplearning.jp/pytorch%E3%81%AEdataloader/"
   ]
  },
  {
   "cell_type": "markdown",
   "metadata": {},
   "source": [
    "### モデル"
   ]
  },
  {
   "cell_type": "code",
   "execution_count": 1,
   "metadata": {},
   "outputs": [],
   "source": [
    "import torch\n",
    "import torch.nn as nn\n",
    "import torch.nn.functional as F\n",
    "import torch.optim as optim\n",
    "from torchvision import datasets, transforms\n",
    "\n",
    "from torch.utils.data import Dataset, DataLoader\n",
    "\n",
    "from tqdm import tqdm\n",
    "from collections import OrderedDict\n",
    "\n",
    "import os\n",
    "import numpy as np\n",
    "from skimage import io\n",
    "import matplotlib.pyplot as plt\n",
    "\n",
    "n_shot = 1 # 使っていない\n",
    "\n",
    "class OmniglotNet(nn.Module):\n",
    "    def __init__(self, n_class):\n",
    "        super(OmniglotNet, self).__init__()\n",
    "        self.conv1 = nn.Conv2d(1, 10, kernel_size=5)\n",
    "        self.conv2 = nn.Conv2d(10, 20, kernel_size=5)\n",
    "        self.fc1 = nn.Linear(320, 50)\n",
    "        self.fc2 = nn.Linear(50, n_class)\n",
    "\n",
    "    def forward(self, x):\n",
    "        x = F.relu(F.max_pool2d(self.conv1(x), 2))\n",
    "        x = F.relu(F.max_pool2d(self.conv2(x), 2))\n",
    "        x = x.view(-1, 320)\n",
    "        x = F.relu(self.fc1(x))\n",
    "        x = F.dropout(x, training=self.training)\n",
    "        x = F.log_softmax(self.fc2(x), dim=1)\n",
    "        return x\n",
    "\n",
    "def train(model, device, train_loader, optimizer, epoch):\n",
    "    model.train()\n",
    "    \n",
    "    for data, target in train_loader:\n",
    "        data, target = data.to(device), target.to(device)\n",
    "        optimizer.zero_grad()\n",
    "        output = model(data)\n",
    "        loss = F.nll_loss(output, target)\n",
    "        loss.backward()\n",
    "        optimizer.step()\n",
    "\n",
    "def test(model, device, test_loader):\n",
    "    model.eval()\n",
    "    test_loss = 0\n",
    "    correct = 0\n",
    "    \n",
    "    with torch.no_grad():\n",
    "        for data, target in test_loader:\n",
    "            data, target = data.to(device), target.to(device)\n",
    "            output = model(data)\n",
    "            loss = F.nll_loss(output, target, reduction='sum').item() # sum up batch loss\n",
    "            test_loss += loss\n",
    "            pred = output.max(1, keepdim=True)[1] # get the index of the max log-probability\n",
    "            correct += pred.eq(target.view_as(pred)).sum().item()\n",
    "\n",
    "    test_loss /= len(test_loader.dataset)\n",
    "    return test_loss, correct / len(test_loader.dataset)"
   ]
  },
  {
   "cell_type": "markdown",
   "metadata": {},
   "source": [
    "### データセット"
   ]
  },
  {
   "cell_type": "code",
   "execution_count": 2,
   "metadata": {},
   "outputs": [],
   "source": [
    "# inputs: ../omniglot_mini/images_background/Japanese_(hiragana)/\n",
    "# outputs: {'image': image,'label': label} (1 image)\n",
    "\n",
    "# check len(label)>=20 before\n",
    "class OmniglotDataset(Dataset):\n",
    "    def __init__(self, path_to_lang, train, train_indices, transform):\n",
    "\n",
    "        self.data = []\n",
    "        \n",
    "        labels = sorted(os.listdir(path_to_lang))[:20]\n",
    "        \n",
    "        for label_i, label in enumerate(labels):\n",
    "            path_to_label = os.path.join(path_to_lang, label)\n",
    "            chars = np.array(sorted(os.listdir(path_to_label)))\n",
    "            if train:\n",
    "                chars = chars[train_indices]\n",
    "            else:\n",
    "                test_indices = list(set(np.arange(20)) - set(train_indices))\n",
    "                chars = chars[test_indices]\n",
    "            for char in chars:\n",
    "                path_to_char = os.path.join(path_to_label, char)\n",
    "                image = io.imread(path_to_char)\n",
    "                label_i = np.array(label_i)\n",
    "                self.data.append([image, label_i])\n",
    "            \n",
    "        self.transform = transform\n",
    " \n",
    "    def __len__(self):\n",
    "        return len(self.data)\n",
    " \n",
    "    def __getitem__(self, idx):\n",
    "        return self.transform(self.data[idx])\n",
    "\n",
    "class ToTensor(object):\n",
    "    def __call__(self, sample):\n",
    "        image, label = sample[0], sample[1]\n",
    "        image = image / 255\n",
    "        image = image.reshape([28,28, 1])\n",
    "        image = image.transpose((2, 0, 1))\n",
    "        image = np.array(image, np.float32)\n",
    "        return [torch.from_numpy(image), torch.from_numpy(label)]"
   ]
  },
  {
   "cell_type": "markdown",
   "metadata": {},
   "source": [
    "### プロットしてみる"
   ]
  },
  {
   "cell_type": "code",
   "execution_count": 3,
   "metadata": {},
   "outputs": [
    {
     "data": {
      "image/png": "[encoded data removed]",
      "text/plain": [
       "<Figure size 1440x72 with 20 Axes>"
      ]
     },
     "metadata": {},
     "output_type": "display_data"
    },
    {
     "name": "stdout",
     "output_type": "stream",
     "text": [
      "tensor([13, 16, 10,  4, 11,  1, 15,  5,  7, 18, 12,  3, 19,  8, 14,  0,  2,  9,\n",
      "         6, 17])\n"
     ]
    }
   ],
   "source": [
    "batch_size = 20\n",
    "\n",
    "local_task_train_data_loader = DataLoader(\n",
    "    OmniglotDataset(\"../omniglot_mini/images_background/Japanese_(hiragana)/\", \n",
    "                    train=True,\n",
    "                    train_indices=[0],\n",
    "                    transform=transforms.Compose([\n",
    "                        ToTensor()\n",
    "                    ])),\n",
    "    batch_size=batch_size, shuffle=True)\n",
    "\n",
    "for batch in local_task_train_data_loader:\n",
    "    plt.figure(figsize=(20,1))\n",
    "    for i, (image, label) in enumerate(zip(batch[0], batch[1])):\n",
    "        plt.subplot(1, batch_size, i+1)\n",
    "        plt.imshow(image[0])\n",
    "    plt.show()\n",
    "    print(batch[1])"
   ]
  },
  {
   "cell_type": "markdown",
   "metadata": {},
   "source": [
    "### 学習 (Omniglot_Japanese-(hiragana), 20classes, 1shot)"
   ]
  },
  {
   "cell_type": "code",
   "execution_count": 4,
   "metadata": {},
   "outputs": [
    {
     "name": "stderr",
     "output_type": "stream",
     "text": [
      "100%|██████████| 1000/1000 [00:17<00:00, 56.78it/s, step=1e+03, loss=3.96, acc=0.276]\n"
     ]
    }
   ],
   "source": [
    "batch_size = 20 # batch_size==1だとバグる\n",
    "lr = 0.01\n",
    "momentum = 0.5\n",
    "epochs = 1000\n",
    "\n",
    "device = 'cuda' if torch.cuda.is_available() else 'cpu'\n",
    "\n",
    "local_task_train_data_loader = DataLoader(\n",
    "    OmniglotDataset(\"../omniglot_mini/images_background/Japanese_(hiragana)/\", \n",
    "                    train=True,\n",
    "                    train_indices=[0],\n",
    "                    transform=transforms.Compose([\n",
    "                        ToTensor()\n",
    "                    ])),\n",
    "    batch_size=batch_size, shuffle=True)\n",
    "\n",
    "local_task_test_data_loader = DataLoader(\n",
    "    OmniglotDataset(\"../omniglot_mini/images_background/Japanese_(hiragana)/\", \n",
    "                    train=False,\n",
    "                    train_indices=[0],\n",
    "                    transform=transforms.Compose([\n",
    "                        ToTensor()\n",
    "                    ])),\n",
    "    batch_size=batch_size, shuffle=True)\n",
    "\n",
    "model = OmniglotNet(n_class=20).to(device)\n",
    "optimizer = optim.SGD(model.parameters(), lr=lr, momentum=momentum)\n",
    "\n",
    "with tqdm(range(1, epochs + 1)) as _tqdm:\n",
    "    for epoch in _tqdm:\n",
    "        train(model, device, local_task_train_data_loader, optimizer, epoch)\n",
    "        temp_loss, temp_acc = test(model, device, local_task_test_data_loader)\n",
    "        _tqdm.set_postfix(OrderedDict(step=epoch, loss=temp_loss, acc= temp_acc))"
   ]
  },
  {
   "cell_type": "markdown",
   "metadata": {},
   "source": [
    "### データセットをMNISTに変えても動きます"
   ]
  },
  {
   "cell_type": "code",
   "execution_count": 5,
   "metadata": {},
   "outputs": [
    {
     "name": "stderr",
     "output_type": "stream",
     "text": [
      "100%|██████████| 2/2 [00:14<00:00,  7.47s/it, step=2, loss=0.0705, acc=0.978]\n"
     ]
    }
   ],
   "source": [
    "batch_size = 20 # batch_size==1だとバグる\n",
    "lr = 0.01\n",
    "momentum = 0.5\n",
    "epochs = 2\n",
    "\n",
    "device = 'cuda' if torch.cuda.is_available() else 'cpu'\n",
    "    \n",
    "train_loader = DataLoader(\n",
    "    datasets.MNIST('../mnist', train=True, download=True,\n",
    "                   transform=transforms.Compose([\n",
    "                       transforms.ToTensor(),\n",
    "                   ])),\n",
    "    batch_size=batch_size, shuffle=True)\n",
    "\n",
    "test_loader = DataLoader(\n",
    "    datasets.MNIST('../mnist', train=False, transform=transforms.Compose([\n",
    "                       transforms.ToTensor(),\n",
    "                   ])),\n",
    "    batch_size=batch_size, shuffle=True)\n",
    "\n",
    "model = OmniglotNet(n_class=10).to(device)\n",
    "optimizer = optim.SGD(model.parameters(), lr=lr, momentum=momentum)\n",
    "\n",
    "with tqdm(range(1, epochs + 1)) as _tqdm:\n",
    "    for epoch in _tqdm:\n",
    "        train(model, device, train_loader, optimizer, epoch)\n",
    "        temp_loss, temp_acc = test(model, device, test_loader)\n",
    "        _tqdm.set_postfix(OrderedDict(step=epoch, loss=temp_loss, acc= temp_acc))"
   ]
  },
  {
   "cell_type": "markdown",
   "metadata": {},
   "source": [
    "### タスクセット"
   ]
  },
  {
   "cell_type": "code",
   "execution_count": 144,
   "metadata": {},
   "outputs": [],
   "source": [
    "class Taskset(object):\n",
    "    def __getitem__(self, index):\n",
    "        raise NotImplementedError\n",
    "    def __len__(self):\n",
    "        raise NotImplementedError\n",
    "\n",
    "class TaskLoader(object):\n",
    "    def __init__(self, taskset, shuffle=True):\n",
    "        self.taskset = taskset\n",
    "        self.sample_iter = iter(np.random.permutation(np.arange(len(taskset))))\n",
    "    def __iter__(self):\n",
    "        return self\n",
    "    def __next__(self):\n",
    "        return self.taskset[next(self.sample_iter)]\n",
    "    def __len__(self):\n",
    "        return NotImplementedError"
   ]
  },
  {
   "cell_type": "code",
   "execution_count": 145,
   "metadata": {},
   "outputs": [],
   "source": [
    "class OmniglotTaskset(Taskset):\n",
    "    def __init__(self, path_to_omniglot, meta_train):\n",
    "        \n",
    "        if meta_train:\n",
    "            path_to_lang = os.path.join(path_to_omniglot, \"images_background/\")\n",
    "        else:\n",
    "            path_to_lang = os.path.join(path_to_omniglot, \"images_evaluation/\")\n",
    "        \n",
    "        langs = sorted(os.listdir(path_to_lang))\n",
    "        tasks = [os.path.join(path_to_lang, lang) for lang in langs]\n",
    "        tasks = [task for task in tasks if len(os.listdir(task))>=20]\n",
    "        self.tasks = tasks\n",
    "        \n",
    "    def __len__(self):\n",
    "        return len(self.tasks)\n",
    " \n",
    "    def __getitem__(self, idx):\n",
    "        train_indices=[0] #TODO 必要に応じて変える\n",
    "        return {\"train\":\n",
    "                DataLoader(\n",
    "                    OmniglotDataset(self.tasks[idx], \n",
    "                                    train=True,\n",
    "                                    train_indices=train_indices,\n",
    "                                    transform=transforms.Compose([\n",
    "                                        ToTensor()\n",
    "                                    ])),\n",
    "                    batch_size=batch_size, shuffle=True), \n",
    "                \"test\":\n",
    "                DataLoader(\n",
    "                    OmniglotDataset(self.tasks[idx], \n",
    "                                    train=False,\n",
    "                                    train_indices=train_indices,\n",
    "                                    transform=transforms.Compose([\n",
    "                                        ToTensor()\n",
    "                                    ])),\n",
    "                    batch_size=batch_size, shuffle=True),\n",
    "                \"task\": self.tasks[idx] \n",
    "               }"
   ]
  },
  {
   "cell_type": "code",
   "execution_count": 146,
   "metadata": {
    "scrolled": false
   },
   "outputs": [
    {
     "name": "stdout",
     "output_type": "stream",
     "text": [
      "0 ../omniglot_mini/images_background/Latin\n"
     ]
    },
    {
     "data": {
      "image/png": "[encoded data removed]",
      "text/plain": [
       "<Figure size 1440x72 with 20 Axes>"
      ]
     },
     "metadata": {},
     "output_type": "display_data"
    },
    {
     "name": "stdout",
     "output_type": "stream",
     "text": [
      "tensor([ 2,  8, 11, 12,  1, 13,  4, 16, 18, 19, 14,  3, 15, 17,  7,  6,  0,  5,\n",
      "         9, 10])\n",
      "1 ../omniglot_mini/images_background/Alphabet_of_the_Magi\n"
     ]
    },
    {
     "data": {
      "image/png": "[encoded data removed]",
      "text/plain": [
       "<Figure size 1440x72 with 20 Axes>"
      ]
     },
     "metadata": {},
     "output_type": "display_data"
    },
    {
     "name": "stdout",
     "output_type": "stream",
     "text": [
      "tensor([ 5,  2,  1, 12,  4, 16,  3, 11, 19, 18,  7,  8,  0, 10, 15, 13, 14,  6,\n",
      "         9, 17])\n",
      "2 ../omniglot_mini/images_background/N_Ko\n"
     ]
    },
    {
     "data": {
      "image/png": "[encoded data removed]",
      "text/plain": [
       "<Figure size 1440x72 with 20 Axes>"
      ]
     },
     "metadata": {},
     "output_type": "display_data"
    },
    {
     "name": "stdout",
     "output_type": "stream",
     "text": [
      "tensor([15,  0,  5, 13, 18,  4,  6,  2,  8,  1,  3, 19, 12, 16, 11,  7, 17, 14,\n",
      "         9, 10])\n",
      "3 ../omniglot_mini/images_background/Burmese_(Myanmar)\n"
     ]
    },
    {
     "data": {
      "image/png": "[encoded data removed]",
      "text/plain": [
       "<Figure size 1440x72 with 20 Axes>"
      ]
     },
     "metadata": {},
     "output_type": "display_data"
    },
    {
     "name": "stdout",
     "output_type": "stream",
     "text": [
      "tensor([17,  4,  8, 14,  5,  6,  0,  3,  1, 18, 13, 11, 16,  7,  2,  9, 12, 15,\n",
      "        10, 19])\n",
      "4 ../omniglot_mini/images_background/Sanskrit\n"
     ]
    },
    {
     "data": {
      "image/png": "[encoded data removed]",
      "text/plain": [
       "<Figure size 1440x72 with 20 Axes>"
      ]
     },
     "metadata": {},
     "output_type": "display_data"
    },
    {
     "name": "stdout",
     "output_type": "stream",
     "text": [
      "tensor([ 1,  2,  5,  6, 10,  8, 16, 18, 11,  9, 14,  3, 17, 12,  7, 15, 13,  4,\n",
      "         0, 19])\n"
     ]
    }
   ],
   "source": [
    "meta_train_task_loader = TaskLoader(\n",
    "    OmniglotTaskset(\"../omniglot_mini/\", meta_train=True)\n",
    ")\n",
    "\n",
    "for task_i, meta_train_task in enumerate(meta_train_task_loader):\n",
    "    print(task_i, meta_train_task[\"task\"])\n",
    "    local_task_train_data_loader = meta_train_task[\"train\"]\n",
    "    for batch in local_task_train_data_loader:\n",
    "        plt.figure(figsize=(20,1))\n",
    "        for i, (image, label) in enumerate(zip(batch[0], batch[1])):\n",
    "            plt.subplot(1, batch_size, i+1)\n",
    "            plt.imshow(image[0])\n",
    "        plt.show()\n",
    "        print(batch[1])\n",
    "    if task_i==4:\n",
    "        break"
   ]
  },
  {
   "cell_type": "code",
   "execution_count": 198,
   "metadata": {},
   "outputs": [],
   "source": [
    "def train2(model, device, train_loader, optimizer, epoch, rate=1.0):\n",
    "    model.train()\n",
    "    \n",
    "    with tqdm(train_loader) as _tqdm:\n",
    "        for i, (data, target) in enumerate(_tqdm):\n",
    "            data, target = data.to(device), target.to(device)\n",
    "            optimizer.zero_grad()\n",
    "            output = model(data)\n",
    "            loss = F.nll_loss(output, target)\n",
    "            loss.backward()\n",
    "            optimizer.step()\n",
    "            if i % 300 == 0:\n",
    "                temp_loss, temp_acc = test(model, device, test_loader)\n",
    "            _tqdm.set_postfix(OrderedDict(step=epoch, loss=temp_loss, acc= temp_acc))\n",
    "            if i+1 >= len(train_loader)*rate:\n",
    "                break"
   ]
  },
  {
   "cell_type": "markdown",
   "metadata": {},
   "source": [
    "### モデルのコピー"
   ]
  },
  {
   "cell_type": "markdown",
   "metadata": {},
   "source": [
    "### master_model"
   ]
  },
  {
   "cell_type": "code",
   "execution_count": 199,
   "metadata": {
    "scrolled": true
   },
   "outputs": [
    {
     "name": "stderr",
     "output_type": "stream",
     "text": [
      " 49%|████▉     | 1475/3000 [00:09<00:09, 161.51it/s, step=1, loss=0.202, acc=0.937]\n"
     ]
    }
   ],
   "source": [
    "batch_size = 20 # batch_size==1だとバグる\n",
    "lr = 0.01\n",
    "momentum = 0.5\n",
    "epochs = 1\n",
    "\n",
    "device = 'cuda' if torch.cuda.is_available() else 'cpu'\n",
    "    \n",
    "train_loader = DataLoader(\n",
    "    datasets.MNIST('../mnist', train=True, download=True,\n",
    "                   transform=transforms.Compose([\n",
    "                       transforms.ToTensor(),\n",
    "                   ])),\n",
    "    batch_size=batch_size, shuffle=True)\n",
    "\n",
    "test_loader = DataLoader(\n",
    "    datasets.MNIST('../mnist', train=False, transform=transforms.Compose([\n",
    "                       transforms.ToTensor(),\n",
    "                   ])),\n",
    "    batch_size=batch_size, shuffle=True)\n",
    "\n",
    "master_model = OmniglotNet(n_class=10).to(device)\n",
    "master_optimizer = optim.SGD(master_model.parameters(), lr=lr, momentum=momentum)\n",
    "\n",
    "train2(master_model, device, train_loader, master_optimizer, epoch, rate=0.5)"
   ]
  },
  {
   "cell_type": "markdown",
   "metadata": {},
   "source": [
    "### 正しく学習が進んでいる"
   ]
  },
  {
   "cell_type": "code",
   "execution_count": 200,
   "metadata": {
    "scrolled": false
   },
   "outputs": [
    {
     "data": {
      "image/png": "[encoded data removed]",
      "text/plain": [
       "<Figure size 1440x72 with 20 Axes>"
      ]
     },
     "metadata": {},
     "output_type": "display_data"
    },
    {
     "name": "stdout",
     "output_type": "stream",
     "text": [
      "[3 9 1 2 6 0 1 8 0 3 9 5 9 1 7 4 1 6 9 2]\n",
      "[3 4 1 2 6 0 1 8 0 3 9 5 9 8 7 4 1 6 4 2]\n"
     ]
    }
   ],
   "source": [
    "for batch_i, (images, labels) in enumerate(test_loader):\n",
    "    plt.figure(figsize=(20,1))\n",
    "    for i, image in enumerate(images):\n",
    "        plt.subplot(1, len(images),i+1)\n",
    "        plt.imshow(image[0])\n",
    "    plt.show()\n",
    "    print(labels.detach().numpy())\n",
    "    y_pred = master_model(images.to(device))\n",
    "    y_pred = np.argmax(y_pred.cpu().detach().numpy(), 1)\n",
    "    print(y_pred)\n",
    "    if batch_i==0:\n",
    "        break"
   ]
  },
  {
   "cell_type": "markdown",
   "metadata": {},
   "source": [
    "### faster_model"
   ]
  },
  {
   "cell_type": "code",
   "execution_count": 201,
   "metadata": {},
   "outputs": [],
   "source": [
    "faster_model = OmniglotNet(n_class=10).to(device)\n",
    "faster_optimizer = optim.SGD(faster_model.parameters(), lr=lr, momentum=momentum)"
   ]
  },
  {
   "cell_type": "markdown",
   "metadata": {},
   "source": [
    "### 全く学習していない"
   ]
  },
  {
   "cell_type": "code",
   "execution_count": 202,
   "metadata": {},
   "outputs": [
    {
     "data": {
      "image/png": "[encoded data removed]",
      "text/plain": [
       "<Figure size 1440x72 with 20 Axes>"
      ]
     },
     "metadata": {},
     "output_type": "display_data"
    },
    {
     "name": "stdout",
     "output_type": "stream",
     "text": [
      "[0 4 1 2 0 2 7 1 9 6 1 1 1 1 4 1 2 6 6 2]\n",
      "[1 1 1 1 2 1 2 1 2 1 1 2 1 7 1 1 1 7 1 7]\n"
     ]
    }
   ],
   "source": [
    "for batch_i, (images, labels) in enumerate(test_loader):\n",
    "    plt.figure(figsize=(20,1))\n",
    "    for i, image in enumerate(images):\n",
    "        plt.subplot(1, len(images),i+1)\n",
    "        plt.imshow(image[0])\n",
    "    plt.show()\n",
    "    print(labels.detach().numpy())\n",
    "    y_pred = faster_model(images.to(device))\n",
    "    y_pred = np.argmax(y_pred.cpu().detach().numpy(), 1)\n",
    "    print(y_pred)\n",
    "    if batch_i==0:\n",
    "        break"
   ]
  },
  {
   "cell_type": "markdown",
   "metadata": {},
   "source": [
    "### 最終層以外をコピーする"
   ]
  },
  {
   "cell_type": "code",
   "execution_count": 203,
   "metadata": {},
   "outputs": [],
   "source": [
    "keys = master_model.state_dict().keys() - set(['fc2.weight', 'fc2.bias'])\n",
    "params = {k: v for k, v in master_model.state_dict().items() if k in keys}\n",
    "faster_model.load_state_dict(params, strict=False)"
   ]
  },
  {
   "cell_type": "markdown",
   "metadata": {},
   "source": [
    "### 1epochの20%くらいの時点で95%くらい出る"
   ]
  },
  {
   "cell_type": "code",
   "execution_count": 204,
   "metadata": {},
   "outputs": [
    {
     "name": "stderr",
     "output_type": "stream",
     "text": [
      " 30%|██▉       | 890/3000 [00:05<00:12, 165.38it/s, step=1, loss=0.142, acc=0.958]\n"
     ]
    }
   ],
   "source": [
    "train2(faster_model, device, train_loader, faster_optimizer, epoch, rate=0.3)"
   ]
  },
  {
   "cell_type": "code",
   "execution_count": 205,
   "metadata": {},
   "outputs": [
    {
     "data": {
      "image/png": "[encoded data removed]",
      "text/plain": [
       "<Figure size 1440x72 with 20 Axes>"
      ]
     },
     "metadata": {},
     "output_type": "display_data"
    },
    {
     "name": "stdout",
     "output_type": "stream",
     "text": [
      "[8 1 6 7 1 8 7 1 3 4 1 7 0 0 1 9 4 0 4 4]\n",
      "[8 1 6 7 1 8 7 1 3 4 1 7 0 0 1 9 9 0 4 4]\n"
     ]
    }
   ],
   "source": [
    "for batch_i, (images, labels) in enumerate(test_loader):\n",
    "    plt.figure(figsize=(20,1))\n",
    "    for i, image in enumerate(images):\n",
    "        plt.subplot(1, len(images),i+1)\n",
    "        plt.imshow(image[0])\n",
    "    plt.show()\n",
    "    print(labels.detach().numpy())\n",
    "    y_pred = faster_model(images.to(device))\n",
    "    y_pred = np.argmax(y_pred.cpu().detach().numpy(), 1)\n",
    "    print(y_pred)\n",
    "    if batch_i==0:\n",
    "        break"
   ]
  },
  {
   "cell_type": "code",
   "execution_count": null,
   "metadata": {},
   "outputs": [],
   "source": []
  }
 ],
 "metadata": {
  "kernelspec": {
   "display_name": "Python 3",
   "language": "python",
   "name": "python3"
  },
  "language_info": {
   "codemirror_mode": {
    "name": "ipython",
    "version": 3
   },
   "file_extension": ".py",
   "mimetype": "text/x-python",
   "name": "python",
   "nbconvert_exporter": "python",
   "pygments_lexer": "ipython3",
   "version": "3.6.5"
  }
 },
 "nbformat": 4,
 "nbformat_minor": 2
}
