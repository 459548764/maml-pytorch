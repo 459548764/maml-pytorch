{
 "cells": [
  {
   "cell_type": "markdown",
   "metadata": {},
   "source": [
    "https://github.com/pytorch/examples/blob/master/mnist/main.py\n",
    "https://hacks.deeplearning.jp/pytorch%E3%81%AEdataloader/"
   ]
  },
  {
   "cell_type": "markdown",
   "metadata": {},
   "source": [
    "### モデル"
   ]
  },
  {
   "cell_type": "code",
   "execution_count": 1,
   "metadata": {},
   "outputs": [],
   "source": [
    "import torch\n",
    "import torch.nn as nn\n",
    "import torch.nn.functional as F\n",
    "import torch.optim as optim\n",
    "from torchvision import datasets, transforms\n",
    "\n",
    "from torch.utils.data import Dataset, DataLoader\n",
    "\n",
    "from tqdm import tqdm\n",
    "from collections import OrderedDict\n",
    "\n",
    "import os\n",
    "import numpy as np\n",
    "from skimage import io\n",
    "import matplotlib.pyplot as plt\n",
    "\n",
    "n_shot = 1\n",
    "n_class = 10\n",
    "n_local_update = 5\n",
    "\n",
    "class OmniglotNet(nn.Module):\n",
    "    def __init__(self, n_class):\n",
    "        super(OmniglotNet, self).__init__()\n",
    "        self.conv1 = nn.Conv2d(1, 10, kernel_size=5)\n",
    "        self.conv2 = nn.Conv2d(10, 20, kernel_size=5)\n",
    "        self.fc1 = nn.Linear(320, 50)\n",
    "        self.fc2 = nn.Linear(50, n_class)\n",
    "\n",
    "    def forward(self, x):\n",
    "        x = F.relu(F.max_pool2d(self.conv1(x), 2))\n",
    "        x = F.relu(F.max_pool2d(self.conv2(x), 2))\n",
    "        x = x.view(-1, 320)\n",
    "        x = F.relu(self.fc1(x))\n",
    "        x = F.dropout(x, training=self.training)\n",
    "        x = F.log_softmax(self.fc2(x), dim=1)\n",
    "        return x\n",
    "\n",
    "    def manual_forward(self, x, params):\n",
    "        x = F.relu(F.max_pool2d(\n",
    "            F.conv2d(x, params['conv1.weight'].cuda(), params['conv1.bias'].cuda()), 2))\n",
    "        x = F.relu(F.max_pool2d(\n",
    "            F.conv2d(x, params['conv2.weight'].cuda(), params['conv2.bias'].cuda()), 2))\n",
    "        x = x.view(-1, 320)\n",
    "        x = F.relu(\n",
    "            F.linear(x, params['fc1.weight'].cuda(), params['fc1.bias'].cuda()))\n",
    "        x = F.dropout(x, training=self.training)\n",
    "        x = F.log_softmax(\n",
    "            F.linear(x, params['fc2.weight'].cuda(), params['fc2.bias'].cuda()), dim=1)\n",
    "        return x\n",
    "    \n",
    "    \n",
    "def train(model, device, train_data_loader, optimizer, epoch):\n",
    "    model.train()\n",
    "    \n",
    "    for data, target in train_data_loader:\n",
    "        data, target = data.to(device), target.to(device)\n",
    "        optimizer.zero_grad()\n",
    "        output = model(data)\n",
    "        loss = F.nll_loss(output, target)\n",
    "        loss.backward()\n",
    "        optimizer.step()\n",
    "\n",
    "def test(model, device, test_data_loader):\n",
    "    model.eval()\n",
    "    test_loss = 0\n",
    "    correct = 0\n",
    "    \n",
    "    with torch.no_grad():\n",
    "        for data, target in test_data_loader:\n",
    "            data, target = data.to(device), target.to(device)\n",
    "            output = model(data)\n",
    "            loss = F.nll_loss(output, target, reduction='sum').item() # sum up batch loss\n",
    "            test_loss += loss\n",
    "            pred = output.max(1, keepdim=True)[1] # get the index of the max log-probability\n",
    "            correct += pred.eq(target.view_as(pred)).sum().item()\n",
    "\n",
    "    test_loss /= len(test_data_loader.dataset)\n",
    "    return test_loss, correct / len(test_data_loader.dataset)"
   ]
  },
  {
   "cell_type": "markdown",
   "metadata": {},
   "source": [
    "### データセット"
   ]
  },
  {
   "cell_type": "code",
   "execution_count": 2,
   "metadata": {},
   "outputs": [],
   "source": [
    "# inputs: ../omniglot_mini/images_background/Japanese_(hiragana)/\n",
    "# outputs: {'image': image,'label': label} (1 image)\n",
    "\n",
    "# check len(label)>=20 before\n",
    "class OmniglotDataset(Dataset):\n",
    "    def __init__(self, path_to_lang, n_class, train, train_indices, transform):\n",
    "\n",
    "        self.data = []\n",
    "        \n",
    "        labels = sorted(os.listdir(path_to_lang))[:n_class]\n",
    "        \n",
    "        for label_i, label in enumerate(labels):\n",
    "            path_to_label = os.path.join(path_to_lang, label)\n",
    "            chars = np.array(sorted(os.listdir(path_to_label)))\n",
    "            if train:\n",
    "                chars = chars[train_indices]\n",
    "            else:\n",
    "                test_indices = list(set(np.arange(20)) - set(train_indices)) # 各文字20枚ずつ入ってる\n",
    "                chars = chars[test_indices]\n",
    "            for char in chars:\n",
    "                path_to_char = os.path.join(path_to_label, char)\n",
    "                image = io.imread(path_to_char)\n",
    "                label_i = np.array(label_i)\n",
    "                self.data.append([image, label_i])\n",
    "            \n",
    "        self.transform = transform\n",
    " \n",
    "    def __len__(self):\n",
    "        return len(self.data)\n",
    " \n",
    "    def __getitem__(self, idx):\n",
    "        return self.transform(self.data[idx])\n",
    "\n",
    "class ToTensor(object):\n",
    "    def __call__(self, sample):\n",
    "        image, label = sample[0], sample[1]\n",
    "        image = image / 255\n",
    "        image = image.reshape([28,28, 1])\n",
    "        image = image.transpose((2, 0, 1))\n",
    "        image = np.array(image, np.float32)\n",
    "        return [torch.from_numpy(image), torch.from_numpy(label)]"
   ]
  },
  {
   "cell_type": "code",
   "execution_count": 4,
   "metadata": {},
   "outputs": [
    {
     "ename": "FileNotFoundError",
     "evalue": "[Errno 2] No such file or directory: '../data/omniglot_mini/images_background/Japanese_(hiragana)/'",
     "output_type": "error",
     "traceback": [
      "\u001b[0;31m---------------------------------------------------------------------------\u001b[0m",
      "\u001b[0;31mFileNotFoundError\u001b[0m                         Traceback (most recent call last)",
      "\u001b[0;32m<ipython-input-4-d90f60433937>\u001b[0m in \u001b[0;36m<module>\u001b[0;34m()\u001b[0m\n\u001b[1;32m      7\u001b[0m                     \u001b[0mtrain_indices\u001b[0m\u001b[0;34m=\u001b[0m\u001b[0;34m[\u001b[0m\u001b[0;36m0\u001b[0m\u001b[0;34m]\u001b[0m\u001b[0;34m,\u001b[0m\u001b[0;34m\u001b[0m\u001b[0m\n\u001b[1;32m      8\u001b[0m                     transform=transforms.Compose([\n\u001b[0;32m----> 9\u001b[0;31m                         \u001b[0mToTensor\u001b[0m\u001b[0;34m(\u001b[0m\u001b[0;34m)\u001b[0m\u001b[0;34m\u001b[0m\u001b[0m\n\u001b[0m\u001b[1;32m     10\u001b[0m                     ])),\n\u001b[1;32m     11\u001b[0m     batch_size=batch_size, shuffle=True)\n",
      "\u001b[0;32m<ipython-input-2-8ea7e185c96b>\u001b[0m in \u001b[0;36m__init__\u001b[0;34m(self, path_to_lang, n_class, train, train_indices, transform)\u001b[0m\n\u001b[1;32m      8\u001b[0m         \u001b[0mself\u001b[0m\u001b[0;34m.\u001b[0m\u001b[0mdata\u001b[0m \u001b[0;34m=\u001b[0m \u001b[0;34m[\u001b[0m\u001b[0;34m]\u001b[0m\u001b[0;34m\u001b[0m\u001b[0m\n\u001b[1;32m      9\u001b[0m \u001b[0;34m\u001b[0m\u001b[0m\n\u001b[0;32m---> 10\u001b[0;31m         \u001b[0mlabels\u001b[0m \u001b[0;34m=\u001b[0m \u001b[0msorted\u001b[0m\u001b[0;34m(\u001b[0m\u001b[0mos\u001b[0m\u001b[0;34m.\u001b[0m\u001b[0mlistdir\u001b[0m\u001b[0;34m(\u001b[0m\u001b[0mpath_to_lang\u001b[0m\u001b[0;34m)\u001b[0m\u001b[0;34m)\u001b[0m\u001b[0;34m[\u001b[0m\u001b[0;34m:\u001b[0m\u001b[0mn_class\u001b[0m\u001b[0;34m]\u001b[0m\u001b[0;34m\u001b[0m\u001b[0m\n\u001b[0m\u001b[1;32m     11\u001b[0m \u001b[0;34m\u001b[0m\u001b[0m\n\u001b[1;32m     12\u001b[0m         \u001b[0;32mfor\u001b[0m \u001b[0mlabel_i\u001b[0m\u001b[0;34m,\u001b[0m \u001b[0mlabel\u001b[0m \u001b[0;32min\u001b[0m \u001b[0menumerate\u001b[0m\u001b[0;34m(\u001b[0m\u001b[0mlabels\u001b[0m\u001b[0;34m)\u001b[0m\u001b[0;34m:\u001b[0m\u001b[0;34m\u001b[0m\u001b[0m\n",
      "\u001b[0;31mFileNotFoundError\u001b[0m: [Errno 2] No such file or directory: '../data/omniglot_mini/images_background/Japanese_(hiragana)/'"
     ]
    }
   ],
   "source": [
    "batch_size = n_class\n",
    "\n",
    "local_task_train_data_loader = DataLoader(\n",
    "    OmniglotDataset(\"../data/omniglot_mini/images_background/Japanese_(hiragana)/\", \n",
    "                    n_class=n_class,\n",
    "                    train=True,\n",
    "                    train_indices=[0],\n",
    "                    transform=transforms.Compose([\n",
    "                        ToTensor()\n",
    "                    ])),\n",
    "    batch_size=batch_size, shuffle=True)\n",
    "\n",
    "for batch in local_task_train_data_loader:\n",
    "    plt.figure(figsize=(20,2))\n",
    "    for i, (image, label) in enumerate(zip(batch[0], batch[1])):\n",
    "        plt.subplot(1, batch_size, i+1)\n",
    "        plt.imshow(image[0])\n",
    "    plt.show()\n",
    "    print(batch[1])"
   ]
  },
  {
   "cell_type": "markdown",
   "metadata": {},
   "source": [
    "### 学習 (Omniglot_Japanese-(hiragana), 20classes, 1shot)"
   ]
  },
  {
   "cell_type": "code",
   "execution_count": 4,
   "metadata": {
    "scrolled": true
   },
   "outputs": [
    {
     "name": "stderr",
     "output_type": "stream",
     "text": [
      "100%|██████████| 1000/1000 [00:15<00:00, 64.97it/s, step=1e+03, loss=2.62, acc=0.474]\n"
     ]
    }
   ],
   "source": [
    "batch_size = n_class # batch_size==1だとバグる\n",
    "lr = 0.01\n",
    "momentum = 0.5\n",
    "epochs = 1000\n",
    "\n",
    "device = 'cuda' if torch.cuda.is_available() else 'cpu'\n",
    "\n",
    "local_task_train_data_loader = DataLoader(\n",
    "    OmniglotDataset(\"../omniglot_mini/images_background/Japanese_(hiragana)/\", \n",
    "                    n_class=n_class,\n",
    "                    train=True,\n",
    "                    train_indices=[0],\n",
    "                    transform=transforms.Compose([\n",
    "                        ToTensor()\n",
    "                    ])),\n",
    "    batch_size=batch_size, shuffle=True)\n",
    "\n",
    "local_task_test_data_loader = DataLoader(\n",
    "    OmniglotDataset(\"../omniglot_mini/images_background/Japanese_(hiragana)/\", \n",
    "                    n_class=n_class,\n",
    "                    train=False,\n",
    "                    train_indices=[0],\n",
    "                    transform=transforms.Compose([\n",
    "                        ToTensor()\n",
    "                    ])),\n",
    "    batch_size=batch_size, shuffle=True)\n",
    "\n",
    "model = OmniglotNet(n_class=20).to(device)\n",
    "optimizer = optim.SGD(model.parameters(), lr=lr, momentum=momentum)\n",
    "\n",
    "with tqdm(range(1, epochs + 1)) as _tqdm:\n",
    "    for epoch in _tqdm:\n",
    "        train(model, device, local_task_train_data_loader, optimizer, epoch)\n",
    "        temp_loss, temp_acc = test(model, device, local_task_test_data_loader)\n",
    "        _tqdm.set_postfix(OrderedDict(step=epoch, loss=temp_loss, acc= temp_acc))"
   ]
  },
  {
   "cell_type": "markdown",
   "metadata": {},
   "source": [
    "### タスクセット"
   ]
  },
  {
   "cell_type": "code",
   "execution_count": 5,
   "metadata": {},
   "outputs": [],
   "source": [
    "class Taskset(object):\n",
    "    def __getitem__(self, index):\n",
    "        raise NotImplementedError\n",
    "    def __len__(self):\n",
    "        raise NotImplementedError\n",
    "\n",
    "class TaskLoader(object):\n",
    "    def __init__(self, taskset, shuffle=True):\n",
    "        self.taskset = taskset\n",
    "        self.sample_iter = iter(np.random.permutation(np.arange(len(taskset))))\n",
    "    def __iter__(self):\n",
    "        return self\n",
    "    def __next__(self):\n",
    "        return self.taskset[next(self.sample_iter)]\n",
    "    def __len__(self):\n",
    "        return NotImplementedError"
   ]
  },
  {
   "cell_type": "code",
   "execution_count": 6,
   "metadata": {},
   "outputs": [],
   "source": [
    "class OmniglotTaskset(Taskset):\n",
    "    def __init__(self, path_to_omniglot, n_class, n_shot, meta_train):\n",
    "        \n",
    "        if meta_train:\n",
    "            path_to_lang = os.path.join(path_to_omniglot, \"images_background/\")\n",
    "        else:\n",
    "            path_to_lang = os.path.join(path_to_omniglot, \"images_evaluation/\")\n",
    "        \n",
    "        langs = sorted(os.listdir(path_to_lang))\n",
    "        tasks = [os.path.join(path_to_lang, lang) for lang in langs]\n",
    "        tasks = [task for task in tasks if len(os.listdir(task))>=n_class]\n",
    "        self.tasks = tasks\n",
    "        \n",
    "    def __len__(self):\n",
    "        return len(self.tasks)\n",
    " \n",
    "    def __getitem__(self, idx):\n",
    "        train_indices=[0] #TODO 必要に応じて変える\n",
    "        return {\"train\":\n",
    "                DataLoader(\n",
    "                    OmniglotDataset(self.tasks[idx], \n",
    "                                    n_class=n_class,\n",
    "                                    train=True,\n",
    "                                    train_indices=train_indices,\n",
    "                                    transform=transforms.Compose([\n",
    "                                        ToTensor()\n",
    "                                    ])),\n",
    "                    batch_size=batch_size, shuffle=True), \n",
    "                \"test\":\n",
    "                DataLoader(\n",
    "                    OmniglotDataset(self.tasks[idx],\n",
    "                                    n_class=n_class,\n",
    "                                    train=False,\n",
    "                                    train_indices=train_indices,\n",
    "                                    transform=transforms.Compose([\n",
    "                                        ToTensor()\n",
    "                                    ])),\n",
    "                    batch_size=batch_size, shuffle=True),\n",
    "                \"task\": self.tasks[idx] \n",
    "               }"
   ]
  },
  {
   "cell_type": "markdown",
   "metadata": {},
   "source": [
    "### タスクローダー"
   ]
  },
  {
   "cell_type": "code",
   "execution_count": 7,
   "metadata": {
    "scrolled": false
   },
   "outputs": [
    {
     "name": "stdout",
     "output_type": "stream",
     "text": [
      "30\n",
      "0 ../omniglot_mini/images_background/Latin\n"
     ]
    },
    {
     "data": {
      "image/png": "[encoded data removed]",
      "text/plain": [
       "<Figure size 1440x144 with 10 Axes>"
      ]
     },
     "metadata": {},
     "output_type": "display_data"
    },
    {
     "name": "stdout",
     "output_type": "stream",
     "text": [
      "tensor([8, 6, 9, 3, 0, 2, 4, 1, 7, 5])\n",
      "1 ../omniglot_mini/images_background/Futurama\n"
     ]
    },
    {
     "data": {
      "image/png": "[encoded data removed]",
      "text/plain": [
       "<Figure size 1440x144 with 10 Axes>"
      ]
     },
     "metadata": {},
     "output_type": "display_data"
    },
    {
     "name": "stdout",
     "output_type": "stream",
     "text": [
      "tensor([8, 0, 7, 9, 2, 4, 6, 5, 1, 3])\n",
      "2 ../omniglot_mini/images_background/N_Ko\n"
     ]
    },
    {
     "data": {
      "image/png": "[encoded data removed]",
      "text/plain": [
       "<Figure size 1440x144 with 10 Axes>"
      ]
     },
     "metadata": {},
     "output_type": "display_data"
    },
    {
     "name": "stdout",
     "output_type": "stream",
     "text": [
      "tensor([6, 5, 7, 0, 8, 2, 3, 1, 4, 9])\n",
      "3 ../omniglot_mini/images_background/Mkhedruli_(Georgian)\n"
     ]
    },
    {
     "data": {
      "image/png": "[encoded data removed]",
      "text/plain": [
       "<Figure size 1440x144 with 10 Axes>"
      ]
     },
     "metadata": {},
     "output_type": "display_data"
    },
    {
     "name": "stdout",
     "output_type": "stream",
     "text": [
      "tensor([2, 1, 8, 7, 6, 5, 3, 9, 0, 4])\n",
      "4 ../omniglot_mini/images_background/Bengali\n"
     ]
    },
    {
     "data": {
      "image/png": "[encoded data removed]",
      "text/plain": [
       "<Figure size 1440x144 with 10 Axes>"
      ]
     },
     "metadata": {},
     "output_type": "display_data"
    },
    {
     "name": "stdout",
     "output_type": "stream",
     "text": [
      "tensor([5, 2, 7, 8, 0, 9, 4, 6, 3, 1])\n"
     ]
    }
   ],
   "source": [
    "batch_size = n_class\n",
    "\n",
    "meta_train_task_loader = TaskLoader(\n",
    "    OmniglotTaskset(\"../omniglot_mini/\", meta_train=True, n_class=n_class, n_shot=n_shot)\n",
    ")\n",
    "print(len(meta_train_task_loader.taskset))\n",
    "for task_i, meta_train_task in enumerate(meta_train_task_loader):\n",
    "    print(task_i, meta_train_task[\"task\"])\n",
    "    local_task_train_data_loader = meta_train_task[\"train\"]\n",
    "    for batch in local_task_train_data_loader:\n",
    "        plt.figure(figsize=(20,2))\n",
    "        for i, (image, label) in enumerate(zip(batch[0], batch[1])):\n",
    "            plt.subplot(1, batch_size, i+1)\n",
    "            plt.imshow(image[0]) # image.shape=[1,28,28]\n",
    "        plt.show()\n",
    "        print(batch[1])\n",
    "    if task_i==4:\n",
    "        break"
   ]
  },
  {
   "cell_type": "markdown",
   "metadata": {},
   "source": [
    "---"
   ]
  },
  {
   "cell_type": "markdown",
   "metadata": {},
   "source": [
    "# MAML"
   ]
  },
  {
   "cell_type": "code",
   "execution_count": 9,
   "metadata": {},
   "outputs": [],
   "source": [
    "class MetaLearner(object):\n",
    "    def __init__(self):\n",
    "        self.lr = 0.01\n",
    "        self.momentum = 0.5\n",
    "        self.device = 'cuda'\n",
    "        self.master_net = OmniglotNet(n_class).to(self.device)\n",
    "        self.master_opt = optim.Adam(self.master_net.parameters(), lr=0.001)\n",
    "        self.keys = self.master_net.state_dict().keys()\n",
    "    \n",
    "    #TODO need return or not\n",
    "    def copy_params(self, from_net, to_net):\n",
    "        params = {k: v for k, v in from_net.state_dict().items() if k in self.keys}\n",
    "        to_net.load_state_dict(params, strict=False)\n",
    "    \n",
    "    def meta_test(self):\n",
    "        \n",
    "        meta_test_task_loader = TaskLoader(\n",
    "            OmniglotTaskset(\"../omniglot_mini/\", meta_train=False, n_class=n_class, n_shot=n_shot))\n",
    "\n",
    "        loss, acc = [], []\n",
    "        \n",
    "        for meta_test_task in meta_test_task_loader:\n",
    "            \n",
    "            # copy master model to new branch model\n",
    "            faster_net = OmniglotNet(n_class).to(self.device)\n",
    "            self.copy_params(self.master_net, faster_net)\n",
    "            faster_opt = optim.SGD(faster_net.parameters(), lr=self.lr, momentum=self.momentum)\n",
    "            \n",
    "            # make local task data loader\n",
    "            local_task_train_data_loader = meta_test_task[\"train\"]\n",
    "            local_task_test_data_loader = meta_test_task[\"test\"]\n",
    "            \n",
    "            # train\n",
    "            for epoch in range(n_local_update):\n",
    "                train(faster_net, self.device, local_task_train_data_loader, faster_opt, epoch)\n",
    "            \n",
    "            # test\n",
    "            _loss, _acc = test(faster_net, self.device, local_task_test_data_loader)\n",
    "            loss.append(_loss)\n",
    "            acc.append(_acc)\n",
    "            \n",
    "        print(\"meta_test_loss: {:.3f}, meta_test_acc: {:.3f}\".format(\n",
    "            np.mean(loss), np.mean(acc)))\n",
    "    \n",
    "    def meta_train(self):\n",
    "        \n",
    "        meta_train_task_loader = TaskLoader(\n",
    "            OmniglotTaskset(\"../omniglot_mini/\", meta_train=True, n_class=n_class, n_shot=n_shot))\n",
    "        \n",
    "        meta_grads = []\n",
    "        \n",
    "        for meta_train_task in meta_train_task_loader:\n",
    "            \n",
    "            # copy master model to new branch model\n",
    "            faster_net = OmniglotNet(n_class).to(self.device)\n",
    "            self.copy_params(self.master_net, faster_net)\n",
    "            \n",
    "            faster_params = OrderedDict((name, param) for (name, param) in faster_net.named_parameters())\n",
    "            master_params = OrderedDict((name, param) for (name, param) in self.master_net.named_parameters())\n",
    "        \n",
    "            # make local task data loader\n",
    "            local_task_train_data_loader = meta_train_task[\"train\"]\n",
    "            local_task_test_data_loader = meta_train_task[\"test\"]\n",
    "            \n",
    "            # ----------------------------------------------------------------\n",
    "            # meta train task train\n",
    "            # ----------------------------------------------------------------\n",
    " \n",
    "            # train n_local_update times / 1 task\n",
    "            first_train_for_this_task = True\n",
    "            \n",
    "            for epoch in range(n_local_update): \n",
    "                \n",
    "                for data, target in local_task_train_data_loader:\n",
    "                    \n",
    "                    data, target = data.to(self.device), target.to(self.device)\n",
    "                    \n",
    "                    if first_train_for_this_task:\n",
    "                        # manual predict\n",
    "                        output = faster_net.manual_forward(data, master_params)\n",
    "                        loss = F.nll_loss(output, target)\n",
    "\n",
    "                        # manual optimize\n",
    "                        grads = torch.autograd.grad(loss, master_params.values(), create_graph=True)\n",
    "                        \n",
    "                        first_train_for_this_task = False\n",
    "                    \n",
    "                    else:\n",
    "                        # manual predict\n",
    "                        output = faster_net.manual_forward(data, faster_params)\n",
    "                        loss = F.nll_loss(output, target)\n",
    "\n",
    "                        # manual optimize\n",
    "                        grads = torch.autograd.grad(loss, faster_params.values(), create_graph=True)\n",
    "                                                \n",
    "                    faster_params = OrderedDict(\n",
    "                        (name, param - self.lr*grad) \n",
    "                        for ((name, param), grad) in zip(faster_params.items(), grads)\n",
    "                    )\n",
    "                            \n",
    "            # ----------------------------------------------------------------\n",
    "            # meta train task test\n",
    "            # ----------------------------------------------------------------\n",
    "            \n",
    "            for data, target in local_task_test_data_loader:\n",
    "                data, target = data.to(self.device), target.to(self.device)\n",
    "                \n",
    "                output = faster_net.manual_forward(data, faster_params)\n",
    "                loss = F.nll_loss(output, target)\n",
    "\n",
    "                # manual optimize!!!\n",
    "                grads = torch.autograd.grad(loss, master_params.values(), create_graph=True)\n",
    "                \n",
    "                grads = {name:g for ((name, _), g) in zip(self.master_net.named_parameters(), grads)}\n",
    "                \n",
    "                meta_grads.append(grads) # TODO normalize grads by local_task_test_data_size\n",
    "                                \n",
    "                pred = output.max(1, keepdim=True)[1] # get the index of the max log-probability\n",
    "                correct = pred.eq(target.view_as(pred)).sum().item()\n",
    "            \n",
    "        # summing up grads\n",
    "        meta_grads = {k: sum(grads[k] for grads in meta_grads) for k in meta_grads[0].keys()}\n",
    "        \n",
    "        dumy_data_loader = DataLoader(\n",
    "            OmniglotDataset(\"../omniglot_mini/images_background/Japanese_(hiragana)/\", \n",
    "                            n_class=n_class,\n",
    "                            train=True,\n",
    "                            train_indices=[0],\n",
    "                            transform=transforms.Compose([\n",
    "                                ToTensor()\n",
    "                            ])),\n",
    "            batch_size=batch_size, shuffle=True)\n",
    "        \n",
    "        data, target = dumy_data_loader.__iter__().next()\n",
    "        data, target = data.to(self.device), target.to(self.device)\n",
    "        \n",
    "        output = self.master_net.manual_forward(data, master_params)\n",
    "        loss = F.nll_loss(output, target)\n",
    "        \n",
    "        hooks = []\n",
    "        for (k,v) in self.master_net.named_parameters():\n",
    "            def get_closure():\n",
    "                key = k\n",
    "                def replace_grad(grad):\n",
    "                    return meta_grads[key]\n",
    "                return replace_grad\n",
    "            hooks.append(v.register_hook(get_closure()))\n",
    "#         print(hooks)\n",
    "            \n",
    "        # Compute grads for current step, replace with summed gradients as defined by hook\n",
    "        self.master_opt.zero_grad()\n",
    "        loss.backward()\n",
    "        # Update the net parameters with the accumulated gradient according to optimizer\n",
    "        self.master_opt.step()\n",
    "        \n",
    "        # Remove the hooks before next training phase\n",
    "        for h in hooks:\n",
    "            h.remove()"
   ]
  },
  {
   "cell_type": "code",
   "execution_count": 10,
   "metadata": {
    "scrolled": false
   },
   "outputs": [
    {
     "name": "stdout",
     "output_type": "stream",
     "text": [
      "meta_test_loss: 2.309, meta_test_acc: 0.100\n"
     ]
    },
    {
     "ename": "KeyboardInterrupt",
     "evalue": "",
     "output_type": "error",
     "traceback": [
      "\u001b[0;31m---------------------------------------------------------------------------\u001b[0m",
      "\u001b[0;31mKeyboardInterrupt\u001b[0m                         Traceback (most recent call last)",
      "\u001b[0;32m<ipython-input-10-3ea168e638e2>\u001b[0m in \u001b[0;36m<module>\u001b[0;34m()\u001b[0m\n\u001b[1;32m      2\u001b[0m \u001b[0;34m\u001b[0m\u001b[0m\n\u001b[1;32m      3\u001b[0m \u001b[0;32mfor\u001b[0m \u001b[0mi\u001b[0m \u001b[0;32min\u001b[0m \u001b[0mrange\u001b[0m\u001b[0;34m(\u001b[0m\u001b[0;36m100\u001b[0m\u001b[0;34m)\u001b[0m\u001b[0;34m:\u001b[0m\u001b[0;34m\u001b[0m\u001b[0m\n\u001b[0;32m----> 4\u001b[0;31m     \u001b[0mmeta_learner\u001b[0m\u001b[0;34m.\u001b[0m\u001b[0mmeta_train\u001b[0m\u001b[0;34m(\u001b[0m\u001b[0;34m)\u001b[0m\u001b[0;34m\u001b[0m\u001b[0m\n\u001b[0m\u001b[1;32m      5\u001b[0m     \u001b[0mmeta_learner\u001b[0m\u001b[0;34m.\u001b[0m\u001b[0mmeta_test\u001b[0m\u001b[0;34m(\u001b[0m\u001b[0;34m)\u001b[0m\u001b[0;34m\u001b[0m\u001b[0m\n",
      "\u001b[0;32m<ipython-input-9-d15fb49990fe>\u001b[0m in \u001b[0;36mmeta_train\u001b[0;34m(self)\u001b[0m\n\u001b[1;32m    110\u001b[0m \u001b[0;34m\u001b[0m\u001b[0m\n\u001b[1;32m    111\u001b[0m                 \u001b[0;31m# manual optimize!!!\u001b[0m\u001b[0;34m\u001b[0m\u001b[0;34m\u001b[0m\u001b[0m\n\u001b[0;32m--> 112\u001b[0;31m                 \u001b[0mgrads\u001b[0m \u001b[0;34m=\u001b[0m \u001b[0mtorch\u001b[0m\u001b[0;34m.\u001b[0m\u001b[0mautograd\u001b[0m\u001b[0;34m.\u001b[0m\u001b[0mgrad\u001b[0m\u001b[0;34m(\u001b[0m\u001b[0mloss\u001b[0m\u001b[0;34m,\u001b[0m \u001b[0mmaster_params\u001b[0m\u001b[0;34m.\u001b[0m\u001b[0mvalues\u001b[0m\u001b[0;34m(\u001b[0m\u001b[0;34m)\u001b[0m\u001b[0;34m,\u001b[0m \u001b[0mcreate_graph\u001b[0m\u001b[0;34m=\u001b[0m\u001b[0;32mTrue\u001b[0m\u001b[0;34m)\u001b[0m\u001b[0;34m\u001b[0m\u001b[0m\n\u001b[0m\u001b[1;32m    113\u001b[0m \u001b[0;34m\u001b[0m\u001b[0m\n\u001b[1;32m    114\u001b[0m                 \u001b[0mgrads\u001b[0m \u001b[0;34m=\u001b[0m \u001b[0;34m{\u001b[0m\u001b[0mname\u001b[0m\u001b[0;34m:\u001b[0m\u001b[0mg\u001b[0m \u001b[0;32mfor\u001b[0m \u001b[0;34m(\u001b[0m\u001b[0;34m(\u001b[0m\u001b[0mname\u001b[0m\u001b[0;34m,\u001b[0m \u001b[0m_\u001b[0m\u001b[0;34m)\u001b[0m\u001b[0;34m,\u001b[0m \u001b[0mg\u001b[0m\u001b[0;34m)\u001b[0m \u001b[0;32min\u001b[0m \u001b[0mzip\u001b[0m\u001b[0;34m(\u001b[0m\u001b[0mself\u001b[0m\u001b[0;34m.\u001b[0m\u001b[0mmaster_net\u001b[0m\u001b[0;34m.\u001b[0m\u001b[0mnamed_parameters\u001b[0m\u001b[0;34m(\u001b[0m\u001b[0;34m)\u001b[0m\u001b[0;34m,\u001b[0m \u001b[0mgrads\u001b[0m\u001b[0;34m)\u001b[0m\u001b[0;34m}\u001b[0m\u001b[0;34m\u001b[0m\u001b[0m\n",
      "\u001b[0;32m~/.pyenv/versions/3.6.5/lib/python3.6/site-packages/torch/autograd/__init__.py\u001b[0m in \u001b[0;36mgrad\u001b[0;34m(outputs, inputs, grad_outputs, retain_graph, create_graph, only_inputs, allow_unused)\u001b[0m\n\u001b[1;32m    143\u001b[0m     return Variable._execution_engine.run_backward(\n\u001b[1;32m    144\u001b[0m         \u001b[0moutputs\u001b[0m\u001b[0;34m,\u001b[0m \u001b[0mgrad_outputs\u001b[0m\u001b[0;34m,\u001b[0m \u001b[0mretain_graph\u001b[0m\u001b[0;34m,\u001b[0m \u001b[0mcreate_graph\u001b[0m\u001b[0;34m,\u001b[0m\u001b[0;34m\u001b[0m\u001b[0m\n\u001b[0;32m--> 145\u001b[0;31m         inputs, allow_unused)\n\u001b[0m\u001b[1;32m    146\u001b[0m \u001b[0;34m\u001b[0m\u001b[0m\n\u001b[1;32m    147\u001b[0m \u001b[0;34m\u001b[0m\u001b[0m\n",
      "\u001b[0;31mKeyboardInterrupt\u001b[0m: "
     ]
    }
   ],
   "source": [
    "meta_learner = MetaLearner()\n",
    "\n",
    "for i in range(5):\n",
    "    meta_learner.meta_train()\n",
    "    meta_learner.meta_test()"
   ]
  },
  {
   "cell_type": "code",
   "execution_count": null,
   "metadata": {},
   "outputs": [],
   "source": []
  },
  {
   "cell_type": "code",
   "execution_count": null,
   "metadata": {},
   "outputs": [],
   "source": []
  }
 ],
 "metadata": {
  "kernelspec": {
   "display_name": "Python 3",
   "language": "python",
   "name": "python3"
  },
  "language_info": {
   "codemirror_mode": {
    "name": "ipython",
    "version": 3
   },
   "file_extension": ".py",
   "mimetype": "text/x-python",
   "name": "python",
   "nbconvert_exporter": "python",
   "pygments_lexer": "ipython3",
   "version": "3.6.6"
  }
 },
 "nbformat": 4,
 "nbformat_minor": 2
}
