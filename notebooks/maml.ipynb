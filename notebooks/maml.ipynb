{
 "cells": [
  {
   "cell_type": "markdown",
   "metadata": {},
   "source": [
    "### Model"
   ]
  },
  {
   "cell_type": "code",
   "execution_count": 1,
   "metadata": {},
   "outputs": [],
   "source": [
    "import torch\n",
    "import torch.nn as nn\n",
    "import torch.nn.functional as F\n",
    "import torch.optim as optim\n",
    "from torchvision import datasets, transforms\n",
    "from torch.utils.data import Dataset, DataLoader\n",
    "\n",
    "import os\n",
    "import random\n",
    "import matplotlib.pyplot as plt\n",
    "import numpy as np\n",
    "\n",
    "from skimage import io\n",
    "from tqdm import tqdm\n",
    "from time import sleep\n",
    "from collections import OrderedDict\n",
    "from more_itertools import chunked\n",
    "\n",
    "n_shot = 1\n",
    "n_class = 10\n",
    "n_local_update = 5\n",
    "batch_size = n_class\n",
    "\n",
    "device = 'cuda' if torch.cuda.is_available() else 'cpu'\n",
    "\n",
    "# TODO ↓消す\n",
    "def batchnorm(input, weight=None, bias=None, running_mean=None, running_var=None, training=True, eps=1e-5, momentum=0.1):\n",
    "    ''' momentum = 1 restricts stats to the current mini-batch '''\n",
    "    # This hack only works when momentum is 1 and avoids needing to track running stats\n",
    "    # by substuting dummy variables\n",
    "    running_mean = torch.zeros(np.prod(np.array(input.data.size()[1]))).cuda()\n",
    "    running_var = torch.ones(np.prod(np.array(input.data.size()[1]))).cuda()\n",
    "    return F.batch_norm(input, running_mean, running_var, weight, bias, training, momentum, eps)\n",
    "\n",
    "\n",
    "class OmniglotNet(nn.Module):\n",
    "    def __init__(self, n_class):\n",
    "        super(OmniglotNet, self).__init__()\n",
    "        \n",
    "        self.h=64\n",
    "        self.conv1 = nn.Conv2d(1, self.h, kernel_size=3)\n",
    "        self.conv2 = nn.Conv2d(self.h, self.h, kernel_size=3)\n",
    "        self.conv3 = nn.Conv2d(self.h, self.h, kernel_size=3)\n",
    "        self.bn1 = nn.BatchNorm2d(self.h, momentum=1, affine=True)\n",
    "        self.bn2 = nn.BatchNorm2d(self.h, momentum=1, affine=True)\n",
    "        self.bn3 = nn.BatchNorm2d(self.h, momentum=1, affine=True)\n",
    "        self.fc = nn.Linear(self.h, n_class)\n",
    "\n",
    "    def forward(self, x):\n",
    "        \n",
    "        x = F.max_pool2d(F.relu(self.bn1(self.conv1(x))), 2)\n",
    "        x = F.max_pool2d(F.relu(self.bn2(self.conv2(x))), 2)\n",
    "        x = F.max_pool2d(F.relu(self.bn3(self.conv3(x))), 2)\n",
    "        x = x.view(x.size(0), self.h)\n",
    "        x = self.fc(x)\n",
    "        x = F.log_softmax(x, dim=1)\n",
    "        \n",
    "        return x\n",
    "\n",
    "    # for MAML local optimize\n",
    "    def manual_forward(self, x, params):\n",
    "        \n",
    "        x = F.conv2d(x, params['conv1.weight'].to(device), params['conv1.bias'].to(device))\n",
    "        x = batchnorm(x, weight = params['bn1.weight'], bias = params['bn1.bias'], momentum=1)\n",
    "        x = F.max_pool2d(F.relu(x), 2)\n",
    "        \n",
    "        x = F.conv2d(x, params['conv2.weight'].to(device), params['conv2.bias'].to(device))\n",
    "        x = batchnorm(x, weight = params['bn2.weight'], bias = params['bn2.bias'], momentum=1)\n",
    "        x = F.max_pool2d(F.relu(x), 2)\n",
    "        \n",
    "        x = F.conv2d(x, params['conv3.weight'].to(device), params['conv3.bias'].to(device))\n",
    "        x = batchnorm(x, weight = params['bn3.weight'], bias = params['bn3.bias'], momentum=1)\n",
    "        x = F.max_pool2d(F.relu(x), 2)\n",
    "        \n",
    "        x = x.view(x.size(0), self.h)\n",
    "        x = F.linear(x, params['fc.weight'].to(device), params['fc.bias'].to(device))\n",
    "        x = F.log_softmax(x, dim=1)\n",
    "        \n",
    "        return x\n",
    "    \n",
    "    \n",
    "def train(model, device, train_data_loader, optimizer, epoch):\n",
    "    model.train()\n",
    "    train_loss = 0\n",
    "    train_acc = 0\n",
    "    \n",
    "    for data, target in train_data_loader:\n",
    "        data, target = data.to(device), target.to(device)\n",
    "        output = model(data)\n",
    "        loss = F.nll_loss(output, target)\n",
    "        pred = output.max(1, keepdim=True)[1]\n",
    "\n",
    "        optimizer.zero_grad()\n",
    "        loss.backward()\n",
    "        optimizer.step()\n",
    "        \n",
    "        train_loss += loss.item()\n",
    "        train_acc += pred.eq(target.view_as(pred)).sum().item()\n",
    "    \n",
    "    train_loss /= len(train_data_loader.dataset)\n",
    "    train_acc /= len(train_data_loader.dataset)\n",
    "    return train_loss, train_acc\n",
    "\n",
    "def test(model, device, test_data_loader):\n",
    "    model.eval()\n",
    "    test_loss = 0\n",
    "    test_acc = 0\n",
    "    \n",
    "    with torch.no_grad():\n",
    "        for data, target in test_data_loader:\n",
    "            data, target = data.to(device), target.to(device)\n",
    "            output = model(data)\n",
    "            loss = F.nll_loss(output, target, reduction='sum').item() # sum up batch loss\n",
    "            pred = output.max(1, keepdim=True)[1]\n",
    "            \n",
    "            test_loss += loss\n",
    "            test_acc += pred.eq(target.view_as(pred)).sum().item()\n",
    "\n",
    "    test_loss /= len(test_data_loader.dataset)\n",
    "    test_acc /= len(test_data_loader.dataset)\n",
    "    return test_loss, test_acc"
   ]
  },
  {
   "cell_type": "markdown",
   "metadata": {},
   "source": [
    "### Dataset"
   ]
  },
  {
   "cell_type": "code",
   "execution_count": 2,
   "metadata": {},
   "outputs": [],
   "source": [
    "class OmniglotOriginDataset(Dataset):\n",
    "    def __init__(self, path_to_lang, n_class, train, train_index, transform):\n",
    "\n",
    "        self.data = []\n",
    "        self.path = path_to_lang\n",
    "        \n",
    "        labels = sorted(os.listdir(path_to_lang))[:n_class]\n",
    "        \n",
    "        for label_i, label in enumerate(labels):\n",
    "            path_to_label = os.path.join(path_to_lang, label)\n",
    "            chars = np.array(sorted(os.listdir(path_to_label)))\n",
    "            if train:\n",
    "                chars = chars[train_index]\n",
    "            else:\n",
    "                test_index = list(set(np.arange(20)) - set(train_index)) # 各文字20枚ずつ入ってる\n",
    "                chars = chars[test_index]\n",
    "            for char in chars:\n",
    "                path_to_char = os.path.join(path_to_label, char)\n",
    "                image = io.imread(path_to_char)\n",
    "                label_i = np.array(label_i)\n",
    "                self.data.append([image, label_i])\n",
    "            \n",
    "        self.transform = transform\n",
    " \n",
    "    def __len__(self):\n",
    "        return len(self.data)\n",
    " \n",
    "    def __getitem__(self, idx):\n",
    "        return self.transform(self.data[idx])\n",
    "\n",
    "class ToTensor(object):\n",
    "    def __call__(self, sample):\n",
    "        image, label = sample[0], sample[1]\n",
    "        image = image / 255\n",
    "        image = image.reshape([28,28, 1])\n",
    "        image = image.transpose((2, 0, 1))\n",
    "        image = np.array(image, np.float32)\n",
    "\n",
    "        return [torch.from_numpy(image), torch.from_numpy(label)]"
   ]
  },
  {
   "cell_type": "markdown",
   "metadata": {},
   "source": [
    "### AugmentedDataset"
   ]
  },
  {
   "cell_type": "code",
   "execution_count": 3,
   "metadata": {},
   "outputs": [],
   "source": [
    "class OmniglotAugmentedDataset(Dataset):\n",
    "    def __init__(self, path_to_chars, train, train_indices, transform):\n",
    "\n",
    "        self.data = []\n",
    "        self.path = NotImplementedError\n",
    "        \n",
    "        for label_i, (path_to_label, train_index) in enumerate(zip(path_to_chars, train_indices)):\n",
    "            chars = np.array(sorted(os.listdir(path_to_label)))\n",
    "            if train:\n",
    "                chars = chars[train_index]\n",
    "            else:\n",
    "                test_index = list(set(np.arange(20)) - set(train_index)) # 各文字20枚ずつ入ってる\n",
    "                chars = chars[test_index]\n",
    "            for char in chars:\n",
    "                path_to_char = os.path.join(path_to_label, char)\n",
    "                image = io.imread(path_to_char)\n",
    "                label_i = np.array(label_i)\n",
    "                self.data.append([image, label_i])\n",
    "            \n",
    "        self.transform = transform\n",
    " \n",
    "    def __len__(self):\n",
    "        return len(self.data)\n",
    " \n",
    "    def __getitem__(self, idx):\n",
    "        return self.transform(self.data[idx])\n",
    "\n",
    "class ToTensor(object):\n",
    "    def __call__(self, sample):\n",
    "        image, label = sample[0], sample[1]\n",
    "        image = image / 255\n",
    "        image = image.reshape([28,28, 1])\n",
    "        image = image.transpose((2, 0, 1))\n",
    "        image = np.array(image, np.float32)\n",
    "\n",
    "        return [torch.from_numpy(image), torch.from_numpy(label)]"
   ]
  },
  {
   "cell_type": "markdown",
   "metadata": {},
   "source": [
    "### DataLoader"
   ]
  },
  {
   "cell_type": "code",
   "execution_count": 4,
   "metadata": {
    "scrolled": false
   },
   "outputs": [
    {
     "name": "stdout",
     "output_type": "stream",
     "text": [
      "../data/omniglot_mini/images_background/Latin/\n"
     ]
    },
    {
     "data": {
      "image/png": "[encoded data removed]",
      "text/plain": [
       "<Figure size 720x72 with 10 Axes>"
      ]
     },
     "metadata": {},
     "output_type": "display_data"
    },
    {
     "name": "stdout",
     "output_type": "stream",
     "text": [
      "y_true: tensor([1, 6, 7, 8, 5, 3, 0, 9, 4, 2])\n"
     ]
    }
   ],
   "source": [
    "local_task_train_data_loader = DataLoader(\n",
    "    OmniglotOriginDataset(\"../data/omniglot_mini/images_background/Latin/\", \n",
    "                    n_class=n_class,\n",
    "                    train=True,\n",
    "                    train_index=[0],\n",
    "                    transform=transforms.Compose([\n",
    "                        ToTensor(),\n",
    "                    ])),\n",
    "    batch_size=batch_size, shuffle=True)\n",
    "\n",
    "print(local_task_train_data_loader.dataset.path)\n",
    "\n",
    "for data, target in local_task_train_data_loader: # only have one batch\n",
    "    plt.figure(figsize=(10,1))\n",
    "    for i, x in enumerate(data):\n",
    "        plt.subplot(1, batch_size, i+1); plt.imshow(x[0])\n",
    "    plt.show()\n",
    "    print(\"y_true:\", target)"
   ]
  },
  {
   "cell_type": "markdown",
   "metadata": {},
   "source": [
    "### AugmentDataLoader"
   ]
  },
  {
   "cell_type": "code",
   "execution_count": 5,
   "metadata": {},
   "outputs": [
    {
     "name": "stdout",
     "output_type": "stream",
     "text": [
      "local_task_train_data\n"
     ]
    },
    {
     "data": {
      "image/png": "[encoded data removed]",
      "text/plain": [
       "<Figure size 720x72 with 10 Axes>"
      ]
     },
     "metadata": {},
     "output_type": "display_data"
    },
    {
     "name": "stdout",
     "output_type": "stream",
     "text": [
      "y_true: tensor([4, 0, 7, 6, 3, 5, 9, 2, 8, 1])\n",
      "\n",
      "local_task_train_data\n"
     ]
    },
    {
     "data": {
      "image/png": "[encoded data removed]",
      "text/plain": [
       "<Figure size 720x72 with 10 Axes>"
      ]
     },
     "metadata": {},
     "output_type": "display_data"
    },
    {
     "name": "stdout",
     "output_type": "stream",
     "text": [
      "y_true: tensor([1, 6, 9, 4, 7, 8, 9, 8, 3, 1])\n"
     ]
    }
   ],
   "source": [
    "train_indices = np.random.randint(20, size=(n_class, n_shot))\n",
    "\n",
    "path_to_chars = [\n",
    "    '../data/omniglot_mini/images_background/Early_Aramaic/character08',\n",
    "    '../data/omniglot_mini/images_background/N_Ko/character05',\n",
    "    '../data/omniglot_mini/images_background/Early_Aramaic/character01',\n",
    "    '../data/omniglot_mini/images_background/Balinese/character04',\n",
    "    '../data/omniglot_mini/images_background/Burmese_(Myanmar)/character21',\n",
    "    '../data/omniglot_mini/images_background/Balinese/character03',\n",
    "    '../data/omniglot_mini/images_background/Gujarati/character35',\n",
    "    '../data/omniglot_mini/images_background/Bengali/character10',\n",
    "    '../data/omniglot_mini/images_background/Burmese_(Myanmar)/character18',\n",
    "    '../data/omniglot_mini/images_background/Armenian/character17'\n",
    "]\n",
    "\n",
    "print(\"local_task_train_data\")\n",
    "local_task_train_data_loader = DataLoader(\n",
    "    OmniglotAugmentedDataset(path_to_chars,\n",
    "                    train=True,\n",
    "                    train_indices=train_indices,\n",
    "                    transform=transforms.Compose([\n",
    "                        ToTensor(),\n",
    "                    ])),\n",
    "    batch_size=batch_size, shuffle=True)\n",
    "\n",
    "for data, target in local_task_train_data_loader: # only have one batch\n",
    "    plt.figure(figsize=(10,1))\n",
    "    for i, x in enumerate(data):\n",
    "        plt.subplot(1, batch_size, i+1); plt.imshow(x[0])\n",
    "    plt.show()\n",
    "    print(\"y_true:\", target)\n",
    "\n",
    "print(\"\\nlocal_task_train_data\")\n",
    "local_task_test_data_loader = DataLoader(\n",
    "    OmniglotAugmentedDataset(path_to_chars,\n",
    "                    train=False,\n",
    "                    train_indices=train_indices,\n",
    "                    transform=transforms.Compose([\n",
    "                        ToTensor(),\n",
    "                    ])),\n",
    "    batch_size=batch_size, shuffle=True)\n",
    "\n",
    "for data, target in local_task_test_data_loader: # only have one batch\n",
    "    plt.figure(figsize=(10,1))\n",
    "    for i, x in enumerate(data):\n",
    "        plt.subplot(1, batch_size, i+1); plt.imshow(x[0])\n",
    "    plt.show()\n",
    "    print(\"y_true:\", target)\n",
    "    break"
   ]
  },
  {
   "cell_type": "markdown",
   "metadata": {},
   "source": [
    "### (fitting, task=Latin, n_class=10, n_shot=1)"
   ]
  },
  {
   "cell_type": "code",
   "execution_count": 6,
   "metadata": {
    "scrolled": true
   },
   "outputs": [
    {
     "name": "stderr",
     "output_type": "stream",
     "text": [
      "100%|██████████| 10/10 [00:00<00:00, 49.54it/s, epoch=10, train_loss=0.0878, train_acc=1, test_loss=2.07, test_acc=0.311]\n"
     ]
    },
    {
     "data": {
      "image/png": "[encoded data removed]",
      "text/plain": [
       "<Figure size 720x72 with 10 Axes>"
      ]
     },
     "metadata": {},
     "output_type": "display_data"
    },
    {
     "name": "stdout",
     "output_type": "stream",
     "text": [
      "y_pred: tensor([8, 4, 7, 2, 5, 3, 9, 6, 1, 0])\n",
      "y_true: tensor([8, 4, 7, 2, 5, 3, 9, 6, 1, 0])\n"
     ]
    }
   ],
   "source": [
    "local_task_train_data_loader = DataLoader(\n",
    "    OmniglotOriginDataset(\"../data/omniglot_mini/images_background/Latin/\", \n",
    "                    n_class=n_class,\n",
    "                    train=True,\n",
    "                    train_index=[0],\n",
    "                    transform=transforms.Compose([\n",
    "                        ToTensor()\n",
    "                    ])),\n",
    "    batch_size=batch_size, shuffle=True)\n",
    "\n",
    "\n",
    "local_task_test_data_loader = DataLoader(\n",
    "    OmniglotOriginDataset(\"../data/omniglot_mini/images_background/Latin/\", \n",
    "                    n_class=n_class,\n",
    "                    train=False,\n",
    "                    train_index=[0],\n",
    "                    transform=transforms.Compose([\n",
    "                        ToTensor()\n",
    "                    ])),\n",
    "    batch_size=batch_size, shuffle=True)\n",
    "\n",
    "model = OmniglotNet(n_class=10).to(device)\n",
    "optimizer = optim.SGD(model.parameters(), lr=0.01, momentum=0.5)\n",
    "\n",
    "with tqdm(range(10)) as _tqdm:\n",
    "    for epoch in _tqdm:\n",
    "        train_loss, train_acc = train(model, device, local_task_train_data_loader, optimizer, epoch)\n",
    "        test_loss, test_acc = test(model, device, local_task_test_data_loader)\n",
    "        _tqdm.set_postfix(OrderedDict(\n",
    "            epoch=epoch+1, \n",
    "            train_loss=train_loss, train_acc=train_acc, \n",
    "            test_loss=test_loss, test_acc=test_acc))\n",
    "        \n",
    "\n",
    "data, target = local_task_train_data_loader.__iter__().next()\n",
    "\n",
    "images = np.array(data).reshape(10,28,28)\n",
    "plt.figure(figsize=(10,1))\n",
    "[[plt.subplot(1,10,i+1), plt.imshow(img)] for i, img in enumerate(images)]; plt.show()\n",
    "\n",
    "print(\"y_pred:\", torch.argmax(model(data.cuda()), 1).cpu())\n",
    "print(\"y_true:\", target)"
   ]
  },
  {
   "cell_type": "markdown",
   "metadata": {},
   "source": [
    "### (fitting, task=MNIST, n_class=10, n_shot=1)"
   ]
  },
  {
   "cell_type": "code",
   "execution_count": 7,
   "metadata": {
    "scrolled": true
   },
   "outputs": [
    {
     "name": "stderr",
     "output_type": "stream",
     "text": [
      "100%|██████████| 1/1 [00:15<00:00, 15.39s/it, epoch=1, train_loss=0.0147, train_acc=0.963, test_loss=0.0679, test_acc=0.979]\n"
     ]
    },
    {
     "data": {
      "image/png": "[encoded data removed]",
      "text/plain": [
       "<Figure size 720x72 with 10 Axes>"
      ]
     },
     "metadata": {},
     "output_type": "display_data"
    },
    {
     "name": "stdout",
     "output_type": "stream",
     "text": [
      "y_pred: tensor([2, 9, 6, 6, 5, 4, 9, 7, 9, 6])\n",
      "y_true: tensor([2, 9, 6, 6, 5, 4, 9, 7, 9, 6])\n"
     ]
    }
   ],
   "source": [
    "local_task_train_data_loader = DataLoader(\n",
    "    datasets.MNIST('../data/mnist', train=True, download=True,\n",
    "                   transform=transforms.Compose([\n",
    "                       transforms.ToTensor(),\n",
    "                   ])),\n",
    "    batch_size=batch_size, shuffle=True)\n",
    "\n",
    "local_task_test_data_loader = DataLoader(\n",
    "    datasets.MNIST('../data/mnist', train=False, transform=transforms.Compose([\n",
    "                       transforms.ToTensor(),\n",
    "                   ])),\n",
    "    batch_size=batch_size, shuffle=True)\n",
    "\n",
    "model = OmniglotNet(n_class=10).to(device)\n",
    "optimizer = optim.SGD(model.parameters(), lr=0.01, momentum=0.5)\n",
    "\n",
    "with tqdm(range(1)) as _tqdm:\n",
    "    for epoch in _tqdm:\n",
    "        train_loss, train_acc = train(model, device, local_task_train_data_loader, optimizer, epoch)\n",
    "        test_loss, test_acc = test(model, device, local_task_test_data_loader)\n",
    "        _tqdm.set_postfix(OrderedDict(\n",
    "            epoch=epoch+1, \n",
    "            train_loss=train_loss, train_acc=train_acc, \n",
    "            test_loss=test_loss, test_acc=test_acc))\n",
    "        \n",
    "\n",
    "data, target = local_task_train_data_loader.__iter__().next()\n",
    "\n",
    "images = np.array(data).reshape(10,28,28)\n",
    "plt.figure(figsize=(10,1))\n",
    "[[plt.subplot(1,10,i+1), plt.imshow(img)] for i, img in enumerate(images)]; plt.show()\n",
    "\n",
    "print(\"y_pred:\", torch.argmax(model(data.cuda()), 1).cpu())\n",
    "print(\"y_true:\", target)"
   ]
  },
  {
   "cell_type": "markdown",
   "metadata": {},
   "source": [
    "### Taskset and TaskLoader classes"
   ]
  },
  {
   "cell_type": "code",
   "execution_count": 4,
   "metadata": {},
   "outputs": [],
   "source": [
    "class Taskset(object):\n",
    "    def __getitem__(self, index):\n",
    "        raise NotImplementedError\n",
    "    def __len__(self):\n",
    "        raise NotImplementedError\n",
    "\n",
    "class TaskLoader(object):\n",
    "    def __init__(self, taskset, shuffle=True):\n",
    "        self.taskset = taskset\n",
    "        self.sample_iter = iter(np.random.permutation(np.arange(len(taskset))))\n",
    "    def __iter__(self):\n",
    "        return self\n",
    "    def __next__(self):\n",
    "        return self.taskset[next(self.sample_iter)]\n",
    "    def __len__(self):\n",
    "        return len(self.taskset)"
   ]
  },
  {
   "cell_type": "markdown",
   "metadata": {},
   "source": [
    "### Taskset"
   ]
  },
  {
   "cell_type": "code",
   "execution_count": 5,
   "metadata": {},
   "outputs": [],
   "source": [
    "class OmniglotOriginTaskset(Taskset):\n",
    "    def __init__(self, path_to_omniglot, n_class, n_shot, meta_train):\n",
    "        \n",
    "        if meta_train:\n",
    "            path_to_langs = os.path.join(path_to_omniglot, \"images_background/\")\n",
    "        else:\n",
    "            path_to_langs = os.path.join(path_to_omniglot, \"images_evaluation/\")\n",
    "        \n",
    "        langs = sorted(os.listdir(path_to_langs))\n",
    "        tasks = [os.path.join(path_to_langs, lang) for lang in langs]\n",
    "        tasks = [task for task in tasks if len(os.listdir(task))>=n_class]\n",
    "        self.tasks = tasks\n",
    "    \n",
    "    def __len__(self):\n",
    "        return len(self.tasks)\n",
    "    \n",
    "    def __getitem__(self, idx):\n",
    "        train_index=[np.random.randint(20)] #TODO chanege indices\n",
    "        return {\"train\":\n",
    "                DataLoader(\n",
    "                    OmniglotOriginDataset(self.tasks[idx], \n",
    "                                    n_class=n_class,\n",
    "                                    train=True,\n",
    "                                    train_index=train_index,\n",
    "                                    transform=transforms.Compose([\n",
    "                                        ToTensor()\n",
    "                                    ])),\n",
    "                    batch_size=batch_size, shuffle=True), \n",
    "                \"test\":\n",
    "                DataLoader(\n",
    "                    OmniglotOriginDataset(self.tasks[idx],\n",
    "                                    n_class=n_class,\n",
    "                                    train=False,\n",
    "                                    train_index=train_index,\n",
    "                                    transform=transforms.Compose([\n",
    "                                        ToTensor()\n",
    "                                    ])),\n",
    "                    batch_size=batch_size, shuffle=True),\n",
    "                \"task\": self.tasks[idx] \n",
    "               }"
   ]
  },
  {
   "cell_type": "markdown",
   "metadata": {},
   "source": [
    "### AugmentedTaskset"
   ]
  },
  {
   "cell_type": "code",
   "execution_count": 6,
   "metadata": {},
   "outputs": [],
   "source": [
    "class OmniglotAugmentedTaskset(Taskset):\n",
    "    def __init__(self, path_to_omniglot, n_class, n_shot, meta_train):\n",
    "        \n",
    "        if meta_train:\n",
    "            path_to_langs = os.path.join(path_to_omniglot, \"images_background/\")\n",
    "        else:\n",
    "            path_to_langs = os.path.join(path_to_omniglot, \"images_evaluation/\")\n",
    "            \n",
    "        chars = []\n",
    "        \n",
    "        for path_to_lang in os.listdir(path_to_langs):\n",
    "            path_to_chars = os.path.join(path_to_langs, path_to_lang)\n",
    "            for path_to_char in os.listdir(path_to_chars):\n",
    "                chars.append(os.path.join(path_to_chars, path_to_char)) \n",
    "        \n",
    "        random.shuffle(chars)\n",
    "        tasks = list(chunked(chars, n_class))[:-1] # drop_last\n",
    "        \n",
    "        self.tasks = tasks\n",
    "    \n",
    "    def __len__(self):\n",
    "        return len(self.tasks)\n",
    "    \n",
    "    def __getitem__(self, idx):\n",
    "        train_indices = np.random.randint(20, size=(n_class, n_shot))\n",
    "        return {\"train\":\n",
    "                DataLoader(\n",
    "                    OmniglotAugmentedDataset(self.tasks[idx],\n",
    "                                    train=True,\n",
    "                                    train_indices=train_indices,\n",
    "                                    transform=transforms.Compose([\n",
    "                                        ToTensor()\n",
    "                                    ])),\n",
    "                    batch_size=batch_size, shuffle=True), \n",
    "                \"test\":\n",
    "                DataLoader(\n",
    "                    OmniglotAugmentedDataset(self.tasks[idx],\n",
    "                                    train=False,\n",
    "                                    train_indices=train_indices,\n",
    "                                    transform=transforms.Compose([\n",
    "                                        ToTensor()\n",
    "                                    ])),\n",
    "                    batch_size=batch_size, shuffle=True),\n",
    "                \"task\": self.tasks[idx] \n",
    "               }"
   ]
  },
  {
   "cell_type": "markdown",
   "metadata": {},
   "source": [
    "### TaskLoader"
   ]
  },
  {
   "cell_type": "code",
   "execution_count": 7,
   "metadata": {
    "scrolled": false
   },
   "outputs": [
    {
     "name": "stdout",
     "output_type": "stream",
     "text": [
      "30\n",
      "../data/omniglot_mini/images_background/Anglo-Saxon_Futhorc\n"
     ]
    },
    {
     "data": {
      "image/png": "[encoded data removed]",
      "text/plain": [
       "<Figure size 720x72 with 10 Axes>"
      ]
     },
     "metadata": {},
     "output_type": "display_data"
    },
    {
     "name": "stdout",
     "output_type": "stream",
     "text": [
      "tensor([3, 1, 4, 5, 9, 7, 2, 0, 8, 6])\n",
      "../data/omniglot_mini/images_background/Cyrillic\n"
     ]
    },
    {
     "data": {
      "image/png": "[encoded data removed]",
      "text/plain": [
       "<Figure size 720x72 with 10 Axes>"
      ]
     },
     "metadata": {},
     "output_type": "display_data"
    },
    {
     "name": "stdout",
     "output_type": "stream",
     "text": [
      "tensor([4, 8, 6, 9, 3, 1, 5, 0, 2, 7])\n",
      "../data/omniglot_mini/images_background/Malay_(Jawi_-_Arabic)\n"
     ]
    },
    {
     "data": {
      "image/png": "[encoded data removed]",
      "text/plain": [
       "<Figure size 720x72 with 10 Axes>"
      ]
     },
     "metadata": {},
     "output_type": "display_data"
    },
    {
     "name": "stdout",
     "output_type": "stream",
     "text": [
      "tensor([7, 8, 4, 1, 0, 6, 3, 9, 5, 2])\n"
     ]
    }
   ],
   "source": [
    "meta_train_task_loader = TaskLoader(\n",
    "    OmniglotOriginTaskset(\"../data/omniglot_mini/\", meta_train=True, n_class=n_class, n_shot=n_shot)\n",
    ")\n",
    "\n",
    "print(len(meta_train_task_loader.taskset))\n",
    "\n",
    "for i, meta_train_task in enumerate(meta_train_task_loader):\n",
    "    print(meta_train_task[\"task\"])\n",
    "    local_task_train_data_loader = meta_train_task[\"train\"]\n",
    "    for data, target in local_task_train_data_loader:\n",
    "        plt.figure(figsize=(10,1))\n",
    "        for j, x in enumerate(data):\n",
    "            plt.subplot(1, batch_size, j+1); plt.imshow(x[0])\n",
    "        plt.show()\n",
    "        print(target)\n",
    "    if i==2:\n",
    "        break"
   ]
  },
  {
   "cell_type": "markdown",
   "metadata": {},
   "source": [
    "### AugmentTaskLoader"
   ]
  },
  {
   "cell_type": "code",
   "execution_count": 8,
   "metadata": {
    "scrolled": false
   },
   "outputs": [
    {
     "name": "stdout",
     "output_type": "stream",
     "text": [
      "96\n",
      "['../data/omniglot_mini/images_background/Early_Aramaic/character18', '../data/omniglot_mini/images_background/Bengali/character46', '../data/omniglot_mini/images_background/Arcadian/character08', '../data/omniglot_mini/images_background/Latin/character02', '../data/omniglot_mini/images_background/Braille/character13', '../data/omniglot_mini/images_background/Japanese_(katakana)/character33', '../data/omniglot_mini/images_background/Armenian/character23', '../data/omniglot_mini/images_background/Japanese_(hiragana)/character05', '../data/omniglot_mini/images_background/N_Ko/character13', '../data/omniglot_mini/images_background/Japanese_(hiragana)/character49']\n",
      "train\n"
     ]
    },
    {
     "data": {
      "image/png": "[encoded data removed]",
      "text/plain": [
       "<Figure size 720x72 with 10 Axes>"
      ]
     },
     "metadata": {},
     "output_type": "display_data"
    },
    {
     "name": "stdout",
     "output_type": "stream",
     "text": [
      "tensor([2, 6, 5, 9, 1, 7, 8, 3, 4, 0])\n",
      "test\n"
     ]
    },
    {
     "data": {
      "image/png": "[encoded data removed]",
      "text/plain": [
       "<Figure size 720x72 with 10 Axes>"
      ]
     },
     "metadata": {},
     "output_type": "display_data"
    },
    {
     "name": "stdout",
     "output_type": "stream",
     "text": [
      "tensor([7, 2, 9, 8, 0, 4, 7, 6, 0, 1])\n",
      "['../data/omniglot_mini/images_background/Asomtavruli_(Georgian)/character04', '../data/omniglot_mini/images_background/Bengali/character23', '../data/omniglot_mini/images_background/Japanese_(hiragana)/character33', '../data/omniglot_mini/images_background/Sanskrit/character41', '../data/omniglot_mini/images_background/Early_Aramaic/character04', '../data/omniglot_mini/images_background/Syriac_(Estrangelo)/character22', '../data/omniglot_mini/images_background/Grantha/character39', '../data/omniglot_mini/images_background/Japanese_(katakana)/character05', '../data/omniglot_mini/images_background/Gujarati/character35', '../data/omniglot_mini/images_background/Futurama/character08']\n",
      "train\n"
     ]
    },
    {
     "data": {
      "image/png": "[encoded data removed]",
      "text/plain": [
       "<Figure size 720x72 with 10 Axes>"
      ]
     },
     "metadata": {},
     "output_type": "display_data"
    },
    {
     "name": "stdout",
     "output_type": "stream",
     "text": [
      "tensor([1, 6, 3, 4, 7, 9, 0, 5, 2, 8])\n",
      "test\n"
     ]
    },
    {
     "data": {
      "image/png": "[encoded data removed]",
      "text/plain": [
       "<Figure size 720x72 with 10 Axes>"
      ]
     },
     "metadata": {},
     "output_type": "display_data"
    },
    {
     "name": "stdout",
     "output_type": "stream",
     "text": [
      "tensor([8, 0, 3, 1, 4, 1, 6, 1, 0, 4])\n"
     ]
    }
   ],
   "source": [
    "meta_train_task_loader = TaskLoader(\n",
    "    OmniglotAugmentedTaskset(\"../data/omniglot_mini/\", meta_train=True, n_class=n_class, n_shot=n_shot)\n",
    ")\n",
    "\n",
    "print(len(meta_train_task_loader.taskset))\n",
    "\n",
    "for i, meta_train_task in enumerate(meta_train_task_loader):\n",
    "    print(meta_train_task[\"task\"])\n",
    "    print(\"train\")\n",
    "    local_task_train_data_loader = meta_train_task[\"train\"]\n",
    "    for data, target in local_task_train_data_loader:\n",
    "        plt.figure(figsize=(10,1))\n",
    "        for j, x in enumerate(data):\n",
    "            plt.subplot(1, batch_size, j+1); plt.imshow(x[0])\n",
    "        plt.show()\n",
    "        print(target)\n",
    "    print(\"test\")\n",
    "    local_task_test_data_loader = meta_train_task[\"test\"]\n",
    "    for data, target in local_task_test_data_loader:\n",
    "        plt.figure(figsize=(10,1))\n",
    "        for j, x in enumerate(data):\n",
    "            plt.subplot(1, batch_size, j+1); plt.imshow(x[0])\n",
    "        plt.show()\n",
    "        print(target)\n",
    "        break\n",
    "    if i==1:\n",
    "        break"
   ]
  },
  {
   "cell_type": "markdown",
   "metadata": {},
   "source": [
    "---"
   ]
  },
  {
   "cell_type": "markdown",
   "metadata": {},
   "source": [
    "# MAML"
   ]
  },
  {
   "cell_type": "code",
   "execution_count": 9,
   "metadata": {},
   "outputs": [],
   "source": [
    "class MetaLearner(object):\n",
    "    def __init__(self):\n",
    "        self.lr = 0.1\n",
    "        self.momentum = 0.5\n",
    "        self.device = 'cuda' if torch.cuda.is_available() else 'cpu'\n",
    "        self.master_net = OmniglotNet(n_class).to(self.device)\n",
    "        self.master_opt = optim.Adam(self.master_net.parameters(), lr=0.001)\n",
    "        self.keys = self.master_net.state_dict().keys()\n",
    "    \n",
    "    def copy_params(self, from_net, to_net):\n",
    "        params = {k: v for k, v in from_net.state_dict().items() if k in self.keys}\n",
    "        to_net.load_state_dict(params, strict=False)\n",
    "    \n",
    "    def save(self, model_path):\n",
    "        torch.save(self.master_net.state_dict(), model_path)\n",
    "    \n",
    "    def load(self, model_path):\n",
    "        self.master_net.load_state_dict(torch.load(model_path))\n",
    "    \n",
    "    def meta_test(self):\n",
    "        \n",
    "        meta_test_task_loader = TaskLoader(\n",
    "            OmniglotOriginTaskset(\"../data/omniglot_mini/\", meta_train=False, n_class=n_class, n_shot=n_shot))\n",
    "\n",
    "        test_loss, test_acc = [], []\n",
    "        \n",
    "        sleep(0.5)\n",
    "        with tqdm(meta_test_task_loader, desc=\"Meta Test \", ncols=10) as _tqdm:\n",
    "            for meta_test_task in _tqdm:\n",
    "\n",
    "                # copy master model to new branch model\n",
    "                faster_net = OmniglotNet(n_class).to(self.device)\n",
    "                self.copy_params(self.master_net, faster_net)\n",
    "                faster_opt = optim.SGD(faster_net.parameters(), lr=self.lr, momentum=self.momentum)\n",
    "\n",
    "                # make local task data loader\n",
    "                local_task_train_data_loader = meta_test_task[\"train\"]\n",
    "                local_task_test_data_loader = meta_test_task[\"test\"]\n",
    "\n",
    "                # ----------------------------------------------------------------\n",
    "                # meta test task train\n",
    "                # ----------------------------------------------------------------\n",
    "\n",
    "                for epoch in range(n_local_update):\n",
    "                    _train_loss, _train_acc = train(\n",
    "                        faster_net, self.device, local_task_train_data_loader, faster_opt, epoch)\n",
    "                    _tqdm.set_postfix(OrderedDict(\n",
    "                        epoch=epoch+1, \n",
    "                        train_loss=\"{:.3f}\".format(_train_loss), \n",
    "                        train_acc=\"{:.3f}\".format(_train_acc)))\n",
    "                # ----------------------------------------------------------------\n",
    "                # meta test task test\n",
    "                # ----------------------------------------------------------------\n",
    "\n",
    "                _test_loss, _test_acc = test(faster_net, self.device, local_task_test_data_loader)\n",
    "                test_loss.append(_test_loss)\n",
    "                test_acc.append(_test_acc)\n",
    "        \n",
    "        return np.mean(test_loss), np.mean(test_acc)\n",
    "\n",
    "    \n",
    "    def meta_train(self):\n",
    "        \n",
    "        meta_train_task_loader = TaskLoader(\n",
    "            OmniglotAugmentedTaskset(\"../data/omniglot_mini/\", meta_train=True, n_class=n_class, n_shot=n_shot))\n",
    "    \n",
    "        meta_grads = []\n",
    "        \n",
    "        test_loss, test_acc = [], []\n",
    "        \n",
    "        sleep(0.5)\n",
    "        with tqdm(meta_train_task_loader, desc=\"Meta Train\", ncols=10) as _tqdm:\n",
    "            for meta_train_task in _tqdm:\n",
    "                \n",
    "                # copy master model to new branch model\n",
    "                faster_net = OmniglotNet(n_class).to(self.device)\n",
    "                self.copy_params(self.master_net, faster_net)\n",
    "\n",
    "                faster_params = OrderedDict((name, param) for (name, param) in faster_net.named_parameters())\n",
    "                master_params = OrderedDict((name, param) for (name, param) in self.master_net.named_parameters())\n",
    "\n",
    "                # make local task data loader\n",
    "                local_task_train_data_loader = meta_train_task[\"train\"]\n",
    "                local_task_test_data_loader = meta_train_task[\"test\"]\n",
    "\n",
    "                # ----------------------------------------------------------------\n",
    "                # meta train task train\n",
    "                # ----------------------------------------------------------------\n",
    "\n",
    "                first_train_for_this_task = True\n",
    "\n",
    "                for epoch in range(n_local_update):\n",
    "                    \n",
    "                    _train_loss = 0\n",
    "                    _train_acc = 0\n",
    "                    \n",
    "                    for data, target in local_task_train_data_loader:\n",
    "                        data, target = data.to(self.device), target.to(self.device)\n",
    "\n",
    "                        if first_train_for_this_task:\n",
    "                            \n",
    "                            # manual predict\n",
    "                            output = self.master_net(data)\n",
    "                            loss = F.nll_loss(output, target)\n",
    "                            pred = output.max(1, keepdim=True)[1]\n",
    "                            \n",
    "                            _train_loss += loss\n",
    "                            _train_acc += pred.eq(target.view_as(pred)).sum().item()\n",
    "                            \n",
    "                            grads = torch.autograd.grad(loss, self.master_net.parameters(), create_graph=True)\n",
    "\n",
    "                            first_train_for_this_task = False\n",
    "\n",
    "                        else:\n",
    "                            # manual predict\n",
    "                            output = faster_net.manual_forward(data, faster_params)\n",
    "                            loss = F.nll_loss(output, target)\n",
    "                            pred = output.max(1, keepdim=True)[1]\n",
    "                            \n",
    "                            _train_loss += loss\n",
    "                            _train_acc += pred.eq(target.view_as(pred)).sum().item()\n",
    "                                                        \n",
    "                            grads = torch.autograd.grad(loss, faster_params.values(), create_graph=True)\n",
    "        \n",
    "                        # manual optimize!!!\n",
    "                        faster_params = OrderedDict(\n",
    "                            (name, param - self.lr*grad)\n",
    "                            for ((name, param), grad) in zip(faster_params.items(), grads)\n",
    "                        )\n",
    "                    \n",
    "                    _train_loss /= len(local_task_train_data_loader.dataset)\n",
    "                    _train_acc /= len(local_task_train_data_loader.dataset)\n",
    "                    \n",
    "                    _tqdm.set_postfix(OrderedDict(\n",
    "                        epoch=epoch+1, \n",
    "                        train_loss=\"{:.3f}\".format(_train_loss), \n",
    "                        train_acc=\"{:.3f}\".format(_train_acc)))\n",
    "                \n",
    "                # ----------------------------------------------------------------\n",
    "                # meta train task test\n",
    "                # ----------------------------------------------------------------\n",
    "                \n",
    "                _test_loss = 0\n",
    "                _test_acc = 0\n",
    "                \n",
    "                for data, target in local_task_test_data_loader:\n",
    "                    data, target = data.to(self.device), target.to(self.device)\n",
    "\n",
    "                    output = faster_net.manual_forward(data, faster_params)\n",
    "                    loss = F.nll_loss(output, target) # test_loss計算するとこまではfaster_net\n",
    "\n",
    "                    # differentiates test_loss by master_net params\n",
    "                    grads = torch.autograd.grad(loss, self.master_net.parameters(), retain_graph=True)\n",
    "                    grads = {name:g for ((name, _), g) in zip(faster_net.named_parameters(), grads)}\n",
    "                    meta_grads.append(grads)\n",
    "\n",
    "                    pred = output.max(1, keepdim=True)[1]\n",
    "                    acc = pred.eq(target.view_as(pred)).sum()\n",
    "                    \n",
    "                    _test_loss += loss.item()\n",
    "                    _test_acc += acc.item()\n",
    "                \n",
    "                _test_loss /= len(local_task_test_data_loader.dataset)\n",
    "                _test_acc /= len(local_task_test_data_loader.dataset)  \n",
    "                test_loss.append(_test_loss)\n",
    "                test_acc.append(_test_acc)\n",
    "        \n",
    "        # ----------------------------------------------------------------\n",
    "        # end all tasks\n",
    "        # ----------------------------------------------------------------\n",
    "        \n",
    "        meta_grads = {k: sum(grads[k] for grads in meta_grads) for k in meta_grads[0].keys()}\n",
    "        \n",
    "        # using data,target from somewhere\n",
    "        dumy_output = self.master_net(data)\n",
    "        dumy_loss = F.nll_loss(dumy_output, target)\n",
    "        \n",
    "        # after dumy_loss.backward, rewrite grads\n",
    "        self.master_opt.zero_grad()\n",
    "        dumy_loss.backward(retain_graph=True)\n",
    "\n",
    "        hooks = []\n",
    "        for (k,v) in self.master_net.named_parameters():\n",
    "            def get_closure():\n",
    "                key = k\n",
    "                def replace_grad(grad):\n",
    "                    return meta_grads[key]\n",
    "                return replace_grad\n",
    "            hooks.append(v.register_hook(get_closure()))\n",
    "\n",
    "        # Compute grads for current step, replace with summed gradients as defined by hook\n",
    "        self.master_opt.zero_grad()\n",
    "        dumy_loss.backward()\n",
    "\n",
    "        # Update the net parameters with the accumulated gradient according to optimizer\n",
    "        self.master_opt.step()\n",
    "\n",
    "        # Remove the hooks before next training phase\n",
    "        for h in hooks:\n",
    "            h.remove()\n",
    "\n",
    "        return np.mean(test_loss), np.mean(test_acc)"
   ]
  },
  {
   "cell_type": "code",
   "execution_count": null,
   "metadata": {
    "scrolled": false
   },
   "outputs": [
    {
     "name": "stderr",
     "output_type": "stream",
     "text": [
      "Meta Train: 100%|█| 96/96 [00:56<00:00,  1.70it/s, epoch=5, train_loss=0.077, train_acc=1.000]\n",
      "Meta Test : 100%|█| 20/20 [00:01<00:00, 18.86it/s, epoch=5, train_loss=0.057, train_acc=1.000]\n"
     ]
    },
    {
     "name": "stdout",
     "output_type": "stream",
     "text": [
      "# 1 (meta-train-task) test_loss: 0.187075, test_acc: 0.491996\n",
      "# 1  (meta-test-task) test_loss: 1.946103, test_acc: 0.381579\n"
     ]
    },
    {
     "name": "stderr",
     "output_type": "stream",
     "text": [
      "Meta Train: 100%|█| 96/96 [00:54<00:00,  1.76it/s, epoch=5, train_loss=0.064, train_acc=1.000]\n",
      "Meta Test : 100%|█| 20/20 [00:01<00:00, 18.35it/s, epoch=5, train_loss=0.036, train_acc=1.000]\n"
     ]
    },
    {
     "name": "stdout",
     "output_type": "stream",
     "text": [
      "# 2 (meta-train-task) test_loss: 0.186854, test_acc: 0.485691\n",
      "# 2  (meta-test-task) test_loss: 1.909627, test_acc: 0.415000\n"
     ]
    },
    {
     "name": "stderr",
     "output_type": "stream",
     "text": [
      "Meta Train: 100%|█| 96/96 [00:54<00:00,  1.77it/s, epoch=5, train_loss=0.055, train_acc=1.000]\n",
      "Meta Test : 100%|█| 20/20 [00:01<00:00, 18.52it/s, epoch=5, train_loss=0.037, train_acc=1.000]\n"
     ]
    },
    {
     "name": "stdout",
     "output_type": "stream",
     "text": [
      "# 3 (meta-train-task) test_loss: 0.185483, test_acc: 0.500110\n",
      "# 3  (meta-test-task) test_loss: 1.914087, test_acc: 0.406053\n"
     ]
    },
    {
     "name": "stderr",
     "output_type": "stream",
     "text": [
      "Meta Train: 100%|█| 96/96 [00:54<00:00,  1.76it/s, epoch=5, train_loss=0.048, train_acc=1.000]\n",
      "Meta Test : 100%|█| 20/20 [00:01<00:00, 18.69it/s, epoch=5, train_loss=0.043, train_acc=1.000]\n"
     ]
    },
    {
     "name": "stdout",
     "output_type": "stream",
     "text": [
      "# 4 (meta-train-task) test_loss: 0.183185, test_acc: 0.514090\n",
      "# 4  (meta-test-task) test_loss: 1.892184, test_acc: 0.408421\n"
     ]
    },
    {
     "name": "stderr",
     "output_type": "stream",
     "text": [
      "Meta Train: 100%|█| 96/96 [00:53<00:00,  1.79it/s, epoch=5, train_loss=0.051, train_acc=1.000]\n",
      "Meta Test : 100%|█| 20/20 [00:01<00:00, 17.76it/s, epoch=5, train_loss=0.045, train_acc=1.000]\n"
     ]
    },
    {
     "name": "stdout",
     "output_type": "stream",
     "text": [
      "# 5 (meta-train-task) test_loss: 0.182146, test_acc: 0.518092\n",
      "# 5  (meta-test-task) test_loss: 1.914067, test_acc: 0.400263\n"
     ]
    },
    {
     "name": "stderr",
     "output_type": "stream",
     "text": [
      "Meta Train: 100%|█| 96/96 [00:53<00:00,  1.79it/s, epoch=5, train_loss=0.059, train_acc=1.000]\n",
      "Meta Test : 100%|█| 20/20 [00:01<00:00, 18.67it/s, epoch=5, train_loss=0.041, train_acc=1.000]\n"
     ]
    },
    {
     "name": "stdout",
     "output_type": "stream",
     "text": [
      "# 6 (meta-train-task) test_loss: 0.179695, test_acc: 0.538103\n",
      "# 6  (meta-test-task) test_loss: 1.887611, test_acc: 0.414474\n"
     ]
    },
    {
     "name": "stderr",
     "output_type": "stream",
     "text": [
      "Meta Train: 100%|█| 96/96 [00:53<00:00,  1.79it/s, epoch=5, train_loss=0.051, train_acc=1.000]\n",
      "Meta Test : 100%|█| 20/20 [00:01<00:00, 18.78it/s, epoch=5, train_loss=0.038, train_acc=1.000]\n"
     ]
    },
    {
     "name": "stdout",
     "output_type": "stream",
     "text": [
      "# 7 (meta-train-task) test_loss: 0.177611, test_acc: 0.548410\n",
      "# 7  (meta-test-task) test_loss: 1.852755, test_acc: 0.432105\n"
     ]
    },
    {
     "name": "stderr",
     "output_type": "stream",
     "text": [
      "Meta Train: 100%|█| 96/96 [00:53<00:00,  1.79it/s, epoch=5, train_loss=0.045, train_acc=1.000]\n",
      "Meta Test : 100%|█| 20/20 [00:01<00:00, 18.65it/s, epoch=5, train_loss=0.051, train_acc=1.000]\n"
     ]
    },
    {
     "name": "stdout",
     "output_type": "stream",
     "text": [
      "# 8 (meta-train-task) test_loss: 0.177746, test_acc: 0.545614\n",
      "# 8  (meta-test-task) test_loss: 1.803249, test_acc: 0.464474\n"
     ]
    },
    {
     "name": "stderr",
     "output_type": "stream",
     "text": [
      "Meta Train: 100%|█| 96/96 [00:53<00:00,  1.79it/s, epoch=5, train_loss=0.046, train_acc=1.000]\n",
      "Meta Test : 100%|█| 20/20 [00:01<00:00, 18.55it/s, epoch=5, train_loss=0.038, train_acc=1.000]\n"
     ]
    },
    {
     "name": "stdout",
     "output_type": "stream",
     "text": [
      "# 9 (meta-train-task) test_loss: 0.175405, test_acc: 0.565844\n",
      "# 9  (meta-test-task) test_loss: 1.887781, test_acc: 0.408158\n"
     ]
    },
    {
     "name": "stderr",
     "output_type": "stream",
     "text": [
      "Meta Train: 100%|█| 96/96 [00:54<00:00,  1.76it/s, epoch=5, train_loss=0.051, train_acc=1.000]\n",
      "Meta Test : 100%|█| 20/20 [00:01<00:00, 18.17it/s, epoch=5, train_loss=0.086, train_acc=1.000]\n"
     ]
    },
    {
     "name": "stdout",
     "output_type": "stream",
     "text": [
      "# 10 (meta-train-task) test_loss: 0.173984, test_acc: 0.573300\n",
      "# 10  (meta-test-task) test_loss: 1.802236, test_acc: 0.469211\n"
     ]
    },
    {
     "name": "stderr",
     "output_type": "stream",
     "text": [
      "Meta Train: 100%|█| 96/96 [00:53<00:00,  1.78it/s, epoch=5, train_loss=0.057, train_acc=1.000]\n",
      "Meta Test : 100%|█| 20/20 [00:01<00:00, 17.46it/s, epoch=5, train_loss=0.031, train_acc=1.000]\n"
     ]
    },
    {
     "name": "stdout",
     "output_type": "stream",
     "text": [
      "# 11 (meta-train-task) test_loss: 0.172872, test_acc: 0.573520\n",
      "# 11  (meta-test-task) test_loss: 1.816170, test_acc: 0.469737\n"
     ]
    },
    {
     "name": "stderr",
     "output_type": "stream",
     "text": [
      "Meta Train: 100%|█| 96/96 [00:54<00:00,  1.77it/s, epoch=5, train_loss=0.043, train_acc=1.000]\n",
      "Meta Test : 100%|█| 20/20 [00:01<00:00, 18.49it/s, epoch=5, train_loss=0.043, train_acc=1.000]\n"
     ]
    },
    {
     "name": "stdout",
     "output_type": "stream",
     "text": [
      "# 12 (meta-train-task) test_loss: 0.172681, test_acc: 0.578289\n",
      "# 12  (meta-test-task) test_loss: 1.798154, test_acc: 0.471316\n"
     ]
    },
    {
     "name": "stderr",
     "output_type": "stream",
     "text": [
      "Meta Train: 100%|█| 96/96 [00:53<00:00,  1.78it/s, epoch=5, train_loss=0.049, train_acc=1.000]\n",
      "Meta Test : 100%|█| 20/20 [00:01<00:00, 18.35it/s, epoch=5, train_loss=0.034, train_acc=1.000]\n"
     ]
    },
    {
     "name": "stdout",
     "output_type": "stream",
     "text": [
      "# 13 (meta-train-task) test_loss: 0.170329, test_acc: 0.593750\n",
      "# 13  (meta-test-task) test_loss: 1.787825, test_acc: 0.481579\n"
     ]
    },
    {
     "name": "stderr",
     "output_type": "stream",
     "text": [
      "Meta Train: 100%|█| 96/96 [00:55<00:00,  1.73it/s, epoch=5, train_loss=0.040, train_acc=1.000]\n",
      "Meta Test : 100%|█| 20/20 [00:01<00:00, 18.80it/s, epoch=5, train_loss=0.034, train_acc=1.000]\n"
     ]
    },
    {
     "name": "stdout",
     "output_type": "stream",
     "text": [
      "# 14 (meta-train-task) test_loss: 0.168819, test_acc: 0.605757\n",
      "# 14  (meta-test-task) test_loss: 1.775625, test_acc: 0.486842\n"
     ]
    },
    {
     "name": "stderr",
     "output_type": "stream",
     "text": [
      "Meta Train: 100%|█| 96/96 [00:56<00:00,  1.71it/s, epoch=5, train_loss=0.041, train_acc=1.000]\n",
      "Meta Test : 100%|█| 20/20 [00:01<00:00, 17.44it/s, epoch=5, train_loss=0.037, train_acc=1.000]\n"
     ]
    },
    {
     "name": "stdout",
     "output_type": "stream",
     "text": [
      "# 15 (meta-train-task) test_loss: 0.167813, test_acc: 0.600384\n",
      "# 15  (meta-test-task) test_loss: 1.753828, test_acc: 0.497105\n"
     ]
    },
    {
     "name": "stderr",
     "output_type": "stream",
     "text": [
      "Meta Train: 100%|█| 96/96 [00:57<00:00,  1.67it/s, epoch=5, train_loss=0.030, train_acc=1.000]\n",
      "Meta Test : 100%|█| 20/20 [00:01<00:00, 18.03it/s, epoch=5, train_loss=0.027, train_acc=1.000]\n"
     ]
    },
    {
     "name": "stdout",
     "output_type": "stream",
     "text": [
      "# 16 (meta-train-task) test_loss: 0.167314, test_acc: 0.606031\n",
      "# 16  (meta-test-task) test_loss: 1.734008, test_acc: 0.502895\n"
     ]
    },
    {
     "name": "stderr",
     "output_type": "stream",
     "text": [
      "Meta Train: 100%|█| 96/96 [00:56<00:00,  1.71it/s, epoch=5, train_loss=0.049, train_acc=1.000]\n",
      "Meta Test : 100%|█| 20/20 [00:01<00:00, 17.56it/s, epoch=5, train_loss=0.054, train_acc=1.000]\n"
     ]
    },
    {
     "name": "stdout",
     "output_type": "stream",
     "text": [
      "# 17 (meta-train-task) test_loss: 0.165252, test_acc: 0.619298\n",
      "# 17  (meta-test-task) test_loss: 1.733991, test_acc: 0.505789\n"
     ]
    },
    {
     "name": "stderr",
     "output_type": "stream",
     "text": [
      "Meta Train: 100%|█| 96/96 [00:56<00:00,  1.71it/s, epoch=5, train_loss=0.033, train_acc=1.000]\n",
      "Meta Test : 100%|█| 20/20 [00:01<00:00, 18.27it/s, epoch=5, train_loss=0.032, train_acc=1.000]\n"
     ]
    },
    {
     "name": "stdout",
     "output_type": "stream",
     "text": [
      "# 18 (meta-train-task) test_loss: 0.164875, test_acc: 0.615461\n",
      "# 18  (meta-test-task) test_loss: 1.769141, test_acc: 0.479474\n"
     ]
    },
    {
     "name": "stderr",
     "output_type": "stream",
     "text": [
      "Meta Train: 100%|█| 96/96 [00:55<00:00,  1.72it/s, epoch=5, train_loss=0.043, train_acc=1.000]\n",
      "Meta Test : 100%|█| 20/20 [00:01<00:00, 17.96it/s, epoch=5, train_loss=0.029, train_acc=1.000]\n"
     ]
    },
    {
     "name": "stdout",
     "output_type": "stream",
     "text": [
      "# 19 (meta-train-task) test_loss: 0.162514, test_acc: 0.631743\n",
      "# 19  (meta-test-task) test_loss: 1.705794, test_acc: 0.519737\n"
     ]
    },
    {
     "name": "stderr",
     "output_type": "stream",
     "text": [
      "Meta Train: 100%|█| 96/96 [01:01<00:00,  1.56it/s, epoch=5, train_loss=0.031, train_acc=1.000]\n",
      "Meta Test : 100%|█| 20/20 [00:01<00:00, 11.45it/s, epoch=5, train_loss=0.035, train_acc=1.000]\n"
     ]
    },
    {
     "name": "stdout",
     "output_type": "stream",
     "text": [
      "# 20 (meta-train-task) test_loss: 0.161378, test_acc: 0.637445\n",
      "# 20  (meta-test-task) test_loss: 1.753370, test_acc: 0.488421\n"
     ]
    },
    {
     "name": "stderr",
     "output_type": "stream",
     "text": [
      "Meta Train: 100%|█| 96/96 [00:57<00:00,  1.68it/s, epoch=5, train_loss=0.032, train_acc=1.000]\n",
      "Meta Test : 100%|█| 20/20 [00:01<00:00, 14.36it/s, epoch=5, train_loss=0.029, train_acc=1.000]\n"
     ]
    },
    {
     "name": "stdout",
     "output_type": "stream",
     "text": [
      "# 21 (meta-train-task) test_loss: 0.160974, test_acc: 0.639145\n",
      "# 21  (meta-test-task) test_loss: 1.684429, test_acc: 0.534737\n"
     ]
    },
    {
     "name": "stderr",
     "output_type": "stream",
     "text": [
      "Meta Train: 100%|█| 96/96 [00:55<00:00,  1.74it/s, epoch=5, train_loss=0.039, train_acc=1.000]\n",
      "Meta Test : 100%|█| 20/20 [00:01<00:00, 19.87it/s, epoch=5, train_loss=0.024, train_acc=1.000]\n"
     ]
    },
    {
     "name": "stdout",
     "output_type": "stream",
     "text": [
      "# 22 (meta-train-task) test_loss: 0.160212, test_acc: 0.637719\n",
      "# 22  (meta-test-task) test_loss: 1.700697, test_acc: 0.536053\n"
     ]
    },
    {
     "name": "stderr",
     "output_type": "stream",
     "text": [
      "Meta Train: 100%|█| 96/96 [00:54<00:00,  1.76it/s, epoch=5, train_loss=0.037, train_acc=1.000]\n",
      "Meta Test : 100%|█| 20/20 [00:01<00:00, 17.80it/s, epoch=5, train_loss=0.028, train_acc=1.000]\n"
     ]
    },
    {
     "name": "stdout",
     "output_type": "stream",
     "text": [
      "# 23 (meta-train-task) test_loss: 0.158175, test_acc: 0.649287\n",
      "# 23  (meta-test-task) test_loss: 1.672521, test_acc: 0.531579\n"
     ]
    },
    {
     "name": "stderr",
     "output_type": "stream",
     "text": [
      "Meta Train: 100%|█| 96/96 [00:55<00:00,  1.72it/s, epoch=5, train_loss=0.029, train_acc=1.000]\n",
      "Meta Test : 100%|█| 20/20 [00:01<00:00, 18.11it/s, epoch=5, train_loss=0.036, train_acc=1.000]\n"
     ]
    },
    {
     "name": "stdout",
     "output_type": "stream",
     "text": [
      "# 24 (meta-train-task) test_loss: 0.155872, test_acc: 0.667160\n",
      "# 24  (meta-test-task) test_loss: 1.703674, test_acc: 0.526053\n"
     ]
    },
    {
     "name": "stderr",
     "output_type": "stream",
     "text": [
      "Meta Train: 100%|█| 96/96 [00:55<00:00,  1.73it/s, epoch=5, train_loss=0.030, train_acc=1.000]\n",
      "Meta Test : 100%|█| 20/20 [00:01<00:00, 18.04it/s, epoch=5, train_loss=0.032, train_acc=1.000]\n"
     ]
    },
    {
     "name": "stdout",
     "output_type": "stream",
     "text": [
      "# 25 (meta-train-task) test_loss: 0.155525, test_acc: 0.666557\n",
      "# 25  (meta-test-task) test_loss: 1.661618, test_acc: 0.541842\n"
     ]
    },
    {
     "name": "stderr",
     "output_type": "stream",
     "text": [
      "Meta Train: 100%|█| 96/96 [00:56<00:00,  1.68it/s, epoch=5, train_loss=0.030, train_acc=1.000]\n",
      "Meta Test : 100%|█| 20/20 [00:01<00:00, 17.00it/s, epoch=5, train_loss=0.038, train_acc=1.000]\n"
     ]
    },
    {
     "name": "stdout",
     "output_type": "stream",
     "text": [
      "# 26 (meta-train-task) test_loss: 0.153770, test_acc: 0.677029\n",
      "# 26  (meta-test-task) test_loss: 1.663316, test_acc: 0.538947\n"
     ]
    },
    {
     "name": "stderr",
     "output_type": "stream",
     "text": [
      "Meta Train: 100%|█| 96/96 [00:56<00:00,  1.71it/s, epoch=5, train_loss=0.029, train_acc=1.000]\n",
      "Meta Test : 100%|█| 20/20 [00:01<00:00, 18.29it/s, epoch=5, train_loss=0.037, train_acc=1.000]\n"
     ]
    },
    {
     "name": "stdout",
     "output_type": "stream",
     "text": [
      "# 27 (meta-train-task) test_loss: 0.153325, test_acc: 0.671491\n",
      "# 27  (meta-test-task) test_loss: 1.682659, test_acc: 0.521053\n"
     ]
    },
    {
     "name": "stderr",
     "output_type": "stream",
     "text": [
      "Meta Train: 100%|█| 96/96 [00:55<00:00,  1.72it/s, epoch=5, train_loss=0.027, train_acc=1.000]\n",
      "Meta Test : 100%|█| 20/20 [00:01<00:00, 18.37it/s, epoch=5, train_loss=0.024, train_acc=1.000]\n"
     ]
    },
    {
     "name": "stdout",
     "output_type": "stream",
     "text": [
      "# 28 (meta-train-task) test_loss: 0.151498, test_acc: 0.683388\n",
      "# 28  (meta-test-task) test_loss: 1.687349, test_acc: 0.531316\n"
     ]
    },
    {
     "name": "stderr",
     "output_type": "stream",
     "text": [
      "Meta Train: 100%|█| 96/96 [00:55<00:00,  1.72it/s, epoch=5, train_loss=0.031, train_acc=1.000]\n",
      "Meta Test : 100%|█| 20/20 [00:01<00:00, 18.27it/s, epoch=5, train_loss=0.029, train_acc=1.000]\n"
     ]
    },
    {
     "name": "stdout",
     "output_type": "stream",
     "text": [
      "# 29 (meta-train-task) test_loss: 0.151280, test_acc: 0.688048\n",
      "# 29  (meta-test-task) test_loss: 1.600350, test_acc: 0.582368\n"
     ]
    },
    {
     "name": "stderr",
     "output_type": "stream",
     "text": [
      "Meta Train: 100%|█| 96/96 [00:55<00:00,  1.73it/s, epoch=5, train_loss=0.029, train_acc=1.000]\n",
      "Meta Test : 100%|█| 20/20 [00:01<00:00, 18.29it/s, epoch=5, train_loss=0.038, train_acc=1.000]\n"
     ]
    },
    {
     "name": "stdout",
     "output_type": "stream",
     "text": [
      "# 30 (meta-train-task) test_loss: 0.148817, test_acc: 0.703454\n",
      "# 30  (meta-test-task) test_loss: 1.606244, test_acc: 0.562895\n"
     ]
    },
    {
     "name": "stderr",
     "output_type": "stream",
     "text": [
      "Meta Train: 100%|█| 96/96 [00:55<00:00,  1.73it/s, epoch=5, train_loss=0.029, train_acc=1.000]\n",
      "Meta Test : 100%|█| 20/20 [00:01<00:00, 19.65it/s, epoch=5, train_loss=0.034, train_acc=1.000]\n"
     ]
    },
    {
     "name": "stdout",
     "output_type": "stream",
     "text": [
      "# 31 (meta-train-task) test_loss: 0.150107, test_acc: 0.682566\n",
      "# 31  (meta-test-task) test_loss: 1.652738, test_acc: 0.536316\n"
     ]
    },
    {
     "name": "stderr",
     "output_type": "stream",
     "text": [
      "Meta Train: 100%|█| 96/96 [00:53<00:00,  1.79it/s, epoch=5, train_loss=0.038, train_acc=1.000]\n",
      "Meta Test : 100%|█| 20/20 [00:01<00:00, 19.18it/s, epoch=5, train_loss=0.043, train_acc=1.000]\n"
     ]
    },
    {
     "name": "stdout",
     "output_type": "stream",
     "text": [
      "# 32 (meta-train-task) test_loss: 0.147984, test_acc: 0.692105\n",
      "# 32  (meta-test-task) test_loss: 1.625296, test_acc: 0.563158\n"
     ]
    },
    {
     "name": "stderr",
     "output_type": "stream",
     "text": [
      "Meta Train: 100%|█| 96/96 [00:54<00:00,  1.76it/s, epoch=5, train_loss=0.030, train_acc=1.000]\n",
      "Meta Test : 100%|█| 20/20 [00:01<00:00, 18.74it/s, epoch=5, train_loss=0.024, train_acc=1.000]\n"
     ]
    },
    {
     "name": "stdout",
     "output_type": "stream",
     "text": [
      "# 33 (meta-train-task) test_loss: 0.148226, test_acc: 0.695011\n",
      "# 33  (meta-test-task) test_loss: 1.621744, test_acc: 0.554474\n"
     ]
    },
    {
     "name": "stderr",
     "output_type": "stream",
     "text": [
      "Meta Train: 100%|█| 96/96 [00:53<00:00,  1.78it/s, epoch=5, train_loss=0.022, train_acc=1.000]\n",
      "Meta Test : 100%|█| 20/20 [00:01<00:00, 19.65it/s, epoch=5, train_loss=0.026, train_acc=1.000]\n"
     ]
    },
    {
     "name": "stdout",
     "output_type": "stream",
     "text": [
      "# 34 (meta-train-task) test_loss: 0.147006, test_acc: 0.697423\n",
      "# 34  (meta-test-task) test_loss: 1.616732, test_acc: 0.564474\n"
     ]
    },
    {
     "name": "stderr",
     "output_type": "stream",
     "text": [
      "Meta Train: 100%|█| 96/96 [00:54<00:00,  1.77it/s, epoch=5, train_loss=0.027, train_acc=1.000]\n",
      "Meta Test : 100%|█| 20/20 [00:01<00:00, 18.82it/s, epoch=5, train_loss=0.031, train_acc=1.000]\n"
     ]
    },
    {
     "name": "stdout",
     "output_type": "stream",
     "text": [
      "# 35 (meta-train-task) test_loss: 0.145300, test_acc: 0.706798\n",
      "# 35  (meta-test-task) test_loss: 1.587793, test_acc: 0.573158\n"
     ]
    },
    {
     "name": "stderr",
     "output_type": "stream",
     "text": [
      "Meta Train: 100%|█| 96/96 [00:54<00:00,  1.77it/s, epoch=5, train_loss=0.025, train_acc=1.000]\n",
      "Meta Test : 100%|█| 20/20 [00:01<00:00, 19.56it/s, epoch=5, train_loss=0.029, train_acc=1.000]\n"
     ]
    },
    {
     "name": "stdout",
     "output_type": "stream",
     "text": [
      "# 36 (meta-train-task) test_loss: 0.144779, test_acc: 0.703564\n",
      "# 36  (meta-test-task) test_loss: 1.615270, test_acc: 0.543421\n"
     ]
    },
    {
     "name": "stderr",
     "output_type": "stream",
     "text": [
      "Meta Train: 100%|█| 96/96 [00:53<00:00,  1.78it/s, epoch=5, train_loss=0.024, train_acc=1.000]\n",
      "Meta Test : 100%|█| 20/20 [00:01<00:00, 18.95it/s, epoch=5, train_loss=0.029, train_acc=1.000]\n"
     ]
    },
    {
     "name": "stdout",
     "output_type": "stream",
     "text": [
      "# 37 (meta-train-task) test_loss: 0.143753, test_acc: 0.705208\n",
      "# 37  (meta-test-task) test_loss: 1.591753, test_acc: 0.570000\n"
     ]
    },
    {
     "name": "stderr",
     "output_type": "stream",
     "text": [
      "Meta Train: 100%|█| 96/96 [00:54<00:00,  1.77it/s, epoch=5, train_loss=0.026, train_acc=1.000]\n",
      "Meta Test : 100%|█| 20/20 [00:01<00:00, 19.21it/s, epoch=5, train_loss=0.038, train_acc=1.000]\n"
     ]
    },
    {
     "name": "stdout",
     "output_type": "stream",
     "text": [
      "# 38 (meta-train-task) test_loss: 0.142108, test_acc: 0.722533\n",
      "# 38  (meta-test-task) test_loss: 1.645851, test_acc: 0.513158\n"
     ]
    },
    {
     "name": "stderr",
     "output_type": "stream",
     "text": [
      "Meta Train: 100%|█| 96/96 [00:54<00:00,  1.76it/s, epoch=5, train_loss=0.032, train_acc=1.000]\n",
      "Meta Test : 100%|█| 20/20 [00:01<00:00, 18.76it/s, epoch=5, train_loss=0.035, train_acc=1.000]\n"
     ]
    },
    {
     "name": "stdout",
     "output_type": "stream",
     "text": [
      "# 39 (meta-train-task) test_loss: 0.141693, test_acc: 0.719737\n",
      "# 39  (meta-test-task) test_loss: 1.601100, test_acc: 0.555526\n"
     ]
    },
    {
     "name": "stderr",
     "output_type": "stream",
     "text": [
      "Meta Train: 100%|█| 96/96 [00:54<00:00,  1.75it/s, epoch=5, train_loss=0.028, train_acc=1.000]\n",
      "Meta Test : 100%|█| 20/20 [00:01<00:00, 18.53it/s, epoch=5, train_loss=0.026, train_acc=1.000]\n"
     ]
    },
    {
     "name": "stdout",
     "output_type": "stream",
     "text": [
      "# 40 (meta-train-task) test_loss: 0.141462, test_acc: 0.721162\n",
      "# 40  (meta-test-task) test_loss: 1.595633, test_acc: 0.565789\n"
     ]
    },
    {
     "name": "stderr",
     "output_type": "stream",
     "text": [
      "Meta Train: 100%|█| 96/96 [00:53<00:00,  1.79it/s, epoch=5, train_loss=0.028, train_acc=1.000]\n",
      "Meta Test : 100%|█| 20/20 [00:01<00:00, 19.30it/s, epoch=5, train_loss=0.028, train_acc=1.000]\n"
     ]
    },
    {
     "name": "stdout",
     "output_type": "stream",
     "text": [
      "# 41 (meta-train-task) test_loss: 0.140522, test_acc: 0.725000\n",
      "# 41  (meta-test-task) test_loss: 1.584411, test_acc: 0.563947\n"
     ]
    },
    {
     "name": "stderr",
     "output_type": "stream",
     "text": [
      "Meta Train: 100%|█| 96/96 [00:53<00:00,  1.79it/s, epoch=5, train_loss=0.029, train_acc=1.000]\n",
      "Meta Test : 100%|█| 20/20 [00:00<00:00, 20.10it/s, epoch=5, train_loss=0.039, train_acc=1.000]\n"
     ]
    },
    {
     "name": "stdout",
     "output_type": "stream",
     "text": [
      "# 42 (meta-train-task) test_loss: 0.139840, test_acc: 0.728344\n",
      "# 42  (meta-test-task) test_loss: 1.611404, test_acc: 0.538421\n"
     ]
    },
    {
     "name": "stderr",
     "output_type": "stream",
     "text": [
      "Meta Train: 100%|█| 96/96 [00:53<00:00,  1.79it/s, epoch=5, train_loss=0.025, train_acc=1.000]\n",
      "Meta Test : 100%|█| 20/20 [00:01<00:00, 19.09it/s, epoch=5, train_loss=0.032, train_acc=1.000]\n"
     ]
    },
    {
     "name": "stdout",
     "output_type": "stream",
     "text": [
      "# 43 (meta-train-task) test_loss: 0.139521, test_acc: 0.726042\n",
      "# 43  (meta-test-task) test_loss: 1.612095, test_acc: 0.540789\n"
     ]
    },
    {
     "name": "stderr",
     "output_type": "stream",
     "text": [
      "Meta Train: 100%|█| 96/96 [00:53<00:00,  1.78it/s, epoch=5, train_loss=0.029, train_acc=1.000]\n",
      "Meta Test : 100%|█| 20/20 [00:01<00:00, 18.99it/s, epoch=5, train_loss=0.020, train_acc=1.000]\n"
     ]
    },
    {
     "name": "stdout",
     "output_type": "stream",
     "text": [
      "# 44 (meta-train-task) test_loss: 0.137773, test_acc: 0.732072\n",
      "# 44  (meta-test-task) test_loss: 1.552411, test_acc: 0.568684\n"
     ]
    },
    {
     "name": "stderr",
     "output_type": "stream",
     "text": [
      "Meta Train: 100%|█| 96/96 [00:53<00:00,  1.78it/s, epoch=5, train_loss=0.023, train_acc=1.000]\n",
      "Meta Test : 100%|█| 20/20 [00:01<00:00, 19.07it/s, epoch=5, train_loss=0.018, train_acc=1.000]\n"
     ]
    },
    {
     "name": "stdout",
     "output_type": "stream",
     "text": [
      "# 45 (meta-train-task) test_loss: 0.137361, test_acc: 0.731908\n",
      "# 45  (meta-test-task) test_loss: 1.533529, test_acc: 0.587368\n"
     ]
    },
    {
     "name": "stderr",
     "output_type": "stream",
     "text": [
      "Meta Train: 100%|█| 96/96 [00:54<00:00,  1.77it/s, epoch=5, train_loss=0.023, train_acc=1.000]\n",
      "Meta Test : 100%|█| 20/20 [00:01<00:00, 18.74it/s, epoch=5, train_loss=0.028, train_acc=1.000]\n"
     ]
    },
    {
     "name": "stdout",
     "output_type": "stream",
     "text": [
      "# 46 (meta-train-task) test_loss: 0.136680, test_acc: 0.740132\n",
      "# 46  (meta-test-task) test_loss: 1.528798, test_acc: 0.588684\n"
     ]
    },
    {
     "name": "stderr",
     "output_type": "stream",
     "text": [
      "Meta Train: 100%|█| 96/96 [00:53<00:00,  1.79it/s, epoch=5, train_loss=0.027, train_acc=1.000]\n",
      "Meta Test : 100%|█| 20/20 [00:01<00:00, 19.33it/s, epoch=5, train_loss=0.024, train_acc=1.000]\n"
     ]
    },
    {
     "name": "stdout",
     "output_type": "stream",
     "text": [
      "# 47 (meta-train-task) test_loss: 0.135871, test_acc: 0.738980\n",
      "# 47  (meta-test-task) test_loss: 1.578581, test_acc: 0.550000\n"
     ]
    },
    {
     "name": "stderr",
     "output_type": "stream",
     "text": [
      "Meta Train: 100%|█| 96/96 [00:53<00:00,  1.79it/s, epoch=5, train_loss=0.024, train_acc=1.000]\n",
      "Meta Test : 100%|█| 20/20 [00:01<00:00, 19.94it/s, epoch=5, train_loss=0.021, train_acc=1.000]\n"
     ]
    },
    {
     "name": "stdout",
     "output_type": "stream",
     "text": [
      "# 48 (meta-train-task) test_loss: 0.134987, test_acc: 0.744189\n",
      "# 48  (meta-test-task) test_loss: 1.550080, test_acc: 0.574474\n"
     ]
    },
    {
     "name": "stderr",
     "output_type": "stream",
     "text": [
      "Meta Train: 100%|█| 96/96 [00:53<00:00,  1.79it/s, epoch=5, train_loss=0.029, train_acc=1.000]\n",
      "Meta Test : 100%|█| 20/20 [00:01<00:00, 19.07it/s, epoch=5, train_loss=0.022, train_acc=1.000]\n"
     ]
    },
    {
     "name": "stdout",
     "output_type": "stream",
     "text": [
      "# 49 (meta-train-task) test_loss: 0.135039, test_acc: 0.739254\n",
      "# 49  (meta-test-task) test_loss: 1.504745, test_acc: 0.603947\n"
     ]
    },
    {
     "name": "stderr",
     "output_type": "stream",
     "text": [
      "Meta Train:  39%|▍| 37/96 [00:21<00:33,  1.76it/s, epoch=5, train_loss=0.024, train_acc=1.000]"
     ]
    }
   ],
   "source": [
    "meta_learner = MetaLearner()\n",
    "\n",
    "# see normal few-shot learning\n",
    "for _ in range(1):\n",
    "    test_loss, test_acc = meta_learner.meta_test()\n",
    "    print(\"# {}  (meta-test-task) test_loss: {:.6f}, test_acc: {:.6f}\".format(\n",
    "        0, test_loss, test_acc))\n",
    "\n",
    "for epoch in range(1000):\n",
    "    \n",
    "    train_loss, train_acc = meta_learner.meta_train()\n",
    "    test_loss, test_acc = meta_learner.meta_test()\n",
    "    \n",
    "    print(\"# {} (meta-train-task) test_loss: {:.6f}, test_acc: {:.6f}\".format(\n",
    "        epoch+1, train_loss, train_acc))    \n",
    "    print(\"# {}  (meta-test-task) test_loss: {:.6f}, test_acc: {:.6f}\".format(\n",
    "        epoch+1, test_loss, test_acc))\n",
    "    \n",
    "    model_path = \"../model/model-epoch_{:05}-train_loss_{:0.3f}-train_acc_{:0.3f}-test_loss_{:0.3f}-test_acc_{:0.3f}.pt\".format(\n",
    "        epoch, train_loss, train_acc, test_loss, test_acc)\n",
    "    \n",
    "    meta_learner.save(model_path)\n",
    "    meta_learner.load(model_path)"
   ]
  },
  {
   "cell_type": "code",
   "execution_count": null,
   "metadata": {},
   "outputs": [],
   "source": []
  }
 ],
 "metadata": {
  "kernelspec": {
   "display_name": "Python 3",
   "language": "python",
   "name": "python3"
  },
  "language_info": {
   "codemirror_mode": {
    "name": "ipython",
    "version": 3
   },
   "file_extension": ".py",
   "mimetype": "text/x-python",
   "name": "python",
   "nbconvert_exporter": "python",
   "pygments_lexer": "ipython3",
   "version": "3.6.5"
  }
 },
 "nbformat": 4,
 "nbformat_minor": 2
}
