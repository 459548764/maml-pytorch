{
 "cells": [
  {
   "cell_type": "markdown",
   "metadata": {},
   "source": [
    "### Model"
   ]
  },
  {
   "cell_type": "code",
   "execution_count": 1,
   "metadata": {},
   "outputs": [],
   "source": [
    "import torch\n",
    "import torch.nn as nn\n",
    "import torch.nn.functional as F\n",
    "import torch.optim as optim\n",
    "from torchvision import datasets, transforms\n",
    "from torch.utils.data import Dataset, DataLoader\n",
    "\n",
    "import os\n",
    "import random\n",
    "import matplotlib.pyplot as plt\n",
    "import numpy as np\n",
    "\n",
    "from skimage import io\n",
    "from tqdm import tqdm\n",
    "from time import sleep\n",
    "from collections import OrderedDict\n",
    "from more_itertools import chunked\n",
    "\n",
    "n_shot = 1\n",
    "n_class = 10\n",
    "n_local_update = 5\n",
    "batch_size = n_class\n",
    "\n",
    "device = 'cuda' if torch.cuda.is_available() else 'cpu'\n",
    "\n",
    "# TODO ↓消す\n",
    "def batchnorm(input, weight=None, bias=None, running_mean=None, running_var=None, training=True, eps=1e-5, momentum=0.1):\n",
    "    running_mean = torch.zeros(np.prod(np.array(input.data.size()[1]))).cuda()\n",
    "    running_var = torch.ones(np.prod(np.array(input.data.size()[1]))).cuda()\n",
    "    return F.batch_norm(input, running_mean, running_var, weight, bias, training, momentum, eps)\n",
    "\n",
    "\n",
    "class OmniglotNet(nn.Module):\n",
    "    def __init__(self, n_class):\n",
    "        super(OmniglotNet, self).__init__()\n",
    "        \n",
    "        self.h=64\n",
    "        self.conv1 = nn.Conv2d(1, self.h, kernel_size=3)\n",
    "        self.conv2 = nn.Conv2d(self.h, self.h, kernel_size=3)\n",
    "        self.conv3 = nn.Conv2d(self.h, self.h, kernel_size=3)\n",
    "        self.bn1 = nn.BatchNorm2d(self.h, momentum=1, affine=True)\n",
    "        self.bn2 = nn.BatchNorm2d(self.h, momentum=1, affine=True)\n",
    "        self.bn3 = nn.BatchNorm2d(self.h, momentum=1, affine=True)\n",
    "        self.fc = nn.Linear(self.h, n_class)\n",
    "\n",
    "    def forward(self, x):\n",
    "        \n",
    "        x = F.max_pool2d(F.relu(self.bn1(self.conv1(x))), 2)\n",
    "        x = F.max_pool2d(F.relu(self.bn2(self.conv2(x))), 2)\n",
    "        x = F.max_pool2d(F.relu(self.bn3(self.conv3(x))), 2)\n",
    "        x = x.view(x.size(0), self.h)\n",
    "        x = self.fc(x)\n",
    "        x = F.log_softmax(x, dim=1)\n",
    "        \n",
    "        return x\n",
    "\n",
    "    # for MAML local optimize\n",
    "    def manual_forward(self, x, params):\n",
    "        \n",
    "        x = F.conv2d(x, params['conv1.weight'].to(device), params['conv1.bias'].to(device))\n",
    "        x = batchnorm(x, weight = params['bn1.weight'], bias = params['bn1.bias'], momentum=1)\n",
    "        x = F.max_pool2d(F.relu(x), 2)\n",
    "        \n",
    "        x = F.conv2d(x, params['conv2.weight'].to(device), params['conv2.bias'].to(device))\n",
    "        x = batchnorm(x, weight = params['bn2.weight'], bias = params['bn2.bias'], momentum=1)\n",
    "        x = F.max_pool2d(F.relu(x), 2)\n",
    "        \n",
    "        x = F.conv2d(x, params['conv3.weight'].to(device), params['conv3.bias'].to(device))\n",
    "        x = batchnorm(x, weight = params['bn3.weight'], bias = params['bn3.bias'], momentum=1)\n",
    "        x = F.max_pool2d(F.relu(x), 2)\n",
    "        \n",
    "        x = x.view(x.size(0), self.h)\n",
    "        x = F.linear(x, params['fc.weight'].to(device), params['fc.bias'].to(device))\n",
    "        x = F.log_softmax(x, dim=1)\n",
    "        \n",
    "        return x\n",
    "    \n",
    "    \n",
    "def train(model, device, train_data_loader, optimizer, epoch):\n",
    "    model.train()\n",
    "    train_loss = 0\n",
    "    train_acc = 0\n",
    "    \n",
    "    for data, target in train_data_loader:\n",
    "        data, target = data.to(device), target.to(device)\n",
    "        output = model(data)\n",
    "        loss = F.nll_loss(output, target)\n",
    "        pred = output.max(1, keepdim=True)[1]\n",
    "\n",
    "        optimizer.zero_grad()\n",
    "        loss.backward()\n",
    "        optimizer.step()\n",
    "        \n",
    "        train_loss += loss.item()\n",
    "        train_acc += pred.eq(target.view_as(pred)).sum().item()\n",
    "    \n",
    "    train_loss /= len(train_data_loader.dataset)\n",
    "    train_acc /= len(train_data_loader.dataset)\n",
    "    return train_loss, train_acc\n",
    "\n",
    "def test(model, device, test_data_loader):\n",
    "    model.eval()\n",
    "    test_loss = 0\n",
    "    test_acc = 0\n",
    "    \n",
    "    with torch.no_grad():\n",
    "        for data, target in test_data_loader:\n",
    "            data, target = data.to(device), target.to(device)\n",
    "            output = model(data)\n",
    "            loss = F.nll_loss(output, target, reduction='sum').item() # sum up batch loss\n",
    "            pred = output.max(1, keepdim=True)[1]\n",
    "            \n",
    "            test_loss += loss\n",
    "            test_acc += pred.eq(target.view_as(pred)).sum().item()\n",
    "\n",
    "    test_loss /= len(test_data_loader.dataset)\n",
    "    test_acc /= len(test_data_loader.dataset)\n",
    "    return test_loss, test_acc"
   ]
  },
  {
   "cell_type": "markdown",
   "metadata": {},
   "source": [
    "### Dataset"
   ]
  },
  {
   "cell_type": "code",
   "execution_count": 2,
   "metadata": {},
   "outputs": [],
   "source": [
    "class OmniglotOriginDataset(Dataset):\n",
    "    def __init__(self, path_to_lang, n_class, train, train_index, transform):\n",
    "\n",
    "        self.data = []\n",
    "        self.path = path_to_lang\n",
    "        \n",
    "        labels = sorted(os.listdir(path_to_lang))[:n_class]\n",
    "        \n",
    "        for label_i, label in enumerate(labels):\n",
    "            path_to_label = os.path.join(path_to_lang, label)\n",
    "            chars = np.array(sorted(os.listdir(path_to_label)))\n",
    "            if train:\n",
    "                chars = chars[train_index]\n",
    "            else:\n",
    "                test_index = list(set(np.arange(20)) - set(train_index)) # 各文字20枚ずつ入ってる\n",
    "                chars = chars[test_index]\n",
    "            for char in chars:\n",
    "                path_to_char = os.path.join(path_to_label, char)\n",
    "                image = io.imread(path_to_char)\n",
    "                label_i = np.array(label_i)\n",
    "                self.data.append([image, label_i])\n",
    "            \n",
    "        self.transform = transform\n",
    " \n",
    "    def __len__(self):\n",
    "        return len(self.data)\n",
    " \n",
    "    def __getitem__(self, idx):\n",
    "        return self.transform(self.data[idx])\n",
    "\n",
    "class ToTensor(object):\n",
    "    def __call__(self, sample):\n",
    "        image, label = sample[0], sample[1]\n",
    "        image = image / 255\n",
    "        image = image.reshape([28,28, 1])\n",
    "        image = image.transpose((2, 0, 1))\n",
    "        image = np.array(image, np.float32)\n",
    "\n",
    "        return [torch.from_numpy(image), torch.from_numpy(label)]"
   ]
  },
  {
   "cell_type": "markdown",
   "metadata": {},
   "source": [
    "### AugmentedDataset (for meta-train)"
   ]
  },
  {
   "cell_type": "code",
   "execution_count": 3,
   "metadata": {},
   "outputs": [],
   "source": [
    "class OmniglotAugmentedDataset(Dataset):\n",
    "    def __init__(self, path_to_chars, train, train_indices, transform):\n",
    "\n",
    "        self.data = []\n",
    "        self.path = NotImplementedError\n",
    "        \n",
    "        for label_i, (path_to_label, train_index) in enumerate(zip(path_to_chars, train_indices)):\n",
    "            chars = np.array(sorted(os.listdir(path_to_label)))\n",
    "            if train:\n",
    "                chars = chars[train_index]\n",
    "            else:\n",
    "                test_index = list(set(np.arange(20)) - set(train_index)) # 各文字20枚ずつ入ってる\n",
    "                chars = chars[test_index]\n",
    "            for char in chars:\n",
    "                path_to_char = os.path.join(path_to_label, char)\n",
    "                image = io.imread(path_to_char)\n",
    "                label_i = np.array(label_i)\n",
    "                self.data.append([image, label_i])\n",
    "            \n",
    "        self.transform = transform\n",
    " \n",
    "    def __len__(self):\n",
    "        return len(self.data)\n",
    " \n",
    "    def __getitem__(self, idx):\n",
    "        return self.transform(self.data[idx])\n",
    "\n",
    "class ToTensor(object):\n",
    "    def __call__(self, sample):\n",
    "        image, label = sample[0], sample[1]\n",
    "        image = image / 255\n",
    "        image = image.reshape([28,28, 1])\n",
    "        image = image.transpose((2, 0, 1))\n",
    "        image = np.array(image, np.float32)\n",
    "\n",
    "        return [torch.from_numpy(image), torch.from_numpy(label)]"
   ]
  },
  {
   "cell_type": "markdown",
   "metadata": {},
   "source": [
    "### DataLoader"
   ]
  },
  {
   "cell_type": "code",
   "execution_count": 4,
   "metadata": {
    "scrolled": false
   },
   "outputs": [
    {
     "name": "stdout",
     "output_type": "stream",
     "text": [
      "../data/omniglot_mini/images_background/Latin/\n"
     ]
    },
    {
     "data": {
      "image/png": "[encoded data removed]",
      "text/plain": [
       "<Figure size 720x72 with 10 Axes>"
      ]
     },
     "metadata": {},
     "output_type": "display_data"
    },
    {
     "name": "stdout",
     "output_type": "stream",
     "text": [
      "y_true: tensor([1, 6, 7, 8, 5, 3, 0, 9, 4, 2])\n"
     ]
    }
   ],
   "source": [
    "local_task_train_data_loader = DataLoader(\n",
    "    OmniglotOriginDataset(\"../data/omniglot_mini/images_background/Latin/\", \n",
    "                    n_class=n_class,\n",
    "                    train=True,\n",
    "                    train_index=[0],\n",
    "                    transform=transforms.Compose([\n",
    "                        ToTensor(),\n",
    "                    ])),\n",
    "    batch_size=batch_size, shuffle=True)\n",
    "\n",
    "print(local_task_train_data_loader.dataset.path)\n",
    "\n",
    "for data, target in local_task_train_data_loader: # only have one batch\n",
    "    plt.figure(figsize=(10,1))\n",
    "    for i, x in enumerate(data):\n",
    "        plt.subplot(1, batch_size, i+1); plt.imshow(x[0])\n",
    "    plt.show()\n",
    "    print(\"y_true:\", target)"
   ]
  },
  {
   "cell_type": "markdown",
   "metadata": {},
   "source": [
    "### AugmentDataLoader"
   ]
  },
  {
   "cell_type": "code",
   "execution_count": 5,
   "metadata": {},
   "outputs": [
    {
     "name": "stdout",
     "output_type": "stream",
     "text": [
      "local_task_train_data\n"
     ]
    },
    {
     "data": {
      "image/png": "[encoded data removed]",
      "text/plain": [
       "<Figure size 720x72 with 10 Axes>"
      ]
     },
     "metadata": {},
     "output_type": "display_data"
    },
    {
     "name": "stdout",
     "output_type": "stream",
     "text": [
      "y_true: tensor([4, 0, 7, 6, 3, 5, 9, 2, 8, 1])\n",
      "\n",
      "local_task_train_data\n"
     ]
    },
    {
     "data": {
      "image/png": "[encoded data removed]",
      "text/plain": [
       "<Figure size 720x72 with 10 Axes>"
      ]
     },
     "metadata": {},
     "output_type": "display_data"
    },
    {
     "name": "stdout",
     "output_type": "stream",
     "text": [
      "y_true: tensor([1, 6, 9, 4, 7, 8, 9, 8, 3, 1])\n"
     ]
    }
   ],
   "source": [
    "train_indices = np.random.randint(20, size=(n_class, n_shot))\n",
    "\n",
    "path_to_chars = [\n",
    "    '../data/omniglot_mini/images_background/Early_Aramaic/character08',\n",
    "    '../data/omniglot_mini/images_background/N_Ko/character05',\n",
    "    '../data/omniglot_mini/images_background/Early_Aramaic/character01',\n",
    "    '../data/omniglot_mini/images_background/Balinese/character04',\n",
    "    '../data/omniglot_mini/images_background/Burmese_(Myanmar)/character21',\n",
    "    '../data/omniglot_mini/images_background/Balinese/character03',\n",
    "    '../data/omniglot_mini/images_background/Gujarati/character35',\n",
    "    '../data/omniglot_mini/images_background/Bengali/character10',\n",
    "    '../data/omniglot_mini/images_background/Burmese_(Myanmar)/character18',\n",
    "    '../data/omniglot_mini/images_background/Armenian/character17'\n",
    "]\n",
    "\n",
    "print(\"local_task_train_data\")\n",
    "local_task_train_data_loader = DataLoader(\n",
    "    OmniglotAugmentedDataset(path_to_chars,\n",
    "                    train=True,\n",
    "                    train_indices=train_indices,\n",
    "                    transform=transforms.Compose([\n",
    "                        ToTensor(),\n",
    "                    ])),\n",
    "    batch_size=batch_size, shuffle=True)\n",
    "\n",
    "for data, target in local_task_train_data_loader: # only have one batch\n",
    "    plt.figure(figsize=(10,1))\n",
    "    for i, x in enumerate(data):\n",
    "        plt.subplot(1, batch_size, i+1); plt.imshow(x[0])\n",
    "    plt.show()\n",
    "    print(\"y_true:\", target)\n",
    "\n",
    "print(\"\\nlocal_task_train_data\")\n",
    "local_task_test_data_loader = DataLoader(\n",
    "    OmniglotAugmentedDataset(path_to_chars,\n",
    "                    train=False,\n",
    "                    train_indices=train_indices,\n",
    "                    transform=transforms.Compose([\n",
    "                        ToTensor(),\n",
    "                    ])),\n",
    "    batch_size=batch_size, shuffle=True)\n",
    "\n",
    "for data, target in local_task_test_data_loader: # only have one batch\n",
    "    plt.figure(figsize=(10,1))\n",
    "    for i, x in enumerate(data):\n",
    "        plt.subplot(1, batch_size, i+1); plt.imshow(x[0])\n",
    "    plt.show()\n",
    "    print(\"y_true:\", target)\n",
    "    break"
   ]
  },
  {
   "cell_type": "markdown",
   "metadata": {},
   "source": [
    "### (fitting, task=Latin, n_class=10, n_shot=1)"
   ]
  },
  {
   "cell_type": "code",
   "execution_count": 6,
   "metadata": {
    "scrolled": true
   },
   "outputs": [
    {
     "name": "stderr",
     "output_type": "stream",
     "text": [
      "100%|██████████| 10/10 [00:00<00:00, 49.54it/s, epoch=10, train_loss=0.0878, train_acc=1, test_loss=2.07, test_acc=0.311]\n"
     ]
    },
    {
     "data": {
      "image/png": "[encoded data removed]",
      "text/plain": [
       "<Figure size 720x72 with 10 Axes>"
      ]
     },
     "metadata": {},
     "output_type": "display_data"
    },
    {
     "name": "stdout",
     "output_type": "stream",
     "text": [
      "y_pred: tensor([8, 4, 7, 2, 5, 3, 9, 6, 1, 0])\n",
      "y_true: tensor([8, 4, 7, 2, 5, 3, 9, 6, 1, 0])\n"
     ]
    }
   ],
   "source": [
    "local_task_train_data_loader = DataLoader(\n",
    "    OmniglotOriginDataset(\"../data/omniglot_mini/images_background/Latin/\", \n",
    "                    n_class=n_class,\n",
    "                    train=True,\n",
    "                    train_index=[0],\n",
    "                    transform=transforms.Compose([\n",
    "                        ToTensor()\n",
    "                    ])),\n",
    "    batch_size=batch_size, shuffle=True)\n",
    "\n",
    "\n",
    "local_task_test_data_loader = DataLoader(\n",
    "    OmniglotOriginDataset(\"../data/omniglot_mini/images_background/Latin/\", \n",
    "                    n_class=n_class,\n",
    "                    train=False,\n",
    "                    train_index=[0],\n",
    "                    transform=transforms.Compose([\n",
    "                        ToTensor()\n",
    "                    ])),\n",
    "    batch_size=batch_size, shuffle=True)\n",
    "\n",
    "model = OmniglotNet(n_class=10).to(device)\n",
    "optimizer = optim.SGD(model.parameters(), lr=0.01, momentum=0.5)\n",
    "\n",
    "with tqdm(range(10)) as _tqdm:\n",
    "    for epoch in _tqdm:\n",
    "        train_loss, train_acc = train(model, device, local_task_train_data_loader, optimizer, epoch)\n",
    "        test_loss, test_acc = test(model, device, local_task_test_data_loader)\n",
    "        _tqdm.set_postfix(OrderedDict(\n",
    "            epoch=epoch+1, \n",
    "            train_loss=train_loss, train_acc=train_acc, \n",
    "            test_loss=test_loss, test_acc=test_acc))\n",
    "        \n",
    "\n",
    "data, target = local_task_train_data_loader.__iter__().next()\n",
    "\n",
    "images = np.array(data).reshape(10,28,28)\n",
    "plt.figure(figsize=(10,1))\n",
    "[[plt.subplot(1,10,i+1), plt.imshow(img)] for i, img in enumerate(images)]; plt.show()\n",
    "\n",
    "print(\"y_pred:\", torch.argmax(model(data.cuda()), 1).cpu())\n",
    "print(\"y_true:\", target)"
   ]
  },
  {
   "cell_type": "markdown",
   "metadata": {},
   "source": [
    "### (fitting, task=MNIST, n_class=10, n_shot=1)"
   ]
  },
  {
   "cell_type": "code",
   "execution_count": 7,
   "metadata": {
    "scrolled": true
   },
   "outputs": [
    {
     "name": "stderr",
     "output_type": "stream",
     "text": [
      "100%|██████████| 1/1 [00:15<00:00, 15.39s/it, epoch=1, train_loss=0.0147, train_acc=0.963, test_loss=0.0679, test_acc=0.979]\n"
     ]
    },
    {
     "data": {
      "image/png": "[encoded data removed]",
      "text/plain": [
       "<Figure size 720x72 with 10 Axes>"
      ]
     },
     "metadata": {},
     "output_type": "display_data"
    },
    {
     "name": "stdout",
     "output_type": "stream",
     "text": [
      "y_pred: tensor([2, 9, 6, 6, 5, 4, 9, 7, 9, 6])\n",
      "y_true: tensor([2, 9, 6, 6, 5, 4, 9, 7, 9, 6])\n"
     ]
    }
   ],
   "source": [
    "local_task_train_data_loader = DataLoader(\n",
    "    datasets.MNIST('../data/mnist', train=True, download=True,\n",
    "                   transform=transforms.Compose([\n",
    "                       transforms.ToTensor(),\n",
    "                   ])),\n",
    "    batch_size=batch_size, shuffle=True)\n",
    "\n",
    "local_task_test_data_loader = DataLoader(\n",
    "    datasets.MNIST('../data/mnist', train=False, transform=transforms.Compose([\n",
    "                       transforms.ToTensor(),\n",
    "                   ])),\n",
    "    batch_size=batch_size, shuffle=True)\n",
    "\n",
    "model = OmniglotNet(n_class=10).to(device)\n",
    "optimizer = optim.SGD(model.parameters(), lr=0.01, momentum=0.5)\n",
    "\n",
    "with tqdm(range(1)) as _tqdm:\n",
    "    for epoch in _tqdm:\n",
    "        train_loss, train_acc = train(model, device, local_task_train_data_loader, optimizer, epoch)\n",
    "        test_loss, test_acc = test(model, device, local_task_test_data_loader)\n",
    "        _tqdm.set_postfix(OrderedDict(\n",
    "            epoch=epoch+1, \n",
    "            train_loss=train_loss, train_acc=train_acc, \n",
    "            test_loss=test_loss, test_acc=test_acc))\n",
    "        \n",
    "\n",
    "data, target = local_task_train_data_loader.__iter__().next()\n",
    "\n",
    "images = np.array(data).reshape(10,28,28)\n",
    "plt.figure(figsize=(10,1))\n",
    "[[plt.subplot(1,10,i+1), plt.imshow(img)] for i, img in enumerate(images)]; plt.show()\n",
    "\n",
    "print(\"y_pred:\", torch.argmax(model(data.cuda()), 1).cpu())\n",
    "print(\"y_true:\", target)"
   ]
  },
  {
   "cell_type": "markdown",
   "metadata": {},
   "source": [
    "### Taskset and TaskLoader classes"
   ]
  },
  {
   "cell_type": "code",
   "execution_count": 4,
   "metadata": {},
   "outputs": [],
   "source": [
    "class Taskset(object):\n",
    "    def __getitem__(self, index):\n",
    "        raise NotImplementedError\n",
    "    def __len__(self):\n",
    "        raise NotImplementedError\n",
    "\n",
    "class TaskLoader(object):\n",
    "    def __init__(self, taskset, shuffle=True):\n",
    "        self.taskset = taskset\n",
    "        self.sample_iter = iter(np.random.permutation(np.arange(len(taskset))))\n",
    "    def __iter__(self):\n",
    "        return self\n",
    "    def __next__(self):\n",
    "        return self.taskset[next(self.sample_iter)]\n",
    "    def __len__(self):\n",
    "        return len(self.taskset)"
   ]
  },
  {
   "cell_type": "markdown",
   "metadata": {},
   "source": [
    "### Taskset"
   ]
  },
  {
   "cell_type": "code",
   "execution_count": 5,
   "metadata": {},
   "outputs": [],
   "source": [
    "class OmniglotOriginTaskset(Taskset):\n",
    "    def __init__(self, path_to_omniglot, n_class, n_shot, meta_train):\n",
    "        \n",
    "        if meta_train:\n",
    "            path_to_langs = os.path.join(path_to_omniglot, \"images_background/\")\n",
    "        else:\n",
    "            path_to_langs = os.path.join(path_to_omniglot, \"images_evaluation/\")\n",
    "        \n",
    "        langs = sorted(os.listdir(path_to_langs))\n",
    "        tasks = [os.path.join(path_to_langs, lang) for lang in langs]\n",
    "        tasks = [task for task in tasks if len(os.listdir(task))>=n_class]\n",
    "        self.tasks = tasks\n",
    "    \n",
    "    def __len__(self):\n",
    "        return len(self.tasks)\n",
    "    \n",
    "    def __getitem__(self, idx):\n",
    "        train_index=[np.random.randint(20)] #TODO chanege indices\n",
    "        return {\"train\":\n",
    "                DataLoader(\n",
    "                    OmniglotOriginDataset(self.tasks[idx], \n",
    "                                    n_class=n_class,\n",
    "                                    train=True,\n",
    "                                    train_index=train_index,\n",
    "                                    transform=transforms.Compose([\n",
    "                                        ToTensor()\n",
    "                                    ])),\n",
    "                    batch_size=batch_size, shuffle=True), \n",
    "                \"test\":\n",
    "                DataLoader(\n",
    "                    OmniglotOriginDataset(self.tasks[idx],\n",
    "                                    n_class=n_class,\n",
    "                                    train=False,\n",
    "                                    train_index=train_index,\n",
    "                                    transform=transforms.Compose([\n",
    "                                        ToTensor()\n",
    "                                    ])),\n",
    "                    batch_size=batch_size, shuffle=True),\n",
    "                \"task\": self.tasks[idx] \n",
    "               }"
   ]
  },
  {
   "cell_type": "markdown",
   "metadata": {},
   "source": [
    "### AugmentedTaskset (for meta-train)"
   ]
  },
  {
   "cell_type": "code",
   "execution_count": 6,
   "metadata": {},
   "outputs": [],
   "source": [
    "class OmniglotAugmentedTaskset(Taskset):\n",
    "    def __init__(self, path_to_omniglot, n_class, n_shot, meta_train):\n",
    "        \n",
    "        if meta_train:\n",
    "            path_to_langs = os.path.join(path_to_omniglot, \"images_background/\")\n",
    "        else:\n",
    "            path_to_langs = os.path.join(path_to_omniglot, \"images_evaluation/\")\n",
    "            \n",
    "        chars = []\n",
    "        \n",
    "        for path_to_lang in os.listdir(path_to_langs):\n",
    "            path_to_chars = os.path.join(path_to_langs, path_to_lang)\n",
    "            for path_to_char in os.listdir(path_to_chars):\n",
    "                chars.append(os.path.join(path_to_chars, path_to_char)) \n",
    "        \n",
    "        random.shuffle(chars)\n",
    "        tasks = list(chunked(chars, n_class))[:-1] # drop_last\n",
    "        \n",
    "        self.tasks = tasks\n",
    "    \n",
    "    def __len__(self):\n",
    "        return len(self.tasks)\n",
    "    \n",
    "    def __getitem__(self, idx):\n",
    "        train_indices = np.random.randint(20, size=(n_class, n_shot))\n",
    "        return {\"train\":\n",
    "                DataLoader(\n",
    "                    OmniglotAugmentedDataset(self.tasks[idx],\n",
    "                                    train=True,\n",
    "                                    train_indices=train_indices,\n",
    "                                    transform=transforms.Compose([\n",
    "                                        ToTensor()\n",
    "                                    ])),\n",
    "                    batch_size=batch_size, shuffle=True), \n",
    "                \"test\":\n",
    "                DataLoader(\n",
    "                    OmniglotAugmentedDataset(self.tasks[idx],\n",
    "                                    train=False,\n",
    "                                    train_indices=train_indices,\n",
    "                                    transform=transforms.Compose([\n",
    "                                        ToTensor()\n",
    "                                    ])),\n",
    "                    batch_size=batch_size, shuffle=True),\n",
    "                \"task\": self.tasks[idx] \n",
    "               }"
   ]
  },
  {
   "cell_type": "markdown",
   "metadata": {},
   "source": [
    "### TaskLoader"
   ]
  },
  {
   "cell_type": "code",
   "execution_count": 7,
   "metadata": {
    "scrolled": false
   },
   "outputs": [
    {
     "name": "stdout",
     "output_type": "stream",
     "text": [
      "30\n",
      "../data/omniglot_mini/images_background/Anglo-Saxon_Futhorc\n"
     ]
    },
    {
     "data": {
      "image/png": "[encoded data removed]",
      "text/plain": [
       "<Figure size 720x72 with 10 Axes>"
      ]
     },
     "metadata": {},
     "output_type": "display_data"
    },
    {
     "name": "stdout",
     "output_type": "stream",
     "text": [
      "tensor([3, 1, 4, 5, 9, 7, 2, 0, 8, 6])\n",
      "../data/omniglot_mini/images_background/Cyrillic\n"
     ]
    },
    {
     "data": {
      "image/png": "[encoded data removed]",
      "text/plain": [
       "<Figure size 720x72 with 10 Axes>"
      ]
     },
     "metadata": {},
     "output_type": "display_data"
    },
    {
     "name": "stdout",
     "output_type": "stream",
     "text": [
      "tensor([4, 8, 6, 9, 3, 1, 5, 0, 2, 7])\n",
      "../data/omniglot_mini/images_background/Malay_(Jawi_-_Arabic)\n"
     ]
    },
    {
     "data": {
      "image/png": "[encoded data removed]",
      "text/plain": [
       "<Figure size 720x72 with 10 Axes>"
      ]
     },
     "metadata": {},
     "output_type": "display_data"
    },
    {
     "name": "stdout",
     "output_type": "stream",
     "text": [
      "tensor([7, 8, 4, 1, 0, 6, 3, 9, 5, 2])\n"
     ]
    }
   ],
   "source": [
    "meta_train_task_loader = TaskLoader(\n",
    "    OmniglotOriginTaskset(\"../data/omniglot_mini/\", meta_train=True, n_class=n_class, n_shot=n_shot)\n",
    ")\n",
    "\n",
    "print(len(meta_train_task_loader.taskset))\n",
    "\n",
    "for i, meta_train_task in enumerate(meta_train_task_loader):\n",
    "    print(meta_train_task[\"task\"])\n",
    "    print(\"train\")\n",
    "    local_task_train_data_loader = meta_train_task[\"train\"]\n",
    "    for data, target in local_task_train_data_loader:\n",
    "        plt.figure(figsize=(10,1))\n",
    "        for j, x in enumerate(data):\n",
    "            plt.subplot(1, batch_size, j+1); plt.imshow(x[0])\n",
    "        plt.show()\n",
    "        print(target)\n",
    "    print(\"test\")\n",
    "    local_task_train_data_loader = meta_train_task[\"test\"]\n",
    "    for data, target in local_task_train_data_loader:\n",
    "        plt.figure(figsize=(10,1))\n",
    "        for j, x in enumerate(data):\n",
    "            plt.subplot(1, batch_size, j+1); plt.imshow(x[0])\n",
    "        plt.show()\n",
    "        print(target)\n",
    "        break\n",
    "    if i==1:\n",
    "        break"
   ]
  },
  {
   "cell_type": "markdown",
   "metadata": {},
   "source": [
    "### AugmentTaskLoader"
   ]
  },
  {
   "cell_type": "code",
   "execution_count": 8,
   "metadata": {
    "scrolled": false
   },
   "outputs": [
    {
     "name": "stdout",
     "output_type": "stream",
     "text": [
      "96\n",
      "['../data/omniglot_mini/images_background/Early_Aramaic/character18', '../data/omniglot_mini/images_background/Bengali/character46', '../data/omniglot_mini/images_background/Arcadian/character08', '../data/omniglot_mini/images_background/Latin/character02', '../data/omniglot_mini/images_background/Braille/character13', '../data/omniglot_mini/images_background/Japanese_(katakana)/character33', '../data/omniglot_mini/images_background/Armenian/character23', '../data/omniglot_mini/images_background/Japanese_(hiragana)/character05', '../data/omniglot_mini/images_background/N_Ko/character13', '../data/omniglot_mini/images_background/Japanese_(hiragana)/character49']\n",
      "train\n"
     ]
    },
    {
     "data": {
      "image/png": "[encoded data removed]",
      "text/plain": [
       "<Figure size 720x72 with 10 Axes>"
      ]
     },
     "metadata": {},
     "output_type": "display_data"
    },
    {
     "name": "stdout",
     "output_type": "stream",
     "text": [
      "tensor([2, 6, 5, 9, 1, 7, 8, 3, 4, 0])\n",
      "test\n"
     ]
    },
    {
     "data": {
      "image/png": "[encoded data removed]",
      "text/plain": [
       "<Figure size 720x72 with 10 Axes>"
      ]
     },
     "metadata": {},
     "output_type": "display_data"
    },
    {
     "name": "stdout",
     "output_type": "stream",
     "text": [
      "tensor([7, 2, 9, 8, 0, 4, 7, 6, 0, 1])\n",
      "['../data/omniglot_mini/images_background/Asomtavruli_(Georgian)/character04', '../data/omniglot_mini/images_background/Bengali/character23', '../data/omniglot_mini/images_background/Japanese_(hiragana)/character33', '../data/omniglot_mini/images_background/Sanskrit/character41', '../data/omniglot_mini/images_background/Early_Aramaic/character04', '../data/omniglot_mini/images_background/Syriac_(Estrangelo)/character22', '../data/omniglot_mini/images_background/Grantha/character39', '../data/omniglot_mini/images_background/Japanese_(katakana)/character05', '../data/omniglot_mini/images_background/Gujarati/character35', '../data/omniglot_mini/images_background/Futurama/character08']\n",
      "train\n"
     ]
    },
    {
     "data": {
      "image/png": "[encoded data removed]",
      "text/plain": [
       "<Figure size 720x72 with 10 Axes>"
      ]
     },
     "metadata": {},
     "output_type": "display_data"
    },
    {
     "name": "stdout",
     "output_type": "stream",
     "text": [
      "tensor([1, 6, 3, 4, 7, 9, 0, 5, 2, 8])\n",
      "test\n"
     ]
    },
    {
     "data": {
      "image/png": "[encoded data removed]",
      "text/plain": [
       "<Figure size 720x72 with 10 Axes>"
      ]
     },
     "metadata": {},
     "output_type": "display_data"
    },
    {
     "name": "stdout",
     "output_type": "stream",
     "text": [
      "tensor([8, 0, 3, 1, 4, 1, 6, 1, 0, 4])\n"
     ]
    }
   ],
   "source": [
    "meta_train_task_loader = TaskLoader(\n",
    "    OmniglotAugmentedTaskset(\"../data/omniglot_mini/\", meta_train=True, n_class=n_class, n_shot=n_shot)\n",
    ")\n",
    "\n",
    "print(len(meta_train_task_loader.taskset))\n",
    "\n",
    "for i, meta_train_task in enumerate(meta_train_task_loader):\n",
    "    print(meta_train_task[\"task\"])\n",
    "    print(\"train\")\n",
    "    local_task_train_data_loader = meta_train_task[\"train\"]\n",
    "    for data, target in local_task_train_data_loader:\n",
    "        plt.figure(figsize=(10,1))\n",
    "        for j, x in enumerate(data):\n",
    "            plt.subplot(1, batch_size, j+1); plt.imshow(x[0])\n",
    "        plt.show()\n",
    "        print(target)\n",
    "    print(\"test\")\n",
    "    local_task_test_data_loader = meta_train_task[\"test\"]\n",
    "    for data, target in local_task_test_data_loader:\n",
    "        plt.figure(figsize=(10,1))\n",
    "        for j, x in enumerate(data):\n",
    "            plt.subplot(1, batch_size, j+1); plt.imshow(x[0])\n",
    "        plt.show()\n",
    "        print(target)\n",
    "        break\n",
    "    if i==1:\n",
    "        break"
   ]
  },
  {
   "cell_type": "markdown",
   "metadata": {},
   "source": [
    "---"
   ]
  },
  {
   "cell_type": "markdown",
   "metadata": {},
   "source": [
    "# MAML"
   ]
  },
  {
   "cell_type": "code",
   "execution_count": 9,
   "metadata": {},
   "outputs": [],
   "source": [
    "class MetaLearner(object):\n",
    "    def __init__(self):\n",
    "        self.lr = 0.1\n",
    "        self.momentum = 0.5\n",
    "        self.device = 'cuda' if torch.cuda.is_available() else 'cpu'\n",
    "        self.master_net = OmniglotNet(n_class).to(self.device)\n",
    "        self.master_opt = optim.Adam(self.master_net.parameters(), lr=0.001)\n",
    "        self.keys = self.master_net.state_dict().keys()\n",
    "    \n",
    "    def copy_params(self, from_net, to_net):\n",
    "        params = {k: v for k, v in from_net.state_dict().items() if k in self.keys}\n",
    "        to_net.load_state_dict(params, strict=False)\n",
    "    \n",
    "    def save(self, model_path):\n",
    "        torch.save(self.master_net.state_dict(), model_path)\n",
    "    \n",
    "    def load(self, model_path):\n",
    "        self.master_net.load_state_dict(torch.load(model_path))\n",
    "    \n",
    "    def meta_test(self):\n",
    "        \n",
    "        meta_test_task_loader = TaskLoader(\n",
    "            OmniglotOriginTaskset(\"../data/omniglot_mini/\", meta_train=False, n_class=n_class, n_shot=n_shot))\n",
    "\n",
    "        test_loss, test_acc = [], []\n",
    "        \n",
    "        sleep(0.5)\n",
    "        with tqdm(meta_test_task_loader, desc=\"Meta Test \", ncols=10) as _tqdm:\n",
    "            for meta_test_task in _tqdm:\n",
    "\n",
    "                # copy master model to new branch model\n",
    "                faster_net = OmniglotNet(n_class).to(self.device)\n",
    "                self.copy_params(self.master_net, faster_net)\n",
    "                faster_opt = optim.SGD(faster_net.parameters(), lr=self.lr, momentum=self.momentum)\n",
    "\n",
    "                # make local task data loader\n",
    "                local_task_train_data_loader = meta_test_task[\"train\"]\n",
    "                local_task_test_data_loader = meta_test_task[\"test\"]\n",
    "\n",
    "                # ----------------------------------------------------------------\n",
    "                # meta test task train\n",
    "                # ----------------------------------------------------------------\n",
    "\n",
    "                for epoch in range(n_local_update):\n",
    "                    _train_loss, _train_acc = train(\n",
    "                        faster_net, self.device, local_task_train_data_loader, faster_opt, epoch)\n",
    "                    _tqdm.set_postfix(OrderedDict(\n",
    "                        epoch=epoch+1, \n",
    "                        train_loss=\"{:.3f}\".format(_train_loss), \n",
    "                        train_acc=\"{:.3f}\".format(_train_acc)))\n",
    "                # ----------------------------------------------------------------\n",
    "                # meta test task test\n",
    "                # ----------------------------------------------------------------\n",
    "\n",
    "                _test_loss, _test_acc = test(faster_net, self.device, local_task_test_data_loader)\n",
    "                test_loss.append(_test_loss)\n",
    "                test_acc.append(_test_acc)\n",
    "        \n",
    "        return np.mean(test_loss), np.mean(test_acc)\n",
    "\n",
    "    \n",
    "    def meta_train(self):\n",
    "        \n",
    "        meta_train_task_loader = TaskLoader(\n",
    "            OmniglotAugmentedTaskset(\"../data/omniglot_mini/\", meta_train=True, n_class=n_class, n_shot=n_shot))\n",
    "    \n",
    "        meta_grads = []\n",
    "        \n",
    "        test_loss, test_acc = [], []\n",
    "        \n",
    "        sleep(0.5)\n",
    "        with tqdm(meta_train_task_loader, desc=\"Meta Train\", ncols=10) as _tqdm:\n",
    "            for meta_train_task in _tqdm:\n",
    "                \n",
    "                # copy master model to new branch model\n",
    "                faster_net = OmniglotNet(n_class).to(self.device)\n",
    "                self.copy_params(self.master_net, faster_net)\n",
    "\n",
    "                faster_params = OrderedDict((name, param) for (name, param) in faster_net.named_parameters())\n",
    "                master_params = OrderedDict((name, param) for (name, param) in self.master_net.named_parameters())\n",
    "\n",
    "                # make local task data loader\n",
    "                local_task_train_data_loader = meta_train_task[\"train\"]\n",
    "                local_task_test_data_loader = meta_train_task[\"test\"]\n",
    "\n",
    "                # ----------------------------------------------------------------\n",
    "                # meta train task train\n",
    "                # ----------------------------------------------------------------\n",
    "\n",
    "                first_train_for_this_task = True\n",
    "\n",
    "                for epoch in range(n_local_update):\n",
    "                    \n",
    "                    _train_loss = 0\n",
    "                    _train_acc = 0\n",
    "                    \n",
    "                    for data, target in local_task_train_data_loader:\n",
    "                        data, target = data.to(self.device), target.to(self.device)\n",
    "\n",
    "                        if first_train_for_this_task:\n",
    "                            \n",
    "                            # manual predict\n",
    "                            output = self.master_net(data)\n",
    "                            loss = F.nll_loss(output, target)\n",
    "                            pred = output.max(1, keepdim=True)[1]\n",
    "                            \n",
    "                            _train_loss += loss\n",
    "                            _train_acc += pred.eq(target.view_as(pred)).sum().item()\n",
    "                            \n",
    "                            grads = torch.autograd.grad(loss, self.master_net.parameters(), create_graph=True)\n",
    "\n",
    "                            first_train_for_this_task = False\n",
    "\n",
    "                        else:\n",
    "                            # manual predict\n",
    "                            output = faster_net.manual_forward(data, faster_params)\n",
    "                            loss = F.nll_loss(output, target)\n",
    "                            pred = output.max(1, keepdim=True)[1]\n",
    "                            \n",
    "                            _train_loss += loss\n",
    "                            _train_acc += pred.eq(target.view_as(pred)).sum().item()\n",
    "                                                        \n",
    "                            grads = torch.autograd.grad(loss, faster_params.values(), create_graph=True)\n",
    "        \n",
    "                        # manual optimize!!!\n",
    "                        faster_params = OrderedDict(\n",
    "                            (name, param - self.lr*grad)\n",
    "                            for ((name, param), grad) in zip(faster_params.items(), grads)\n",
    "                        )\n",
    "                    \n",
    "                    _train_loss /= len(local_task_train_data_loader.dataset)\n",
    "                    _train_acc /= len(local_task_train_data_loader.dataset)\n",
    "                    \n",
    "                    _tqdm.set_postfix(OrderedDict(\n",
    "                        epoch=epoch+1, \n",
    "                        train_loss=\"{:.3f}\".format(_train_loss), \n",
    "                        train_acc=\"{:.3f}\".format(_train_acc)))\n",
    "                \n",
    "                # ----------------------------------------------------------------\n",
    "                # meta train task test\n",
    "                # ----------------------------------------------------------------\n",
    "                \n",
    "                _test_loss = 0\n",
    "                _test_acc = 0\n",
    "                \n",
    "                for data, target in local_task_test_data_loader:\n",
    "                    data, target = data.to(self.device), target.to(self.device)\n",
    "\n",
    "                    output = faster_net.manual_forward(data, faster_params)\n",
    "                    loss = F.nll_loss(output, target) # test_loss計算するとこまではfaster_net\n",
    "\n",
    "                    # differentiates test_loss by master_net params\n",
    "                    grads = torch.autograd.grad(loss, self.master_net.parameters(), retain_graph=True)\n",
    "                    grads = {name:g for ((name, _), g) in zip(faster_net.named_parameters(), grads)}\n",
    "                    meta_grads.append(grads)\n",
    "\n",
    "                    pred = output.max(1, keepdim=True)[1]\n",
    "                    acc = pred.eq(target.view_as(pred)).sum()\n",
    "                    \n",
    "                    _test_loss += loss.item()\n",
    "                    _test_acc += acc.item()\n",
    "                \n",
    "                _test_loss /= len(local_task_test_data_loader.dataset)\n",
    "                _test_acc /= len(local_task_test_data_loader.dataset)  \n",
    "                test_loss.append(_test_loss)\n",
    "                test_acc.append(_test_acc)\n",
    "        \n",
    "        # ----------------------------------------------------------------\n",
    "        # end all tasks\n",
    "        # ----------------------------------------------------------------\n",
    "        \n",
    "        # ----------------------------------------------------------------\n",
    "        # meta update\n",
    "        # ----------------------------------------------------------------\n",
    "        \n",
    "        meta_grads = {k: sum(grads[k] for grads in meta_grads) for k in meta_grads[0].keys()}\n",
    "        \n",
    "        # using data,target from somewhere\n",
    "        dumy_output = self.master_net(data)\n",
    "        dumy_loss = F.nll_loss(dumy_output, target)\n",
    "        \n",
    "        # after dumy_loss.backward, rewrite grads\n",
    "        self.master_opt.zero_grad()\n",
    "        dumy_loss.backward(retain_graph=True)\n",
    "\n",
    "        hooks = []\n",
    "        for (k,v) in self.master_net.named_parameters():\n",
    "            def get_closure():\n",
    "                key = k\n",
    "                def replace_grad(grad):\n",
    "                    return meta_grads[key]\n",
    "                return replace_grad\n",
    "            hooks.append(v.register_hook(get_closure()))\n",
    "\n",
    "        # Compute grads for current step, replace with summed gradients as defined by hook\n",
    "        self.master_opt.zero_grad()\n",
    "        dumy_loss.backward()\n",
    "\n",
    "        # Update the net parameters with the accumulated gradient according to optimizer\n",
    "        self.master_opt.step()\n",
    "\n",
    "        # Remove the hooks before next training phase\n",
    "        for h in hooks:\n",
    "            h.remove()\n",
    "\n",
    "        return np.mean(test_loss), np.mean(test_acc)"
   ]
  },
  {
   "cell_type": "code",
   "execution_count": 10,
   "metadata": {
    "scrolled": false
   },
   "outputs": [
    {
     "name": "stderr",
     "output_type": "stream",
     "text": [
      "Meta Train: 100%|█| 96/96 [00:56<00:00,  1.70it/s, epoch=5, train_loss=0.077, train_acc=1.000]\n",
      "Meta Test : 100%|█| 20/20 [00:01<00:00, 18.86it/s, epoch=5, train_loss=0.057, train_acc=1.000]\n"
     ]
    },
    {
     "name": "stdout",
     "output_type": "stream",
     "text": [
      "# 1 (meta-train-task) test_loss: 0.187075, test_acc: 0.491996\n",
      "# 1  (meta-test-task) test_loss: 1.946103, test_acc: 0.381579\n"
     ]
    },
    {
     "name": "stderr",
     "output_type": "stream",
     "text": [
      "Meta Train: 100%|█| 96/96 [00:54<00:00,  1.76it/s, epoch=5, train_loss=0.064, train_acc=1.000]\n",
      "Meta Test : 100%|█| 20/20 [00:01<00:00, 18.35it/s, epoch=5, train_loss=0.036, train_acc=1.000]\n"
     ]
    },
    {
     "name": "stdout",
     "output_type": "stream",
     "text": [
      "# 2 (meta-train-task) test_loss: 0.186854, test_acc: 0.485691\n",
      "# 2  (meta-test-task) test_loss: 1.909627, test_acc: 0.415000\n"
     ]
    },
    {
     "name": "stderr",
     "output_type": "stream",
     "text": [
      "Meta Train: 100%|█| 96/96 [00:54<00:00,  1.77it/s, epoch=5, train_loss=0.055, train_acc=1.000]\n",
      "Meta Test : 100%|█| 20/20 [00:01<00:00, 18.52it/s, epoch=5, train_loss=0.037, train_acc=1.000]\n"
     ]
    },
    {
     "name": "stdout",
     "output_type": "stream",
     "text": [
      "# 3 (meta-train-task) test_loss: 0.185483, test_acc: 0.500110\n",
      "# 3  (meta-test-task) test_loss: 1.914087, test_acc: 0.406053\n"
     ]
    },
    {
     "name": "stderr",
     "output_type": "stream",
     "text": [
      "Meta Train: 100%|█| 96/96 [00:54<00:00,  1.76it/s, epoch=5, train_loss=0.048, train_acc=1.000]\n",
      "Meta Test : 100%|█| 20/20 [00:01<00:00, 18.69it/s, epoch=5, train_loss=0.043, train_acc=1.000]\n"
     ]
    },
    {
     "name": "stdout",
     "output_type": "stream",
     "text": [
      "# 4 (meta-train-task) test_loss: 0.183185, test_acc: 0.514090\n",
      "# 4  (meta-test-task) test_loss: 1.892184, test_acc: 0.408421\n"
     ]
    },
    {
     "name": "stderr",
     "output_type": "stream",
     "text": [
      "Meta Train: 100%|█| 96/96 [00:53<00:00,  1.79it/s, epoch=5, train_loss=0.051, train_acc=1.000]\n",
      "Meta Test : 100%|█| 20/20 [00:01<00:00, 17.76it/s, epoch=5, train_loss=0.045, train_acc=1.000]\n"
     ]
    },
    {
     "name": "stdout",
     "output_type": "stream",
     "text": [
      "# 5 (meta-train-task) test_loss: 0.182146, test_acc: 0.518092\n",
      "# 5  (meta-test-task) test_loss: 1.914067, test_acc: 0.400263\n"
     ]
    },
    {
     "name": "stderr",
     "output_type": "stream",
     "text": [
      "Meta Train: 100%|█| 96/96 [00:53<00:00,  1.79it/s, epoch=5, train_loss=0.059, train_acc=1.000]\n",
      "Meta Test : 100%|█| 20/20 [00:01<00:00, 18.67it/s, epoch=5, train_loss=0.041, train_acc=1.000]\n"
     ]
    },
    {
     "name": "stdout",
     "output_type": "stream",
     "text": [
      "# 6 (meta-train-task) test_loss: 0.179695, test_acc: 0.538103\n",
      "# 6  (meta-test-task) test_loss: 1.887611, test_acc: 0.414474\n"
     ]
    },
    {
     "name": "stderr",
     "output_type": "stream",
     "text": [
      "Meta Train: 100%|█| 96/96 [00:53<00:00,  1.79it/s, epoch=5, train_loss=0.051, train_acc=1.000]\n",
      "Meta Test : 100%|█| 20/20 [00:01<00:00, 18.78it/s, epoch=5, train_loss=0.038, train_acc=1.000]\n"
     ]
    },
    {
     "name": "stdout",
     "output_type": "stream",
     "text": [
      "# 7 (meta-train-task) test_loss: 0.177611, test_acc: 0.548410\n",
      "# 7  (meta-test-task) test_loss: 1.852755, test_acc: 0.432105\n"
     ]
    },
    {
     "name": "stderr",
     "output_type": "stream",
     "text": [
      "Meta Train: 100%|█| 96/96 [00:53<00:00,  1.79it/s, epoch=5, train_loss=0.045, train_acc=1.000]\n",
      "Meta Test : 100%|█| 20/20 [00:01<00:00, 18.65it/s, epoch=5, train_loss=0.051, train_acc=1.000]\n"
     ]
    },
    {
     "name": "stdout",
     "output_type": "stream",
     "text": [
      "# 8 (meta-train-task) test_loss: 0.177746, test_acc: 0.545614\n",
      "# 8  (meta-test-task) test_loss: 1.803249, test_acc: 0.464474\n"
     ]
    },
    {
     "name": "stderr",
     "output_type": "stream",
     "text": [
      "Meta Train: 100%|█| 96/96 [00:53<00:00,  1.79it/s, epoch=5, train_loss=0.046, train_acc=1.000]\n",
      "Meta Test : 100%|█| 20/20 [00:01<00:00, 18.55it/s, epoch=5, train_loss=0.038, train_acc=1.000]\n"
     ]
    },
    {
     "name": "stdout",
     "output_type": "stream",
     "text": [
      "# 9 (meta-train-task) test_loss: 0.175405, test_acc: 0.565844\n",
      "# 9  (meta-test-task) test_loss: 1.887781, test_acc: 0.408158\n"
     ]
    },
    {
     "name": "stderr",
     "output_type": "stream",
     "text": [
      "Meta Train: 100%|█| 96/96 [00:54<00:00,  1.76it/s, epoch=5, train_loss=0.051, train_acc=1.000]\n",
      "Meta Test : 100%|█| 20/20 [00:01<00:00, 18.17it/s, epoch=5, train_loss=0.086, train_acc=1.000]\n"
     ]
    },
    {
     "name": "stdout",
     "output_type": "stream",
     "text": [
      "# 10 (meta-train-task) test_loss: 0.173984, test_acc: 0.573300\n",
      "# 10  (meta-test-task) test_loss: 1.802236, test_acc: 0.469211\n"
     ]
    },
    {
     "name": "stderr",
     "output_type": "stream",
     "text": [
      "Meta Train: 100%|█| 96/96 [00:53<00:00,  1.78it/s, epoch=5, train_loss=0.057, train_acc=1.000]\n",
      "Meta Test : 100%|█| 20/20 [00:01<00:00, 17.46it/s, epoch=5, train_loss=0.031, train_acc=1.000]\n"
     ]
    },
    {
     "name": "stdout",
     "output_type": "stream",
     "text": [
      "# 11 (meta-train-task) test_loss: 0.172872, test_acc: 0.573520\n",
      "# 11  (meta-test-task) test_loss: 1.816170, test_acc: 0.469737\n"
     ]
    },
    {
     "name": "stderr",
     "output_type": "stream",
     "text": [
      "Meta Train: 100%|█| 96/96 [00:54<00:00,  1.77it/s, epoch=5, train_loss=0.043, train_acc=1.000]\n",
      "Meta Test : 100%|█| 20/20 [00:01<00:00, 18.49it/s, epoch=5, train_loss=0.043, train_acc=1.000]\n"
     ]
    },
    {
     "name": "stdout",
     "output_type": "stream",
     "text": [
      "# 12 (meta-train-task) test_loss: 0.172681, test_acc: 0.578289\n",
      "# 12  (meta-test-task) test_loss: 1.798154, test_acc: 0.471316\n"
     ]
    },
    {
     "name": "stderr",
     "output_type": "stream",
     "text": [
      "Meta Train: 100%|█| 96/96 [00:53<00:00,  1.78it/s, epoch=5, train_loss=0.049, train_acc=1.000]\n",
      "Meta Test : 100%|█| 20/20 [00:01<00:00, 18.35it/s, epoch=5, train_loss=0.034, train_acc=1.000]\n"
     ]
    },
    {
     "name": "stdout",
     "output_type": "stream",
     "text": [
      "# 13 (meta-train-task) test_loss: 0.170329, test_acc: 0.593750\n",
      "# 13  (meta-test-task) test_loss: 1.787825, test_acc: 0.481579\n"
     ]
    },
    {
     "name": "stderr",
     "output_type": "stream",
     "text": [
      "Meta Train: 100%|█| 96/96 [00:55<00:00,  1.73it/s, epoch=5, train_loss=0.040, train_acc=1.000]\n",
      "Meta Test : 100%|█| 20/20 [00:01<00:00, 18.80it/s, epoch=5, train_loss=0.034, train_acc=1.000]\n"
     ]
    },
    {
     "name": "stdout",
     "output_type": "stream",
     "text": [
      "# 14 (meta-train-task) test_loss: 0.168819, test_acc: 0.605757\n",
      "# 14  (meta-test-task) test_loss: 1.775625, test_acc: 0.486842\n"
     ]
    },
    {
     "name": "stderr",
     "output_type": "stream",
     "text": [
      "Meta Train: 100%|█| 96/96 [00:56<00:00,  1.71it/s, epoch=5, train_loss=0.041, train_acc=1.000]\n",
      "Meta Test : 100%|█| 20/20 [00:01<00:00, 17.44it/s, epoch=5, train_loss=0.037, train_acc=1.000]\n"
     ]
    },
    {
     "name": "stdout",
     "output_type": "stream",
     "text": [
      "# 15 (meta-train-task) test_loss: 0.167813, test_acc: 0.600384\n",
      "# 15  (meta-test-task) test_loss: 1.753828, test_acc: 0.497105\n"
     ]
    },
    {
     "name": "stderr",
     "output_type": "stream",
     "text": [
      "Meta Train: 100%|█| 96/96 [00:57<00:00,  1.67it/s, epoch=5, train_loss=0.030, train_acc=1.000]\n",
      "Meta Test : 100%|█| 20/20 [00:01<00:00, 18.03it/s, epoch=5, train_loss=0.027, train_acc=1.000]\n"
     ]
    },
    {
     "name": "stdout",
     "output_type": "stream",
     "text": [
      "# 16 (meta-train-task) test_loss: 0.167314, test_acc: 0.606031\n",
      "# 16  (meta-test-task) test_loss: 1.734008, test_acc: 0.502895\n"
     ]
    },
    {
     "name": "stderr",
     "output_type": "stream",
     "text": [
      "Meta Train: 100%|█| 96/96 [00:56<00:00,  1.71it/s, epoch=5, train_loss=0.049, train_acc=1.000]\n",
      "Meta Test : 100%|█| 20/20 [00:01<00:00, 17.56it/s, epoch=5, train_loss=0.054, train_acc=1.000]\n"
     ]
    },
    {
     "name": "stdout",
     "output_type": "stream",
     "text": [
      "# 17 (meta-train-task) test_loss: 0.165252, test_acc: 0.619298\n",
      "# 17  (meta-test-task) test_loss: 1.733991, test_acc: 0.505789\n"
     ]
    },
    {
     "name": "stderr",
     "output_type": "stream",
     "text": [
      "Meta Train: 100%|█| 96/96 [00:56<00:00,  1.71it/s, epoch=5, train_loss=0.033, train_acc=1.000]\n",
      "Meta Test : 100%|█| 20/20 [00:01<00:00, 18.27it/s, epoch=5, train_loss=0.032, train_acc=1.000]\n"
     ]
    },
    {
     "name": "stdout",
     "output_type": "stream",
     "text": [
      "# 18 (meta-train-task) test_loss: 0.164875, test_acc: 0.615461\n",
      "# 18  (meta-test-task) test_loss: 1.769141, test_acc: 0.479474\n"
     ]
    },
    {
     "name": "stderr",
     "output_type": "stream",
     "text": [
      "Meta Train: 100%|█| 96/96 [00:55<00:00,  1.72it/s, epoch=5, train_loss=0.043, train_acc=1.000]\n",
      "Meta Test : 100%|█| 20/20 [00:01<00:00, 17.96it/s, epoch=5, train_loss=0.029, train_acc=1.000]\n"
     ]
    },
    {
     "name": "stdout",
     "output_type": "stream",
     "text": [
      "# 19 (meta-train-task) test_loss: 0.162514, test_acc: 0.631743\n",
      "# 19  (meta-test-task) test_loss: 1.705794, test_acc: 0.519737\n"
     ]
    },
    {
     "name": "stderr",
     "output_type": "stream",
     "text": [
      "Meta Train: 100%|█| 96/96 [01:01<00:00,  1.56it/s, epoch=5, train_loss=0.031, train_acc=1.000]\n",
      "Meta Test : 100%|█| 20/20 [00:01<00:00, 11.45it/s, epoch=5, train_loss=0.035, train_acc=1.000]\n"
     ]
    },
    {
     "name": "stdout",
     "output_type": "stream",
     "text": [
      "# 20 (meta-train-task) test_loss: 0.161378, test_acc: 0.637445\n",
      "# 20  (meta-test-task) test_loss: 1.753370, test_acc: 0.488421\n"
     ]
    },
    {
     "name": "stderr",
     "output_type": "stream",
     "text": [
      "Meta Train: 100%|█| 96/96 [00:57<00:00,  1.68it/s, epoch=5, train_loss=0.032, train_acc=1.000]\n",
      "Meta Test : 100%|█| 20/20 [00:01<00:00, 14.36it/s, epoch=5, train_loss=0.029, train_acc=1.000]\n"
     ]
    },
    {
     "name": "stdout",
     "output_type": "stream",
     "text": [
      "# 21 (meta-train-task) test_loss: 0.160974, test_acc: 0.639145\n",
      "# 21  (meta-test-task) test_loss: 1.684429, test_acc: 0.534737\n"
     ]
    },
    {
     "name": "stderr",
     "output_type": "stream",
     "text": [
      "Meta Train: 100%|█| 96/96 [00:55<00:00,  1.74it/s, epoch=5, train_loss=0.039, train_acc=1.000]\n",
      "Meta Test : 100%|█| 20/20 [00:01<00:00, 19.87it/s, epoch=5, train_loss=0.024, train_acc=1.000]\n"
     ]
    },
    {
     "name": "stdout",
     "output_type": "stream",
     "text": [
      "# 22 (meta-train-task) test_loss: 0.160212, test_acc: 0.637719\n",
      "# 22  (meta-test-task) test_loss: 1.700697, test_acc: 0.536053\n"
     ]
    },
    {
     "name": "stderr",
     "output_type": "stream",
     "text": [
      "Meta Train: 100%|█| 96/96 [00:54<00:00,  1.76it/s, epoch=5, train_loss=0.037, train_acc=1.000]\n",
      "Meta Test : 100%|█| 20/20 [00:01<00:00, 17.80it/s, epoch=5, train_loss=0.028, train_acc=1.000]\n"
     ]
    },
    {
     "name": "stdout",
     "output_type": "stream",
     "text": [
      "# 23 (meta-train-task) test_loss: 0.158175, test_acc: 0.649287\n",
      "# 23  (meta-test-task) test_loss: 1.672521, test_acc: 0.531579\n"
     ]
    },
    {
     "name": "stderr",
     "output_type": "stream",
     "text": [
      "Meta Train: 100%|█| 96/96 [00:55<00:00,  1.72it/s, epoch=5, train_loss=0.029, train_acc=1.000]\n",
      "Meta Test : 100%|█| 20/20 [00:01<00:00, 18.11it/s, epoch=5, train_loss=0.036, train_acc=1.000]\n"
     ]
    },
    {
     "name": "stdout",
     "output_type": "stream",
     "text": [
      "# 24 (meta-train-task) test_loss: 0.155872, test_acc: 0.667160\n",
      "# 24  (meta-test-task) test_loss: 1.703674, test_acc: 0.526053\n"
     ]
    },
    {
     "name": "stderr",
     "output_type": "stream",
     "text": [
      "Meta Train: 100%|█| 96/96 [00:55<00:00,  1.73it/s, epoch=5, train_loss=0.030, train_acc=1.000]\n",
      "Meta Test : 100%|█| 20/20 [00:01<00:00, 18.04it/s, epoch=5, train_loss=0.032, train_acc=1.000]\n"
     ]
    },
    {
     "name": "stdout",
     "output_type": "stream",
     "text": [
      "# 25 (meta-train-task) test_loss: 0.155525, test_acc: 0.666557\n",
      "# 25  (meta-test-task) test_loss: 1.661618, test_acc: 0.541842\n"
     ]
    },
    {
     "name": "stderr",
     "output_type": "stream",
     "text": [
      "Meta Train: 100%|█| 96/96 [00:56<00:00,  1.68it/s, epoch=5, train_loss=0.030, train_acc=1.000]\n",
      "Meta Test : 100%|█| 20/20 [00:01<00:00, 17.00it/s, epoch=5, train_loss=0.038, train_acc=1.000]\n"
     ]
    },
    {
     "name": "stdout",
     "output_type": "stream",
     "text": [
      "# 26 (meta-train-task) test_loss: 0.153770, test_acc: 0.677029\n",
      "# 26  (meta-test-task) test_loss: 1.663316, test_acc: 0.538947\n"
     ]
    },
    {
     "name": "stderr",
     "output_type": "stream",
     "text": [
      "Meta Train: 100%|█| 96/96 [00:56<00:00,  1.71it/s, epoch=5, train_loss=0.029, train_acc=1.000]\n",
      "Meta Test : 100%|█| 20/20 [00:01<00:00, 18.29it/s, epoch=5, train_loss=0.037, train_acc=1.000]\n"
     ]
    },
    {
     "name": "stdout",
     "output_type": "stream",
     "text": [
      "# 27 (meta-train-task) test_loss: 0.153325, test_acc: 0.671491\n",
      "# 27  (meta-test-task) test_loss: 1.682659, test_acc: 0.521053\n"
     ]
    },
    {
     "name": "stderr",
     "output_type": "stream",
     "text": [
      "Meta Train: 100%|█| 96/96 [00:55<00:00,  1.72it/s, epoch=5, train_loss=0.027, train_acc=1.000]\n",
      "Meta Test : 100%|█| 20/20 [00:01<00:00, 18.37it/s, epoch=5, train_loss=0.024, train_acc=1.000]\n"
     ]
    },
    {
     "name": "stdout",
     "output_type": "stream",
     "text": [
      "# 28 (meta-train-task) test_loss: 0.151498, test_acc: 0.683388\n",
      "# 28  (meta-test-task) test_loss: 1.687349, test_acc: 0.531316\n"
     ]
    },
    {
     "name": "stderr",
     "output_type": "stream",
     "text": [
      "Meta Train: 100%|█| 96/96 [00:55<00:00,  1.72it/s, epoch=5, train_loss=0.031, train_acc=1.000]\n",
      "Meta Test : 100%|█| 20/20 [00:01<00:00, 18.27it/s, epoch=5, train_loss=0.029, train_acc=1.000]\n"
     ]
    },
    {
     "name": "stdout",
     "output_type": "stream",
     "text": [
      "# 29 (meta-train-task) test_loss: 0.151280, test_acc: 0.688048\n",
      "# 29  (meta-test-task) test_loss: 1.600350, test_acc: 0.582368\n"
     ]
    },
    {
     "name": "stderr",
     "output_type": "stream",
     "text": [
      "Meta Train: 100%|█| 96/96 [00:55<00:00,  1.73it/s, epoch=5, train_loss=0.029, train_acc=1.000]\n",
      "Meta Test : 100%|█| 20/20 [00:01<00:00, 18.29it/s, epoch=5, train_loss=0.038, train_acc=1.000]\n"
     ]
    },
    {
     "name": "stdout",
     "output_type": "stream",
     "text": [
      "# 30 (meta-train-task) test_loss: 0.148817, test_acc: 0.703454\n",
      "# 30  (meta-test-task) test_loss: 1.606244, test_acc: 0.562895\n"
     ]
    },
    {
     "name": "stderr",
     "output_type": "stream",
     "text": [
      "Meta Train: 100%|█| 96/96 [00:55<00:00,  1.73it/s, epoch=5, train_loss=0.029, train_acc=1.000]\n",
      "Meta Test : 100%|█| 20/20 [00:01<00:00, 19.65it/s, epoch=5, train_loss=0.034, train_acc=1.000]\n"
     ]
    },
    {
     "name": "stdout",
     "output_type": "stream",
     "text": [
      "# 31 (meta-train-task) test_loss: 0.150107, test_acc: 0.682566\n",
      "# 31  (meta-test-task) test_loss: 1.652738, test_acc: 0.536316\n"
     ]
    },
    {
     "name": "stderr",
     "output_type": "stream",
     "text": [
      "Meta Train: 100%|█| 96/96 [00:53<00:00,  1.79it/s, epoch=5, train_loss=0.038, train_acc=1.000]\n",
      "Meta Test : 100%|█| 20/20 [00:01<00:00, 19.18it/s, epoch=5, train_loss=0.043, train_acc=1.000]\n"
     ]
    },
    {
     "name": "stdout",
     "output_type": "stream",
     "text": [
      "# 32 (meta-train-task) test_loss: 0.147984, test_acc: 0.692105\n",
      "# 32  (meta-test-task) test_loss: 1.625296, test_acc: 0.563158\n"
     ]
    },
    {
     "name": "stderr",
     "output_type": "stream",
     "text": [
      "Meta Train: 100%|█| 96/96 [00:54<00:00,  1.76it/s, epoch=5, train_loss=0.030, train_acc=1.000]\n",
      "Meta Test : 100%|█| 20/20 [00:01<00:00, 18.74it/s, epoch=5, train_loss=0.024, train_acc=1.000]\n"
     ]
    },
    {
     "name": "stdout",
     "output_type": "stream",
     "text": [
      "# 33 (meta-train-task) test_loss: 0.148226, test_acc: 0.695011\n",
      "# 33  (meta-test-task) test_loss: 1.621744, test_acc: 0.554474\n"
     ]
    },
    {
     "name": "stderr",
     "output_type": "stream",
     "text": [
      "Meta Train: 100%|█| 96/96 [00:53<00:00,  1.78it/s, epoch=5, train_loss=0.022, train_acc=1.000]\n",
      "Meta Test : 100%|█| 20/20 [00:01<00:00, 19.65it/s, epoch=5, train_loss=0.026, train_acc=1.000]\n"
     ]
    },
    {
     "name": "stdout",
     "output_type": "stream",
     "text": [
      "# 34 (meta-train-task) test_loss: 0.147006, test_acc: 0.697423\n",
      "# 34  (meta-test-task) test_loss: 1.616732, test_acc: 0.564474\n"
     ]
    },
    {
     "name": "stderr",
     "output_type": "stream",
     "text": [
      "Meta Train: 100%|█| 96/96 [00:54<00:00,  1.77it/s, epoch=5, train_loss=0.027, train_acc=1.000]\n",
      "Meta Test : 100%|█| 20/20 [00:01<00:00, 18.82it/s, epoch=5, train_loss=0.031, train_acc=1.000]\n"
     ]
    },
    {
     "name": "stdout",
     "output_type": "stream",
     "text": [
      "# 35 (meta-train-task) test_loss: 0.145300, test_acc: 0.706798\n",
      "# 35  (meta-test-task) test_loss: 1.587793, test_acc: 0.573158\n"
     ]
    },
    {
     "name": "stderr",
     "output_type": "stream",
     "text": [
      "Meta Train: 100%|█| 96/96 [00:54<00:00,  1.77it/s, epoch=5, train_loss=0.025, train_acc=1.000]\n",
      "Meta Test : 100%|█| 20/20 [00:01<00:00, 19.56it/s, epoch=5, train_loss=0.029, train_acc=1.000]\n"
     ]
    },
    {
     "name": "stdout",
     "output_type": "stream",
     "text": [
      "# 36 (meta-train-task) test_loss: 0.144779, test_acc: 0.703564\n",
      "# 36  (meta-test-task) test_loss: 1.615270, test_acc: 0.543421\n"
     ]
    },
    {
     "name": "stderr",
     "output_type": "stream",
     "text": [
      "Meta Train: 100%|█| 96/96 [00:53<00:00,  1.78it/s, epoch=5, train_loss=0.024, train_acc=1.000]\n",
      "Meta Test : 100%|█| 20/20 [00:01<00:00, 18.95it/s, epoch=5, train_loss=0.029, train_acc=1.000]\n"
     ]
    },
    {
     "name": "stdout",
     "output_type": "stream",
     "text": [
      "# 37 (meta-train-task) test_loss: 0.143753, test_acc: 0.705208\n",
      "# 37  (meta-test-task) test_loss: 1.591753, test_acc: 0.570000\n"
     ]
    },
    {
     "name": "stderr",
     "output_type": "stream",
     "text": [
      "Meta Train: 100%|█| 96/96 [00:54<00:00,  1.77it/s, epoch=5, train_loss=0.026, train_acc=1.000]\n",
      "Meta Test : 100%|█| 20/20 [00:01<00:00, 19.21it/s, epoch=5, train_loss=0.038, train_acc=1.000]\n"
     ]
    },
    {
     "name": "stdout",
     "output_type": "stream",
     "text": [
      "# 38 (meta-train-task) test_loss: 0.142108, test_acc: 0.722533\n",
      "# 38  (meta-test-task) test_loss: 1.645851, test_acc: 0.513158\n"
     ]
    },
    {
     "name": "stderr",
     "output_type": "stream",
     "text": [
      "Meta Train: 100%|█| 96/96 [00:54<00:00,  1.76it/s, epoch=5, train_loss=0.032, train_acc=1.000]\n",
      "Meta Test : 100%|█| 20/20 [00:01<00:00, 18.76it/s, epoch=5, train_loss=0.035, train_acc=1.000]\n"
     ]
    },
    {
     "name": "stdout",
     "output_type": "stream",
     "text": [
      "# 39 (meta-train-task) test_loss: 0.141693, test_acc: 0.719737\n",
      "# 39  (meta-test-task) test_loss: 1.601100, test_acc: 0.555526\n"
     ]
    },
    {
     "name": "stderr",
     "output_type": "stream",
     "text": [
      "Meta Train: 100%|█| 96/96 [00:54<00:00,  1.75it/s, epoch=5, train_loss=0.028, train_acc=1.000]\n",
      "Meta Test : 100%|█| 20/20 [00:01<00:00, 18.53it/s, epoch=5, train_loss=0.026, train_acc=1.000]\n"
     ]
    },
    {
     "name": "stdout",
     "output_type": "stream",
     "text": [
      "# 40 (meta-train-task) test_loss: 0.141462, test_acc: 0.721162\n",
      "# 40  (meta-test-task) test_loss: 1.595633, test_acc: 0.565789\n"
     ]
    },
    {
     "name": "stderr",
     "output_type": "stream",
     "text": [
      "Meta Train: 100%|█| 96/96 [00:53<00:00,  1.79it/s, epoch=5, train_loss=0.028, train_acc=1.000]\n",
      "Meta Test : 100%|█| 20/20 [00:01<00:00, 19.30it/s, epoch=5, train_loss=0.028, train_acc=1.000]\n"
     ]
    },
    {
     "name": "stdout",
     "output_type": "stream",
     "text": [
      "# 41 (meta-train-task) test_loss: 0.140522, test_acc: 0.725000\n",
      "# 41  (meta-test-task) test_loss: 1.584411, test_acc: 0.563947\n"
     ]
    },
    {
     "name": "stderr",
     "output_type": "stream",
     "text": [
      "Meta Train: 100%|█| 96/96 [00:53<00:00,  1.79it/s, epoch=5, train_loss=0.029, train_acc=1.000]\n",
      "Meta Test : 100%|█| 20/20 [00:00<00:00, 20.10it/s, epoch=5, train_loss=0.039, train_acc=1.000]\n"
     ]
    },
    {
     "name": "stdout",
     "output_type": "stream",
     "text": [
      "# 42 (meta-train-task) test_loss: 0.139840, test_acc: 0.728344\n",
      "# 42  (meta-test-task) test_loss: 1.611404, test_acc: 0.538421\n"
     ]
    },
    {
     "name": "stderr",
     "output_type": "stream",
     "text": [
      "Meta Train: 100%|█| 96/96 [00:53<00:00,  1.79it/s, epoch=5, train_loss=0.025, train_acc=1.000]\n",
      "Meta Test : 100%|█| 20/20 [00:01<00:00, 19.09it/s, epoch=5, train_loss=0.032, train_acc=1.000]\n"
     ]
    },
    {
     "name": "stdout",
     "output_type": "stream",
     "text": [
      "# 43 (meta-train-task) test_loss: 0.139521, test_acc: 0.726042\n",
      "# 43  (meta-test-task) test_loss: 1.612095, test_acc: 0.540789\n"
     ]
    },
    {
     "name": "stderr",
     "output_type": "stream",
     "text": [
      "Meta Train: 100%|█| 96/96 [00:53<00:00,  1.78it/s, epoch=5, train_loss=0.029, train_acc=1.000]\n",
      "Meta Test : 100%|█| 20/20 [00:01<00:00, 18.99it/s, epoch=5, train_loss=0.020, train_acc=1.000]\n"
     ]
    },
    {
     "name": "stdout",
     "output_type": "stream",
     "text": [
      "# 44 (meta-train-task) test_loss: 0.137773, test_acc: 0.732072\n",
      "# 44  (meta-test-task) test_loss: 1.552411, test_acc: 0.568684\n"
     ]
    },
    {
     "name": "stderr",
     "output_type": "stream",
     "text": [
      "Meta Train: 100%|█| 96/96 [00:53<00:00,  1.78it/s, epoch=5, train_loss=0.023, train_acc=1.000]\n",
      "Meta Test : 100%|█| 20/20 [00:01<00:00, 19.07it/s, epoch=5, train_loss=0.018, train_acc=1.000]\n"
     ]
    },
    {
     "name": "stdout",
     "output_type": "stream",
     "text": [
      "# 45 (meta-train-task) test_loss: 0.137361, test_acc: 0.731908\n",
      "# 45  (meta-test-task) test_loss: 1.533529, test_acc: 0.587368\n"
     ]
    },
    {
     "name": "stderr",
     "output_type": "stream",
     "text": [
      "Meta Train: 100%|█| 96/96 [00:54<00:00,  1.77it/s, epoch=5, train_loss=0.023, train_acc=1.000]\n",
      "Meta Test : 100%|█| 20/20 [00:01<00:00, 18.74it/s, epoch=5, train_loss=0.028, train_acc=1.000]\n"
     ]
    },
    {
     "name": "stdout",
     "output_type": "stream",
     "text": [
      "# 46 (meta-train-task) test_loss: 0.136680, test_acc: 0.740132\n",
      "# 46  (meta-test-task) test_loss: 1.528798, test_acc: 0.588684\n"
     ]
    },
    {
     "name": "stderr",
     "output_type": "stream",
     "text": [
      "Meta Train: 100%|█| 96/96 [00:53<00:00,  1.79it/s, epoch=5, train_loss=0.027, train_acc=1.000]\n",
      "Meta Test : 100%|█| 20/20 [00:01<00:00, 19.33it/s, epoch=5, train_loss=0.024, train_acc=1.000]\n"
     ]
    },
    {
     "name": "stdout",
     "output_type": "stream",
     "text": [
      "# 47 (meta-train-task) test_loss: 0.135871, test_acc: 0.738980\n",
      "# 47  (meta-test-task) test_loss: 1.578581, test_acc: 0.550000\n"
     ]
    },
    {
     "name": "stderr",
     "output_type": "stream",
     "text": [
      "Meta Train: 100%|█| 96/96 [00:53<00:00,  1.79it/s, epoch=5, train_loss=0.024, train_acc=1.000]\n",
      "Meta Test : 100%|█| 20/20 [00:01<00:00, 19.94it/s, epoch=5, train_loss=0.021, train_acc=1.000]\n"
     ]
    },
    {
     "name": "stdout",
     "output_type": "stream",
     "text": [
      "# 48 (meta-train-task) test_loss: 0.134987, test_acc: 0.744189\n",
      "# 48  (meta-test-task) test_loss: 1.550080, test_acc: 0.574474\n"
     ]
    },
    {
     "name": "stderr",
     "output_type": "stream",
     "text": [
      "Meta Train: 100%|█| 96/96 [00:53<00:00,  1.79it/s, epoch=5, train_loss=0.029, train_acc=1.000]\n",
      "Meta Test : 100%|█| 20/20 [00:01<00:00, 19.07it/s, epoch=5, train_loss=0.022, train_acc=1.000]\n"
     ]
    },
    {
     "name": "stdout",
     "output_type": "stream",
     "text": [
      "# 49 (meta-train-task) test_loss: 0.135039, test_acc: 0.739254\n",
      "# 49  (meta-test-task) test_loss: 1.504745, test_acc: 0.603947\n"
     ]
    },
    {
     "name": "stderr",
     "output_type": "stream",
     "text": [
      "Meta Train: 100%|█| 96/96 [00:53<00:00,  1.78it/s, epoch=5, train_loss=0.020, train_acc=1.000]\n",
      "Meta Test : 100%|█| 20/20 [00:01<00:00, 16.97it/s, epoch=5, train_loss=0.024, train_acc=1.000]\n"
     ]
    },
    {
     "name": "stdout",
     "output_type": "stream",
     "text": [
      "# 50 (meta-train-task) test_loss: 0.134265, test_acc: 0.741338\n",
      "# 50  (meta-test-task) test_loss: 1.519984, test_acc: 0.580263\n"
     ]
    },
    {
     "name": "stderr",
     "output_type": "stream",
     "text": [
      "Meta Train: 100%|█| 96/96 [00:54<00:00,  1.78it/s, epoch=5, train_loss=0.020, train_acc=1.000]\n",
      "Meta Test : 100%|█| 20/20 [00:01<00:00, 19.08it/s, epoch=5, train_loss=0.022, train_acc=1.000]\n"
     ]
    },
    {
     "name": "stdout",
     "output_type": "stream",
     "text": [
      "# 51 (meta-train-task) test_loss: 0.134654, test_acc: 0.737116\n",
      "# 51  (meta-test-task) test_loss: 1.559473, test_acc: 0.556316\n"
     ]
    },
    {
     "name": "stderr",
     "output_type": "stream",
     "text": [
      "Meta Train: 100%|█| 96/96 [00:53<00:00,  1.78it/s, epoch=5, train_loss=0.022, train_acc=1.000]\n",
      "Meta Test : 100%|█| 20/20 [00:01<00:00, 19.78it/s, epoch=5, train_loss=0.022, train_acc=1.000]\n"
     ]
    },
    {
     "name": "stdout",
     "output_type": "stream",
     "text": [
      "# 52 (meta-train-task) test_loss: 0.132252, test_acc: 0.756305\n",
      "# 52  (meta-test-task) test_loss: 1.495459, test_acc: 0.598421\n"
     ]
    },
    {
     "name": "stderr",
     "output_type": "stream",
     "text": [
      "Meta Train: 100%|█| 96/96 [00:53<00:00,  1.79it/s, epoch=5, train_loss=0.027, train_acc=1.000]\n",
      "Meta Test : 100%|█| 20/20 [00:01<00:00, 19.10it/s, epoch=5, train_loss=0.020, train_acc=1.000]\n"
     ]
    },
    {
     "name": "stdout",
     "output_type": "stream",
     "text": [
      "# 53 (meta-train-task) test_loss: 0.132195, test_acc: 0.745998\n",
      "# 53  (meta-test-task) test_loss: 1.520520, test_acc: 0.587895\n"
     ]
    },
    {
     "name": "stderr",
     "output_type": "stream",
     "text": [
      "Meta Train: 100%|█| 96/96 [00:55<00:00,  1.72it/s, epoch=5, train_loss=0.022, train_acc=1.000]\n",
      "Meta Test : 100%|█| 20/20 [00:01<00:00, 18.02it/s, epoch=5, train_loss=0.029, train_acc=1.000]\n"
     ]
    },
    {
     "name": "stdout",
     "output_type": "stream",
     "text": [
      "# 54 (meta-train-task) test_loss: 0.132207, test_acc: 0.752961\n",
      "# 54  (meta-test-task) test_loss: 1.545399, test_acc: 0.572105\n"
     ]
    },
    {
     "name": "stderr",
     "output_type": "stream",
     "text": [
      "Meta Train: 100%|█| 96/96 [00:54<00:00,  1.75it/s, epoch=5, train_loss=0.021, train_acc=1.000]\n",
      "Meta Test : 100%|█| 20/20 [00:01<00:00, 19.18it/s, epoch=5, train_loss=0.018, train_acc=1.000]\n"
     ]
    },
    {
     "name": "stdout",
     "output_type": "stream",
     "text": [
      "# 55 (meta-train-task) test_loss: 0.131926, test_acc: 0.751864\n",
      "# 55  (meta-test-task) test_loss: 1.519200, test_acc: 0.576053\n"
     ]
    },
    {
     "name": "stderr",
     "output_type": "stream",
     "text": [
      "Meta Train: 100%|█| 96/96 [00:54<00:00,  1.75it/s, epoch=5, train_loss=0.023, train_acc=1.000]\n",
      "Meta Test : 100%|█| 20/20 [00:01<00:00, 18.52it/s, epoch=5, train_loss=0.019, train_acc=1.000]\n"
     ]
    },
    {
     "name": "stdout",
     "output_type": "stream",
     "text": [
      "# 56 (meta-train-task) test_loss: 0.131695, test_acc: 0.749781\n",
      "# 56  (meta-test-task) test_loss: 1.487680, test_acc: 0.603684\n"
     ]
    },
    {
     "name": "stderr",
     "output_type": "stream",
     "text": [
      "Meta Train: 100%|█| 96/96 [00:55<00:00,  1.72it/s, epoch=5, train_loss=0.024, train_acc=1.000]\n",
      "Meta Test : 100%|█| 20/20 [00:01<00:00, 18.14it/s, epoch=5, train_loss=0.027, train_acc=1.000]\n"
     ]
    },
    {
     "name": "stdout",
     "output_type": "stream",
     "text": [
      "# 57 (meta-train-task) test_loss: 0.130591, test_acc: 0.752303\n",
      "# 57  (meta-test-task) test_loss: 1.413840, test_acc: 0.655526\n"
     ]
    },
    {
     "name": "stderr",
     "output_type": "stream",
     "text": [
      "Meta Train: 100%|█| 96/96 [00:54<00:00,  1.75it/s, epoch=5, train_loss=0.025, train_acc=1.000]\n",
      "Meta Test : 100%|█| 20/20 [00:01<00:00, 16.02it/s, epoch=5, train_loss=0.019, train_acc=1.000]\n"
     ]
    },
    {
     "name": "stdout",
     "output_type": "stream",
     "text": [
      "# 58 (meta-train-task) test_loss: 0.130868, test_acc: 0.752577\n",
      "# 58  (meta-test-task) test_loss: 1.502357, test_acc: 0.580263\n"
     ]
    },
    {
     "name": "stderr",
     "output_type": "stream",
     "text": [
      "Meta Train: 100%|█| 96/96 [00:55<00:00,  1.74it/s, epoch=5, train_loss=0.019, train_acc=1.000]\n",
      "Meta Test : 100%|█| 20/20 [00:01<00:00, 19.32it/s, epoch=5, train_loss=0.024, train_acc=1.000]\n"
     ]
    },
    {
     "name": "stdout",
     "output_type": "stream",
     "text": [
      "# 59 (meta-train-task) test_loss: 0.129518, test_acc: 0.756524\n",
      "# 59  (meta-test-task) test_loss: 1.474765, test_acc: 0.602632\n"
     ]
    },
    {
     "name": "stderr",
     "output_type": "stream",
     "text": [
      "Meta Train: 100%|█| 96/96 [00:55<00:00,  1.73it/s, epoch=5, train_loss=0.018, train_acc=1.000]\n",
      "Meta Test : 100%|█| 20/20 [00:01<00:00, 17.40it/s, epoch=5, train_loss=0.034, train_acc=1.000]\n"
     ]
    },
    {
     "name": "stdout",
     "output_type": "stream",
     "text": [
      "# 60 (meta-train-task) test_loss: 0.129613, test_acc: 0.754057\n",
      "# 60  (meta-test-task) test_loss: 1.496779, test_acc: 0.595263\n"
     ]
    },
    {
     "name": "stderr",
     "output_type": "stream",
     "text": [
      "Meta Train: 100%|█| 96/96 [00:55<00:00,  1.74it/s, epoch=5, train_loss=0.018, train_acc=1.000]\n",
      "Meta Test : 100%|█| 20/20 [00:01<00:00, 18.23it/s, epoch=5, train_loss=0.020, train_acc=1.000]\n"
     ]
    },
    {
     "name": "stdout",
     "output_type": "stream",
     "text": [
      "# 61 (meta-train-task) test_loss: 0.129913, test_acc: 0.751700\n",
      "# 61  (meta-test-task) test_loss: 1.484444, test_acc: 0.597895\n"
     ]
    },
    {
     "name": "stderr",
     "output_type": "stream",
     "text": [
      "Meta Train: 100%|█| 96/96 [00:54<00:00,  1.76it/s, epoch=5, train_loss=0.018, train_acc=1.000]\n",
      "Meta Test : 100%|█| 20/20 [00:00<00:00, 20.02it/s, epoch=5, train_loss=0.018, train_acc=1.000]\n"
     ]
    },
    {
     "name": "stdout",
     "output_type": "stream",
     "text": [
      "# 62 (meta-train-task) test_loss: 0.128196, test_acc: 0.757675\n",
      "# 62  (meta-test-task) test_loss: 1.502008, test_acc: 0.590789\n"
     ]
    },
    {
     "name": "stderr",
     "output_type": "stream",
     "text": [
      "Meta Train: 100%|█| 96/96 [00:54<00:00,  1.77it/s, epoch=5, train_loss=0.026, train_acc=1.000]\n",
      "Meta Test : 100%|█| 20/20 [00:01<00:00, 18.62it/s, epoch=5, train_loss=0.018, train_acc=1.000]\n"
     ]
    },
    {
     "name": "stdout",
     "output_type": "stream",
     "text": [
      "# 63 (meta-train-task) test_loss: 0.128536, test_acc: 0.764200\n",
      "# 63  (meta-test-task) test_loss: 1.496064, test_acc: 0.593158\n"
     ]
    },
    {
     "name": "stderr",
     "output_type": "stream",
     "text": [
      "Meta Train: 100%|█| 96/96 [00:54<00:00,  1.75it/s, epoch=5, train_loss=0.021, train_acc=1.000]\n",
      "Meta Test : 100%|█| 20/20 [00:01<00:00, 19.07it/s, epoch=5, train_loss=0.021, train_acc=1.000]\n"
     ]
    },
    {
     "name": "stdout",
     "output_type": "stream",
     "text": [
      "# 64 (meta-train-task) test_loss: 0.126218, test_acc: 0.768092\n",
      "# 64  (meta-test-task) test_loss: 1.429135, test_acc: 0.630526\n"
     ]
    },
    {
     "name": "stderr",
     "output_type": "stream",
     "text": [
      "Meta Train: 100%|█| 96/96 [00:53<00:00,  1.78it/s, epoch=5, train_loss=0.020, train_acc=1.000]\n",
      "Meta Test : 100%|█| 20/20 [00:00<00:00, 20.14it/s, epoch=5, train_loss=0.017, train_acc=1.000]\n"
     ]
    },
    {
     "name": "stdout",
     "output_type": "stream",
     "text": [
      "# 65 (meta-train-task) test_loss: 0.126470, test_acc: 0.768860\n",
      "# 65  (meta-test-task) test_loss: 1.459425, test_acc: 0.617368\n"
     ]
    },
    {
     "name": "stderr",
     "output_type": "stream",
     "text": [
      "Meta Train: 100%|█| 96/96 [00:55<00:00,  1.74it/s, epoch=5, train_loss=0.017, train_acc=1.000]\n",
      "Meta Test : 100%|█| 20/20 [00:01<00:00, 17.68it/s, epoch=5, train_loss=0.020, train_acc=1.000]\n"
     ]
    },
    {
     "name": "stdout",
     "output_type": "stream",
     "text": [
      "# 66 (meta-train-task) test_loss: 0.127806, test_acc: 0.760746\n",
      "# 66  (meta-test-task) test_loss: 1.445418, test_acc: 0.621842\n"
     ]
    },
    {
     "name": "stderr",
     "output_type": "stream",
     "text": [
      "Meta Train: 100%|█| 96/96 [00:54<00:00,  1.75it/s, epoch=5, train_loss=0.018, train_acc=1.000]\n",
      "Meta Test : 100%|█| 20/20 [00:01<00:00, 17.34it/s, epoch=5, train_loss=0.016, train_acc=1.000]\n"
     ]
    },
    {
     "name": "stdout",
     "output_type": "stream",
     "text": [
      "# 67 (meta-train-task) test_loss: 0.127034, test_acc: 0.762884\n",
      "# 67  (meta-test-task) test_loss: 1.444577, test_acc: 0.616842\n"
     ]
    },
    {
     "name": "stderr",
     "output_type": "stream",
     "text": [
      "Meta Train: 100%|█| 96/96 [00:55<00:00,  1.72it/s, epoch=5, train_loss=0.020, train_acc=1.000]\n",
      "Meta Test : 100%|█| 20/20 [00:01<00:00, 17.92it/s, epoch=5, train_loss=0.029, train_acc=1.000]\n"
     ]
    },
    {
     "name": "stdout",
     "output_type": "stream",
     "text": [
      "# 68 (meta-train-task) test_loss: 0.126098, test_acc: 0.764638\n",
      "# 68  (meta-test-task) test_loss: 1.396096, test_acc: 0.644211\n"
     ]
    },
    {
     "name": "stderr",
     "output_type": "stream",
     "text": [
      "Meta Train: 100%|█| 96/96 [00:55<00:00,  1.73it/s, epoch=5, train_loss=0.020, train_acc=1.000]\n",
      "Meta Test : 100%|█| 20/20 [00:00<00:00, 20.08it/s, epoch=5, train_loss=0.025, train_acc=1.000]\n"
     ]
    },
    {
     "name": "stdout",
     "output_type": "stream",
     "text": [
      "# 69 (meta-train-task) test_loss: 0.125190, test_acc: 0.770340\n",
      "# 69  (meta-test-task) test_loss: 1.473294, test_acc: 0.589211\n"
     ]
    },
    {
     "name": "stderr",
     "output_type": "stream",
     "text": [
      "Meta Train: 100%|█| 96/96 [00:53<00:00,  1.80it/s, epoch=5, train_loss=0.017, train_acc=1.000]\n",
      "Meta Test : 100%|█| 20/20 [00:01<00:00, 19.06it/s, epoch=5, train_loss=0.018, train_acc=1.000]\n"
     ]
    },
    {
     "name": "stdout",
     "output_type": "stream",
     "text": [
      "# 70 (meta-train-task) test_loss: 0.126056, test_acc: 0.762939\n",
      "# 70  (meta-test-task) test_loss: 1.391053, test_acc: 0.647632\n"
     ]
    },
    {
     "name": "stderr",
     "output_type": "stream",
     "text": [
      "Meta Train: 100%|█| 96/96 [00:54<00:00,  1.76it/s, epoch=5, train_loss=0.024, train_acc=1.000]\n",
      "Meta Test : 100%|█| 20/20 [00:00<00:00, 20.01it/s, epoch=5, train_loss=0.018, train_acc=1.000]\n"
     ]
    },
    {
     "name": "stdout",
     "output_type": "stream",
     "text": [
      "# 71 (meta-train-task) test_loss: 0.124453, test_acc: 0.773246\n",
      "# 71  (meta-test-task) test_loss: 1.443172, test_acc: 0.621842\n"
     ]
    },
    {
     "name": "stderr",
     "output_type": "stream",
     "text": [
      "Meta Train: 100%|█| 96/96 [00:55<00:00,  1.73it/s, epoch=5, train_loss=0.022, train_acc=1.000]\n",
      "Meta Test : 100%|█| 20/20 [00:01<00:00, 18.20it/s, epoch=5, train_loss=0.019, train_acc=1.000]\n"
     ]
    },
    {
     "name": "stdout",
     "output_type": "stream",
     "text": [
      "# 72 (meta-train-task) test_loss: 0.124448, test_acc: 0.775877\n",
      "# 72  (meta-test-task) test_loss: 1.529997, test_acc: 0.563158\n"
     ]
    },
    {
     "name": "stderr",
     "output_type": "stream",
     "text": [
      "Meta Train: 100%|█| 96/96 [00:55<00:00,  1.74it/s, epoch=5, train_loss=0.021, train_acc=1.000]\n",
      "Meta Test : 100%|█| 20/20 [00:01<00:00, 17.58it/s, epoch=5, train_loss=0.021, train_acc=1.000]\n"
     ]
    },
    {
     "name": "stdout",
     "output_type": "stream",
     "text": [
      "# 73 (meta-train-task) test_loss: 0.124424, test_acc: 0.770011\n",
      "# 73  (meta-test-task) test_loss: 1.488569, test_acc: 0.605000\n"
     ]
    },
    {
     "name": "stderr",
     "output_type": "stream",
     "text": [
      "Meta Train: 100%|█| 96/96 [00:55<00:00,  1.73it/s, epoch=5, train_loss=0.019, train_acc=1.000]\n",
      "Meta Test : 100%|█| 20/20 [00:01<00:00, 18.06it/s, epoch=5, train_loss=0.017, train_acc=1.000]\n"
     ]
    },
    {
     "name": "stdout",
     "output_type": "stream",
     "text": [
      "# 74 (meta-train-task) test_loss: 0.123296, test_acc: 0.778070\n",
      "# 74  (meta-test-task) test_loss: 1.439446, test_acc: 0.601842\n"
     ]
    },
    {
     "name": "stderr",
     "output_type": "stream",
     "text": [
      "Meta Train: 100%|█| 96/96 [00:54<00:00,  1.77it/s, epoch=5, train_loss=0.024, train_acc=1.000]\n",
      "Meta Test : 100%|█| 20/20 [00:01<00:00, 18.02it/s, epoch=5, train_loss=0.018, train_acc=1.000]\n"
     ]
    },
    {
     "name": "stdout",
     "output_type": "stream",
     "text": [
      "# 75 (meta-train-task) test_loss: 0.123020, test_acc: 0.772807\n",
      "# 75  (meta-test-task) test_loss: 1.458687, test_acc: 0.614211\n"
     ]
    },
    {
     "name": "stderr",
     "output_type": "stream",
     "text": [
      "Meta Train: 100%|█| 96/96 [00:54<00:00,  1.77it/s, epoch=5, train_loss=0.028, train_acc=1.000]\n",
      "Meta Test : 100%|█| 20/20 [00:01<00:00, 19.97it/s, epoch=5, train_loss=0.027, train_acc=1.000]\n"
     ]
    },
    {
     "name": "stdout",
     "output_type": "stream",
     "text": [
      "# 76 (meta-train-task) test_loss: 0.122026, test_acc: 0.781140\n",
      "# 76  (meta-test-task) test_loss: 1.407982, test_acc: 0.638684\n"
     ]
    },
    {
     "name": "stderr",
     "output_type": "stream",
     "text": [
      "Meta Train: 100%|█| 96/96 [00:54<00:00,  1.77it/s, epoch=5, train_loss=0.014, train_acc=1.000]\n",
      "Meta Test : 100%|█| 20/20 [00:01<00:00, 19.00it/s, epoch=5, train_loss=0.017, train_acc=1.000]\n"
     ]
    },
    {
     "name": "stdout",
     "output_type": "stream",
     "text": [
      "# 77 (meta-train-task) test_loss: 0.123119, test_acc: 0.779002\n",
      "# 77  (meta-test-task) test_loss: 1.437166, test_acc: 0.616316\n"
     ]
    },
    {
     "name": "stderr",
     "output_type": "stream",
     "text": [
      "Meta Train: 100%|█| 96/96 [00:54<00:00,  1.76it/s, epoch=5, train_loss=0.019, train_acc=1.000]\n",
      "Meta Test : 100%|█| 20/20 [00:01<00:00, 17.93it/s, epoch=5, train_loss=0.015, train_acc=1.000]\n"
     ]
    },
    {
     "name": "stdout",
     "output_type": "stream",
     "text": [
      "# 78 (meta-train-task) test_loss: 0.122463, test_acc: 0.782840\n",
      "# 78  (meta-test-task) test_loss: 1.383113, test_acc: 0.637895\n"
     ]
    },
    {
     "name": "stderr",
     "output_type": "stream",
     "text": [
      "Meta Train: 100%|█| 96/96 [00:54<00:00,  1.75it/s, epoch=5, train_loss=0.017, train_acc=1.000]\n",
      "Meta Test : 100%|█| 20/20 [00:01<00:00, 17.33it/s, epoch=5, train_loss=0.019, train_acc=1.000]\n"
     ]
    },
    {
     "name": "stdout",
     "output_type": "stream",
     "text": [
      "# 79 (meta-train-task) test_loss: 0.122271, test_acc: 0.778673\n",
      "# 79  (meta-test-task) test_loss: 1.419720, test_acc: 0.621053\n"
     ]
    },
    {
     "name": "stderr",
     "output_type": "stream",
     "text": [
      "Meta Train: 100%|█| 96/96 [00:54<00:00,  1.77it/s, epoch=5, train_loss=0.016, train_acc=1.000]\n",
      "Meta Test : 100%|█| 20/20 [00:01<00:00, 17.55it/s, epoch=5, train_loss=0.019, train_acc=1.000]\n"
     ]
    },
    {
     "name": "stdout",
     "output_type": "stream",
     "text": [
      "# 80 (meta-train-task) test_loss: 0.121146, test_acc: 0.780702\n",
      "# 80  (meta-test-task) test_loss: 1.473297, test_acc: 0.600000\n"
     ]
    },
    {
     "name": "stderr",
     "output_type": "stream",
     "text": [
      "Meta Train: 100%|█| 96/96 [00:54<00:00,  1.77it/s, epoch=5, train_loss=0.014, train_acc=1.000]\n",
      "Meta Test : 100%|█| 20/20 [00:01<00:00, 18.60it/s, epoch=5, train_loss=0.021, train_acc=1.000]\n"
     ]
    },
    {
     "name": "stdout",
     "output_type": "stream",
     "text": [
      "# 81 (meta-train-task) test_loss: 0.123268, test_acc: 0.765735\n",
      "# 81  (meta-test-task) test_loss: 1.423295, test_acc: 0.615000\n"
     ]
    },
    {
     "name": "stderr",
     "output_type": "stream",
     "text": [
      "Meta Train: 100%|█| 96/96 [00:54<00:00,  1.77it/s, epoch=5, train_loss=0.018, train_acc=1.000]\n",
      "Meta Test : 100%|█| 20/20 [00:01<00:00, 17.89it/s, epoch=5, train_loss=0.015, train_acc=1.000]\n"
     ]
    },
    {
     "name": "stdout",
     "output_type": "stream",
     "text": [
      "# 82 (meta-train-task) test_loss: 0.120684, test_acc: 0.786787\n",
      "# 82  (meta-test-task) test_loss: 1.418467, test_acc: 0.622632\n"
     ]
    },
    {
     "name": "stderr",
     "output_type": "stream",
     "text": [
      "Meta Train: 100%|█| 96/96 [00:57<00:00,  1.68it/s, epoch=5, train_loss=0.018, train_acc=1.000]\n",
      "Meta Test : 100%|█| 20/20 [00:01<00:00, 16.46it/s, epoch=5, train_loss=0.023, train_acc=1.000]\n"
     ]
    },
    {
     "name": "stdout",
     "output_type": "stream",
     "text": [
      "# 83 (meta-train-task) test_loss: 0.120222, test_acc: 0.785033\n",
      "# 83  (meta-test-task) test_loss: 1.451127, test_acc: 0.613158\n"
     ]
    },
    {
     "name": "stderr",
     "output_type": "stream",
     "text": [
      "Meta Train: 100%|█| 96/96 [00:58<00:00,  1.64it/s, epoch=5, train_loss=0.014, train_acc=1.000]\n",
      "Meta Test : 100%|█| 20/20 [00:01<00:00, 16.77it/s, epoch=5, train_loss=0.016, train_acc=1.000]\n"
     ]
    },
    {
     "name": "stdout",
     "output_type": "stream",
     "text": [
      "# 84 (meta-train-task) test_loss: 0.119557, test_acc: 0.789145\n",
      "# 84  (meta-test-task) test_loss: 1.384123, test_acc: 0.639737\n"
     ]
    },
    {
     "name": "stderr",
     "output_type": "stream",
     "text": [
      "Meta Train: 100%|█| 96/96 [00:58<00:00,  1.65it/s, epoch=5, train_loss=0.017, train_acc=1.000]\n",
      "Meta Test : 100%|█| 20/20 [00:01<00:00, 16.86it/s, epoch=5, train_loss=0.019, train_acc=1.000]\n"
     ]
    },
    {
     "name": "stdout",
     "output_type": "stream",
     "text": [
      "# 85 (meta-train-task) test_loss: 0.118833, test_acc: 0.789254\n",
      "# 85  (meta-test-task) test_loss: 1.445385, test_acc: 0.607105\n"
     ]
    },
    {
     "name": "stderr",
     "output_type": "stream",
     "text": [
      "Meta Train: 100%|█| 96/96 [00:58<00:00,  1.65it/s, epoch=5, train_loss=0.016, train_acc=1.000]\n",
      "Meta Test : 100%|█| 20/20 [00:01<00:00, 17.06it/s, epoch=5, train_loss=0.013, train_acc=1.000]\n"
     ]
    },
    {
     "name": "stdout",
     "output_type": "stream",
     "text": [
      "# 86 (meta-train-task) test_loss: 0.118434, test_acc: 0.791173\n",
      "# 86  (meta-test-task) test_loss: 1.389583, test_acc: 0.641579\n"
     ]
    },
    {
     "name": "stderr",
     "output_type": "stream",
     "text": [
      "Meta Train: 100%|█| 96/96 [00:58<00:00,  1.65it/s, epoch=5, train_loss=0.021, train_acc=1.000]\n",
      "Meta Test : 100%|█| 20/20 [00:01<00:00, 15.96it/s, epoch=5, train_loss=0.012, train_acc=1.000]\n"
     ]
    },
    {
     "name": "stdout",
     "output_type": "stream",
     "text": [
      "# 87 (meta-train-task) test_loss: 0.120093, test_acc: 0.784046\n",
      "# 87  (meta-test-task) test_loss: 1.376685, test_acc: 0.650789\n"
     ]
    },
    {
     "name": "stderr",
     "output_type": "stream",
     "text": [
      "Meta Train: 100%|█| 96/96 [00:56<00:00,  1.71it/s, epoch=5, train_loss=0.018, train_acc=1.000]\n",
      "Meta Test : 100%|█| 20/20 [00:01<00:00, 16.64it/s, epoch=5, train_loss=0.016, train_acc=1.000]\n"
     ]
    },
    {
     "name": "stdout",
     "output_type": "stream",
     "text": [
      "# 88 (meta-train-task) test_loss: 0.119415, test_acc: 0.784430\n",
      "# 88  (meta-test-task) test_loss: 1.389195, test_acc: 0.646579\n"
     ]
    },
    {
     "name": "stderr",
     "output_type": "stream",
     "text": [
      "Meta Train: 100%|█| 96/96 [00:56<00:00,  1.69it/s, epoch=5, train_loss=0.016, train_acc=1.000]\n",
      "Meta Test : 100%|█| 20/20 [00:01<00:00, 17.49it/s, epoch=5, train_loss=0.010, train_acc=1.000]\n"
     ]
    },
    {
     "name": "stdout",
     "output_type": "stream",
     "text": [
      "# 89 (meta-train-task) test_loss: 0.118833, test_acc: 0.784430\n",
      "# 89  (meta-test-task) test_loss: 1.385582, test_acc: 0.633947\n"
     ]
    },
    {
     "name": "stderr",
     "output_type": "stream",
     "text": [
      "Meta Train: 100%|█| 96/96 [00:56<00:00,  1.70it/s, epoch=5, train_loss=0.015, train_acc=1.000]\n",
      "Meta Test : 100%|█| 20/20 [00:01<00:00, 17.80it/s, epoch=5, train_loss=0.011, train_acc=1.000]\n"
     ]
    },
    {
     "name": "stdout",
     "output_type": "stream",
     "text": [
      "# 90 (meta-train-task) test_loss: 0.119683, test_acc: 0.785033\n",
      "# 90  (meta-test-task) test_loss: 1.413599, test_acc: 0.620263\n"
     ]
    },
    {
     "name": "stderr",
     "output_type": "stream",
     "text": [
      "Meta Train: 100%|█| 96/96 [00:54<00:00,  1.76it/s, epoch=5, train_loss=0.016, train_acc=1.000]\n",
      "Meta Test : 100%|█| 20/20 [00:01<00:00, 18.69it/s, epoch=5, train_loss=0.017, train_acc=1.000]\n"
     ]
    },
    {
     "name": "stdout",
     "output_type": "stream",
     "text": [
      "# 91 (meta-train-task) test_loss: 0.117508, test_acc: 0.797807\n",
      "# 91  (meta-test-task) test_loss: 1.410406, test_acc: 0.625263\n"
     ]
    },
    {
     "name": "stderr",
     "output_type": "stream",
     "text": [
      "Meta Train: 100%|█| 96/96 [00:55<00:00,  1.73it/s, epoch=5, train_loss=0.021, train_acc=1.000]\n",
      "Meta Test : 100%|█| 20/20 [00:01<00:00, 17.28it/s, epoch=5, train_loss=0.012, train_acc=1.000]\n"
     ]
    },
    {
     "name": "stdout",
     "output_type": "stream",
     "text": [
      "# 92 (meta-train-task) test_loss: 0.118387, test_acc: 0.788048\n",
      "# 92  (meta-test-task) test_loss: 1.392683, test_acc: 0.618421\n"
     ]
    },
    {
     "name": "stderr",
     "output_type": "stream",
     "text": [
      "Meta Train: 100%|█| 96/96 [00:55<00:00,  1.73it/s, epoch=5, train_loss=0.014, train_acc=1.000]\n",
      "Meta Test : 100%|█| 20/20 [00:01<00:00, 17.84it/s, epoch=5, train_loss=0.018, train_acc=1.000]\n"
     ]
    },
    {
     "name": "stdout",
     "output_type": "stream",
     "text": [
      "# 93 (meta-train-task) test_loss: 0.117381, test_acc: 0.788377\n",
      "# 93  (meta-test-task) test_loss: 1.384388, test_acc: 0.637105\n"
     ]
    },
    {
     "name": "stderr",
     "output_type": "stream",
     "text": [
      "Meta Train: 100%|█| 96/96 [00:54<00:00,  1.77it/s, epoch=5, train_loss=0.022, train_acc=1.000]\n",
      "Meta Test : 100%|█| 20/20 [00:01<00:00, 18.10it/s, epoch=5, train_loss=0.020, train_acc=1.000]\n"
     ]
    },
    {
     "name": "stdout",
     "output_type": "stream",
     "text": [
      "# 94 (meta-train-task) test_loss: 0.116998, test_acc: 0.797917\n",
      "# 94  (meta-test-task) test_loss: 1.423774, test_acc: 0.598421\n"
     ]
    },
    {
     "name": "stderr",
     "output_type": "stream",
     "text": [
      "Meta Train: 100%|█| 96/96 [00:54<00:00,  1.77it/s, epoch=5, train_loss=0.014, train_acc=1.000]\n",
      "Meta Test : 100%|█| 20/20 [00:01<00:00, 18.76it/s, epoch=5, train_loss=0.014, train_acc=1.000]\n"
     ]
    },
    {
     "name": "stdout",
     "output_type": "stream",
     "text": [
      "# 95 (meta-train-task) test_loss: 0.117835, test_acc: 0.785691\n",
      "# 95  (meta-test-task) test_loss: 1.426618, test_acc: 0.597105\n"
     ]
    },
    {
     "name": "stderr",
     "output_type": "stream",
     "text": [
      "Meta Train: 100%|█| 96/96 [00:52<00:00,  1.82it/s, epoch=5, train_loss=0.014, train_acc=1.000]\n",
      "Meta Test : 100%|█| 20/20 [00:01<00:00, 18.21it/s, epoch=5, train_loss=0.013, train_acc=1.000]\n"
     ]
    },
    {
     "name": "stdout",
     "output_type": "stream",
     "text": [
      "# 96 (meta-train-task) test_loss: 0.116409, test_acc: 0.793476\n",
      "# 96  (meta-test-task) test_loss: 1.359833, test_acc: 0.644474\n"
     ]
    },
    {
     "name": "stderr",
     "output_type": "stream",
     "text": [
      "Meta Train: 100%|█| 96/96 [00:52<00:00,  1.82it/s, epoch=5, train_loss=0.012, train_acc=1.000]\n",
      "Meta Test : 100%|█| 20/20 [00:01<00:00, 18.94it/s, epoch=5, train_loss=0.012, train_acc=1.000]\n"
     ]
    },
    {
     "name": "stdout",
     "output_type": "stream",
     "text": [
      "# 97 (meta-train-task) test_loss: 0.114627, test_acc: 0.804660\n",
      "# 97  (meta-test-task) test_loss: 1.330210, test_acc: 0.666316\n"
     ]
    },
    {
     "name": "stderr",
     "output_type": "stream",
     "text": [
      "Meta Train: 100%|█| 96/96 [00:52<00:00,  1.82it/s, epoch=5, train_loss=0.015, train_acc=1.000]\n",
      "Meta Test : 100%|█| 20/20 [00:01<00:00, 18.94it/s, epoch=5, train_loss=0.020, train_acc=1.000]\n"
     ]
    },
    {
     "name": "stdout",
     "output_type": "stream",
     "text": [
      "# 98 (meta-train-task) test_loss: 0.116585, test_acc: 0.795724\n",
      "# 98  (meta-test-task) test_loss: 1.354147, test_acc: 0.640263\n"
     ]
    },
    {
     "name": "stderr",
     "output_type": "stream",
     "text": [
      "Meta Train: 100%|█| 96/96 [00:52<00:00,  1.82it/s, epoch=5, train_loss=0.019, train_acc=1.000]\n",
      "Meta Test : 100%|█| 20/20 [00:01<00:00, 18.68it/s, epoch=5, train_loss=0.015, train_acc=1.000]\n"
     ]
    },
    {
     "name": "stdout",
     "output_type": "stream",
     "text": [
      "# 99 (meta-train-task) test_loss: 0.116205, test_acc: 0.793147\n",
      "# 99  (meta-test-task) test_loss: 1.408805, test_acc: 0.618947\n"
     ]
    },
    {
     "name": "stderr",
     "output_type": "stream",
     "text": [
      "Meta Train: 100%|█| 96/96 [00:53<00:00,  1.81it/s, epoch=5, train_loss=0.016, train_acc=1.000]\n",
      "Meta Test : 100%|█| 20/20 [00:01<00:00, 18.51it/s, epoch=5, train_loss=0.014, train_acc=1.000]\n"
     ]
    },
    {
     "name": "stdout",
     "output_type": "stream",
     "text": [
      "# 100 (meta-train-task) test_loss: 0.116348, test_acc: 0.790077\n",
      "# 100  (meta-test-task) test_loss: 1.357095, test_acc: 0.646579\n"
     ]
    },
    {
     "name": "stderr",
     "output_type": "stream",
     "text": [
      "Meta Train: 100%|█| 96/96 [00:53<00:00,  1.79it/s, epoch=5, train_loss=0.016, train_acc=1.000]\n",
      "Meta Test : 100%|█| 20/20 [00:01<00:00, 18.69it/s, epoch=5, train_loss=0.017, train_acc=1.000]\n"
     ]
    },
    {
     "name": "stdout",
     "output_type": "stream",
     "text": [
      "# 101 (meta-train-task) test_loss: 0.115232, test_acc: 0.797094\n",
      "# 101  (meta-test-task) test_loss: 1.375196, test_acc: 0.636053\n"
     ]
    },
    {
     "name": "stderr",
     "output_type": "stream",
     "text": [
      "Meta Train: 100%|█| 96/96 [00:53<00:00,  1.79it/s, epoch=5, train_loss=0.013, train_acc=1.000]\n",
      "Meta Test : 100%|█| 20/20 [00:01<00:00, 18.31it/s, epoch=5, train_loss=0.018, train_acc=1.000]\n"
     ]
    },
    {
     "name": "stdout",
     "output_type": "stream",
     "text": [
      "# 102 (meta-train-task) test_loss: 0.115470, test_acc: 0.789035\n",
      "# 102  (meta-test-task) test_loss: 1.370957, test_acc: 0.633947\n"
     ]
    },
    {
     "name": "stderr",
     "output_type": "stream",
     "text": [
      "Meta Train: 100%|█| 96/96 [00:53<00:00,  1.79it/s, epoch=5, train_loss=0.014, train_acc=1.000]\n",
      "Meta Test : 100%|█| 20/20 [00:01<00:00, 18.57it/s, epoch=5, train_loss=0.016, train_acc=1.000]\n"
     ]
    },
    {
     "name": "stdout",
     "output_type": "stream",
     "text": [
      "# 103 (meta-train-task) test_loss: 0.113800, test_acc: 0.804605\n",
      "# 103  (meta-test-task) test_loss: 1.383275, test_acc: 0.622895\n"
     ]
    },
    {
     "name": "stderr",
     "output_type": "stream",
     "text": [
      "Meta Train: 100%|█| 96/96 [00:53<00:00,  1.80it/s, epoch=5, train_loss=0.017, train_acc=1.000]\n",
      "Meta Test : 100%|█| 20/20 [00:01<00:00, 18.71it/s, epoch=5, train_loss=0.013, train_acc=1.000]\n"
     ]
    },
    {
     "name": "stdout",
     "output_type": "stream",
     "text": [
      "# 104 (meta-train-task) test_loss: 0.113999, test_acc: 0.798794\n",
      "# 104  (meta-test-task) test_loss: 1.369030, test_acc: 0.636579\n"
     ]
    },
    {
     "name": "stderr",
     "output_type": "stream",
     "text": [
      "Meta Train: 100%|█| 96/96 [00:53<00:00,  1.80it/s, epoch=5, train_loss=0.013, train_acc=1.000]\n",
      "Meta Test : 100%|█| 20/20 [00:01<00:00, 18.81it/s, epoch=5, train_loss=0.012, train_acc=1.000]\n"
     ]
    },
    {
     "name": "stdout",
     "output_type": "stream",
     "text": [
      "# 105 (meta-train-task) test_loss: 0.115073, test_acc: 0.790461\n",
      "# 105  (meta-test-task) test_loss: 1.339334, test_acc: 0.653158\n"
     ]
    },
    {
     "name": "stderr",
     "output_type": "stream",
     "text": [
      "Meta Train: 100%|█| 96/96 [00:53<00:00,  1.81it/s, epoch=5, train_loss=0.013, train_acc=1.000]\n",
      "Meta Test : 100%|█| 20/20 [00:01<00:00, 18.71it/s, epoch=5, train_loss=0.018, train_acc=1.000]\n"
     ]
    },
    {
     "name": "stdout",
     "output_type": "stream",
     "text": [
      "# 106 (meta-train-task) test_loss: 0.113026, test_acc: 0.803947\n",
      "# 106  (meta-test-task) test_loss: 1.375080, test_acc: 0.631053\n"
     ]
    },
    {
     "name": "stderr",
     "output_type": "stream",
     "text": [
      "Meta Train: 100%|█| 96/96 [00:52<00:00,  1.82it/s, epoch=5, train_loss=0.017, train_acc=1.000]\n",
      "Meta Test : 100%|█| 20/20 [00:01<00:00, 18.78it/s, epoch=5, train_loss=0.025, train_acc=1.000]\n"
     ]
    },
    {
     "name": "stdout",
     "output_type": "stream",
     "text": [
      "# 107 (meta-train-task) test_loss: 0.113137, test_acc: 0.800274\n",
      "# 107  (meta-test-task) test_loss: 1.406472, test_acc: 0.618421\n"
     ]
    },
    {
     "name": "stderr",
     "output_type": "stream",
     "text": [
      "Meta Train: 100%|█| 96/96 [00:52<00:00,  1.81it/s, epoch=5, train_loss=0.012, train_acc=1.000]\n",
      "Meta Test : 100%|█| 20/20 [00:01<00:00, 17.01it/s, epoch=5, train_loss=0.011, train_acc=1.000]\n"
     ]
    },
    {
     "name": "stdout",
     "output_type": "stream",
     "text": [
      "# 108 (meta-train-task) test_loss: 0.112504, test_acc: 0.808224\n",
      "# 108  (meta-test-task) test_loss: 1.305329, test_acc: 0.662895\n"
     ]
    },
    {
     "name": "stderr",
     "output_type": "stream",
     "text": [
      "Meta Train: 100%|█| 96/96 [00:54<00:00,  1.76it/s, epoch=5, train_loss=0.012, train_acc=1.000]\n",
      "Meta Test : 100%|█| 20/20 [00:01<00:00, 19.69it/s, epoch=5, train_loss=0.010, train_acc=1.000]\n"
     ]
    },
    {
     "name": "stdout",
     "output_type": "stream",
     "text": [
      "# 109 (meta-train-task) test_loss: 0.112523, test_acc: 0.807292\n",
      "# 109  (meta-test-task) test_loss: 1.331515, test_acc: 0.660000\n"
     ]
    },
    {
     "name": "stderr",
     "output_type": "stream",
     "text": [
      "Meta Train: 100%|█| 96/96 [00:53<00:00,  1.79it/s, epoch=5, train_loss=0.014, train_acc=1.000]\n",
      "Meta Test : 100%|█| 20/20 [00:01<00:00, 19.73it/s, epoch=5, train_loss=0.016, train_acc=1.000]\n"
     ]
    },
    {
     "name": "stdout",
     "output_type": "stream",
     "text": [
      "# 110 (meta-train-task) test_loss: 0.111339, test_acc: 0.812007\n",
      "# 110  (meta-test-task) test_loss: 1.330881, test_acc: 0.649211\n"
     ]
    },
    {
     "name": "stderr",
     "output_type": "stream",
     "text": [
      "Meta Train: 100%|█| 96/96 [00:55<00:00,  1.72it/s, epoch=5, train_loss=0.022, train_acc=1.000]\n",
      "Meta Test : 100%|█| 20/20 [00:01<00:00, 18.02it/s, epoch=5, train_loss=0.016, train_acc=1.000]\n"
     ]
    },
    {
     "name": "stdout",
     "output_type": "stream",
     "text": [
      "# 111 (meta-train-task) test_loss: 0.114310, test_acc: 0.795121\n",
      "# 111  (meta-test-task) test_loss: 1.413491, test_acc: 0.611579\n"
     ]
    },
    {
     "name": "stderr",
     "output_type": "stream",
     "text": [
      "Meta Train: 100%|█| 96/96 [00:54<00:00,  1.76it/s, epoch=5, train_loss=0.014, train_acc=1.000]\n",
      "Meta Test : 100%|█| 20/20 [00:01<00:00, 18.53it/s, epoch=5, train_loss=0.012, train_acc=1.000]\n"
     ]
    },
    {
     "name": "stdout",
     "output_type": "stream",
     "text": [
      "# 112 (meta-train-task) test_loss: 0.112117, test_acc: 0.804386\n",
      "# 112  (meta-test-task) test_loss: 1.346890, test_acc: 0.643158\n"
     ]
    },
    {
     "name": "stderr",
     "output_type": "stream",
     "text": [
      "Meta Train: 100%|█| 96/96 [00:54<00:00,  1.77it/s, epoch=5, train_loss=0.012, train_acc=1.000]\n",
      "Meta Test : 100%|█| 20/20 [00:01<00:00, 18.17it/s, epoch=5, train_loss=0.012, train_acc=1.000]\n"
     ]
    },
    {
     "name": "stdout",
     "output_type": "stream",
     "text": [
      "# 113 (meta-train-task) test_loss: 0.111216, test_acc: 0.808169\n",
      "# 113  (meta-test-task) test_loss: 1.303145, test_acc: 0.665263\n"
     ]
    },
    {
     "name": "stderr",
     "output_type": "stream",
     "text": [
      "Meta Train: 100%|█| 96/96 [00:54<00:00,  1.77it/s, epoch=5, train_loss=0.014, train_acc=1.000]\n",
      "Meta Test : 100%|█| 20/20 [00:01<00:00, 16.85it/s, epoch=5, train_loss=0.014, train_acc=1.000]\n"
     ]
    },
    {
     "name": "stdout",
     "output_type": "stream",
     "text": [
      "# 114 (meta-train-task) test_loss: 0.110481, test_acc: 0.812390\n",
      "# 114  (meta-test-task) test_loss: 1.329820, test_acc: 0.658947\n"
     ]
    },
    {
     "name": "stderr",
     "output_type": "stream",
     "text": [
      "Meta Train: 100%|█| 96/96 [00:54<00:00,  1.77it/s, epoch=5, train_loss=0.014, train_acc=1.000]\n",
      "Meta Test : 100%|█| 20/20 [00:01<00:00, 19.95it/s, epoch=5, train_loss=0.015, train_acc=1.000]\n"
     ]
    },
    {
     "name": "stdout",
     "output_type": "stream",
     "text": [
      "# 115 (meta-train-task) test_loss: 0.111097, test_acc: 0.811568\n",
      "# 115  (meta-test-task) test_loss: 1.338322, test_acc: 0.637368\n"
     ]
    },
    {
     "name": "stderr",
     "output_type": "stream",
     "text": [
      "Meta Train: 100%|█| 96/96 [00:53<00:00,  1.79it/s, epoch=5, train_loss=0.014, train_acc=1.000]\n",
      "Meta Test : 100%|█| 20/20 [00:01<00:00, 19.27it/s, epoch=5, train_loss=0.011, train_acc=1.000]\n"
     ]
    },
    {
     "name": "stdout",
     "output_type": "stream",
     "text": [
      "# 116 (meta-train-task) test_loss: 0.111559, test_acc: 0.805208\n",
      "# 116  (meta-test-task) test_loss: 1.367731, test_acc: 0.628684\n"
     ]
    },
    {
     "name": "stderr",
     "output_type": "stream",
     "text": [
      "Meta Train: 100%|█| 96/96 [00:52<00:00,  1.81it/s, epoch=5, train_loss=0.012, train_acc=1.000]\n",
      "Meta Test : 100%|█| 20/20 [00:01<00:00, 19.89it/s, epoch=5, train_loss=0.011, train_acc=1.000]\n"
     ]
    },
    {
     "name": "stdout",
     "output_type": "stream",
     "text": [
      "# 117 (meta-train-task) test_loss: 0.109762, test_acc: 0.810526\n",
      "# 117  (meta-test-task) test_loss: 1.356437, test_acc: 0.643421\n"
     ]
    },
    {
     "name": "stderr",
     "output_type": "stream",
     "text": [
      "Meta Train: 100%|█| 96/96 [00:55<00:00,  1.72it/s, epoch=5, train_loss=0.013, train_acc=1.000]\n",
      "Meta Test : 100%|█| 20/20 [00:01<00:00, 17.91it/s, epoch=5, train_loss=0.016, train_acc=1.000]\n"
     ]
    },
    {
     "name": "stdout",
     "output_type": "stream",
     "text": [
      "# 118 (meta-train-task) test_loss: 0.110639, test_acc: 0.804057\n",
      "# 118  (meta-test-task) test_loss: 1.403723, test_acc: 0.606316\n"
     ]
    },
    {
     "name": "stderr",
     "output_type": "stream",
     "text": [
      "Meta Train: 100%|█| 96/96 [00:55<00:00,  1.72it/s, epoch=5, train_loss=0.020, train_acc=1.000]\n",
      "Meta Test : 100%|█| 20/20 [00:01<00:00, 17.89it/s, epoch=5, train_loss=0.011, train_acc=1.000]\n"
     ]
    },
    {
     "name": "stdout",
     "output_type": "stream",
     "text": [
      "# 119 (meta-train-task) test_loss: 0.110960, test_acc: 0.808882\n",
      "# 119  (meta-test-task) test_loss: 1.325658, test_acc: 0.655526\n"
     ]
    },
    {
     "name": "stderr",
     "output_type": "stream",
     "text": [
      "Meta Train: 100%|█| 96/96 [00:55<00:00,  1.72it/s, epoch=5, train_loss=0.013, train_acc=1.000]\n",
      "Meta Test : 100%|█| 20/20 [00:01<00:00, 17.88it/s, epoch=5, train_loss=0.009, train_acc=1.000]\n"
     ]
    },
    {
     "name": "stdout",
     "output_type": "stream",
     "text": [
      "# 120 (meta-train-task) test_loss: 0.110576, test_acc: 0.800987\n",
      "# 120  (meta-test-task) test_loss: 1.413146, test_acc: 0.603947\n"
     ]
    },
    {
     "name": "stderr",
     "output_type": "stream",
     "text": [
      "Meta Train: 100%|█| 96/96 [00:55<00:00,  1.74it/s, epoch=5, train_loss=0.011, train_acc=1.000]\n",
      "Meta Test : 100%|█| 20/20 [00:01<00:00, 17.99it/s, epoch=5, train_loss=0.009, train_acc=1.000]\n"
     ]
    },
    {
     "name": "stdout",
     "output_type": "stream",
     "text": [
      "# 121 (meta-train-task) test_loss: 0.109395, test_acc: 0.807456\n",
      "# 121  (meta-test-task) test_loss: 1.364058, test_acc: 0.642368\n"
     ]
    },
    {
     "name": "stderr",
     "output_type": "stream",
     "text": [
      "Meta Train: 100%|█| 96/96 [00:55<00:00,  1.74it/s, epoch=5, train_loss=0.012, train_acc=1.000]\n",
      "Meta Test : 100%|█| 20/20 [00:01<00:00, 19.32it/s, epoch=5, train_loss=0.011, train_acc=1.000]\n"
     ]
    },
    {
     "name": "stdout",
     "output_type": "stream",
     "text": [
      "# 122 (meta-train-task) test_loss: 0.107913, test_acc: 0.819353\n",
      "# 122  (meta-test-task) test_loss: 1.352544, test_acc: 0.643421\n"
     ]
    },
    {
     "name": "stderr",
     "output_type": "stream",
     "text": [
      "Meta Train: 100%|█| 96/96 [00:53<00:00,  1.79it/s, epoch=5, train_loss=0.011, train_acc=1.000]\n",
      "Meta Test : 100%|█| 20/20 [00:00<00:00, 20.12it/s, epoch=5, train_loss=0.015, train_acc=1.000]\n"
     ]
    },
    {
     "name": "stdout",
     "output_type": "stream",
     "text": [
      "# 123 (meta-train-task) test_loss: 0.108837, test_acc: 0.812939\n",
      "# 123  (meta-test-task) test_loss: 1.316553, test_acc: 0.645263\n"
     ]
    },
    {
     "name": "stderr",
     "output_type": "stream",
     "text": [
      "Meta Train: 100%|█| 96/96 [00:52<00:00,  1.81it/s, epoch=5, train_loss=0.011, train_acc=1.000]\n",
      "Meta Test : 100%|█| 20/20 [00:01<00:00, 19.79it/s, epoch=5, train_loss=0.013, train_acc=1.000]\n"
     ]
    },
    {
     "name": "stdout",
     "output_type": "stream",
     "text": [
      "# 124 (meta-train-task) test_loss: 0.109774, test_acc: 0.813158\n",
      "# 124  (meta-test-task) test_loss: 1.368528, test_acc: 0.616842\n"
     ]
    },
    {
     "name": "stderr",
     "output_type": "stream",
     "text": [
      "Meta Train: 100%|█| 96/96 [00:52<00:00,  1.82it/s, epoch=5, train_loss=0.015, train_acc=1.000]\n",
      "Meta Test : 100%|█| 20/20 [00:01<00:00, 19.97it/s, epoch=5, train_loss=0.009, train_acc=1.000]\n"
     ]
    },
    {
     "name": "stdout",
     "output_type": "stream",
     "text": [
      "# 125 (meta-train-task) test_loss: 0.108367, test_acc: 0.817544\n",
      "# 125  (meta-test-task) test_loss: 1.341665, test_acc: 0.641842\n"
     ]
    },
    {
     "name": "stderr",
     "output_type": "stream",
     "text": [
      "Meta Train: 100%|█| 96/96 [00:52<00:00,  1.81it/s, epoch=5, train_loss=0.015, train_acc=1.000]\n",
      "Meta Test : 100%|█| 20/20 [00:01<00:00, 19.93it/s, epoch=5, train_loss=0.012, train_acc=1.000]\n"
     ]
    },
    {
     "name": "stdout",
     "output_type": "stream",
     "text": [
      "# 126 (meta-train-task) test_loss: 0.108035, test_acc: 0.818421\n",
      "# 126  (meta-test-task) test_loss: 1.328477, test_acc: 0.650526\n"
     ]
    },
    {
     "name": "stderr",
     "output_type": "stream",
     "text": [
      "Meta Train: 100%|█| 96/96 [00:52<00:00,  1.81it/s, epoch=5, train_loss=0.012, train_acc=1.000]\n",
      "Meta Test : 100%|█| 20/20 [00:01<00:00, 19.87it/s, epoch=5, train_loss=0.011, train_acc=1.000]\n"
     ]
    },
    {
     "name": "stdout",
     "output_type": "stream",
     "text": [
      "# 127 (meta-train-task) test_loss: 0.108017, test_acc: 0.818311\n",
      "# 127  (meta-test-task) test_loss: 1.299897, test_acc: 0.658421\n"
     ]
    },
    {
     "name": "stderr",
     "output_type": "stream",
     "text": [
      "Meta Train: 100%|█| 96/96 [00:53<00:00,  1.80it/s, epoch=5, train_loss=0.011, train_acc=1.000]\n",
      "Meta Test : 100%|█| 20/20 [00:00<00:00, 20.02it/s, epoch=5, train_loss=0.015, train_acc=1.000]\n"
     ]
    },
    {
     "name": "stdout",
     "output_type": "stream",
     "text": [
      "# 128 (meta-train-task) test_loss: 0.108240, test_acc: 0.811129\n",
      "# 128  (meta-test-task) test_loss: 1.316697, test_acc: 0.651316\n"
     ]
    },
    {
     "name": "stderr",
     "output_type": "stream",
     "text": [
      "Meta Train: 100%|█| 96/96 [00:53<00:00,  1.80it/s, epoch=5, train_loss=0.011, train_acc=1.000]\n",
      "Meta Test : 100%|█| 20/20 [00:01<00:00, 19.72it/s, epoch=5, train_loss=0.019, train_acc=1.000]\n"
     ]
    },
    {
     "name": "stdout",
     "output_type": "stream",
     "text": [
      "# 129 (meta-train-task) test_loss: 0.109137, test_acc: 0.804441\n",
      "# 129  (meta-test-task) test_loss: 1.275865, test_acc: 0.674737\n"
     ]
    },
    {
     "name": "stderr",
     "output_type": "stream",
     "text": [
      "Meta Train: 100%|█| 96/96 [00:53<00:00,  1.81it/s, epoch=5, train_loss=0.011, train_acc=1.000]\n",
      "Meta Test : 100%|█| 20/20 [00:01<00:00, 19.62it/s, epoch=5, train_loss=0.011, train_acc=1.000]\n"
     ]
    },
    {
     "name": "stdout",
     "output_type": "stream",
     "text": [
      "# 130 (meta-train-task) test_loss: 0.107164, test_acc: 0.819682\n",
      "# 130  (meta-test-task) test_loss: 1.315163, test_acc: 0.665526\n"
     ]
    },
    {
     "name": "stderr",
     "output_type": "stream",
     "text": [
      "Meta Train: 100%|█| 96/96 [00:53<00:00,  1.81it/s, epoch=5, train_loss=0.013, train_acc=1.000]\n",
      "Meta Test : 100%|█| 20/20 [00:01<00:00, 19.80it/s, epoch=5, train_loss=0.010, train_acc=1.000]\n"
     ]
    },
    {
     "name": "stdout",
     "output_type": "stream",
     "text": [
      "# 131 (meta-train-task) test_loss: 0.108340, test_acc: 0.809211\n",
      "# 131  (meta-test-task) test_loss: 1.339937, test_acc: 0.635000\n"
     ]
    },
    {
     "name": "stderr",
     "output_type": "stream",
     "text": [
      "Meta Train: 100%|█| 96/96 [00:53<00:00,  1.80it/s, epoch=5, train_loss=0.012, train_acc=1.000]\n",
      "Meta Test : 100%|█| 20/20 [00:01<00:00, 19.20it/s, epoch=5, train_loss=0.010, train_acc=1.000]\n"
     ]
    },
    {
     "name": "stdout",
     "output_type": "stream",
     "text": [
      "# 132 (meta-train-task) test_loss: 0.108369, test_acc: 0.808607\n",
      "# 132  (meta-test-task) test_loss: 1.315904, test_acc: 0.645789\n"
     ]
    },
    {
     "name": "stderr",
     "output_type": "stream",
     "text": [
      "Meta Train: 100%|█| 96/96 [00:53<00:00,  1.80it/s, epoch=5, train_loss=0.011, train_acc=1.000]\n",
      "Meta Test : 100%|█| 20/20 [00:01<00:00, 19.77it/s, epoch=5, train_loss=0.007, train_acc=1.000]\n"
     ]
    },
    {
     "name": "stdout",
     "output_type": "stream",
     "text": [
      "# 133 (meta-train-task) test_loss: 0.107455, test_acc: 0.817105\n",
      "# 133  (meta-test-task) test_loss: 1.338559, test_acc: 0.647895\n"
     ]
    },
    {
     "name": "stderr",
     "output_type": "stream",
     "text": [
      "Meta Train: 100%|█| 96/96 [00:53<00:00,  1.80it/s, epoch=5, train_loss=0.012, train_acc=1.000]\n",
      "Meta Test : 100%|█| 20/20 [00:01<00:00, 19.45it/s, epoch=5, train_loss=0.013, train_acc=1.000]\n"
     ]
    },
    {
     "name": "stdout",
     "output_type": "stream",
     "text": [
      "# 134 (meta-train-task) test_loss: 0.107999, test_acc: 0.808991\n",
      "# 134  (meta-test-task) test_loss: 1.320743, test_acc: 0.652895\n"
     ]
    },
    {
     "name": "stderr",
     "output_type": "stream",
     "text": [
      "Meta Train: 100%|█| 96/96 [00:54<00:00,  1.77it/s, epoch=5, train_loss=0.010, train_acc=1.000]\n",
      "Meta Test : 100%|█| 20/20 [00:01<00:00, 19.73it/s, epoch=5, train_loss=0.015, train_acc=1.000]\n"
     ]
    },
    {
     "name": "stdout",
     "output_type": "stream",
     "text": [
      "# 135 (meta-train-task) test_loss: 0.106504, test_acc: 0.817434\n",
      "# 135  (meta-test-task) test_loss: 1.334039, test_acc: 0.637368\n"
     ]
    },
    {
     "name": "stderr",
     "output_type": "stream",
     "text": [
      "Meta Train: 100%|█| 96/96 [00:53<00:00,  1.81it/s, epoch=5, train_loss=0.019, train_acc=1.000]\n",
      "Meta Test : 100%|█| 20/20 [00:00<00:00, 20.17it/s, epoch=5, train_loss=0.011, train_acc=1.000]\n"
     ]
    },
    {
     "name": "stdout",
     "output_type": "stream",
     "text": [
      "# 136 (meta-train-task) test_loss: 0.106335, test_acc: 0.820888\n",
      "# 136  (meta-test-task) test_loss: 1.311543, test_acc: 0.655000\n"
     ]
    },
    {
     "name": "stderr",
     "output_type": "stream",
     "text": [
      "Meta Train: 100%|█| 96/96 [00:53<00:00,  1.80it/s, epoch=5, train_loss=0.012, train_acc=1.000]\n",
      "Meta Test : 100%|█| 20/20 [00:01<00:00, 19.08it/s, epoch=5, train_loss=0.013, train_acc=1.000]\n"
     ]
    },
    {
     "name": "stdout",
     "output_type": "stream",
     "text": [
      "# 137 (meta-train-task) test_loss: 0.108286, test_acc: 0.801371\n",
      "# 137  (meta-test-task) test_loss: 1.355427, test_acc: 0.629737\n"
     ]
    },
    {
     "name": "stderr",
     "output_type": "stream",
     "text": [
      "Meta Train: 100%|█| 96/96 [00:53<00:00,  1.80it/s, epoch=5, train_loss=0.011, train_acc=1.000]\n",
      "Meta Test : 100%|█| 20/20 [00:01<00:00, 19.96it/s, epoch=5, train_loss=0.011, train_acc=1.000]\n"
     ]
    },
    {
     "name": "stdout",
     "output_type": "stream",
     "text": [
      "# 138 (meta-train-task) test_loss: 0.107482, test_acc: 0.811568\n",
      "# 138  (meta-test-task) test_loss: 1.363491, test_acc: 0.624737\n"
     ]
    },
    {
     "name": "stderr",
     "output_type": "stream",
     "text": [
      "Meta Train: 100%|█| 96/96 [00:53<00:00,  1.80it/s, epoch=5, train_loss=0.018, train_acc=1.000]\n",
      "Meta Test : 100%|█| 20/20 [00:00<00:00, 20.03it/s, epoch=5, train_loss=0.023, train_acc=1.000]\n"
     ]
    },
    {
     "name": "stdout",
     "output_type": "stream",
     "text": [
      "# 139 (meta-train-task) test_loss: 0.105436, test_acc: 0.821711\n",
      "# 139  (meta-test-task) test_loss: 1.324312, test_acc: 0.633947\n"
     ]
    },
    {
     "name": "stderr",
     "output_type": "stream",
     "text": [
      "Meta Train: 100%|█| 96/96 [00:53<00:00,  1.80it/s, epoch=5, train_loss=0.012, train_acc=1.000]\n",
      "Meta Test : 100%|█| 20/20 [00:01<00:00, 19.50it/s, epoch=5, train_loss=0.012, train_acc=1.000]\n"
     ]
    },
    {
     "name": "stdout",
     "output_type": "stream",
     "text": [
      "# 140 (meta-train-task) test_loss: 0.106087, test_acc: 0.816173\n",
      "# 140  (meta-test-task) test_loss: 1.318680, test_acc: 0.651579\n"
     ]
    },
    {
     "name": "stderr",
     "output_type": "stream",
     "text": [
      "Meta Train: 100%|█| 96/96 [00:52<00:00,  1.82it/s, epoch=5, train_loss=0.013, train_acc=1.000]\n",
      "Meta Test : 100%|█| 20/20 [00:01<00:00, 19.61it/s, epoch=5, train_loss=0.015, train_acc=1.000]\n"
     ]
    },
    {
     "name": "stdout",
     "output_type": "stream",
     "text": [
      "# 141 (meta-train-task) test_loss: 0.106363, test_acc: 0.812939\n",
      "# 141  (meta-test-task) test_loss: 1.347661, test_acc: 0.634737\n"
     ]
    },
    {
     "name": "stderr",
     "output_type": "stream",
     "text": [
      "Meta Train: 100%|█| 96/96 [00:53<00:00,  1.80it/s, epoch=5, train_loss=0.012, train_acc=1.000]\n",
      "Meta Test : 100%|█| 20/20 [00:01<00:00, 19.74it/s, epoch=5, train_loss=0.009, train_acc=1.000]\n"
     ]
    },
    {
     "name": "stdout",
     "output_type": "stream",
     "text": [
      "# 142 (meta-train-task) test_loss: 0.104628, test_acc: 0.817325\n",
      "# 142  (meta-test-task) test_loss: 1.323799, test_acc: 0.631579\n"
     ]
    },
    {
     "name": "stderr",
     "output_type": "stream",
     "text": [
      "Meta Train: 100%|█| 96/96 [00:54<00:00,  1.77it/s, epoch=5, train_loss=0.016, train_acc=1.000]\n",
      "Meta Test : 100%|█| 20/20 [00:01<00:00, 15.86it/s, epoch=5, train_loss=0.011, train_acc=1.000]\n"
     ]
    },
    {
     "name": "stdout",
     "output_type": "stream",
     "text": [
      "# 143 (meta-train-task) test_loss: 0.106821, test_acc: 0.809265\n",
      "# 143  (meta-test-task) test_loss: 1.326499, test_acc: 0.646842\n"
     ]
    },
    {
     "name": "stderr",
     "output_type": "stream",
     "text": [
      "Meta Train: 100%|█| 96/96 [00:54<00:00,  1.77it/s, epoch=5, train_loss=0.012, train_acc=1.000]\n",
      "Meta Test : 100%|█| 20/20 [00:01<00:00, 18.08it/s, epoch=5, train_loss=0.009, train_acc=1.000]\n"
     ]
    },
    {
     "name": "stdout",
     "output_type": "stream",
     "text": [
      "# 144 (meta-train-task) test_loss: 0.107140, test_acc: 0.807511\n",
      "# 144  (meta-test-task) test_loss: 1.363228, test_acc: 0.638421\n"
     ]
    },
    {
     "name": "stderr",
     "output_type": "stream",
     "text": [
      "Meta Train: 100%|█| 96/96 [00:55<00:00,  1.72it/s, epoch=5, train_loss=0.012, train_acc=1.000]\n",
      "Meta Test : 100%|█| 20/20 [00:01<00:00, 19.77it/s, epoch=5, train_loss=0.010, train_acc=1.000]\n"
     ]
    },
    {
     "name": "stdout",
     "output_type": "stream",
     "text": [
      "# 145 (meta-train-task) test_loss: 0.104211, test_acc: 0.826754\n",
      "# 145  (meta-test-task) test_loss: 1.321090, test_acc: 0.629211\n"
     ]
    },
    {
     "name": "stderr",
     "output_type": "stream",
     "text": [
      "Meta Train: 100%|█| 96/96 [00:53<00:00,  1.79it/s, epoch=5, train_loss=0.010, train_acc=1.000]\n",
      "Meta Test : 100%|█| 20/20 [00:01<00:00, 17.18it/s, epoch=5, train_loss=0.011, train_acc=1.000]\n"
     ]
    },
    {
     "name": "stdout",
     "output_type": "stream",
     "text": [
      "# 146 (meta-train-task) test_loss: 0.105516, test_acc: 0.812226\n",
      "# 146  (meta-test-task) test_loss: 1.311125, test_acc: 0.642895\n"
     ]
    },
    {
     "name": "stderr",
     "output_type": "stream",
     "text": [
      "Meta Train: 100%|█| 96/96 [00:55<00:00,  1.73it/s, epoch=5, train_loss=0.009, train_acc=1.000]\n",
      "Meta Test : 100%|█| 20/20 [00:00<00:00, 20.09it/s, epoch=5, train_loss=0.011, train_acc=1.000]\n"
     ]
    },
    {
     "name": "stdout",
     "output_type": "stream",
     "text": [
      "# 147 (meta-train-task) test_loss: 0.106092, test_acc: 0.811349\n",
      "# 147  (meta-test-task) test_loss: 1.342197, test_acc: 0.623421\n"
     ]
    },
    {
     "name": "stderr",
     "output_type": "stream",
     "text": [
      "Meta Train: 100%|█| 96/96 [00:54<00:00,  1.77it/s, epoch=5, train_loss=0.009, train_acc=1.000]\n",
      "Meta Test : 100%|█| 20/20 [00:01<00:00, 17.77it/s, epoch=5, train_loss=0.013, train_acc=1.000]\n"
     ]
    },
    {
     "name": "stdout",
     "output_type": "stream",
     "text": [
      "# 148 (meta-train-task) test_loss: 0.103983, test_acc: 0.822533\n",
      "# 148  (meta-test-task) test_loss: 1.297733, test_acc: 0.663684\n"
     ]
    },
    {
     "name": "stderr",
     "output_type": "stream",
     "text": [
      "Meta Train: 100%|█| 96/96 [00:54<00:00,  1.77it/s, epoch=5, train_loss=0.013, train_acc=1.000]\n",
      "Meta Test : 100%|█| 20/20 [00:01<00:00, 19.34it/s, epoch=5, train_loss=0.011, train_acc=1.000]\n"
     ]
    },
    {
     "name": "stdout",
     "output_type": "stream",
     "text": [
      "# 149 (meta-train-task) test_loss: 0.104795, test_acc: 0.821930\n",
      "# 149  (meta-test-task) test_loss: 1.333271, test_acc: 0.632105\n"
     ]
    },
    {
     "name": "stderr",
     "output_type": "stream",
     "text": [
      "Meta Train: 100%|█| 96/96 [00:53<00:00,  1.78it/s, epoch=5, train_loss=0.009, train_acc=1.000]\n",
      "Meta Test : 100%|█| 20/20 [00:01<00:00, 19.88it/s, epoch=5, train_loss=0.011, train_acc=1.000]\n"
     ]
    },
    {
     "name": "stdout",
     "output_type": "stream",
     "text": [
      "# 150 (meta-train-task) test_loss: 0.102893, test_acc: 0.826645\n",
      "# 150  (meta-test-task) test_loss: 1.282284, test_acc: 0.664211\n"
     ]
    },
    {
     "name": "stderr",
     "output_type": "stream",
     "text": [
      "Meta Train: 100%|█| 96/96 [00:53<00:00,  1.79it/s, epoch=5, train_loss=0.011, train_acc=1.000]\n",
      "Meta Test : 100%|█| 20/20 [00:01<00:00, 18.60it/s, epoch=5, train_loss=0.009, train_acc=1.000]\n"
     ]
    },
    {
     "name": "stdout",
     "output_type": "stream",
     "text": [
      "# 151 (meta-train-task) test_loss: 0.103434, test_acc: 0.826864\n",
      "# 151  (meta-test-task) test_loss: 1.295231, test_acc: 0.664737\n"
     ]
    },
    {
     "name": "stderr",
     "output_type": "stream",
     "text": [
      "Meta Train: 100%|█| 96/96 [00:55<00:00,  1.74it/s, epoch=5, train_loss=0.015, train_acc=1.000]\n",
      "Meta Test : 100%|█| 20/20 [00:01<00:00, 19.98it/s, epoch=5, train_loss=0.022, train_acc=1.000]\n"
     ]
    },
    {
     "name": "stdout",
     "output_type": "stream",
     "text": [
      "# 152 (meta-train-task) test_loss: 0.105406, test_acc: 0.809704\n",
      "# 152  (meta-test-task) test_loss: 1.295764, test_acc: 0.651316\n"
     ]
    },
    {
     "name": "stderr",
     "output_type": "stream",
     "text": [
      "Meta Train: 100%|█| 96/96 [00:54<00:00,  1.77it/s, epoch=5, train_loss=0.016, train_acc=1.000]\n",
      "Meta Test : 100%|█| 20/20 [00:00<00:00, 20.34it/s, epoch=5, train_loss=0.017, train_acc=1.000]\n"
     ]
    },
    {
     "name": "stdout",
     "output_type": "stream",
     "text": [
      "# 153 (meta-train-task) test_loss: 0.102634, test_acc: 0.829496\n",
      "# 153  (meta-test-task) test_loss: 1.327055, test_acc: 0.632368\n"
     ]
    },
    {
     "name": "stderr",
     "output_type": "stream",
     "text": [
      "Meta Train: 100%|█| 96/96 [00:53<00:00,  1.78it/s, epoch=5, train_loss=0.009, train_acc=1.000]\n",
      "Meta Test : 100%|█| 20/20 [00:01<00:00, 19.81it/s, epoch=5, train_loss=0.008, train_acc=1.000]\n"
     ]
    },
    {
     "name": "stdout",
     "output_type": "stream",
     "text": [
      "# 154 (meta-train-task) test_loss: 0.104849, test_acc: 0.811458\n",
      "# 154  (meta-test-task) test_loss: 1.259630, test_acc: 0.696316\n"
     ]
    },
    {
     "name": "stderr",
     "output_type": "stream",
     "text": [
      "Meta Train: 100%|█| 96/96 [00:55<00:00,  1.72it/s, epoch=5, train_loss=0.010, train_acc=1.000]\n",
      "Meta Test : 100%|█| 20/20 [00:01<00:00, 18.30it/s, epoch=5, train_loss=0.012, train_acc=1.000]\n"
     ]
    },
    {
     "name": "stdout",
     "output_type": "stream",
     "text": [
      "# 155 (meta-train-task) test_loss: 0.104466, test_acc: 0.812061\n",
      "# 155  (meta-test-task) test_loss: 1.274173, test_acc: 0.662895\n"
     ]
    },
    {
     "name": "stderr",
     "output_type": "stream",
     "text": [
      "Meta Train: 100%|█| 96/96 [00:55<00:00,  1.73it/s, epoch=5, train_loss=0.010, train_acc=1.000]\n",
      "Meta Test : 100%|█| 20/20 [00:01<00:00, 18.25it/s, epoch=5, train_loss=0.011, train_acc=1.000]\n"
     ]
    },
    {
     "name": "stdout",
     "output_type": "stream",
     "text": [
      "# 156 (meta-train-task) test_loss: 0.103177, test_acc: 0.820066\n",
      "# 156  (meta-test-task) test_loss: 1.316565, test_acc: 0.648947\n"
     ]
    },
    {
     "name": "stderr",
     "output_type": "stream",
     "text": [
      "Meta Train: 100%|█| 96/96 [00:55<00:00,  1.72it/s, epoch=5, train_loss=0.012, train_acc=1.000]\n",
      "Meta Test : 100%|█| 20/20 [00:01<00:00, 18.36it/s, epoch=5, train_loss=0.013, train_acc=1.000]\n"
     ]
    },
    {
     "name": "stdout",
     "output_type": "stream",
     "text": [
      "# 157 (meta-train-task) test_loss: 0.101717, test_acc: 0.828454\n",
      "# 157  (meta-test-task) test_loss: 1.290708, test_acc: 0.657632\n"
     ]
    },
    {
     "name": "stderr",
     "output_type": "stream",
     "text": [
      "Meta Train: 100%|█| 96/96 [00:55<00:00,  1.72it/s, epoch=5, train_loss=0.012, train_acc=1.000]\n",
      "Meta Test : 100%|█| 20/20 [00:01<00:00, 18.31it/s, epoch=5, train_loss=0.012, train_acc=1.000]\n"
     ]
    },
    {
     "name": "stdout",
     "output_type": "stream",
     "text": [
      "# 158 (meta-train-task) test_loss: 0.102783, test_acc: 0.818695\n",
      "# 158  (meta-test-task) test_loss: 1.293612, test_acc: 0.670000\n"
     ]
    },
    {
     "name": "stderr",
     "output_type": "stream",
     "text": [
      "Meta Train: 100%|█| 96/96 [00:55<00:00,  1.73it/s, epoch=5, train_loss=0.011, train_acc=1.000]\n",
      "Meta Test : 100%|█| 20/20 [00:01<00:00, 18.59it/s, epoch=5, train_loss=0.017, train_acc=1.000]\n"
     ]
    },
    {
     "name": "stdout",
     "output_type": "stream",
     "text": [
      "# 159 (meta-train-task) test_loss: 0.102685, test_acc: 0.820395\n",
      "# 159  (meta-test-task) test_loss: 1.293490, test_acc: 0.672368\n"
     ]
    },
    {
     "name": "stderr",
     "output_type": "stream",
     "text": [
      "Meta Train: 100%|█| 96/96 [00:55<00:00,  1.74it/s, epoch=5, train_loss=0.012, train_acc=1.000]\n",
      "Meta Test : 100%|█| 20/20 [00:01<00:00, 18.28it/s, epoch=5, train_loss=0.009, train_acc=1.000]\n"
     ]
    },
    {
     "name": "stdout",
     "output_type": "stream",
     "text": [
      "# 160 (meta-train-task) test_loss: 0.102228, test_acc: 0.822368\n",
      "# 160  (meta-test-task) test_loss: 1.246066, test_acc: 0.676842\n"
     ]
    },
    {
     "name": "stderr",
     "output_type": "stream",
     "text": [
      "Meta Train: 100%|█| 96/96 [00:55<00:00,  1.74it/s, epoch=5, train_loss=0.009, train_acc=1.000]\n",
      "Meta Test : 100%|█| 20/20 [00:01<00:00, 18.51it/s, epoch=5, train_loss=0.012, train_acc=1.000]\n"
     ]
    },
    {
     "name": "stdout",
     "output_type": "stream",
     "text": [
      "# 161 (meta-train-task) test_loss: 0.101580, test_acc: 0.823849\n",
      "# 161  (meta-test-task) test_loss: 1.288936, test_acc: 0.663158\n"
     ]
    },
    {
     "name": "stderr",
     "output_type": "stream",
     "text": [
      "Meta Train: 100%|█| 96/96 [00:55<00:00,  1.72it/s, epoch=5, train_loss=0.013, train_acc=1.000]\n",
      "Meta Test : 100%|█| 20/20 [00:01<00:00, 16.79it/s, epoch=5, train_loss=0.014, train_acc=1.000]\n"
     ]
    },
    {
     "name": "stdout",
     "output_type": "stream",
     "text": [
      "# 162 (meta-train-task) test_loss: 0.102672, test_acc: 0.817050\n",
      "# 162  (meta-test-task) test_loss: 1.316085, test_acc: 0.641053\n"
     ]
    },
    {
     "name": "stderr",
     "output_type": "stream",
     "text": [
      "Meta Train: 100%|█| 96/96 [00:56<00:00,  1.71it/s, epoch=5, train_loss=0.013, train_acc=1.000]\n",
      "Meta Test : 100%|█| 20/20 [00:01<00:00, 18.33it/s, epoch=5, train_loss=0.018, train_acc=1.000]\n"
     ]
    },
    {
     "name": "stdout",
     "output_type": "stream",
     "text": [
      "# 163 (meta-train-task) test_loss: 0.103218, test_acc: 0.811787\n",
      "# 163  (meta-test-task) test_loss: 1.370644, test_acc: 0.609211\n"
     ]
    },
    {
     "name": "stderr",
     "output_type": "stream",
     "text": [
      "Meta Train: 100%|█| 96/96 [00:55<00:00,  1.73it/s, epoch=5, train_loss=0.015, train_acc=1.000]\n",
      "Meta Test : 100%|█| 20/20 [00:01<00:00, 18.20it/s, epoch=5, train_loss=0.014, train_acc=1.000]\n"
     ]
    },
    {
     "name": "stdout",
     "output_type": "stream",
     "text": [
      "# 164 (meta-train-task) test_loss: 0.102552, test_acc: 0.817270\n",
      "# 164  (meta-test-task) test_loss: 1.283702, test_acc: 0.663421\n"
     ]
    },
    {
     "name": "stderr",
     "output_type": "stream",
     "text": [
      "Meta Train: 100%|█| 96/96 [00:55<00:00,  1.74it/s, epoch=5, train_loss=0.012, train_acc=1.000]\n",
      "Meta Test : 100%|█| 20/20 [00:01<00:00, 17.92it/s, epoch=5, train_loss=0.009, train_acc=1.000]\n"
     ]
    },
    {
     "name": "stdout",
     "output_type": "stream",
     "text": [
      "# 165 (meta-train-task) test_loss: 0.101296, test_acc: 0.824397\n",
      "# 165  (meta-test-task) test_loss: 1.276816, test_acc: 0.670526\n"
     ]
    },
    {
     "name": "stderr",
     "output_type": "stream",
     "text": [
      "Meta Train: 100%|█| 96/96 [00:55<00:00,  1.73it/s, epoch=5, train_loss=0.010, train_acc=1.000]\n",
      "Meta Test : 100%|█| 20/20 [00:01<00:00, 18.69it/s, epoch=5, train_loss=0.009, train_acc=1.000]\n"
     ]
    },
    {
     "name": "stdout",
     "output_type": "stream",
     "text": [
      "# 166 (meta-train-task) test_loss: 0.103129, test_acc: 0.816338\n",
      "# 166  (meta-test-task) test_loss: 1.278366, test_acc: 0.662895\n"
     ]
    },
    {
     "name": "stderr",
     "output_type": "stream",
     "text": [
      "Meta Train: 100%|█| 96/96 [00:55<00:00,  1.74it/s, epoch=5, train_loss=0.011, train_acc=1.000]\n",
      "Meta Test : 100%|█| 20/20 [00:01<00:00, 17.68it/s, epoch=5, train_loss=0.015, train_acc=1.000]\n"
     ]
    },
    {
     "name": "stdout",
     "output_type": "stream",
     "text": [
      "# 167 (meta-train-task) test_loss: 0.100426, test_acc: 0.829715\n",
      "# 167  (meta-test-task) test_loss: 1.249947, test_acc: 0.674211\n"
     ]
    },
    {
     "name": "stderr",
     "output_type": "stream",
     "text": [
      "Meta Train: 100%|█| 96/96 [00:56<00:00,  1.71it/s, epoch=5, train_loss=0.012, train_acc=1.000]\n",
      "Meta Test : 100%|█| 20/20 [00:01<00:00, 17.91it/s, epoch=5, train_loss=0.008, train_acc=1.000]\n"
     ]
    },
    {
     "name": "stdout",
     "output_type": "stream",
     "text": [
      "# 168 (meta-train-task) test_loss: 0.102943, test_acc: 0.810800\n",
      "# 168  (meta-test-task) test_loss: 1.313021, test_acc: 0.646316\n"
     ]
    },
    {
     "name": "stderr",
     "output_type": "stream",
     "text": [
      "Meta Train: 100%|█| 96/96 [00:55<00:00,  1.73it/s, epoch=5, train_loss=0.010, train_acc=1.000]\n",
      "Meta Test : 100%|█| 20/20 [00:01<00:00, 18.60it/s, epoch=5, train_loss=0.011, train_acc=1.000]\n"
     ]
    },
    {
     "name": "stdout",
     "output_type": "stream",
     "text": [
      "# 169 (meta-train-task) test_loss: 0.101828, test_acc: 0.819024\n",
      "# 169  (meta-test-task) test_loss: 1.286417, test_acc: 0.654211\n"
     ]
    },
    {
     "name": "stderr",
     "output_type": "stream",
     "text": [
      "Meta Train: 100%|█| 96/96 [00:55<00:00,  1.73it/s, epoch=5, train_loss=0.012, train_acc=1.000]\n",
      "Meta Test : 100%|█| 20/20 [00:01<00:00, 18.43it/s, epoch=5, train_loss=0.011, train_acc=1.000]\n"
     ]
    },
    {
     "name": "stdout",
     "output_type": "stream",
     "text": [
      "# 170 (meta-train-task) test_loss: 0.100858, test_acc: 0.821491\n",
      "# 170  (meta-test-task) test_loss: 1.241037, test_acc: 0.675526\n"
     ]
    },
    {
     "name": "stderr",
     "output_type": "stream",
     "text": [
      "Meta Train: 100%|█| 96/96 [00:55<00:00,  1.73it/s, epoch=5, train_loss=0.010, train_acc=1.000]\n",
      "Meta Test : 100%|█| 20/20 [00:01<00:00, 17.95it/s, epoch=5, train_loss=0.010, train_acc=1.000]\n"
     ]
    },
    {
     "name": "stdout",
     "output_type": "stream",
     "text": [
      "# 171 (meta-train-task) test_loss: 0.101881, test_acc: 0.812829\n",
      "# 171  (meta-test-task) test_loss: 1.228420, test_acc: 0.678421\n"
     ]
    },
    {
     "name": "stderr",
     "output_type": "stream",
     "text": [
      "Meta Train: 100%|█| 96/96 [00:55<00:00,  1.72it/s, epoch=5, train_loss=0.011, train_acc=1.000]\n",
      "Meta Test : 100%|█| 20/20 [00:01<00:00, 18.52it/s, epoch=5, train_loss=0.010, train_acc=1.000]\n"
     ]
    },
    {
     "name": "stdout",
     "output_type": "stream",
     "text": [
      "# 172 (meta-train-task) test_loss: 0.100090, test_acc: 0.825000\n",
      "# 172  (meta-test-task) test_loss: 1.301721, test_acc: 0.643158\n"
     ]
    },
    {
     "name": "stderr",
     "output_type": "stream",
     "text": [
      "Meta Train: 100%|█| 96/96 [00:55<00:00,  1.72it/s, epoch=5, train_loss=0.010, train_acc=1.000]\n",
      "Meta Test : 100%|█| 20/20 [00:01<00:00, 18.20it/s, epoch=5, train_loss=0.010, train_acc=1.000]\n"
     ]
    },
    {
     "name": "stdout",
     "output_type": "stream",
     "text": [
      "# 173 (meta-train-task) test_loss: 0.101215, test_acc: 0.818147\n",
      "# 173  (meta-test-task) test_loss: 1.279430, test_acc: 0.656842\n"
     ]
    },
    {
     "name": "stderr",
     "output_type": "stream",
     "text": [
      "Meta Train: 100%|█| 96/96 [00:56<00:00,  1.71it/s, epoch=5, train_loss=0.008, train_acc=1.000]\n",
      "Meta Test : 100%|█| 20/20 [00:01<00:00, 18.48it/s, epoch=5, train_loss=0.007, train_acc=1.000]\n"
     ]
    },
    {
     "name": "stdout",
     "output_type": "stream",
     "text": [
      "# 174 (meta-train-task) test_loss: 0.101567, test_acc: 0.814090\n",
      "# 174  (meta-test-task) test_loss: 1.306655, test_acc: 0.650526\n"
     ]
    },
    {
     "name": "stderr",
     "output_type": "stream",
     "text": [
      "Meta Train: 100%|█| 96/96 [00:55<00:00,  1.73it/s, epoch=5, train_loss=0.009, train_acc=1.000]\n",
      "Meta Test : 100%|█| 20/20 [00:01<00:00, 18.52it/s, epoch=5, train_loss=0.009, train_acc=1.000]\n"
     ]
    },
    {
     "name": "stdout",
     "output_type": "stream",
     "text": [
      "# 175 (meta-train-task) test_loss: 0.100998, test_acc: 0.818805\n",
      "# 175  (meta-test-task) test_loss: 1.249116, test_acc: 0.678684\n"
     ]
    },
    {
     "name": "stderr",
     "output_type": "stream",
     "text": [
      "Meta Train: 100%|█| 96/96 [00:55<00:00,  1.74it/s, epoch=5, train_loss=0.011, train_acc=1.000]\n",
      "Meta Test : 100%|█| 20/20 [00:01<00:00, 18.37it/s, epoch=5, train_loss=0.009, train_acc=1.000]\n"
     ]
    },
    {
     "name": "stdout",
     "output_type": "stream",
     "text": [
      "# 176 (meta-train-task) test_loss: 0.099007, test_acc: 0.829386\n",
      "# 176  (meta-test-task) test_loss: 1.245215, test_acc: 0.669737\n"
     ]
    },
    {
     "name": "stderr",
     "output_type": "stream",
     "text": [
      "Meta Train: 100%|█| 96/96 [00:55<00:00,  1.74it/s, epoch=5, train_loss=0.008, train_acc=1.000]\n",
      "Meta Test : 100%|█| 20/20 [00:01<00:00, 18.37it/s, epoch=5, train_loss=0.008, train_acc=1.000]\n"
     ]
    },
    {
     "name": "stdout",
     "output_type": "stream",
     "text": [
      "# 177 (meta-train-task) test_loss: 0.099414, test_acc: 0.822149\n",
      "# 177  (meta-test-task) test_loss: 1.225466, test_acc: 0.682368\n"
     ]
    },
    {
     "name": "stderr",
     "output_type": "stream",
     "text": [
      "Meta Train: 100%|█| 96/96 [00:55<00:00,  1.72it/s, epoch=5, train_loss=0.009, train_acc=1.000]\n",
      "Meta Test : 100%|█| 20/20 [00:01<00:00, 18.41it/s, epoch=5, train_loss=0.009, train_acc=1.000]\n"
     ]
    },
    {
     "name": "stdout",
     "output_type": "stream",
     "text": [
      "# 178 (meta-train-task) test_loss: 0.098373, test_acc: 0.828180\n",
      "# 178  (meta-test-task) test_loss: 1.283337, test_acc: 0.647632\n"
     ]
    },
    {
     "name": "stderr",
     "output_type": "stream",
     "text": [
      "Meta Train: 100%|█| 96/96 [00:56<00:00,  1.69it/s, epoch=5, train_loss=0.011, train_acc=1.000]\n",
      "Meta Test : 100%|█| 20/20 [00:01<00:00, 18.13it/s, epoch=5, train_loss=0.008, train_acc=1.000]\n"
     ]
    },
    {
     "name": "stdout",
     "output_type": "stream",
     "text": [
      "# 179 (meta-train-task) test_loss: 0.099585, test_acc: 0.818914\n",
      "# 179  (meta-test-task) test_loss: 1.270195, test_acc: 0.665789\n"
     ]
    },
    {
     "name": "stderr",
     "output_type": "stream",
     "text": [
      "Meta Train: 100%|█| 96/96 [00:56<00:00,  1.70it/s, epoch=5, train_loss=0.010, train_acc=1.000]\n",
      "Meta Test : 100%|█| 20/20 [00:01<00:00, 18.03it/s, epoch=5, train_loss=0.009, train_acc=1.000]\n"
     ]
    },
    {
     "name": "stdout",
     "output_type": "stream",
     "text": [
      "# 180 (meta-train-task) test_loss: 0.099686, test_acc: 0.823904\n",
      "# 180  (meta-test-task) test_loss: 1.295949, test_acc: 0.646842\n"
     ]
    },
    {
     "name": "stderr",
     "output_type": "stream",
     "text": [
      "Meta Train: 100%|█| 96/96 [00:55<00:00,  1.72it/s, epoch=5, train_loss=0.009, train_acc=1.000]\n",
      "Meta Test : 100%|█| 20/20 [00:01<00:00, 18.44it/s, epoch=5, train_loss=0.012, train_acc=1.000]\n"
     ]
    },
    {
     "name": "stdout",
     "output_type": "stream",
     "text": [
      "# 181 (meta-train-task) test_loss: 0.099794, test_acc: 0.823410\n",
      "# 181  (meta-test-task) test_loss: 1.274821, test_acc: 0.651579\n"
     ]
    },
    {
     "name": "stderr",
     "output_type": "stream",
     "text": [
      "Meta Train: 100%|█| 96/96 [00:56<00:00,  1.71it/s, epoch=5, train_loss=0.009, train_acc=1.000]\n",
      "Meta Test : 100%|█| 20/20 [00:01<00:00, 18.40it/s, epoch=5, train_loss=0.015, train_acc=1.000]\n"
     ]
    },
    {
     "name": "stdout",
     "output_type": "stream",
     "text": [
      "# 182 (meta-train-task) test_loss: 0.098025, test_acc: 0.834101\n",
      "# 182  (meta-test-task) test_loss: 1.268434, test_acc: 0.654211\n"
     ]
    },
    {
     "name": "stderr",
     "output_type": "stream",
     "text": [
      "Meta Train: 100%|█| 96/96 [00:55<00:00,  1.74it/s, epoch=5, train_loss=0.011, train_acc=1.000]\n",
      "Meta Test : 100%|█| 20/20 [00:01<00:00, 18.50it/s, epoch=5, train_loss=0.006, train_acc=1.000]\n"
     ]
    },
    {
     "name": "stdout",
     "output_type": "stream",
     "text": [
      "# 183 (meta-train-task) test_loss: 0.099465, test_acc: 0.821327\n",
      "# 183  (meta-test-task) test_loss: 1.268295, test_acc: 0.655526\n"
     ]
    },
    {
     "name": "stderr",
     "output_type": "stream",
     "text": [
      "Meta Train: 100%|█| 96/96 [00:56<00:00,  1.71it/s, epoch=5, train_loss=0.009, train_acc=1.000]\n",
      "Meta Test : 100%|█| 20/20 [00:01<00:00, 18.31it/s, epoch=5, train_loss=0.011, train_acc=1.000]\n"
     ]
    },
    {
     "name": "stdout",
     "output_type": "stream",
     "text": [
      "# 184 (meta-train-task) test_loss: 0.098827, test_acc: 0.819737\n",
      "# 184  (meta-test-task) test_loss: 1.318246, test_acc: 0.637105\n"
     ]
    },
    {
     "name": "stderr",
     "output_type": "stream",
     "text": [
      "Meta Train: 100%|█| 96/96 [00:55<00:00,  1.74it/s, epoch=5, train_loss=0.014, train_acc=1.000]\n",
      "Meta Test : 100%|█| 20/20 [00:01<00:00, 18.39it/s, epoch=5, train_loss=0.009, train_acc=1.000]\n"
     ]
    },
    {
     "name": "stdout",
     "output_type": "stream",
     "text": [
      "# 185 (meta-train-task) test_loss: 0.098235, test_acc: 0.826645\n",
      "# 185  (meta-test-task) test_loss: 1.283726, test_acc: 0.653947\n"
     ]
    },
    {
     "name": "stderr",
     "output_type": "stream",
     "text": [
      "Meta Train: 100%|█| 96/96 [00:55<00:00,  1.73it/s, epoch=5, train_loss=0.011, train_acc=1.000]\n",
      "Meta Test : 100%|█| 20/20 [00:01<00:00, 18.47it/s, epoch=5, train_loss=0.010, train_acc=1.000]\n"
     ]
    },
    {
     "name": "stdout",
     "output_type": "stream",
     "text": [
      "# 186 (meta-train-task) test_loss: 0.098985, test_acc: 0.823191\n",
      "# 186  (meta-test-task) test_loss: 1.211030, test_acc: 0.688158\n"
     ]
    },
    {
     "name": "stderr",
     "output_type": "stream",
     "text": [
      "Meta Train: 100%|█| 96/96 [00:55<00:00,  1.72it/s, epoch=5, train_loss=0.009, train_acc=1.000]\n",
      "Meta Test : 100%|█| 20/20 [00:01<00:00, 18.49it/s, epoch=5, train_loss=0.020, train_acc=1.000]\n"
     ]
    },
    {
     "name": "stdout",
     "output_type": "stream",
     "text": [
      "# 187 (meta-train-task) test_loss: 0.098206, test_acc: 0.825493\n",
      "# 187  (meta-test-task) test_loss: 1.262550, test_acc: 0.656579\n"
     ]
    },
    {
     "name": "stderr",
     "output_type": "stream",
     "text": [
      "Meta Train: 100%|█| 96/96 [00:55<00:00,  1.73it/s, epoch=5, train_loss=0.010, train_acc=1.000]\n",
      "Meta Test : 100%|█| 20/20 [00:01<00:00, 18.65it/s, epoch=5, train_loss=0.007, train_acc=1.000]\n"
     ]
    },
    {
     "name": "stdout",
     "output_type": "stream",
     "text": [
      "# 188 (meta-train-task) test_loss: 0.100610, test_acc: 0.814364\n",
      "# 188  (meta-test-task) test_loss: 1.280259, test_acc: 0.652368\n"
     ]
    },
    {
     "name": "stderr",
     "output_type": "stream",
     "text": [
      "Meta Train: 100%|█| 96/96 [00:55<00:00,  1.73it/s, epoch=5, train_loss=0.008, train_acc=1.000]\n",
      "Meta Test : 100%|█| 20/20 [00:01<00:00, 18.14it/s, epoch=5, train_loss=0.005, train_acc=1.000]\n"
     ]
    },
    {
     "name": "stdout",
     "output_type": "stream",
     "text": [
      "# 189 (meta-train-task) test_loss: 0.097393, test_acc: 0.830318\n",
      "# 189  (meta-test-task) test_loss: 1.279805, test_acc: 0.659474\n"
     ]
    },
    {
     "name": "stderr",
     "output_type": "stream",
     "text": [
      "Meta Train: 100%|█| 96/96 [00:55<00:00,  1.73it/s, epoch=5, train_loss=0.008, train_acc=1.000]\n",
      "Meta Test : 100%|█| 20/20 [00:01<00:00, 18.28it/s, epoch=5, train_loss=0.008, train_acc=1.000]\n"
     ]
    },
    {
     "name": "stdout",
     "output_type": "stream",
     "text": [
      "# 190 (meta-train-task) test_loss: 0.097517, test_acc: 0.827686\n",
      "# 190  (meta-test-task) test_loss: 1.285666, test_acc: 0.642895\n"
     ]
    },
    {
     "name": "stderr",
     "output_type": "stream",
     "text": [
      "Meta Train: 100%|█| 96/96 [00:55<00:00,  1.72it/s, epoch=5, train_loss=0.008, train_acc=1.000]\n",
      "Meta Test : 100%|█| 20/20 [00:01<00:00, 18.54it/s, epoch=5, train_loss=0.007, train_acc=1.000]\n"
     ]
    },
    {
     "name": "stdout",
     "output_type": "stream",
     "text": [
      "# 191 (meta-train-task) test_loss: 0.099401, test_acc: 0.816612\n",
      "# 191  (meta-test-task) test_loss: 1.228825, test_acc: 0.682895\n"
     ]
    },
    {
     "name": "stderr",
     "output_type": "stream",
     "text": [
      "Meta Train: 100%|█| 96/96 [00:55<00:00,  1.72it/s, epoch=5, train_loss=0.008, train_acc=1.000]\n",
      "Meta Test : 100%|█| 20/20 [00:01<00:00, 16.93it/s, epoch=5, train_loss=0.008, train_acc=1.000]\n"
     ]
    },
    {
     "name": "stdout",
     "output_type": "stream",
     "text": [
      "# 192 (meta-train-task) test_loss: 0.097901, test_acc: 0.826590\n",
      "# 192  (meta-test-task) test_loss: 1.287922, test_acc: 0.655000\n"
     ]
    },
    {
     "name": "stderr",
     "output_type": "stream",
     "text": [
      "Meta Train: 100%|█| 96/96 [00:55<00:00,  1.72it/s, epoch=5, train_loss=0.008, train_acc=1.000]\n",
      "Meta Test : 100%|█| 20/20 [00:01<00:00, 18.21it/s, epoch=5, train_loss=0.006, train_acc=1.000]\n"
     ]
    },
    {
     "name": "stdout",
     "output_type": "stream",
     "text": [
      "# 193 (meta-train-task) test_loss: 0.097236, test_acc: 0.833004\n",
      "# 193  (meta-test-task) test_loss: 1.242518, test_acc: 0.668421\n"
     ]
    },
    {
     "name": "stderr",
     "output_type": "stream",
     "text": [
      "Meta Train: 100%|█| 96/96 [00:56<00:00,  1.70it/s, epoch=5, train_loss=0.009, train_acc=1.000]\n",
      "Meta Test : 100%|█| 20/20 [00:01<00:00, 17.84it/s, epoch=5, train_loss=0.009, train_acc=1.000]\n"
     ]
    },
    {
     "name": "stdout",
     "output_type": "stream",
     "text": [
      "# 194 (meta-train-task) test_loss: 0.099492, test_acc: 0.811678\n",
      "# 194  (meta-test-task) test_loss: 1.253276, test_acc: 0.659474\n"
     ]
    },
    {
     "name": "stderr",
     "output_type": "stream",
     "text": [
      "Meta Train: 100%|█| 96/96 [00:55<00:00,  1.71it/s, epoch=5, train_loss=0.008, train_acc=1.000]\n",
      "Meta Test : 100%|█| 20/20 [00:01<00:00, 18.56it/s, epoch=5, train_loss=0.016, train_acc=1.000]\n"
     ]
    },
    {
     "name": "stdout",
     "output_type": "stream",
     "text": [
      "# 195 (meta-train-task) test_loss: 0.096851, test_acc: 0.825768\n",
      "# 195  (meta-test-task) test_loss: 1.296237, test_acc: 0.646316\n"
     ]
    },
    {
     "name": "stderr",
     "output_type": "stream",
     "text": [
      "Meta Train: 100%|█| 96/96 [00:55<00:00,  1.73it/s, epoch=5, train_loss=0.009, train_acc=1.000]\n",
      "Meta Test : 100%|█| 20/20 [00:01<00:00, 18.43it/s, epoch=5, train_loss=0.009, train_acc=1.000]\n"
     ]
    },
    {
     "name": "stdout",
     "output_type": "stream",
     "text": [
      "# 196 (meta-train-task) test_loss: 0.097384, test_acc: 0.823410\n",
      "# 196  (meta-test-task) test_loss: 1.250452, test_acc: 0.661842\n"
     ]
    },
    {
     "name": "stderr",
     "output_type": "stream",
     "text": [
      "Meta Train: 100%|█| 96/96 [00:55<00:00,  1.72it/s, epoch=5, train_loss=0.008, train_acc=1.000]\n",
      "Meta Test : 100%|█| 20/20 [00:01<00:00, 18.23it/s, epoch=5, train_loss=0.009, train_acc=1.000]\n"
     ]
    },
    {
     "name": "stdout",
     "output_type": "stream",
     "text": [
      "# 197 (meta-train-task) test_loss: 0.097366, test_acc: 0.819189\n",
      "# 197  (meta-test-task) test_loss: 1.298114, test_acc: 0.644211\n"
     ]
    },
    {
     "name": "stderr",
     "output_type": "stream",
     "text": [
      "Meta Train: 100%|█| 96/96 [00:55<00:00,  1.73it/s, epoch=5, train_loss=0.014, train_acc=1.000]\n",
      "Meta Test : 100%|█| 20/20 [00:01<00:00, 17.97it/s, epoch=5, train_loss=0.006, train_acc=1.000]\n"
     ]
    },
    {
     "name": "stdout",
     "output_type": "stream",
     "text": [
      "# 198 (meta-train-task) test_loss: 0.094803, test_acc: 0.836075\n",
      "# 198  (meta-test-task) test_loss: 1.283673, test_acc: 0.647895\n"
     ]
    },
    {
     "name": "stderr",
     "output_type": "stream",
     "text": [
      "Meta Train: 100%|█| 96/96 [00:55<00:00,  1.72it/s, epoch=5, train_loss=0.006, train_acc=1.000]\n",
      "Meta Test : 100%|█| 20/20 [00:01<00:00, 18.36it/s, epoch=5, train_loss=0.008, train_acc=1.000]\n"
     ]
    },
    {
     "name": "stdout",
     "output_type": "stream",
     "text": [
      "# 199 (meta-train-task) test_loss: 0.097716, test_acc: 0.824561\n",
      "# 199  (meta-test-task) test_loss: 1.231485, test_acc: 0.677895\n"
     ]
    },
    {
     "name": "stderr",
     "output_type": "stream",
     "text": [
      "Meta Train: 100%|█| 96/96 [00:55<00:00,  1.73it/s, epoch=5, train_loss=0.007, train_acc=1.000]\n",
      "Meta Test : 100%|█| 20/20 [00:01<00:00, 17.74it/s, epoch=5, train_loss=0.006, train_acc=1.000]\n"
     ]
    },
    {
     "name": "stdout",
     "output_type": "stream",
     "text": [
      "# 200 (meta-train-task) test_loss: 0.097248, test_acc: 0.824890\n",
      "# 200  (meta-test-task) test_loss: 1.276803, test_acc: 0.650526\n"
     ]
    },
    {
     "name": "stderr",
     "output_type": "stream",
     "text": [
      "Meta Train: 100%|█| 96/96 [00:56<00:00,  1.69it/s, epoch=5, train_loss=0.008, train_acc=1.000]\n",
      "Meta Test : 100%|█| 20/20 [00:01<00:00, 17.74it/s, epoch=5, train_loss=0.009, train_acc=1.000]\n"
     ]
    },
    {
     "name": "stdout",
     "output_type": "stream",
     "text": [
      "# 201 (meta-train-task) test_loss: 0.096157, test_acc: 0.828235\n",
      "# 201  (meta-test-task) test_loss: 1.247136, test_acc: 0.678421\n"
     ]
    },
    {
     "name": "stderr",
     "output_type": "stream",
     "text": [
      "Meta Train: 100%|█| 96/96 [00:55<00:00,  1.72it/s, epoch=5, train_loss=0.008, train_acc=1.000]\n",
      "Meta Test : 100%|█| 20/20 [00:01<00:00, 18.01it/s, epoch=5, train_loss=0.007, train_acc=1.000]\n"
     ]
    },
    {
     "name": "stdout",
     "output_type": "stream",
     "text": [
      "# 202 (meta-train-task) test_loss: 0.096467, test_acc: 0.824726\n",
      "# 202  (meta-test-task) test_loss: 1.229544, test_acc: 0.682632\n"
     ]
    },
    {
     "name": "stderr",
     "output_type": "stream",
     "text": [
      "Meta Train: 100%|█| 96/96 [00:56<00:00,  1.71it/s, epoch=5, train_loss=0.007, train_acc=1.000]\n",
      "Meta Test : 100%|█| 20/20 [00:01<00:00, 18.01it/s, epoch=5, train_loss=0.007, train_acc=1.000]\n"
     ]
    },
    {
     "name": "stdout",
     "output_type": "stream",
     "text": [
      "# 203 (meta-train-task) test_loss: 0.096296, test_acc: 0.824726\n",
      "# 203  (meta-test-task) test_loss: 1.222792, test_acc: 0.675263\n"
     ]
    },
    {
     "name": "stderr",
     "output_type": "stream",
     "text": [
      "Meta Train: 100%|█| 96/96 [00:57<00:00,  1.68it/s, epoch=5, train_loss=0.011, train_acc=1.000]\n",
      "Meta Test : 100%|█| 20/20 [00:01<00:00, 17.59it/s, epoch=5, train_loss=0.011, train_acc=1.000]\n"
     ]
    },
    {
     "name": "stdout",
     "output_type": "stream",
     "text": [
      "# 204 (meta-train-task) test_loss: 0.096173, test_acc: 0.822588\n",
      "# 204  (meta-test-task) test_loss: 1.253006, test_acc: 0.667105\n"
     ]
    },
    {
     "name": "stderr",
     "output_type": "stream",
     "text": [
      "Meta Train: 100%|█| 96/96 [00:56<00:00,  1.69it/s, epoch=5, train_loss=0.008, train_acc=1.000]\n",
      "Meta Test : 100%|█| 20/20 [00:01<00:00, 17.48it/s, epoch=5, train_loss=0.011, train_acc=1.000]\n"
     ]
    },
    {
     "name": "stdout",
     "output_type": "stream",
     "text": [
      "# 205 (meta-train-task) test_loss: 0.095472, test_acc: 0.830428\n",
      "# 205  (meta-test-task) test_loss: 1.277476, test_acc: 0.669737\n"
     ]
    },
    {
     "name": "stderr",
     "output_type": "stream",
     "text": [
      "Meta Train: 100%|█| 96/96 [00:56<00:00,  1.71it/s, epoch=5, train_loss=0.007, train_acc=1.000]\n",
      "Meta Test : 100%|█| 20/20 [00:01<00:00, 18.34it/s, epoch=5, train_loss=0.007, train_acc=1.000]\n"
     ]
    },
    {
     "name": "stdout",
     "output_type": "stream",
     "text": [
      "# 206 (meta-train-task) test_loss: 0.096393, test_acc: 0.826974\n",
      "# 206  (meta-test-task) test_loss: 1.268586, test_acc: 0.653684\n"
     ]
    },
    {
     "name": "stderr",
     "output_type": "stream",
     "text": [
      "Meta Train: 100%|█| 96/96 [00:55<00:00,  1.72it/s, epoch=5, train_loss=0.008, train_acc=1.000]\n",
      "Meta Test : 100%|█| 20/20 [00:01<00:00, 18.31it/s, epoch=5, train_loss=0.009, train_acc=1.000]\n"
     ]
    },
    {
     "name": "stdout",
     "output_type": "stream",
     "text": [
      "# 207 (meta-train-task) test_loss: 0.098295, test_acc: 0.814309\n",
      "# 207  (meta-test-task) test_loss: 1.314618, test_acc: 0.640789\n"
     ]
    },
    {
     "name": "stderr",
     "output_type": "stream",
     "text": [
      "Meta Train: 100%|█| 96/96 [00:55<00:00,  1.74it/s, epoch=5, train_loss=0.010, train_acc=1.000]\n",
      "Meta Test : 100%|█| 20/20 [00:01<00:00, 18.59it/s, epoch=5, train_loss=0.007, train_acc=1.000]\n"
     ]
    },
    {
     "name": "stdout",
     "output_type": "stream",
     "text": [
      "# 208 (meta-train-task) test_loss: 0.096099, test_acc: 0.823575\n",
      "# 208  (meta-test-task) test_loss: 1.245033, test_acc: 0.672895\n"
     ]
    },
    {
     "name": "stderr",
     "output_type": "stream",
     "text": [
      "Meta Train: 100%|█| 96/96 [00:55<00:00,  1.73it/s, epoch=5, train_loss=0.010, train_acc=1.000]\n",
      "Meta Test : 100%|█| 20/20 [00:01<00:00, 18.52it/s, epoch=5, train_loss=0.010, train_acc=1.000]\n"
     ]
    },
    {
     "name": "stdout",
     "output_type": "stream",
     "text": [
      "# 209 (meta-train-task) test_loss: 0.094456, test_acc: 0.833662\n",
      "# 209  (meta-test-task) test_loss: 1.223545, test_acc: 0.678421\n"
     ]
    },
    {
     "name": "stderr",
     "output_type": "stream",
     "text": [
      "Meta Train: 100%|█| 96/96 [00:56<00:00,  1.70it/s, epoch=5, train_loss=0.008, train_acc=1.000]\n",
      "Meta Test : 100%|█| 20/20 [00:01<00:00, 18.09it/s, epoch=5, train_loss=0.010, train_acc=1.000]\n"
     ]
    },
    {
     "name": "stdout",
     "output_type": "stream",
     "text": [
      "# 210 (meta-train-task) test_loss: 0.095992, test_acc: 0.827357\n",
      "# 210  (meta-test-task) test_loss: 1.206448, test_acc: 0.686053\n"
     ]
    },
    {
     "name": "stderr",
     "output_type": "stream",
     "text": [
      "Meta Train: 100%|█| 96/96 [00:56<00:00,  1.69it/s, epoch=5, train_loss=0.010, train_acc=1.000]\n",
      "Meta Test : 100%|█| 20/20 [00:01<00:00, 17.67it/s, epoch=5, train_loss=0.008, train_acc=1.000]\n"
     ]
    },
    {
     "name": "stdout",
     "output_type": "stream",
     "text": [
      "# 211 (meta-train-task) test_loss: 0.094779, test_acc: 0.828947\n",
      "# 211  (meta-test-task) test_loss: 1.230659, test_acc: 0.679211\n"
     ]
    },
    {
     "name": "stderr",
     "output_type": "stream",
     "text": [
      "Meta Train: 100%|█| 96/96 [00:56<00:00,  1.70it/s, epoch=5, train_loss=0.009, train_acc=1.000]\n",
      "Meta Test : 100%|█| 20/20 [00:01<00:00, 18.40it/s, epoch=5, train_loss=0.014, train_acc=1.000]\n"
     ]
    },
    {
     "name": "stdout",
     "output_type": "stream",
     "text": [
      "# 212 (meta-train-task) test_loss: 0.096105, test_acc: 0.822643\n",
      "# 212  (meta-test-task) test_loss: 1.186596, test_acc: 0.704211\n"
     ]
    },
    {
     "name": "stderr",
     "output_type": "stream",
     "text": [
      "Meta Train: 100%|█| 96/96 [00:56<00:00,  1.71it/s, epoch=5, train_loss=0.009, train_acc=1.000]\n",
      "Meta Test : 100%|█| 20/20 [00:01<00:00, 17.77it/s, epoch=5, train_loss=0.008, train_acc=1.000]\n"
     ]
    },
    {
     "name": "stdout",
     "output_type": "stream",
     "text": [
      "# 213 (meta-train-task) test_loss: 0.093840, test_acc: 0.838761\n",
      "# 213  (meta-test-task) test_loss: 1.201098, test_acc: 0.692368\n"
     ]
    },
    {
     "name": "stderr",
     "output_type": "stream",
     "text": [
      "Meta Train: 100%|█| 96/96 [00:56<00:00,  1.70it/s, epoch=5, train_loss=0.012, train_acc=1.000]\n",
      "Meta Test : 100%|█| 20/20 [00:01<00:00, 17.98it/s, epoch=5, train_loss=0.006, train_acc=1.000]\n"
     ]
    },
    {
     "name": "stdout",
     "output_type": "stream",
     "text": [
      "# 214 (meta-train-task) test_loss: 0.093824, test_acc: 0.829002\n",
      "# 214  (meta-test-task) test_loss: 1.269402, test_acc: 0.647368\n"
     ]
    },
    {
     "name": "stderr",
     "output_type": "stream",
     "text": [
      "Meta Train: 100%|█| 96/96 [00:56<00:00,  1.69it/s, epoch=5, train_loss=0.011, train_acc=1.000]\n",
      "Meta Test : 100%|█| 20/20 [00:01<00:00, 17.41it/s, epoch=5, train_loss=0.008, train_acc=1.000]\n"
     ]
    },
    {
     "name": "stdout",
     "output_type": "stream",
     "text": [
      "# 215 (meta-train-task) test_loss: 0.095350, test_acc: 0.829112\n",
      "# 215  (meta-test-task) test_loss: 1.253010, test_acc: 0.661053\n"
     ]
    },
    {
     "name": "stderr",
     "output_type": "stream",
     "text": [
      "Meta Train: 100%|█| 96/96 [00:55<00:00,  1.72it/s, epoch=5, train_loss=0.008, train_acc=1.000]\n",
      "Meta Test : 100%|█| 20/20 [00:01<00:00, 18.38it/s, epoch=5, train_loss=0.019, train_acc=1.000]\n"
     ]
    },
    {
     "name": "stdout",
     "output_type": "stream",
     "text": [
      "# 216 (meta-train-task) test_loss: 0.094645, test_acc: 0.831908\n",
      "# 216  (meta-test-task) test_loss: 1.263863, test_acc: 0.658684\n"
     ]
    },
    {
     "name": "stderr",
     "output_type": "stream",
     "text": [
      "Meta Train: 100%|█| 96/96 [00:56<00:00,  1.71it/s, epoch=5, train_loss=0.008, train_acc=1.000]\n",
      "Meta Test : 100%|█| 20/20 [00:01<00:00, 18.16it/s, epoch=5, train_loss=0.007, train_acc=1.000]\n"
     ]
    },
    {
     "name": "stdout",
     "output_type": "stream",
     "text": [
      "# 217 (meta-train-task) test_loss: 0.093684, test_acc: 0.831853\n",
      "# 217  (meta-test-task) test_loss: 1.247719, test_acc: 0.659474\n"
     ]
    },
    {
     "name": "stderr",
     "output_type": "stream",
     "text": [
      "Meta Train: 100%|█| 96/96 [00:55<00:00,  1.73it/s, epoch=5, train_loss=0.010, train_acc=1.000]\n",
      "Meta Test : 100%|█| 20/20 [00:01<00:00, 18.56it/s, epoch=5, train_loss=0.006, train_acc=1.000]\n"
     ]
    },
    {
     "name": "stdout",
     "output_type": "stream",
     "text": [
      "# 218 (meta-train-task) test_loss: 0.094330, test_acc: 0.826371\n",
      "# 218  (meta-test-task) test_loss: 1.286428, test_acc: 0.645789\n"
     ]
    },
    {
     "name": "stderr",
     "output_type": "stream",
     "text": [
      "Meta Train: 100%|█| 96/96 [00:56<00:00,  1.71it/s, epoch=5, train_loss=0.006, train_acc=1.000]\n",
      "Meta Test : 100%|█| 20/20 [00:01<00:00, 18.16it/s, epoch=5, train_loss=0.013, train_acc=1.000]\n"
     ]
    },
    {
     "name": "stdout",
     "output_type": "stream",
     "text": [
      "# 219 (meta-train-task) test_loss: 0.095140, test_acc: 0.821327\n",
      "# 219  (meta-test-task) test_loss: 1.257706, test_acc: 0.657632\n"
     ]
    },
    {
     "name": "stderr",
     "output_type": "stream",
     "text": [
      "Meta Train: 100%|█| 96/96 [00:56<00:00,  1.71it/s, epoch=5, train_loss=0.006, train_acc=1.000]\n",
      "Meta Test : 100%|█| 20/20 [00:01<00:00, 18.35it/s, epoch=5, train_loss=0.007, train_acc=1.000]\n"
     ]
    },
    {
     "name": "stdout",
     "output_type": "stream",
     "text": [
      "# 220 (meta-train-task) test_loss: 0.093322, test_acc: 0.833662\n",
      "# 220  (meta-test-task) test_loss: 1.269641, test_acc: 0.653947\n"
     ]
    },
    {
     "name": "stderr",
     "output_type": "stream",
     "text": [
      "Meta Train: 100%|█| 96/96 [00:55<00:00,  1.72it/s, epoch=5, train_loss=0.010, train_acc=1.000]\n",
      "Meta Test : 100%|█| 20/20 [00:01<00:00, 18.03it/s, epoch=5, train_loss=0.013, train_acc=1.000]\n"
     ]
    },
    {
     "name": "stdout",
     "output_type": "stream",
     "text": [
      "# 221 (meta-train-task) test_loss: 0.094184, test_acc: 0.823575\n",
      "# 221  (meta-test-task) test_loss: 1.217767, test_acc: 0.680000\n"
     ]
    },
    {
     "name": "stderr",
     "output_type": "stream",
     "text": [
      "Meta Train: 100%|█| 96/96 [00:56<00:00,  1.71it/s, epoch=5, train_loss=0.008, train_acc=1.000]\n",
      "Meta Test : 100%|█| 20/20 [00:01<00:00, 17.94it/s, epoch=5, train_loss=0.006, train_acc=1.000]\n"
     ]
    },
    {
     "name": "stdout",
     "output_type": "stream",
     "text": [
      "# 222 (meta-train-task) test_loss: 0.094204, test_acc: 0.821985\n",
      "# 222  (meta-test-task) test_loss: 1.244102, test_acc: 0.664737\n"
     ]
    },
    {
     "name": "stderr",
     "output_type": "stream",
     "text": [
      "Meta Train: 100%|█| 96/96 [00:56<00:00,  1.71it/s, epoch=5, train_loss=0.007, train_acc=1.000]\n",
      "Meta Test : 100%|█| 20/20 [00:01<00:00, 18.05it/s, epoch=5, train_loss=0.009, train_acc=1.000]\n"
     ]
    },
    {
     "name": "stdout",
     "output_type": "stream",
     "text": [
      "# 223 (meta-train-task) test_loss: 0.092787, test_acc: 0.830757\n",
      "# 223  (meta-test-task) test_loss: 1.232290, test_acc: 0.670263\n"
     ]
    },
    {
     "name": "stderr",
     "output_type": "stream",
     "text": [
      "Meta Train: 100%|█| 96/96 [00:53<00:00,  1.78it/s, epoch=5, train_loss=0.008, train_acc=1.000]\n",
      "Meta Test : 100%|█| 20/20 [00:01<00:00, 19.50it/s, epoch=5, train_loss=0.008, train_acc=1.000]\n"
     ]
    },
    {
     "name": "stdout",
     "output_type": "stream",
     "text": [
      "# 224 (meta-train-task) test_loss: 0.093815, test_acc: 0.829660\n",
      "# 224  (meta-test-task) test_loss: 1.290851, test_acc: 0.630000\n"
     ]
    },
    {
     "name": "stderr",
     "output_type": "stream",
     "text": [
      "Meta Train: 100%|█| 96/96 [00:54<00:00,  1.75it/s, epoch=5, train_loss=0.007, train_acc=1.000]\n",
      "Meta Test : 100%|█| 20/20 [00:01<00:00, 17.54it/s, epoch=5, train_loss=0.009, train_acc=1.000]\n"
     ]
    },
    {
     "name": "stdout",
     "output_type": "stream",
     "text": [
      "# 225 (meta-train-task) test_loss: 0.093202, test_acc: 0.828399\n",
      "# 225  (meta-test-task) test_loss: 1.230865, test_acc: 0.670000\n"
     ]
    },
    {
     "name": "stderr",
     "output_type": "stream",
     "text": [
      "Meta Train: 100%|█| 96/96 [00:55<00:00,  1.73it/s, epoch=5, train_loss=0.007, train_acc=1.000]\n",
      "Meta Test : 100%|█| 20/20 [00:01<00:00, 18.66it/s, epoch=5, train_loss=0.009, train_acc=1.000]\n"
     ]
    },
    {
     "name": "stdout",
     "output_type": "stream",
     "text": [
      "# 226 (meta-train-task) test_loss: 0.095994, test_acc: 0.814474\n",
      "# 226  (meta-test-task) test_loss: 1.230455, test_acc: 0.665789\n"
     ]
    },
    {
     "name": "stderr",
     "output_type": "stream",
     "text": [
      "Meta Train: 100%|█| 96/96 [00:54<00:00,  1.78it/s, epoch=5, train_loss=0.006, train_acc=1.000]\n",
      "Meta Test : 100%|█| 20/20 [00:00<00:00, 20.23it/s, epoch=5, train_loss=0.007, train_acc=1.000]\n"
     ]
    },
    {
     "name": "stdout",
     "output_type": "stream",
     "text": [
      "# 227 (meta-train-task) test_loss: 0.093575, test_acc: 0.829879\n",
      "# 227  (meta-test-task) test_loss: 1.216382, test_acc: 0.669474\n"
     ]
    },
    {
     "name": "stderr",
     "output_type": "stream",
     "text": [
      "Meta Train: 100%|█| 96/96 [00:52<00:00,  1.82it/s, epoch=5, train_loss=0.007, train_acc=1.000]\n",
      "Meta Test : 100%|█| 20/20 [00:01<00:00, 19.80it/s, epoch=5, train_loss=0.011, train_acc=1.000]\n"
     ]
    },
    {
     "name": "stdout",
     "output_type": "stream",
     "text": [
      "# 228 (meta-train-task) test_loss: 0.094261, test_acc: 0.823300\n",
      "# 228  (meta-test-task) test_loss: 1.247503, test_acc: 0.663158\n"
     ]
    },
    {
     "name": "stderr",
     "output_type": "stream",
     "text": [
      "Meta Train: 100%|█| 96/96 [00:53<00:00,  1.81it/s, epoch=5, train_loss=0.007, train_acc=1.000]\n",
      "Meta Test : 100%|█| 20/20 [00:01<00:00, 18.72it/s, epoch=5, train_loss=0.007, train_acc=1.000]\n"
     ]
    },
    {
     "name": "stdout",
     "output_type": "stream",
     "text": [
      "# 229 (meta-train-task) test_loss: 0.093281, test_acc: 0.826864\n",
      "# 229  (meta-test-task) test_loss: 1.201200, test_acc: 0.687368\n"
     ]
    },
    {
     "name": "stderr",
     "output_type": "stream",
     "text": [
      "Meta Train: 100%|█| 96/96 [00:55<00:00,  1.73it/s, epoch=5, train_loss=0.007, train_acc=1.000]\n",
      "Meta Test : 100%|█| 20/20 [00:00<00:00, 20.56it/s, epoch=5, train_loss=0.009, train_acc=1.000]\n"
     ]
    },
    {
     "name": "stdout",
     "output_type": "stream",
     "text": [
      "# 230 (meta-train-task) test_loss: 0.092693, test_acc: 0.829221\n",
      "# 230  (meta-test-task) test_loss: 1.197105, test_acc: 0.686316\n"
     ]
    },
    {
     "name": "stderr",
     "output_type": "stream",
     "text": [
      "Meta Train: 100%|█| 96/96 [00:55<00:00,  1.72it/s, epoch=5, train_loss=0.006, train_acc=1.000]\n",
      "Meta Test : 100%|█| 20/20 [00:00<00:00, 20.01it/s, epoch=5, train_loss=0.006, train_acc=1.000]\n"
     ]
    },
    {
     "name": "stdout",
     "output_type": "stream",
     "text": [
      "# 231 (meta-train-task) test_loss: 0.092988, test_acc: 0.823081\n",
      "# 231  (meta-test-task) test_loss: 1.236154, test_acc: 0.650000\n"
     ]
    },
    {
     "name": "stderr",
     "output_type": "stream",
     "text": [
      "Meta Train: 100%|█| 96/96 [00:53<00:00,  1.80it/s, epoch=5, train_loss=0.005, train_acc=1.000]\n",
      "Meta Test : 100%|█| 20/20 [00:01<00:00, 18.63it/s, epoch=5, train_loss=0.006, train_acc=1.000]\n"
     ]
    },
    {
     "name": "stdout",
     "output_type": "stream",
     "text": [
      "# 232 (meta-train-task) test_loss: 0.093518, test_acc: 0.825164\n",
      "# 232  (meta-test-task) test_loss: 1.228368, test_acc: 0.676053\n"
     ]
    },
    {
     "name": "stderr",
     "output_type": "stream",
     "text": [
      "Meta Train: 100%|█| 96/96 [00:52<00:00,  1.82it/s, epoch=5, train_loss=0.009, train_acc=1.000]\n",
      "Meta Test : 100%|█| 20/20 [00:00<00:00, 20.04it/s, epoch=5, train_loss=0.009, train_acc=1.000]\n"
     ]
    },
    {
     "name": "stdout",
     "output_type": "stream",
     "text": [
      "# 233 (meta-train-task) test_loss: 0.092712, test_acc: 0.828235\n",
      "# 233  (meta-test-task) test_loss: 1.229432, test_acc: 0.674737\n"
     ]
    },
    {
     "name": "stderr",
     "output_type": "stream",
     "text": [
      "Meta Train: 100%|█| 96/96 [00:52<00:00,  1.81it/s, epoch=5, train_loss=0.010, train_acc=1.000]\n",
      "Meta Test : 100%|█| 20/20 [00:01<00:00, 19.53it/s, epoch=5, train_loss=0.006, train_acc=1.000]\n"
     ]
    },
    {
     "name": "stdout",
     "output_type": "stream",
     "text": [
      "# 234 (meta-train-task) test_loss: 0.092020, test_acc: 0.830976\n",
      "# 234  (meta-test-task) test_loss: 1.235132, test_acc: 0.646842\n"
     ]
    },
    {
     "name": "stderr",
     "output_type": "stream",
     "text": [
      "Meta Train: 100%|█| 96/96 [00:54<00:00,  1.76it/s, epoch=5, train_loss=0.006, train_acc=1.000]\n",
      "Meta Test : 100%|█| 20/20 [00:01<00:00, 19.17it/s, epoch=5, train_loss=0.008, train_acc=1.000]\n"
     ]
    },
    {
     "name": "stdout",
     "output_type": "stream",
     "text": [
      "# 235 (meta-train-task) test_loss: 0.092179, test_acc: 0.825548\n",
      "# 235  (meta-test-task) test_loss: 1.219099, test_acc: 0.670263\n"
     ]
    },
    {
     "name": "stderr",
     "output_type": "stream",
     "text": [
      "Meta Train: 100%|█| 96/96 [00:55<00:00,  1.72it/s, epoch=5, train_loss=0.007, train_acc=1.000]\n",
      "Meta Test : 100%|█| 20/20 [00:01<00:00, 18.68it/s, epoch=5, train_loss=0.005, train_acc=1.000]\n"
     ]
    },
    {
     "name": "stdout",
     "output_type": "stream",
     "text": [
      "# 236 (meta-train-task) test_loss: 0.091234, test_acc: 0.830537\n",
      "# 236  (meta-test-task) test_loss: 1.250028, test_acc: 0.664737\n"
     ]
    },
    {
     "name": "stderr",
     "output_type": "stream",
     "text": [
      "Meta Train: 100%|█| 96/96 [00:54<00:00,  1.77it/s, epoch=5, train_loss=0.007, train_acc=1.000]\n",
      "Meta Test : 100%|█| 20/20 [00:01<00:00, 18.89it/s, epoch=5, train_loss=0.008, train_acc=1.000]\n"
     ]
    },
    {
     "name": "stdout",
     "output_type": "stream",
     "text": [
      "# 237 (meta-train-task) test_loss: 0.092049, test_acc: 0.826809\n",
      "# 237  (meta-test-task) test_loss: 1.208320, test_acc: 0.669211\n"
     ]
    },
    {
     "name": "stderr",
     "output_type": "stream",
     "text": [
      "Meta Train: 100%|█| 96/96 [00:53<00:00,  1.80it/s, epoch=5, train_loss=0.005, train_acc=1.000]\n",
      "Meta Test : 100%|█| 20/20 [00:01<00:00, 18.64it/s, epoch=5, train_loss=0.006, train_acc=1.000]\n"
     ]
    },
    {
     "name": "stdout",
     "output_type": "stream",
     "text": [
      "# 238 (meta-train-task) test_loss: 0.091676, test_acc: 0.819956\n",
      "# 238  (meta-test-task) test_loss: 1.232465, test_acc: 0.664737\n"
     ]
    },
    {
     "name": "stderr",
     "output_type": "stream",
     "text": [
      "Meta Train: 100%|█| 96/96 [00:53<00:00,  1.80it/s, epoch=5, train_loss=0.008, train_acc=1.000]\n",
      "Meta Test : 100%|█| 20/20 [00:01<00:00, 19.98it/s, epoch=5, train_loss=0.005, train_acc=1.000]\n"
     ]
    },
    {
     "name": "stdout",
     "output_type": "stream",
     "text": [
      "# 239 (meta-train-task) test_loss: 0.090828, test_acc: 0.829331\n",
      "# 239  (meta-test-task) test_loss: 1.196110, test_acc: 0.671316\n"
     ]
    },
    {
     "name": "stderr",
     "output_type": "stream",
     "text": [
      "Meta Train: 100%|█| 96/96 [00:53<00:00,  1.81it/s, epoch=5, train_loss=0.007, train_acc=1.000]\n",
      "Meta Test : 100%|█| 20/20 [00:00<00:00, 20.34it/s, epoch=5, train_loss=0.008, train_acc=1.000]\n"
     ]
    },
    {
     "name": "stdout",
     "output_type": "stream",
     "text": [
      "# 240 (meta-train-task) test_loss: 0.091932, test_acc: 0.831469\n",
      "# 240  (meta-test-task) test_loss: 1.262412, test_acc: 0.652105\n"
     ]
    },
    {
     "name": "stderr",
     "output_type": "stream",
     "text": [
      "Meta Train: 100%|█| 96/96 [00:53<00:00,  1.80it/s, epoch=5, train_loss=0.007, train_acc=1.000]\n",
      "Meta Test : 100%|█| 20/20 [00:01<00:00, 18.96it/s, epoch=5, train_loss=0.012, train_acc=1.000]\n"
     ]
    },
    {
     "name": "stdout",
     "output_type": "stream",
     "text": [
      "# 241 (meta-train-task) test_loss: 0.090951, test_acc: 0.833004\n",
      "# 241  (meta-test-task) test_loss: 1.213288, test_acc: 0.674737\n"
     ]
    },
    {
     "name": "stderr",
     "output_type": "stream",
     "text": [
      "Meta Train: 100%|█| 96/96 [00:54<00:00,  1.77it/s, epoch=5, train_loss=0.006, train_acc=1.000]\n",
      "Meta Test : 100%|█| 20/20 [00:01<00:00, 19.53it/s, epoch=5, train_loss=0.006, train_acc=1.000]\n"
     ]
    },
    {
     "name": "stdout",
     "output_type": "stream",
     "text": [
      "# 242 (meta-train-task) test_loss: 0.090706, test_acc: 0.832127\n",
      "# 242  (meta-test-task) test_loss: 1.260118, test_acc: 0.645789\n"
     ]
    },
    {
     "name": "stderr",
     "output_type": "stream",
     "text": [
      "Meta Train: 100%|█| 96/96 [00:53<00:00,  1.81it/s, epoch=5, train_loss=0.006, train_acc=1.000]\n",
      "Meta Test : 100%|█| 20/20 [00:01<00:00, 19.26it/s, epoch=5, train_loss=0.007, train_acc=1.000]\n"
     ]
    },
    {
     "name": "stdout",
     "output_type": "stream",
     "text": [
      "# 243 (meta-train-task) test_loss: 0.090462, test_acc: 0.831853\n",
      "# 243  (meta-test-task) test_loss: 1.227422, test_acc: 0.666316\n"
     ]
    },
    {
     "name": "stderr",
     "output_type": "stream",
     "text": [
      "Meta Train: 100%|█| 96/96 [00:53<00:00,  1.79it/s, epoch=5, train_loss=0.007, train_acc=1.000]\n",
      "Meta Test : 100%|█| 20/20 [00:01<00:00, 18.57it/s, epoch=5, train_loss=0.008, train_acc=1.000]\n"
     ]
    },
    {
     "name": "stdout",
     "output_type": "stream",
     "text": [
      "# 244 (meta-train-task) test_loss: 0.089282, test_acc: 0.837610\n",
      "# 244  (meta-test-task) test_loss: 1.199515, test_acc: 0.674474\n"
     ]
    },
    {
     "name": "stderr",
     "output_type": "stream",
     "text": [
      "Meta Train: 100%|█| 96/96 [00:53<00:00,  1.81it/s, epoch=5, train_loss=0.006, train_acc=1.000]\n",
      "Meta Test : 100%|█| 20/20 [00:01<00:00, 18.25it/s, epoch=5, train_loss=0.005, train_acc=1.000]\n"
     ]
    },
    {
     "name": "stdout",
     "output_type": "stream",
     "text": [
      "# 245 (meta-train-task) test_loss: 0.091089, test_acc: 0.820888\n",
      "# 245  (meta-test-task) test_loss: 1.285322, test_acc: 0.635000\n"
     ]
    },
    {
     "name": "stderr",
     "output_type": "stream",
     "text": [
      "Meta Train: 100%|█| 96/96 [00:54<00:00,  1.75it/s, epoch=5, train_loss=0.007, train_acc=1.000]\n",
      "Meta Test : 100%|█| 20/20 [00:01<00:00, 18.79it/s, epoch=5, train_loss=0.012, train_acc=1.000]\n"
     ]
    },
    {
     "name": "stdout",
     "output_type": "stream",
     "text": [
      "# 246 (meta-train-task) test_loss: 0.091204, test_acc: 0.823684\n",
      "# 246  (meta-test-task) test_loss: 1.193993, test_acc: 0.687895\n"
     ]
    },
    {
     "name": "stderr",
     "output_type": "stream",
     "text": [
      "Meta Train: 100%|█| 96/96 [00:54<00:00,  1.77it/s, epoch=5, train_loss=0.006, train_acc=1.000]\n",
      "Meta Test : 100%|█| 20/20 [00:01<00:00, 17.45it/s, epoch=5, train_loss=0.005, train_acc=1.000]\n"
     ]
    },
    {
     "name": "stdout",
     "output_type": "stream",
     "text": [
      "# 247 (meta-train-task) test_loss: 0.090253, test_acc: 0.824178\n",
      "# 247  (meta-test-task) test_loss: 1.294084, test_acc: 0.618947\n"
     ]
    },
    {
     "name": "stderr",
     "output_type": "stream",
     "text": [
      "Meta Train: 100%|█| 96/96 [00:54<00:00,  1.75it/s, epoch=5, train_loss=0.009, train_acc=1.000]\n",
      "Meta Test : 100%|█| 20/20 [00:01<00:00, 17.53it/s, epoch=5, train_loss=0.007, train_acc=1.000]\n"
     ]
    },
    {
     "name": "stdout",
     "output_type": "stream",
     "text": [
      "# 248 (meta-train-task) test_loss: 0.089408, test_acc: 0.831524\n",
      "# 248  (meta-test-task) test_loss: 1.269066, test_acc: 0.644737\n"
     ]
    },
    {
     "name": "stderr",
     "output_type": "stream",
     "text": [
      "Meta Train: 100%|█| 96/96 [00:54<00:00,  1.76it/s, epoch=5, train_loss=0.005, train_acc=1.000]\n",
      "Meta Test : 100%|█| 20/20 [00:01<00:00, 17.94it/s, epoch=5, train_loss=0.008, train_acc=1.000]\n"
     ]
    },
    {
     "name": "stdout",
     "output_type": "stream",
     "text": [
      "# 249 (meta-train-task) test_loss: 0.090413, test_acc: 0.823904\n",
      "# 249  (meta-test-task) test_loss: 1.252220, test_acc: 0.654474\n"
     ]
    },
    {
     "name": "stderr",
     "output_type": "stream",
     "text": [
      "Meta Train: 100%|█| 96/96 [00:54<00:00,  1.76it/s, epoch=5, train_loss=0.008, train_acc=1.000]\n",
      "Meta Test : 100%|█| 20/20 [00:01<00:00, 18.45it/s, epoch=5, train_loss=0.006, train_acc=1.000]\n"
     ]
    },
    {
     "name": "stdout",
     "output_type": "stream",
     "text": [
      "# 250 (meta-train-task) test_loss: 0.089657, test_acc: 0.827961\n",
      "# 250  (meta-test-task) test_loss: 1.248848, test_acc: 0.654474\n"
     ]
    },
    {
     "name": "stderr",
     "output_type": "stream",
     "text": [
      "Meta Train: 100%|█| 96/96 [00:54<00:00,  1.77it/s, epoch=5, train_loss=0.007, train_acc=1.000]\n",
      "Meta Test : 100%|█| 20/20 [00:01<00:00, 17.35it/s, epoch=5, train_loss=0.006, train_acc=1.000]\n"
     ]
    },
    {
     "name": "stdout",
     "output_type": "stream",
     "text": [
      "# 251 (meta-train-task) test_loss: 0.088703, test_acc: 0.828454\n",
      "# 251  (meta-test-task) test_loss: 1.233690, test_acc: 0.667895\n"
     ]
    },
    {
     "name": "stderr",
     "output_type": "stream",
     "text": [
      "Meta Train: 100%|█| 96/96 [00:54<00:00,  1.77it/s, epoch=5, train_loss=0.005, train_acc=1.000]\n",
      "Meta Test : 100%|█| 20/20 [00:01<00:00, 18.62it/s, epoch=5, train_loss=0.010, train_acc=1.000]\n"
     ]
    },
    {
     "name": "stdout",
     "output_type": "stream",
     "text": [
      "# 252 (meta-train-task) test_loss: 0.088151, test_acc: 0.835910\n",
      "# 252  (meta-test-task) test_loss: 1.214201, test_acc: 0.665789\n"
     ]
    },
    {
     "name": "stderr",
     "output_type": "stream",
     "text": [
      "Meta Train: 100%|█| 96/96 [00:54<00:00,  1.78it/s, epoch=5, train_loss=0.009, train_acc=1.000]\n",
      "Meta Test : 100%|█| 20/20 [00:01<00:00, 18.14it/s, epoch=5, train_loss=0.004, train_acc=1.000]\n"
     ]
    },
    {
     "name": "stdout",
     "output_type": "stream",
     "text": [
      "# 253 (meta-train-task) test_loss: 0.088681, test_acc: 0.828618\n",
      "# 253  (meta-test-task) test_loss: 1.261270, test_acc: 0.650000\n"
     ]
    },
    {
     "name": "stderr",
     "output_type": "stream",
     "text": [
      "Meta Train: 100%|█| 96/96 [00:54<00:00,  1.77it/s, epoch=5, train_loss=0.007, train_acc=1.000]\n",
      "Meta Test : 100%|█| 20/20 [00:01<00:00, 18.10it/s, epoch=5, train_loss=0.005, train_acc=1.000]\n"
     ]
    },
    {
     "name": "stdout",
     "output_type": "stream",
     "text": [
      "# 254 (meta-train-task) test_loss: 0.088086, test_acc: 0.831634\n",
      "# 254  (meta-test-task) test_loss: 1.256761, test_acc: 0.649474\n"
     ]
    },
    {
     "name": "stderr",
     "output_type": "stream",
     "text": [
      "Meta Train: 100%|█| 96/96 [00:53<00:00,  1.79it/s, epoch=5, train_loss=0.008, train_acc=1.000]\n",
      "Meta Test : 100%|█| 20/20 [00:01<00:00, 18.78it/s, epoch=5, train_loss=0.005, train_acc=1.000]\n"
     ]
    },
    {
     "name": "stdout",
     "output_type": "stream",
     "text": [
      "# 255 (meta-train-task) test_loss: 0.088851, test_acc: 0.828289\n",
      "# 255  (meta-test-task) test_loss: 1.144163, test_acc: 0.713684\n"
     ]
    },
    {
     "name": "stderr",
     "output_type": "stream",
     "text": [
      "Meta Train: 100%|█| 96/96 [00:53<00:00,  1.79it/s, epoch=5, train_loss=0.005, train_acc=1.000]\n",
      "Meta Test : 100%|█| 20/20 [00:01<00:00, 18.77it/s, epoch=5, train_loss=0.005, train_acc=1.000]\n"
     ]
    },
    {
     "name": "stdout",
     "output_type": "stream",
     "text": [
      "# 256 (meta-train-task) test_loss: 0.087567, test_acc: 0.836349\n",
      "# 256  (meta-test-task) test_loss: 1.195426, test_acc: 0.680263\n"
     ]
    },
    {
     "name": "stderr",
     "output_type": "stream",
     "text": [
      "Meta Train: 100%|█| 96/96 [00:54<00:00,  1.77it/s, epoch=5, train_loss=0.006, train_acc=1.000]\n",
      "Meta Test : 100%|█| 20/20 [00:01<00:00, 18.41it/s, epoch=5, train_loss=0.005, train_acc=1.000]\n"
     ]
    },
    {
     "name": "stdout",
     "output_type": "stream",
     "text": [
      "# 257 (meta-train-task) test_loss: 0.086823, test_acc: 0.838651\n",
      "# 257  (meta-test-task) test_loss: 1.157720, test_acc: 0.696316\n"
     ]
    },
    {
     "name": "stderr",
     "output_type": "stream",
     "text": [
      "Meta Train: 100%|█| 96/96 [00:54<00:00,  1.77it/s, epoch=5, train_loss=0.007, train_acc=1.000]\n",
      "Meta Test : 100%|█| 20/20 [00:01<00:00, 17.45it/s, epoch=5, train_loss=0.006, train_acc=1.000]\n"
     ]
    },
    {
     "name": "stdout",
     "output_type": "stream",
     "text": [
      "# 258 (meta-train-task) test_loss: 0.090295, test_acc: 0.819627\n",
      "# 258  (meta-test-task) test_loss: 1.205870, test_acc: 0.683947\n"
     ]
    },
    {
     "name": "stderr",
     "output_type": "stream",
     "text": [
      "Meta Train: 100%|█| 96/96 [00:53<00:00,  1.78it/s, epoch=5, train_loss=0.005, train_acc=1.000]\n",
      "Meta Test : 100%|█| 20/20 [00:01<00:00, 17.28it/s, epoch=5, train_loss=0.007, train_acc=1.000]\n"
     ]
    },
    {
     "name": "stdout",
     "output_type": "stream",
     "text": [
      "# 259 (meta-train-task) test_loss: 0.088021, test_acc: 0.827961\n",
      "# 259  (meta-test-task) test_loss: 1.219580, test_acc: 0.658158\n"
     ]
    },
    {
     "name": "stderr",
     "output_type": "stream",
     "text": [
      "Meta Train: 100%|█| 96/96 [00:52<00:00,  1.83it/s, epoch=5, train_loss=0.006, train_acc=1.000]\n",
      "Meta Test : 100%|█| 20/20 [00:01<00:00, 19.14it/s, epoch=5, train_loss=0.007, train_acc=1.000]\n"
     ]
    },
    {
     "name": "stdout",
     "output_type": "stream",
     "text": [
      "# 260 (meta-train-task) test_loss: 0.088136, test_acc: 0.833224\n",
      "# 260  (meta-test-task) test_loss: 1.223755, test_acc: 0.666316\n"
     ]
    },
    {
     "name": "stderr",
     "output_type": "stream",
     "text": [
      "Meta Train: 100%|█| 96/96 [00:51<00:00,  1.85it/s, epoch=5, train_loss=0.006, train_acc=1.000]\n",
      "Meta Test : 100%|█| 20/20 [00:00<00:00, 20.42it/s, epoch=5, train_loss=0.006, train_acc=1.000]\n"
     ]
    },
    {
     "name": "stdout",
     "output_type": "stream",
     "text": [
      "# 261 (meta-train-task) test_loss: 0.087438, test_acc: 0.827412\n",
      "# 261  (meta-test-task) test_loss: 1.214855, test_acc: 0.653947\n"
     ]
    },
    {
     "name": "stderr",
     "output_type": "stream",
     "text": [
      "Meta Train: 100%|█| 96/96 [00:54<00:00,  1.77it/s, epoch=5, train_loss=0.007, train_acc=1.000]\n",
      "Meta Test : 100%|█| 20/20 [00:00<00:00, 20.26it/s, epoch=5, train_loss=0.008, train_acc=1.000]\n"
     ]
    },
    {
     "name": "stdout",
     "output_type": "stream",
     "text": [
      "# 262 (meta-train-task) test_loss: 0.087519, test_acc: 0.826809\n",
      "# 262  (meta-test-task) test_loss: 1.195020, test_acc: 0.687368\n"
     ]
    },
    {
     "name": "stderr",
     "output_type": "stream",
     "text": [
      "Meta Train: 100%|█| 96/96 [00:53<00:00,  1.79it/s, epoch=5, train_loss=0.007, train_acc=1.000]\n",
      "Meta Test : 100%|█| 20/20 [00:01<00:00, 19.12it/s, epoch=5, train_loss=0.008, train_acc=1.000]\n"
     ]
    },
    {
     "name": "stdout",
     "output_type": "stream",
     "text": [
      "# 263 (meta-train-task) test_loss: 0.086968, test_acc: 0.830263\n",
      "# 263  (meta-test-task) test_loss: 1.299865, test_acc: 0.626316\n"
     ]
    },
    {
     "name": "stderr",
     "output_type": "stream",
     "text": [
      "Meta Train: 100%|█| 96/96 [00:55<00:00,  1.73it/s, epoch=5, train_loss=0.005, train_acc=1.000]\n",
      "Meta Test : 100%|█| 20/20 [00:01<00:00, 18.32it/s, epoch=5, train_loss=0.005, train_acc=1.000]\n"
     ]
    },
    {
     "name": "stdout",
     "output_type": "stream",
     "text": [
      "# 264 (meta-train-task) test_loss: 0.086811, test_acc: 0.827961\n",
      "# 264  (meta-test-task) test_loss: 1.267369, test_acc: 0.632632\n"
     ]
    },
    {
     "name": "stderr",
     "output_type": "stream",
     "text": [
      "Meta Train: 100%|█| 96/96 [00:54<00:00,  1.76it/s, epoch=5, train_loss=0.005, train_acc=1.000]\n",
      "Meta Test : 100%|█| 20/20 [00:01<00:00, 17.50it/s, epoch=5, train_loss=0.005, train_acc=1.000]\n"
     ]
    },
    {
     "name": "stdout",
     "output_type": "stream",
     "text": [
      "# 265 (meta-train-task) test_loss: 0.085018, test_acc: 0.834814\n",
      "# 265  (meta-test-task) test_loss: 1.226300, test_acc: 0.659474\n"
     ]
    },
    {
     "name": "stderr",
     "output_type": "stream",
     "text": [
      "Meta Train: 100%|█| 96/96 [00:52<00:00,  1.81it/s, epoch=5, train_loss=0.006, train_acc=1.000]\n",
      "Meta Test : 100%|█| 20/20 [00:01<00:00, 18.54it/s, epoch=5, train_loss=0.006, train_acc=1.000]\n"
     ]
    },
    {
     "name": "stdout",
     "output_type": "stream",
     "text": [
      "# 266 (meta-train-task) test_loss: 0.085002, test_acc: 0.837610\n",
      "# 266  (meta-test-task) test_loss: 1.187215, test_acc: 0.675000\n"
     ]
    },
    {
     "name": "stderr",
     "output_type": "stream",
     "text": [
      "Meta Train: 100%|█| 96/96 [00:52<00:00,  1.81it/s, epoch=5, train_loss=0.005, train_acc=1.000]\n",
      "Meta Test : 100%|█| 20/20 [00:01<00:00, 18.74it/s, epoch=5, train_loss=0.006, train_acc=1.000]\n"
     ]
    },
    {
     "name": "stdout",
     "output_type": "stream",
     "text": [
      "# 267 (meta-train-task) test_loss: 0.085762, test_acc: 0.838596\n",
      "# 267  (meta-test-task) test_loss: 1.216352, test_acc: 0.662895\n"
     ]
    },
    {
     "name": "stderr",
     "output_type": "stream",
     "text": [
      "Meta Train: 100%|█| 96/96 [00:52<00:00,  1.81it/s, epoch=5, train_loss=0.004, train_acc=1.000]\n",
      "Meta Test : 100%|█| 20/20 [00:01<00:00, 18.88it/s, epoch=5, train_loss=0.009, train_acc=1.000]\n"
     ]
    },
    {
     "name": "stdout",
     "output_type": "stream",
     "text": [
      "# 268 (meta-train-task) test_loss: 0.084846, test_acc: 0.838651\n",
      "# 268  (meta-test-task) test_loss: 1.157015, test_acc: 0.674737\n"
     ]
    },
    {
     "name": "stderr",
     "output_type": "stream",
     "text": [
      "Meta Train: 100%|█| 96/96 [00:53<00:00,  1.81it/s, epoch=5, train_loss=0.006, train_acc=1.000]\n",
      "Meta Test : 100%|█| 20/20 [00:01<00:00, 18.88it/s, epoch=5, train_loss=0.005, train_acc=1.000]\n"
     ]
    },
    {
     "name": "stdout",
     "output_type": "stream",
     "text": [
      "# 269 (meta-train-task) test_loss: 0.084921, test_acc: 0.838542\n",
      "# 269  (meta-test-task) test_loss: 1.244527, test_acc: 0.655263\n"
     ]
    },
    {
     "name": "stderr",
     "output_type": "stream",
     "text": [
      "Meta Train: 100%|█| 96/96 [00:53<00:00,  1.81it/s, epoch=5, train_loss=0.004, train_acc=1.000]\n",
      "Meta Test : 100%|█| 20/20 [00:01<00:00, 18.63it/s, epoch=5, train_loss=0.013, train_acc=1.000]\n"
     ]
    },
    {
     "name": "stdout",
     "output_type": "stream",
     "text": [
      "# 270 (meta-train-task) test_loss: 0.085015, test_acc: 0.840022\n",
      "# 270  (meta-test-task) test_loss: 1.264400, test_acc: 0.639737\n"
     ]
    },
    {
     "name": "stderr",
     "output_type": "stream",
     "text": [
      "Meta Train: 100%|█| 96/96 [00:53<00:00,  1.81it/s, epoch=5, train_loss=0.004, train_acc=1.000]\n",
      "Meta Test : 100%|█| 20/20 [00:01<00:00, 18.72it/s, epoch=5, train_loss=0.005, train_acc=1.000]\n"
     ]
    },
    {
     "name": "stdout",
     "output_type": "stream",
     "text": [
      "# 271 (meta-train-task) test_loss: 0.084757, test_acc: 0.842654\n",
      "# 271  (meta-test-task) test_loss: 1.170157, test_acc: 0.673421\n"
     ]
    },
    {
     "name": "stderr",
     "output_type": "stream",
     "text": [
      "Meta Train: 100%|█| 96/96 [00:53<00:00,  1.81it/s, epoch=5, train_loss=0.005, train_acc=1.000]\n",
      "Meta Test : 100%|█| 20/20 [00:01<00:00, 18.64it/s, epoch=5, train_loss=0.006, train_acc=1.000]\n"
     ]
    },
    {
     "name": "stdout",
     "output_type": "stream",
     "text": [
      "# 272 (meta-train-task) test_loss: 0.085550, test_acc: 0.830976\n",
      "# 272  (meta-test-task) test_loss: 1.184891, test_acc: 0.682368\n"
     ]
    },
    {
     "name": "stderr",
     "output_type": "stream",
     "text": [
      "Meta Train: 100%|█| 96/96 [00:53<00:00,  1.79it/s, epoch=5, train_loss=0.006, train_acc=1.000]\n",
      "Meta Test : 100%|█| 20/20 [00:01<00:00, 18.43it/s, epoch=5, train_loss=0.007, train_acc=1.000]\n"
     ]
    },
    {
     "name": "stdout",
     "output_type": "stream",
     "text": [
      "# 273 (meta-train-task) test_loss: 0.085515, test_acc: 0.826974\n",
      "# 273  (meta-test-task) test_loss: 1.165950, test_acc: 0.689474\n"
     ]
    },
    {
     "name": "stderr",
     "output_type": "stream",
     "text": [
      "Meta Train: 100%|█| 96/96 [00:52<00:00,  1.81it/s, epoch=5, train_loss=0.004, train_acc=1.000]\n",
      "Meta Test : 100%|█| 20/20 [00:01<00:00, 18.66it/s, epoch=5, train_loss=0.005, train_acc=1.000]\n"
     ]
    },
    {
     "name": "stdout",
     "output_type": "stream",
     "text": [
      "# 274 (meta-train-task) test_loss: 0.083527, test_acc: 0.840735\n",
      "# 274  (meta-test-task) test_loss: 1.180776, test_acc: 0.683947\n"
     ]
    },
    {
     "name": "stderr",
     "output_type": "stream",
     "text": [
      "Meta Train: 100%|█| 96/96 [00:53<00:00,  1.80it/s, epoch=5, train_loss=0.005, train_acc=1.000]\n",
      "Meta Test : 100%|█| 20/20 [00:01<00:00, 18.67it/s, epoch=5, train_loss=0.007, train_acc=1.000]\n"
     ]
    },
    {
     "name": "stdout",
     "output_type": "stream",
     "text": [
      "# 275 (meta-train-task) test_loss: 0.085811, test_acc: 0.828070\n",
      "# 275  (meta-test-task) test_loss: 1.181465, test_acc: 0.675263\n"
     ]
    },
    {
     "name": "stderr",
     "output_type": "stream",
     "text": [
      "Meta Train: 100%|█| 96/96 [00:53<00:00,  1.81it/s, epoch=5, train_loss=0.006, train_acc=1.000]\n",
      "Meta Test : 100%|█| 20/20 [00:01<00:00, 18.62it/s, epoch=5, train_loss=0.006, train_acc=1.000]\n"
     ]
    },
    {
     "name": "stdout",
     "output_type": "stream",
     "text": [
      "# 276 (meta-train-task) test_loss: 0.083268, test_acc: 0.837500\n",
      "# 276  (meta-test-task) test_loss: 1.191106, test_acc: 0.657895\n"
     ]
    },
    {
     "name": "stderr",
     "output_type": "stream",
     "text": [
      "Meta Train: 100%|█| 96/96 [00:53<00:00,  1.80it/s, epoch=5, train_loss=0.006, train_acc=1.000]\n",
      "Meta Test : 100%|█| 20/20 [00:01<00:00, 18.70it/s, epoch=5, train_loss=0.005, train_acc=1.000]\n"
     ]
    },
    {
     "name": "stdout",
     "output_type": "stream",
     "text": [
      "# 277 (meta-train-task) test_loss: 0.084744, test_acc: 0.832072\n",
      "# 277  (meta-test-task) test_loss: 1.160438, test_acc: 0.686579\n"
     ]
    },
    {
     "name": "stderr",
     "output_type": "stream",
     "text": [
      "Meta Train: 100%|█| 96/96 [00:53<00:00,  1.80it/s, epoch=5, train_loss=0.006, train_acc=1.000]\n",
      "Meta Test : 100%|█| 20/20 [00:01<00:00, 19.00it/s, epoch=5, train_loss=0.009, train_acc=1.000]\n"
     ]
    },
    {
     "name": "stdout",
     "output_type": "stream",
     "text": [
      "# 278 (meta-train-task) test_loss: 0.084153, test_acc: 0.829386\n",
      "# 278  (meta-test-task) test_loss: 1.232209, test_acc: 0.642368\n"
     ]
    },
    {
     "name": "stderr",
     "output_type": "stream",
     "text": [
      "Meta Train: 100%|█| 96/96 [00:53<00:00,  1.80it/s, epoch=5, train_loss=0.005, train_acc=1.000]\n",
      "Meta Test : 100%|█| 20/20 [00:01<00:00, 18.58it/s, epoch=5, train_loss=0.008, train_acc=1.000]\n"
     ]
    },
    {
     "name": "stdout",
     "output_type": "stream",
     "text": [
      "# 279 (meta-train-task) test_loss: 0.081924, test_acc: 0.844463\n",
      "# 279  (meta-test-task) test_loss: 1.179787, test_acc: 0.664211\n"
     ]
    },
    {
     "name": "stderr",
     "output_type": "stream",
     "text": [
      "Meta Train: 100%|█| 96/96 [00:52<00:00,  1.81it/s, epoch=5, train_loss=0.004, train_acc=1.000]\n",
      "Meta Test : 100%|█| 20/20 [00:01<00:00, 18.45it/s, epoch=5, train_loss=0.005, train_acc=1.000]\n"
     ]
    },
    {
     "name": "stdout",
     "output_type": "stream",
     "text": [
      "# 280 (meta-train-task) test_loss: 0.084420, test_acc: 0.828015\n",
      "# 280  (meta-test-task) test_loss: 1.178963, test_acc: 0.670000\n"
     ]
    },
    {
     "name": "stderr",
     "output_type": "stream",
     "text": [
      "Meta Train: 100%|█| 96/96 [00:52<00:00,  1.82it/s, epoch=5, train_loss=0.006, train_acc=1.000]\n",
      "Meta Test : 100%|█| 20/20 [00:01<00:00, 18.87it/s, epoch=5, train_loss=0.004, train_acc=1.000]\n"
     ]
    },
    {
     "name": "stdout",
     "output_type": "stream",
     "text": [
      "# 281 (meta-train-task) test_loss: 0.083369, test_acc: 0.830976\n",
      "# 281  (meta-test-task) test_loss: 1.250260, test_acc: 0.648684\n"
     ]
    },
    {
     "name": "stderr",
     "output_type": "stream",
     "text": [
      "Meta Train: 100%|█| 96/96 [00:53<00:00,  1.80it/s, epoch=5, train_loss=0.005, train_acc=1.000]\n",
      "Meta Test : 100%|█| 20/20 [00:01<00:00, 18.75it/s, epoch=5, train_loss=0.005, train_acc=1.000]\n"
     ]
    },
    {
     "name": "stdout",
     "output_type": "stream",
     "text": [
      "# 282 (meta-train-task) test_loss: 0.083048, test_acc: 0.837664\n",
      "# 282  (meta-test-task) test_loss: 1.176141, test_acc: 0.669737\n"
     ]
    },
    {
     "name": "stderr",
     "output_type": "stream",
     "text": [
      "Meta Train: 100%|█| 96/96 [00:53<00:00,  1.81it/s, epoch=5, train_loss=0.003, train_acc=1.000]\n",
      "Meta Test : 100%|█| 20/20 [00:01<00:00, 18.63it/s, epoch=5, train_loss=0.005, train_acc=1.000]\n"
     ]
    },
    {
     "name": "stdout",
     "output_type": "stream",
     "text": [
      "# 283 (meta-train-task) test_loss: 0.082310, test_acc: 0.839748\n",
      "# 283  (meta-test-task) test_loss: 1.194067, test_acc: 0.662368\n"
     ]
    },
    {
     "name": "stderr",
     "output_type": "stream",
     "text": [
      "Meta Train: 100%|█| 96/96 [00:53<00:00,  1.81it/s, epoch=5, train_loss=0.008, train_acc=1.000]\n",
      "Meta Test : 100%|█| 20/20 [00:01<00:00, 18.65it/s, epoch=5, train_loss=0.005, train_acc=1.000]\n"
     ]
    },
    {
     "name": "stdout",
     "output_type": "stream",
     "text": [
      "# 284 (meta-train-task) test_loss: 0.083993, test_acc: 0.834539\n",
      "# 284  (meta-test-task) test_loss: 1.165350, test_acc: 0.681053\n"
     ]
    },
    {
     "name": "stderr",
     "output_type": "stream",
     "text": [
      "Meta Train: 100%|█| 96/96 [00:53<00:00,  1.81it/s, epoch=5, train_loss=0.005, train_acc=1.000]\n",
      "Meta Test : 100%|█| 20/20 [00:01<00:00, 18.67it/s, epoch=5, train_loss=0.006, train_acc=1.000]\n"
     ]
    },
    {
     "name": "stdout",
     "output_type": "stream",
     "text": [
      "# 285 (meta-train-task) test_loss: 0.081867, test_acc: 0.834101\n",
      "# 285  (meta-test-task) test_loss: 1.181466, test_acc: 0.679737\n"
     ]
    },
    {
     "name": "stderr",
     "output_type": "stream",
     "text": [
      "Meta Train: 100%|█| 96/96 [00:52<00:00,  1.81it/s, epoch=5, train_loss=0.006, train_acc=1.000]\n",
      "Meta Test : 100%|█| 20/20 [00:01<00:00, 18.95it/s, epoch=5, train_loss=0.007, train_acc=1.000]\n"
     ]
    },
    {
     "name": "stdout",
     "output_type": "stream",
     "text": [
      "# 286 (meta-train-task) test_loss: 0.082184, test_acc: 0.840296\n",
      "# 286  (meta-test-task) test_loss: 1.208397, test_acc: 0.668158\n"
     ]
    },
    {
     "name": "stderr",
     "output_type": "stream",
     "text": [
      "Meta Train: 100%|█| 96/96 [00:52<00:00,  1.81it/s, epoch=5, train_loss=0.005, train_acc=1.000]\n",
      "Meta Test : 100%|█| 20/20 [00:01<00:00, 18.64it/s, epoch=5, train_loss=0.005, train_acc=1.000]\n"
     ]
    },
    {
     "name": "stdout",
     "output_type": "stream",
     "text": [
      "# 287 (meta-train-task) test_loss: 0.084863, test_acc: 0.820998\n",
      "# 287  (meta-test-task) test_loss: 1.168534, test_acc: 0.680000\n"
     ]
    },
    {
     "name": "stderr",
     "output_type": "stream",
     "text": [
      "Meta Train: 100%|█| 96/96 [00:52<00:00,  1.82it/s, epoch=5, train_loss=0.005, train_acc=1.000]\n",
      "Meta Test : 100%|█| 20/20 [00:01<00:00, 18.41it/s, epoch=5, train_loss=0.005, train_acc=1.000]\n"
     ]
    },
    {
     "name": "stdout",
     "output_type": "stream",
     "text": [
      "# 288 (meta-train-task) test_loss: 0.081911, test_acc: 0.835088\n",
      "# 288  (meta-test-task) test_loss: 1.193516, test_acc: 0.662105\n"
     ]
    },
    {
     "name": "stderr",
     "output_type": "stream",
     "text": [
      "Meta Train: 100%|█| 96/96 [00:53<00:00,  1.81it/s, epoch=5, train_loss=0.005, train_acc=1.000]\n",
      "Meta Test : 100%|█| 20/20 [00:01<00:00, 18.70it/s, epoch=5, train_loss=0.005, train_acc=1.000]\n"
     ]
    },
    {
     "name": "stdout",
     "output_type": "stream",
     "text": [
      "# 289 (meta-train-task) test_loss: 0.082410, test_acc: 0.836623\n",
      "# 289  (meta-test-task) test_loss: 1.196471, test_acc: 0.670000\n"
     ]
    },
    {
     "name": "stderr",
     "output_type": "stream",
     "text": [
      "Meta Train: 100%|█| 96/96 [00:53<00:00,  1.81it/s, epoch=5, train_loss=0.006, train_acc=1.000]\n",
      "Meta Test : 100%|█| 20/20 [00:01<00:00, 18.67it/s, epoch=5, train_loss=0.007, train_acc=1.000]\n"
     ]
    },
    {
     "name": "stdout",
     "output_type": "stream",
     "text": [
      "# 290 (meta-train-task) test_loss: 0.082888, test_acc: 0.831031\n",
      "# 290  (meta-test-task) test_loss: 1.175759, test_acc: 0.683684\n"
     ]
    },
    {
     "name": "stderr",
     "output_type": "stream",
     "text": [
      "Meta Train: 100%|█| 96/96 [00:52<00:00,  1.81it/s, epoch=5, train_loss=0.006, train_acc=1.000]\n",
      "Meta Test : 100%|█| 20/20 [00:01<00:00, 18.74it/s, epoch=5, train_loss=0.005, train_acc=1.000]\n"
     ]
    },
    {
     "name": "stdout",
     "output_type": "stream",
     "text": [
      "# 291 (meta-train-task) test_loss: 0.083440, test_acc: 0.830208\n",
      "# 291  (meta-test-task) test_loss: 1.170346, test_acc: 0.671316\n"
     ]
    },
    {
     "name": "stderr",
     "output_type": "stream",
     "text": [
      "Meta Train: 100%|█| 96/96 [00:53<00:00,  1.81it/s, epoch=5, train_loss=0.005, train_acc=1.000]\n",
      "Meta Test : 100%|█| 20/20 [00:01<00:00, 18.54it/s, epoch=5, train_loss=0.007, train_acc=1.000]\n"
     ]
    },
    {
     "name": "stdout",
     "output_type": "stream",
     "text": [
      "# 292 (meta-train-task) test_loss: 0.080281, test_acc: 0.838048\n",
      "# 292  (meta-test-task) test_loss: 1.178947, test_acc: 0.677368\n"
     ]
    },
    {
     "name": "stderr",
     "output_type": "stream",
     "text": [
      "Meta Train: 100%|█| 96/96 [00:53<00:00,  1.81it/s, epoch=5, train_loss=0.005, train_acc=1.000]\n",
      "Meta Test : 100%|█| 20/20 [00:01<00:00, 18.64it/s, epoch=5, train_loss=0.006, train_acc=1.000]\n"
     ]
    },
    {
     "name": "stdout",
     "output_type": "stream",
     "text": [
      "# 293 (meta-train-task) test_loss: 0.081992, test_acc: 0.837116\n",
      "# 293  (meta-test-task) test_loss: 1.158227, test_acc: 0.678421\n"
     ]
    },
    {
     "name": "stderr",
     "output_type": "stream",
     "text": [
      "Meta Train: 100%|█| 96/96 [00:53<00:00,  1.81it/s, epoch=5, train_loss=0.004, train_acc=1.000]\n",
      "Meta Test : 100%|█| 20/20 [00:01<00:00, 18.77it/s, epoch=5, train_loss=0.006, train_acc=1.000]\n"
     ]
    },
    {
     "name": "stdout",
     "output_type": "stream",
     "text": [
      "# 294 (meta-train-task) test_loss: 0.082552, test_acc: 0.832401\n",
      "# 294  (meta-test-task) test_loss: 1.175516, test_acc: 0.666053\n"
     ]
    },
    {
     "name": "stderr",
     "output_type": "stream",
     "text": [
      "Meta Train: 100%|█| 96/96 [00:52<00:00,  1.82it/s, epoch=5, train_loss=0.005, train_acc=1.000]\n",
      "Meta Test : 100%|█| 20/20 [00:01<00:00, 18.37it/s, epoch=5, train_loss=0.005, train_acc=1.000]\n"
     ]
    },
    {
     "name": "stdout",
     "output_type": "stream",
     "text": [
      "# 295 (meta-train-task) test_loss: 0.081662, test_acc: 0.832566\n",
      "# 295  (meta-test-task) test_loss: 1.142981, test_acc: 0.685789\n"
     ]
    },
    {
     "name": "stderr",
     "output_type": "stream",
     "text": [
      "Meta Train: 100%|█| 96/96 [00:52<00:00,  1.81it/s, epoch=5, train_loss=0.004, train_acc=1.000]\n",
      "Meta Test : 100%|█| 20/20 [00:01<00:00, 18.61it/s, epoch=5, train_loss=0.007, train_acc=1.000]\n"
     ]
    },
    {
     "name": "stdout",
     "output_type": "stream",
     "text": [
      "# 296 (meta-train-task) test_loss: 0.082196, test_acc: 0.829989\n",
      "# 296  (meta-test-task) test_loss: 1.176713, test_acc: 0.669474\n"
     ]
    },
    {
     "name": "stderr",
     "output_type": "stream",
     "text": [
      "Meta Train: 100%|█| 96/96 [00:52<00:00,  1.81it/s, epoch=5, train_loss=0.005, train_acc=1.000]\n",
      "Meta Test : 100%|█| 20/20 [00:01<00:00, 18.54it/s, epoch=5, train_loss=0.004, train_acc=1.000]\n"
     ]
    },
    {
     "name": "stdout",
     "output_type": "stream",
     "text": [
      "# 297 (meta-train-task) test_loss: 0.080673, test_acc: 0.836842\n",
      "# 297  (meta-test-task) test_loss: 1.214942, test_acc: 0.653947\n"
     ]
    },
    {
     "name": "stderr",
     "output_type": "stream",
     "text": [
      "Meta Train: 100%|█| 96/96 [00:52<00:00,  1.81it/s, epoch=5, train_loss=0.005, train_acc=1.000]\n",
      "Meta Test : 100%|█| 20/20 [00:01<00:00, 18.58it/s, epoch=5, train_loss=0.005, train_acc=1.000]\n"
     ]
    },
    {
     "name": "stdout",
     "output_type": "stream",
     "text": [
      "# 298 (meta-train-task) test_loss: 0.081638, test_acc: 0.831250\n",
      "# 298  (meta-test-task) test_loss: 1.175701, test_acc: 0.665789\n"
     ]
    },
    {
     "name": "stderr",
     "output_type": "stream",
     "text": [
      "Meta Train: 100%|█| 96/96 [00:52<00:00,  1.81it/s, epoch=5, train_loss=0.005, train_acc=1.000]\n",
      "Meta Test : 100%|█| 20/20 [00:01<00:00, 18.58it/s, epoch=5, train_loss=0.004, train_acc=1.000]\n"
     ]
    },
    {
     "name": "stdout",
     "output_type": "stream",
     "text": [
      "# 299 (meta-train-task) test_loss: 0.081510, test_acc: 0.836239\n",
      "# 299  (meta-test-task) test_loss: 1.193766, test_acc: 0.658684\n"
     ]
    },
    {
     "name": "stderr",
     "output_type": "stream",
     "text": [
      "Meta Train: 100%|█| 96/96 [00:52<00:00,  1.82it/s, epoch=5, train_loss=0.003, train_acc=1.000]\n",
      "Meta Test : 100%|█| 20/20 [00:01<00:00, 18.11it/s, epoch=5, train_loss=0.004, train_acc=1.000]\n"
     ]
    },
    {
     "name": "stdout",
     "output_type": "stream",
     "text": [
      "# 300 (meta-train-task) test_loss: 0.081076, test_acc: 0.838213\n",
      "# 300  (meta-test-task) test_loss: 1.175743, test_acc: 0.682895\n"
     ]
    },
    {
     "name": "stderr",
     "output_type": "stream",
     "text": [
      "Meta Train: 100%|█| 96/96 [00:52<00:00,  1.81it/s, epoch=5, train_loss=0.004, train_acc=1.000]\n",
      "Meta Test : 100%|█| 20/20 [00:01<00:00, 18.72it/s, epoch=5, train_loss=0.004, train_acc=1.000]\n"
     ]
    },
    {
     "name": "stdout",
     "output_type": "stream",
     "text": [
      "# 301 (meta-train-task) test_loss: 0.081070, test_acc: 0.832950\n",
      "# 301  (meta-test-task) test_loss: 1.117611, test_acc: 0.697632\n"
     ]
    },
    {
     "name": "stderr",
     "output_type": "stream",
     "text": [
      "Meta Train: 100%|█| 96/96 [00:52<00:00,  1.81it/s, epoch=5, train_loss=0.005, train_acc=1.000]\n",
      "Meta Test : 100%|█| 20/20 [00:01<00:00, 18.56it/s, epoch=5, train_loss=0.006, train_acc=1.000]\n"
     ]
    },
    {
     "name": "stdout",
     "output_type": "stream",
     "text": [
      "# 302 (meta-train-task) test_loss: 0.080845, test_acc: 0.832511\n",
      "# 302  (meta-test-task) test_loss: 1.164326, test_acc: 0.686053\n"
     ]
    },
    {
     "name": "stderr",
     "output_type": "stream",
     "text": [
      "Meta Train: 100%|█| 96/96 [00:52<00:00,  1.81it/s, epoch=5, train_loss=0.004, train_acc=1.000]\n",
      "Meta Test : 100%|█| 20/20 [00:01<00:00, 18.68it/s, epoch=5, train_loss=0.005, train_acc=1.000]\n"
     ]
    },
    {
     "name": "stdout",
     "output_type": "stream",
     "text": [
      "# 303 (meta-train-task) test_loss: 0.078065, test_acc: 0.845614\n",
      "# 303  (meta-test-task) test_loss: 1.145600, test_acc: 0.680263\n"
     ]
    },
    {
     "name": "stderr",
     "output_type": "stream",
     "text": [
      "Meta Train: 100%|█| 96/96 [00:53<00:00,  1.81it/s, epoch=5, train_loss=0.004, train_acc=1.000]\n",
      "Meta Test : 100%|█| 20/20 [00:01<00:00, 18.58it/s, epoch=5, train_loss=0.003, train_acc=1.000]\n"
     ]
    },
    {
     "name": "stdout",
     "output_type": "stream",
     "text": [
      "# 304 (meta-train-task) test_loss: 0.077203, test_acc: 0.850658\n",
      "# 304  (meta-test-task) test_loss: 1.124682, test_acc: 0.690526\n"
     ]
    },
    {
     "name": "stderr",
     "output_type": "stream",
     "text": [
      "Meta Train: 100%|█| 96/96 [00:52<00:00,  1.81it/s, epoch=5, train_loss=0.005, train_acc=1.000]\n",
      "Meta Test : 100%|█| 20/20 [00:01<00:00, 18.45it/s, epoch=5, train_loss=0.005, train_acc=1.000]\n"
     ]
    },
    {
     "name": "stdout",
     "output_type": "stream",
     "text": [
      "# 305 (meta-train-task) test_loss: 0.079038, test_acc: 0.839364\n",
      "# 305  (meta-test-task) test_loss: 1.225995, test_acc: 0.658158\n"
     ]
    },
    {
     "name": "stderr",
     "output_type": "stream",
     "text": [
      "Meta Train: 100%|█| 96/96 [00:52<00:00,  1.81it/s, epoch=5, train_loss=0.004, train_acc=1.000]\n",
      "Meta Test : 100%|█| 20/20 [00:01<00:00, 18.77it/s, epoch=5, train_loss=0.008, train_acc=1.000]\n"
     ]
    },
    {
     "name": "stdout",
     "output_type": "stream",
     "text": [
      "# 306 (meta-train-task) test_loss: 0.077449, test_acc: 0.843586\n",
      "# 306  (meta-test-task) test_loss: 1.147335, test_acc: 0.677368\n"
     ]
    },
    {
     "name": "stderr",
     "output_type": "stream",
     "text": [
      "Meta Train: 100%|█| 96/96 [00:52<00:00,  1.81it/s, epoch=5, train_loss=0.004, train_acc=1.000]\n",
      "Meta Test : 100%|█| 20/20 [00:01<00:00, 18.79it/s, epoch=5, train_loss=0.003, train_acc=1.000]\n"
     ]
    },
    {
     "name": "stdout",
     "output_type": "stream",
     "text": [
      "# 307 (meta-train-task) test_loss: 0.077113, test_acc: 0.847588\n",
      "# 307  (meta-test-task) test_loss: 1.191572, test_acc: 0.660789\n"
     ]
    },
    {
     "name": "stderr",
     "output_type": "stream",
     "text": [
      "Meta Train: 100%|█| 96/96 [00:52<00:00,  1.81it/s, epoch=5, train_loss=0.003, train_acc=1.000]\n",
      "Meta Test : 100%|█| 20/20 [00:01<00:00, 18.80it/s, epoch=5, train_loss=0.005, train_acc=1.000]\n"
     ]
    },
    {
     "name": "stdout",
     "output_type": "stream",
     "text": [
      "# 308 (meta-train-task) test_loss: 0.080133, test_acc: 0.825548\n",
      "# 308  (meta-test-task) test_loss: 1.147481, test_acc: 0.678158\n"
     ]
    },
    {
     "name": "stderr",
     "output_type": "stream",
     "text": [
      "Meta Train: 100%|█| 96/96 [00:52<00:00,  1.81it/s, epoch=5, train_loss=0.003, train_acc=1.000]\n",
      "Meta Test : 100%|█| 20/20 [00:01<00:00, 18.96it/s, epoch=5, train_loss=0.005, train_acc=1.000]\n"
     ]
    },
    {
     "name": "stdout",
     "output_type": "stream",
     "text": [
      "# 309 (meta-train-task) test_loss: 0.077695, test_acc: 0.841557\n",
      "# 309  (meta-test-task) test_loss: 1.159358, test_acc: 0.678158\n"
     ]
    },
    {
     "name": "stderr",
     "output_type": "stream",
     "text": [
      "Meta Train: 100%|█| 96/96 [00:52<00:00,  1.81it/s, epoch=5, train_loss=0.003, train_acc=1.000]\n",
      "Meta Test : 100%|█| 20/20 [00:01<00:00, 18.76it/s, epoch=5, train_loss=0.007, train_acc=1.000]\n"
     ]
    },
    {
     "name": "stdout",
     "output_type": "stream",
     "text": [
      "# 310 (meta-train-task) test_loss: 0.078507, test_acc: 0.839090\n",
      "# 310  (meta-test-task) test_loss: 1.189452, test_acc: 0.670263\n"
     ]
    },
    {
     "name": "stderr",
     "output_type": "stream",
     "text": [
      "Meta Train: 100%|█| 96/96 [00:52<00:00,  1.82it/s, epoch=5, train_loss=0.003, train_acc=1.000]\n",
      "Meta Test : 100%|█| 20/20 [00:01<00:00, 18.14it/s, epoch=5, train_loss=0.007, train_acc=1.000]\n"
     ]
    },
    {
     "name": "stdout",
     "output_type": "stream",
     "text": [
      "# 311 (meta-train-task) test_loss: 0.078927, test_acc: 0.831798\n",
      "# 311  (meta-test-task) test_loss: 1.111843, test_acc: 0.688421\n"
     ]
    },
    {
     "name": "stderr",
     "output_type": "stream",
     "text": [
      "Meta Train: 100%|█| 96/96 [00:53<00:00,  1.81it/s, epoch=5, train_loss=0.005, train_acc=1.000]\n",
      "Meta Test : 100%|█| 20/20 [00:01<00:00, 18.23it/s, epoch=5, train_loss=0.004, train_acc=1.000]\n"
     ]
    },
    {
     "name": "stdout",
     "output_type": "stream",
     "text": [
      "# 312 (meta-train-task) test_loss: 0.076965, test_acc: 0.845669\n",
      "# 312  (meta-test-task) test_loss: 1.179179, test_acc: 0.667895\n"
     ]
    },
    {
     "name": "stderr",
     "output_type": "stream",
     "text": [
      "Meta Train: 100%|█| 96/96 [00:52<00:00,  1.81it/s, epoch=5, train_loss=0.004, train_acc=1.000]\n",
      "Meta Test : 100%|█| 20/20 [00:01<00:00, 18.97it/s, epoch=5, train_loss=0.006, train_acc=1.000]\n"
     ]
    },
    {
     "name": "stdout",
     "output_type": "stream",
     "text": [
      "# 313 (meta-train-task) test_loss: 0.076070, test_acc: 0.846053\n",
      "# 313  (meta-test-task) test_loss: 1.100434, test_acc: 0.700263\n"
     ]
    },
    {
     "name": "stderr",
     "output_type": "stream",
     "text": [
      "Meta Train: 100%|█| 96/96 [00:53<00:00,  1.81it/s, epoch=5, train_loss=0.004, train_acc=1.000]\n",
      "Meta Test : 100%|█| 20/20 [00:01<00:00, 18.39it/s, epoch=5, train_loss=0.005, train_acc=1.000]\n"
     ]
    },
    {
     "name": "stdout",
     "output_type": "stream",
     "text": [
      "# 314 (meta-train-task) test_loss: 0.078574, test_acc: 0.838871\n",
      "# 314  (meta-test-task) test_loss: 1.193129, test_acc: 0.668947\n"
     ]
    },
    {
     "name": "stderr",
     "output_type": "stream",
     "text": [
      "Meta Train: 100%|█| 96/96 [00:52<00:00,  1.81it/s, epoch=5, train_loss=0.005, train_acc=1.000]\n",
      "Meta Test : 100%|█| 20/20 [00:01<00:00, 18.62it/s, epoch=5, train_loss=0.004, train_acc=1.000]\n"
     ]
    },
    {
     "name": "stdout",
     "output_type": "stream",
     "text": [
      "# 315 (meta-train-task) test_loss: 0.075365, test_acc: 0.844901\n",
      "# 315  (meta-test-task) test_loss: 1.160301, test_acc: 0.666579\n"
     ]
    },
    {
     "name": "stderr",
     "output_type": "stream",
     "text": [
      "Meta Train: 100%|█| 96/96 [00:52<00:00,  1.82it/s, epoch=5, train_loss=0.003, train_acc=1.000]\n",
      "Meta Test : 100%|█| 20/20 [00:01<00:00, 18.70it/s, epoch=5, train_loss=0.004, train_acc=1.000]\n"
     ]
    },
    {
     "name": "stdout",
     "output_type": "stream",
     "text": [
      "# 316 (meta-train-task) test_loss: 0.077433, test_acc: 0.834430\n",
      "# 316  (meta-test-task) test_loss: 1.151563, test_acc: 0.667105\n"
     ]
    },
    {
     "name": "stderr",
     "output_type": "stream",
     "text": [
      "Meta Train: 100%|█| 96/96 [00:53<00:00,  1.81it/s, epoch=5, train_loss=0.003, train_acc=1.000]\n",
      "Meta Test : 100%|█| 20/20 [00:01<00:00, 18.86it/s, epoch=5, train_loss=0.005, train_acc=1.000]\n"
     ]
    },
    {
     "name": "stdout",
     "output_type": "stream",
     "text": [
      "# 317 (meta-train-task) test_loss: 0.076173, test_acc: 0.841886\n",
      "# 317  (meta-test-task) test_loss: 1.145878, test_acc: 0.675000\n"
     ]
    },
    {
     "name": "stderr",
     "output_type": "stream",
     "text": [
      "Meta Train: 100%|█| 96/96 [00:52<00:00,  1.82it/s, epoch=5, train_loss=0.004, train_acc=1.000]\n",
      "Meta Test : 100%|█| 20/20 [00:01<00:00, 18.27it/s, epoch=5, train_loss=0.004, train_acc=1.000]\n"
     ]
    },
    {
     "name": "stdout",
     "output_type": "stream",
     "text": [
      "# 318 (meta-train-task) test_loss: 0.076745, test_acc: 0.839090\n",
      "# 318  (meta-test-task) test_loss: 1.150037, test_acc: 0.685263\n"
     ]
    },
    {
     "name": "stderr",
     "output_type": "stream",
     "text": [
      "Meta Train: 100%|█| 96/96 [00:53<00:00,  1.81it/s, epoch=5, train_loss=0.004, train_acc=1.000]\n",
      "Meta Test : 100%|█| 20/20 [00:01<00:00, 18.19it/s, epoch=5, train_loss=0.005, train_acc=1.000]\n"
     ]
    },
    {
     "name": "stdout",
     "output_type": "stream",
     "text": [
      "# 319 (meta-train-task) test_loss: 0.078603, test_acc: 0.831250\n",
      "# 319  (meta-test-task) test_loss: 1.139437, test_acc: 0.686579\n"
     ]
    },
    {
     "name": "stderr",
     "output_type": "stream",
     "text": [
      "Meta Train: 100%|█| 96/96 [00:53<00:00,  1.81it/s, epoch=5, train_loss=0.003, train_acc=1.000]\n",
      "Meta Test : 100%|█| 20/20 [00:01<00:00, 18.87it/s, epoch=5, train_loss=0.006, train_acc=1.000]\n"
     ]
    },
    {
     "name": "stdout",
     "output_type": "stream",
     "text": [
      "# 320 (meta-train-task) test_loss: 0.074722, test_acc: 0.851425\n",
      "# 320  (meta-test-task) test_loss: 1.175511, test_acc: 0.669737\n"
     ]
    },
    {
     "name": "stderr",
     "output_type": "stream",
     "text": [
      "Meta Train: 100%|█| 96/96 [00:53<00:00,  1.81it/s, epoch=5, train_loss=0.004, train_acc=1.000]\n",
      "Meta Test : 100%|█| 20/20 [00:01<00:00, 18.70it/s, epoch=5, train_loss=0.004, train_acc=1.000]\n"
     ]
    },
    {
     "name": "stdout",
     "output_type": "stream",
     "text": [
      "# 321 (meta-train-task) test_loss: 0.075830, test_acc: 0.840077\n",
      "# 321  (meta-test-task) test_loss: 1.192512, test_acc: 0.661579\n"
     ]
    },
    {
     "name": "stderr",
     "output_type": "stream",
     "text": [
      "Meta Train: 100%|█| 96/96 [00:52<00:00,  1.81it/s, epoch=5, train_loss=0.006, train_acc=1.000]\n",
      "Meta Test : 100%|█| 20/20 [00:01<00:00, 18.68it/s, epoch=5, train_loss=0.003, train_acc=1.000]\n"
     ]
    },
    {
     "name": "stdout",
     "output_type": "stream",
     "text": [
      "# 322 (meta-train-task) test_loss: 0.074191, test_acc: 0.850548\n",
      "# 322  (meta-test-task) test_loss: 1.156577, test_acc: 0.671316\n"
     ]
    },
    {
     "name": "stderr",
     "output_type": "stream",
     "text": [
      "Meta Train: 100%|█| 96/96 [00:53<00:00,  1.81it/s, epoch=5, train_loss=0.003, train_acc=1.000]\n",
      "Meta Test : 100%|█| 20/20 [00:01<00:00, 18.70it/s, epoch=5, train_loss=0.004, train_acc=1.000]\n"
     ]
    },
    {
     "name": "stdout",
     "output_type": "stream",
     "text": [
      "# 323 (meta-train-task) test_loss: 0.074164, test_acc: 0.846327\n",
      "# 323  (meta-test-task) test_loss: 1.157880, test_acc: 0.661579\n"
     ]
    },
    {
     "name": "stderr",
     "output_type": "stream",
     "text": [
      "Meta Train: 100%|█| 96/96 [00:52<00:00,  1.81it/s, epoch=5, train_loss=0.003, train_acc=1.000]\n",
      "Meta Test : 100%|█| 20/20 [00:01<00:00, 18.75it/s, epoch=5, train_loss=0.009, train_acc=1.000]\n"
     ]
    },
    {
     "name": "stdout",
     "output_type": "stream",
     "text": [
      "# 324 (meta-train-task) test_loss: 0.076171, test_acc: 0.836404\n",
      "# 324  (meta-test-task) test_loss: 1.105632, test_acc: 0.696842\n"
     ]
    },
    {
     "name": "stderr",
     "output_type": "stream",
     "text": [
      "Meta Train: 100%|█| 96/96 [00:52<00:00,  1.81it/s, epoch=5, train_loss=0.003, train_acc=1.000]\n",
      "Meta Test : 100%|█| 20/20 [00:01<00:00, 18.66it/s, epoch=5, train_loss=0.006, train_acc=1.000]\n"
     ]
    },
    {
     "name": "stdout",
     "output_type": "stream",
     "text": [
      "# 325 (meta-train-task) test_loss: 0.075959, test_acc: 0.839035\n",
      "# 325  (meta-test-task) test_loss: 1.152084, test_acc: 0.684474\n"
     ]
    },
    {
     "name": "stderr",
     "output_type": "stream",
     "text": [
      "Meta Train: 100%|█| 96/96 [00:53<00:00,  1.81it/s, epoch=5, train_loss=0.003, train_acc=1.000]\n",
      "Meta Test : 100%|█| 20/20 [00:01<00:00, 18.34it/s, epoch=5, train_loss=0.003, train_acc=1.000]\n"
     ]
    },
    {
     "name": "stdout",
     "output_type": "stream",
     "text": [
      "# 326 (meta-train-task) test_loss: 0.074685, test_acc: 0.843366\n",
      "# 326  (meta-test-task) test_loss: 1.146609, test_acc: 0.676316\n"
     ]
    },
    {
     "name": "stderr",
     "output_type": "stream",
     "text": [
      "Meta Train: 100%|█| 96/96 [00:52<00:00,  1.82it/s, epoch=5, train_loss=0.005, train_acc=1.000]\n",
      "Meta Test : 100%|█| 20/20 [00:01<00:00, 18.80it/s, epoch=5, train_loss=0.004, train_acc=1.000]\n"
     ]
    },
    {
     "name": "stdout",
     "output_type": "stream",
     "text": [
      "# 327 (meta-train-task) test_loss: 0.075286, test_acc: 0.841283\n",
      "# 327  (meta-test-task) test_loss: 1.112968, test_acc: 0.688684\n"
     ]
    },
    {
     "name": "stderr",
     "output_type": "stream",
     "text": [
      "Meta Train: 100%|█| 96/96 [00:52<00:00,  1.81it/s, epoch=5, train_loss=0.003, train_acc=1.000]\n",
      "Meta Test : 100%|█| 20/20 [00:01<00:00, 19.22it/s, epoch=5, train_loss=0.004, train_acc=1.000]\n"
     ]
    },
    {
     "name": "stdout",
     "output_type": "stream",
     "text": [
      "# 328 (meta-train-task) test_loss: 0.075944, test_acc: 0.832566\n",
      "# 328  (meta-test-task) test_loss: 1.157610, test_acc: 0.675263\n"
     ]
    },
    {
     "name": "stderr",
     "output_type": "stream",
     "text": [
      "Meta Train: 100%|█| 96/96 [00:52<00:00,  1.82it/s, epoch=5, train_loss=0.003, train_acc=1.000]\n",
      "Meta Test : 100%|█| 20/20 [00:01<00:00, 18.62it/s, epoch=5, train_loss=0.006, train_acc=1.000]\n"
     ]
    },
    {
     "name": "stdout",
     "output_type": "stream",
     "text": [
      "# 329 (meta-train-task) test_loss: 0.075112, test_acc: 0.841776\n",
      "# 329  (meta-test-task) test_loss: 1.177233, test_acc: 0.669211\n"
     ]
    },
    {
     "name": "stderr",
     "output_type": "stream",
     "text": [
      "Meta Train: 100%|█| 96/96 [00:52<00:00,  1.82it/s, epoch=5, train_loss=0.003, train_acc=1.000]\n",
      "Meta Test : 100%|█| 20/20 [00:01<00:00, 18.79it/s, epoch=5, train_loss=0.005, train_acc=1.000]\n"
     ]
    },
    {
     "name": "stdout",
     "output_type": "stream",
     "text": [
      "# 330 (meta-train-task) test_loss: 0.073849, test_acc: 0.845066\n",
      "# 330  (meta-test-task) test_loss: 1.060509, test_acc: 0.708684\n"
     ]
    },
    {
     "name": "stderr",
     "output_type": "stream",
     "text": [
      "Meta Train: 100%|█| 96/96 [00:53<00:00,  1.81it/s, epoch=5, train_loss=0.003, train_acc=1.000]\n",
      "Meta Test : 100%|█| 20/20 [00:01<00:00, 18.95it/s, epoch=5, train_loss=0.005, train_acc=1.000]\n"
     ]
    },
    {
     "name": "stdout",
     "output_type": "stream",
     "text": [
      "# 331 (meta-train-task) test_loss: 0.074289, test_acc: 0.846711\n",
      "# 331  (meta-test-task) test_loss: 1.146586, test_acc: 0.670000\n"
     ]
    },
    {
     "name": "stderr",
     "output_type": "stream",
     "text": [
      "Meta Train: 100%|█| 96/96 [00:52<00:00,  1.81it/s, epoch=5, train_loss=0.004, train_acc=1.000]\n",
      "Meta Test : 100%|█| 20/20 [00:01<00:00, 18.65it/s, epoch=5, train_loss=0.006, train_acc=1.000]\n"
     ]
    },
    {
     "name": "stdout",
     "output_type": "stream",
     "text": [
      "# 332 (meta-train-task) test_loss: 0.074020, test_acc: 0.842928\n",
      "# 332  (meta-test-task) test_loss: 1.117740, test_acc: 0.703158\n"
     ]
    },
    {
     "name": "stderr",
     "output_type": "stream",
     "text": [
      "Meta Train: 100%|█| 96/96 [00:52<00:00,  1.81it/s, epoch=5, train_loss=0.005, train_acc=1.000]\n",
      "Meta Test : 100%|█| 20/20 [00:01<00:00, 18.57it/s, epoch=5, train_loss=0.003, train_acc=1.000]\n"
     ]
    },
    {
     "name": "stdout",
     "output_type": "stream",
     "text": [
      "# 333 (meta-train-task) test_loss: 0.074963, test_acc: 0.836294\n",
      "# 333  (meta-test-task) test_loss: 1.119098, test_acc: 0.685526\n"
     ]
    },
    {
     "name": "stderr",
     "output_type": "stream",
     "text": [
      "Meta Train: 100%|█| 96/96 [00:52<00:00,  1.82it/s, epoch=5, train_loss=0.004, train_acc=1.000]\n",
      "Meta Test : 100%|█| 20/20 [00:01<00:00, 18.78it/s, epoch=5, train_loss=0.003, train_acc=1.000]\n"
     ]
    },
    {
     "name": "stdout",
     "output_type": "stream",
     "text": [
      "# 334 (meta-train-task) test_loss: 0.075031, test_acc: 0.834868\n",
      "# 334  (meta-test-task) test_loss: 1.175302, test_acc: 0.671579\n"
     ]
    },
    {
     "name": "stderr",
     "output_type": "stream",
     "text": [
      "Meta Train: 100%|█| 96/96 [00:52<00:00,  1.82it/s, epoch=5, train_loss=0.003, train_acc=1.000]\n",
      "Meta Test : 100%|█| 20/20 [00:01<00:00, 18.63it/s, epoch=5, train_loss=0.003, train_acc=1.000]\n"
     ]
    },
    {
     "name": "stdout",
     "output_type": "stream",
     "text": [
      "# 335 (meta-train-task) test_loss: 0.073435, test_acc: 0.844572\n",
      "# 335  (meta-test-task) test_loss: 1.139738, test_acc: 0.665789\n"
     ]
    },
    {
     "name": "stderr",
     "output_type": "stream",
     "text": [
      "Meta Train: 100%|█| 96/96 [00:53<00:00,  1.81it/s, epoch=5, train_loss=0.004, train_acc=1.000]\n",
      "Meta Test : 100%|█| 20/20 [00:01<00:00, 18.05it/s, epoch=5, train_loss=0.004, train_acc=1.000]\n"
     ]
    },
    {
     "name": "stdout",
     "output_type": "stream",
     "text": [
      "# 336 (meta-train-task) test_loss: 0.072896, test_acc: 0.847862\n",
      "# 336  (meta-test-task) test_loss: 1.138667, test_acc: 0.675789\n"
     ]
    },
    {
     "name": "stderr",
     "output_type": "stream",
     "text": [
      "Meta Train: 100%|█| 96/96 [00:52<00:00,  1.82it/s, epoch=5, train_loss=0.003, train_acc=1.000]\n",
      "Meta Test : 100%|█| 20/20 [00:01<00:00, 18.69it/s, epoch=5, train_loss=0.006, train_acc=1.000]\n"
     ]
    },
    {
     "name": "stdout",
     "output_type": "stream",
     "text": [
      "# 337 (meta-train-task) test_loss: 0.073163, test_acc: 0.846327\n",
      "# 337  (meta-test-task) test_loss: 1.158879, test_acc: 0.666842\n"
     ]
    },
    {
     "name": "stderr",
     "output_type": "stream",
     "text": [
      "Meta Train: 100%|█| 96/96 [00:52<00:00,  1.81it/s, epoch=5, train_loss=0.004, train_acc=1.000]\n",
      "Meta Test : 100%|█| 20/20 [00:01<00:00, 18.91it/s, epoch=5, train_loss=0.004, train_acc=1.000]\n"
     ]
    },
    {
     "name": "stdout",
     "output_type": "stream",
     "text": [
      "# 338 (meta-train-task) test_loss: 0.073412, test_acc: 0.842928\n",
      "# 338  (meta-test-task) test_loss: 1.102632, test_acc: 0.700000\n"
     ]
    },
    {
     "name": "stderr",
     "output_type": "stream",
     "text": [
      "Meta Train: 100%|█| 96/96 [00:52<00:00,  1.82it/s, epoch=5, train_loss=0.004, train_acc=1.000]\n",
      "Meta Test : 100%|█| 20/20 [00:01<00:00, 18.65it/s, epoch=5, train_loss=0.004, train_acc=1.000]\n"
     ]
    },
    {
     "name": "stdout",
     "output_type": "stream",
     "text": [
      "# 339 (meta-train-task) test_loss: 0.073545, test_acc: 0.842379\n",
      "# 339  (meta-test-task) test_loss: 1.127844, test_acc: 0.686579\n"
     ]
    },
    {
     "name": "stderr",
     "output_type": "stream",
     "text": [
      "Meta Train: 100%|█| 96/96 [00:52<00:00,  1.82it/s, epoch=5, train_loss=0.004, train_acc=1.000]\n",
      "Meta Test : 100%|█| 20/20 [00:01<00:00, 18.30it/s, epoch=5, train_loss=0.005, train_acc=1.000]\n"
     ]
    },
    {
     "name": "stdout",
     "output_type": "stream",
     "text": [
      "# 340 (meta-train-task) test_loss: 0.073481, test_acc: 0.841886\n",
      "# 340  (meta-test-task) test_loss: 1.128330, test_acc: 0.669211\n"
     ]
    },
    {
     "name": "stderr",
     "output_type": "stream",
     "text": [
      "Meta Train: 100%|█| 96/96 [00:52<00:00,  1.82it/s, epoch=5, train_loss=0.003, train_acc=1.000]\n",
      "Meta Test : 100%|█| 20/20 [00:01<00:00, 18.37it/s, epoch=5, train_loss=0.006, train_acc=1.000]\n"
     ]
    },
    {
     "name": "stdout",
     "output_type": "stream",
     "text": [
      "# 341 (meta-train-task) test_loss: 0.072133, test_acc: 0.846765\n",
      "# 341  (meta-test-task) test_loss: 1.159739, test_acc: 0.670263\n"
     ]
    },
    {
     "name": "stderr",
     "output_type": "stream",
     "text": [
      "Meta Train: 100%|█| 96/96 [00:52<00:00,  1.81it/s, epoch=5, train_loss=0.003, train_acc=1.000]\n",
      "Meta Test : 100%|█| 20/20 [00:01<00:00, 18.85it/s, epoch=5, train_loss=0.004, train_acc=1.000]\n"
     ]
    },
    {
     "name": "stdout",
     "output_type": "stream",
     "text": [
      "# 342 (meta-train-task) test_loss: 0.072530, test_acc: 0.846327\n",
      "# 342  (meta-test-task) test_loss: 1.184045, test_acc: 0.652105\n"
     ]
    },
    {
     "name": "stderr",
     "output_type": "stream",
     "text": [
      "Meta Train: 100%|█| 96/96 [00:52<00:00,  1.81it/s, epoch=5, train_loss=0.003, train_acc=1.000]\n",
      "Meta Test : 100%|█| 20/20 [00:01<00:00, 19.33it/s, epoch=5, train_loss=0.006, train_acc=1.000]\n"
     ]
    },
    {
     "name": "stdout",
     "output_type": "stream",
     "text": [
      "# 343 (meta-train-task) test_loss: 0.071987, test_acc: 0.845175\n",
      "# 343  (meta-test-task) test_loss: 1.166006, test_acc: 0.655789\n"
     ]
    },
    {
     "name": "stderr",
     "output_type": "stream",
     "text": [
      "Meta Train: 100%|█| 96/96 [00:53<00:00,  1.81it/s, epoch=5, train_loss=0.004, train_acc=1.000]\n",
      "Meta Test : 100%|█| 20/20 [00:01<00:00, 19.14it/s, epoch=5, train_loss=0.005, train_acc=1.000]\n"
     ]
    },
    {
     "name": "stdout",
     "output_type": "stream",
     "text": [
      "# 344 (meta-train-task) test_loss: 0.072880, test_acc: 0.842982\n",
      "# 344  (meta-test-task) test_loss: 1.068228, test_acc: 0.712632\n"
     ]
    },
    {
     "name": "stderr",
     "output_type": "stream",
     "text": [
      "Meta Train: 100%|█| 96/96 [00:52<00:00,  1.82it/s, epoch=5, train_loss=0.003, train_acc=1.000]\n",
      "Meta Test : 100%|█| 20/20 [00:01<00:00, 18.60it/s, epoch=5, train_loss=0.008, train_acc=1.000]\n"
     ]
    },
    {
     "name": "stdout",
     "output_type": "stream",
     "text": [
      "# 345 (meta-train-task) test_loss: 0.071736, test_acc: 0.845230\n",
      "# 345  (meta-test-task) test_loss: 1.117481, test_acc: 0.685526\n"
     ]
    },
    {
     "name": "stderr",
     "output_type": "stream",
     "text": [
      "Meta Train: 100%|█| 96/96 [00:52<00:00,  1.81it/s, epoch=5, train_loss=0.003, train_acc=1.000]\n",
      "Meta Test : 100%|█| 20/20 [00:01<00:00, 18.70it/s, epoch=5, train_loss=0.004, train_acc=1.000]\n"
     ]
    },
    {
     "name": "stdout",
     "output_type": "stream",
     "text": [
      "# 346 (meta-train-task) test_loss: 0.070928, test_acc: 0.851425\n",
      "# 346  (meta-test-task) test_loss: 1.152596, test_acc: 0.666842\n"
     ]
    },
    {
     "name": "stderr",
     "output_type": "stream",
     "text": [
      "Meta Train: 100%|█| 96/96 [00:53<00:00,  1.81it/s, epoch=5, train_loss=0.002, train_acc=1.000]\n",
      "Meta Test : 100%|█| 20/20 [00:01<00:00, 18.54it/s, epoch=5, train_loss=0.005, train_acc=1.000]\n"
     ]
    },
    {
     "name": "stdout",
     "output_type": "stream",
     "text": [
      "# 347 (meta-train-task) test_loss: 0.070305, test_acc: 0.855373\n",
      "# 347  (meta-test-task) test_loss: 1.120712, test_acc: 0.677105\n"
     ]
    },
    {
     "name": "stderr",
     "output_type": "stream",
     "text": [
      "Meta Train: 100%|█| 96/96 [00:52<00:00,  1.82it/s, epoch=5, train_loss=0.003, train_acc=1.000]\n",
      "Meta Test : 100%|█| 20/20 [00:01<00:00, 18.13it/s, epoch=5, train_loss=0.004, train_acc=1.000]\n"
     ]
    },
    {
     "name": "stdout",
     "output_type": "stream",
     "text": [
      "# 348 (meta-train-task) test_loss: 0.072774, test_acc: 0.837829\n",
      "# 348  (meta-test-task) test_loss: 1.138671, test_acc: 0.670526\n"
     ]
    },
    {
     "name": "stderr",
     "output_type": "stream",
     "text": [
      "Meta Train: 100%|█| 96/96 [00:53<00:00,  1.81it/s, epoch=5, train_loss=0.002, train_acc=1.000]\n",
      "Meta Test : 100%|█| 20/20 [00:01<00:00, 18.80it/s, epoch=5, train_loss=0.005, train_acc=1.000]\n"
     ]
    },
    {
     "name": "stdout",
     "output_type": "stream",
     "text": [
      "# 349 (meta-train-task) test_loss: 0.070048, test_acc: 0.854825\n",
      "# 349  (meta-test-task) test_loss: 1.111460, test_acc: 0.676316\n"
     ]
    },
    {
     "name": "stderr",
     "output_type": "stream",
     "text": [
      "Meta Train: 100%|█| 96/96 [00:52<00:00,  1.81it/s, epoch=5, train_loss=0.004, train_acc=1.000]\n",
      "Meta Test : 100%|█| 20/20 [00:01<00:00, 18.55it/s, epoch=5, train_loss=0.005, train_acc=1.000]\n"
     ]
    },
    {
     "name": "stdout",
     "output_type": "stream",
     "text": [
      "# 350 (meta-train-task) test_loss: 0.069407, test_acc: 0.854550\n",
      "# 350  (meta-test-task) test_loss: 1.108921, test_acc: 0.689211\n"
     ]
    },
    {
     "name": "stderr",
     "output_type": "stream",
     "text": [
      "Meta Train: 100%|█| 96/96 [00:52<00:00,  1.82it/s, epoch=5, train_loss=0.002, train_acc=1.000]\n",
      "Meta Test : 100%|█| 20/20 [00:01<00:00, 18.67it/s, epoch=5, train_loss=0.004, train_acc=1.000]\n"
     ]
    },
    {
     "name": "stdout",
     "output_type": "stream",
     "text": [
      "# 351 (meta-train-task) test_loss: 0.072057, test_acc: 0.834759\n",
      "# 351  (meta-test-task) test_loss: 1.151901, test_acc: 0.646579\n"
     ]
    },
    {
     "name": "stderr",
     "output_type": "stream",
     "text": [
      "Meta Train: 100%|█| 96/96 [00:53<00:00,  1.80it/s, epoch=5, train_loss=0.003, train_acc=1.000]\n",
      "Meta Test : 100%|█| 20/20 [00:01<00:00, 18.23it/s, epoch=5, train_loss=0.003, train_acc=1.000]\n"
     ]
    },
    {
     "name": "stdout",
     "output_type": "stream",
     "text": [
      "# 352 (meta-train-task) test_loss: 0.070173, test_acc: 0.850548\n",
      "# 352  (meta-test-task) test_loss: 1.092198, test_acc: 0.690789\n"
     ]
    },
    {
     "name": "stderr",
     "output_type": "stream",
     "text": [
      "Meta Train: 100%|█| 96/96 [00:53<00:00,  1.80it/s, epoch=5, train_loss=0.003, train_acc=1.000]\n",
      "Meta Test : 100%|█| 20/20 [00:01<00:00, 18.86it/s, epoch=5, train_loss=0.003, train_acc=1.000]\n"
     ]
    },
    {
     "name": "stdout",
     "output_type": "stream",
     "text": [
      "# 353 (meta-train-task) test_loss: 0.069945, test_acc: 0.850768\n",
      "# 353  (meta-test-task) test_loss: 1.123811, test_acc: 0.686316\n"
     ]
    },
    {
     "name": "stderr",
     "output_type": "stream",
     "text": [
      "Meta Train: 100%|█| 96/96 [00:53<00:00,  1.80it/s, epoch=5, train_loss=0.003, train_acc=1.000]\n",
      "Meta Test : 100%|█| 20/20 [00:01<00:00, 18.70it/s, epoch=5, train_loss=0.005, train_acc=1.000]\n"
     ]
    },
    {
     "name": "stdout",
     "output_type": "stream",
     "text": [
      "# 354 (meta-train-task) test_loss: 0.071020, test_acc: 0.842215\n",
      "# 354  (meta-test-task) test_loss: 1.106332, test_acc: 0.691316\n"
     ]
    },
    {
     "name": "stderr",
     "output_type": "stream",
     "text": [
      "Meta Train: 100%|█| 96/96 [00:53<00:00,  1.80it/s, epoch=5, train_loss=0.003, train_acc=1.000]\n",
      "Meta Test : 100%|█| 20/20 [00:01<00:00, 18.77it/s, epoch=5, train_loss=0.005, train_acc=1.000]\n"
     ]
    },
    {
     "name": "stdout",
     "output_type": "stream",
     "text": [
      "# 355 (meta-train-task) test_loss: 0.069962, test_acc: 0.847423\n",
      "# 355  (meta-test-task) test_loss: 1.079036, test_acc: 0.693421\n"
     ]
    },
    {
     "name": "stderr",
     "output_type": "stream",
     "text": [
      "Meta Train: 100%|█| 96/96 [00:53<00:00,  1.81it/s, epoch=5, train_loss=0.003, train_acc=1.000]\n",
      "Meta Test : 100%|█| 20/20 [00:01<00:00, 18.82it/s, epoch=5, train_loss=0.005, train_acc=1.000]\n"
     ]
    },
    {
     "name": "stdout",
     "output_type": "stream",
     "text": [
      "# 356 (meta-train-task) test_loss: 0.068768, test_acc: 0.852851\n",
      "# 356  (meta-test-task) test_loss: 1.054543, test_acc: 0.718947\n"
     ]
    },
    {
     "name": "stderr",
     "output_type": "stream",
     "text": [
      "Meta Train: 100%|█| 96/96 [00:53<00:00,  1.81it/s, epoch=5, train_loss=0.002, train_acc=1.000]\n",
      "Meta Test : 100%|█| 20/20 [00:01<00:00, 18.76it/s, epoch=5, train_loss=0.005, train_acc=1.000]\n"
     ]
    },
    {
     "name": "stdout",
     "output_type": "stream",
     "text": [
      "# 357 (meta-train-task) test_loss: 0.071496, test_acc: 0.844298\n",
      "# 357  (meta-test-task) test_loss: 1.135186, test_acc: 0.662368\n"
     ]
    },
    {
     "name": "stderr",
     "output_type": "stream",
     "text": [
      "Meta Train: 100%|█| 96/96 [00:53<00:00,  1.81it/s, epoch=5, train_loss=0.002, train_acc=1.000]\n",
      "Meta Test : 100%|█| 20/20 [00:01<00:00, 18.54it/s, epoch=5, train_loss=0.004, train_acc=1.000]\n"
     ]
    },
    {
     "name": "stdout",
     "output_type": "stream",
     "text": [
      "# 358 (meta-train-task) test_loss: 0.069396, test_acc: 0.848246\n",
      "# 358  (meta-test-task) test_loss: 1.100023, test_acc: 0.682895\n"
     ]
    },
    {
     "name": "stderr",
     "output_type": "stream",
     "text": [
      "Meta Train: 100%|█| 96/96 [00:52<00:00,  1.81it/s, epoch=5, train_loss=0.002, train_acc=1.000]\n",
      "Meta Test : 100%|█| 20/20 [00:01<00:00, 18.69it/s, epoch=5, train_loss=0.003, train_acc=1.000]\n"
     ]
    },
    {
     "name": "stdout",
     "output_type": "stream",
     "text": [
      "# 359 (meta-train-task) test_loss: 0.069696, test_acc: 0.849671\n",
      "# 359  (meta-test-task) test_loss: 1.147987, test_acc: 0.667895\n"
     ]
    },
    {
     "name": "stderr",
     "output_type": "stream",
     "text": [
      "Meta Train: 100%|█| 96/96 [00:52<00:00,  1.82it/s, epoch=5, train_loss=0.003, train_acc=1.000]\n",
      "Meta Test : 100%|█| 20/20 [00:01<00:00, 18.74it/s, epoch=5, train_loss=0.003, train_acc=1.000]\n"
     ]
    },
    {
     "name": "stdout",
     "output_type": "stream",
     "text": [
      "# 360 (meta-train-task) test_loss: 0.069823, test_acc: 0.849232\n",
      "# 360  (meta-test-task) test_loss: 1.184990, test_acc: 0.661053\n"
     ]
    },
    {
     "name": "stderr",
     "output_type": "stream",
     "text": [
      "Meta Train: 100%|█| 96/96 [00:52<00:00,  1.81it/s, epoch=5, train_loss=0.003, train_acc=1.000]\n",
      "Meta Test : 100%|█| 20/20 [00:01<00:00, 18.77it/s, epoch=5, train_loss=0.004, train_acc=1.000]\n"
     ]
    },
    {
     "name": "stdout",
     "output_type": "stream",
     "text": [
      "# 361 (meta-train-task) test_loss: 0.069644, test_acc: 0.846382\n",
      "# 361  (meta-test-task) test_loss: 1.103462, test_acc: 0.671579\n"
     ]
    },
    {
     "name": "stderr",
     "output_type": "stream",
     "text": [
      "Meta Train: 100%|█| 96/96 [00:52<00:00,  1.81it/s, epoch=5, train_loss=0.003, train_acc=1.000]\n",
      "Meta Test : 100%|█| 20/20 [00:01<00:00, 18.59it/s, epoch=5, train_loss=0.005, train_acc=1.000]\n"
     ]
    },
    {
     "name": "stdout",
     "output_type": "stream",
     "text": [
      "# 362 (meta-train-task) test_loss: 0.069476, test_acc: 0.850384\n",
      "# 362  (meta-test-task) test_loss: 1.088062, test_acc: 0.682895\n"
     ]
    },
    {
     "name": "stderr",
     "output_type": "stream",
     "text": [
      "Meta Train: 100%|█| 96/96 [00:52<00:00,  1.81it/s, epoch=5, train_loss=0.002, train_acc=1.000]\n",
      "Meta Test : 100%|█| 20/20 [00:01<00:00, 18.85it/s, epoch=5, train_loss=0.004, train_acc=1.000]\n"
     ]
    },
    {
     "name": "stdout",
     "output_type": "stream",
     "text": [
      "# 363 (meta-train-task) test_loss: 0.068334, test_acc: 0.856853\n",
      "# 363  (meta-test-task) test_loss: 1.120700, test_acc: 0.672368\n"
     ]
    },
    {
     "name": "stderr",
     "output_type": "stream",
     "text": [
      "Meta Train: 100%|█| 96/96 [00:52<00:00,  1.82it/s, epoch=5, train_loss=0.002, train_acc=1.000]\n",
      "Meta Test : 100%|█| 20/20 [00:01<00:00, 18.53it/s, epoch=5, train_loss=0.006, train_acc=1.000]\n"
     ]
    },
    {
     "name": "stdout",
     "output_type": "stream",
     "text": [
      "# 364 (meta-train-task) test_loss: 0.068441, test_acc: 0.853070\n",
      "# 364  (meta-test-task) test_loss: 1.136820, test_acc: 0.665526\n"
     ]
    },
    {
     "name": "stderr",
     "output_type": "stream",
     "text": [
      "Meta Train: 100%|█| 96/96 [00:53<00:00,  1.80it/s, epoch=5, train_loss=0.003, train_acc=1.000]\n",
      "Meta Test : 100%|█| 20/20 [00:01<00:00, 18.62it/s, epoch=5, train_loss=0.003, train_acc=1.000]\n"
     ]
    },
    {
     "name": "stdout",
     "output_type": "stream",
     "text": [
      "# 365 (meta-train-task) test_loss: 0.069221, test_acc: 0.847971\n",
      "# 365  (meta-test-task) test_loss: 1.083104, test_acc: 0.687895\n"
     ]
    },
    {
     "name": "stderr",
     "output_type": "stream",
     "text": [
      "Meta Train: 100%|█| 96/96 [00:53<00:00,  1.81it/s, epoch=5, train_loss=0.002, train_acc=1.000]\n",
      "Meta Test : 100%|█| 20/20 [00:01<00:00, 18.77it/s, epoch=5, train_loss=0.003, train_acc=1.000]\n"
     ]
    },
    {
     "name": "stdout",
     "output_type": "stream",
     "text": [
      "# 366 (meta-train-task) test_loss: 0.067149, test_acc: 0.854057\n",
      "# 366  (meta-test-task) test_loss: 1.109657, test_acc: 0.679474\n"
     ]
    },
    {
     "name": "stderr",
     "output_type": "stream",
     "text": [
      "Meta Train: 100%|█| 96/96 [00:53<00:00,  1.81it/s, epoch=5, train_loss=0.003, train_acc=1.000]\n",
      "Meta Test : 100%|█| 20/20 [00:01<00:00, 18.45it/s, epoch=5, train_loss=0.006, train_acc=1.000]\n"
     ]
    },
    {
     "name": "stdout",
     "output_type": "stream",
     "text": [
      "# 367 (meta-train-task) test_loss: 0.067801, test_acc: 0.851700\n",
      "# 367  (meta-test-task) test_loss: 1.144187, test_acc: 0.665789\n"
     ]
    },
    {
     "name": "stderr",
     "output_type": "stream",
     "text": [
      "Meta Train: 100%|█| 96/96 [00:52<00:00,  1.81it/s, epoch=5, train_loss=0.002, train_acc=1.000]\n",
      "Meta Test : 100%|█| 20/20 [00:01<00:00, 18.74it/s, epoch=5, train_loss=0.003, train_acc=1.000]\n"
     ]
    },
    {
     "name": "stdout",
     "output_type": "stream",
     "text": [
      "# 368 (meta-train-task) test_loss: 0.067822, test_acc: 0.850274\n",
      "# 368  (meta-test-task) test_loss: 1.135356, test_acc: 0.657105\n"
     ]
    },
    {
     "name": "stderr",
     "output_type": "stream",
     "text": [
      "Meta Train: 100%|█| 96/96 [00:53<00:00,  1.81it/s, epoch=5, train_loss=0.003, train_acc=1.000]\n",
      "Meta Test : 100%|█| 20/20 [00:01<00:00, 18.83it/s, epoch=5, train_loss=0.006, train_acc=1.000]\n"
     ]
    },
    {
     "name": "stdout",
     "output_type": "stream",
     "text": [
      "# 369 (meta-train-task) test_loss: 0.068542, test_acc: 0.846107\n",
      "# 369  (meta-test-task) test_loss: 1.141590, test_acc: 0.655263\n"
     ]
    },
    {
     "name": "stderr",
     "output_type": "stream",
     "text": [
      "Meta Train: 100%|█| 96/96 [00:53<00:00,  1.81it/s, epoch=5, train_loss=0.004, train_acc=1.000]\n",
      "Meta Test : 100%|█| 20/20 [00:01<00:00, 19.22it/s, epoch=5, train_loss=0.006, train_acc=1.000]\n"
     ]
    },
    {
     "name": "stdout",
     "output_type": "stream",
     "text": [
      "# 370 (meta-train-task) test_loss: 0.066726, test_acc: 0.853070\n",
      "# 370  (meta-test-task) test_loss: 1.065791, test_acc: 0.688421\n"
     ]
    },
    {
     "name": "stderr",
     "output_type": "stream",
     "text": [
      "Meta Train: 100%|█| 96/96 [00:53<00:00,  1.81it/s, epoch=5, train_loss=0.003, train_acc=1.000]\n",
      "Meta Test : 100%|█| 20/20 [00:01<00:00, 18.91it/s, epoch=5, train_loss=0.004, train_acc=1.000]\n"
     ]
    },
    {
     "name": "stdout",
     "output_type": "stream",
     "text": [
      "# 371 (meta-train-task) test_loss: 0.066731, test_acc: 0.854386\n",
      "# 371  (meta-test-task) test_loss: 1.163119, test_acc: 0.671842\n"
     ]
    },
    {
     "name": "stderr",
     "output_type": "stream",
     "text": [
      "Meta Train: 100%|█| 96/96 [00:53<00:00,  1.81it/s, epoch=5, train_loss=0.003, train_acc=1.000]\n",
      "Meta Test : 100%|█| 20/20 [00:01<00:00, 19.05it/s, epoch=5, train_loss=0.004, train_acc=1.000]\n"
     ]
    },
    {
     "name": "stdout",
     "output_type": "stream",
     "text": [
      "# 372 (meta-train-task) test_loss: 0.068664, test_acc: 0.845669\n",
      "# 372  (meta-test-task) test_loss: 1.113719, test_acc: 0.673947\n"
     ]
    },
    {
     "name": "stderr",
     "output_type": "stream",
     "text": [
      "Meta Train: 100%|█| 96/96 [00:53<00:00,  1.81it/s, epoch=5, train_loss=0.002, train_acc=1.000]\n",
      "Meta Test : 100%|█| 20/20 [00:01<00:00, 18.54it/s, epoch=5, train_loss=0.005, train_acc=1.000]\n"
     ]
    },
    {
     "name": "stdout",
     "output_type": "stream",
     "text": [
      "# 373 (meta-train-task) test_loss: 0.068043, test_acc: 0.846546\n",
      "# 373  (meta-test-task) test_loss: 1.163317, test_acc: 0.662368\n"
     ]
    },
    {
     "name": "stderr",
     "output_type": "stream",
     "text": [
      "Meta Train: 100%|█| 96/96 [00:52<00:00,  1.81it/s, epoch=5, train_loss=0.003, train_acc=1.000]\n",
      "Meta Test : 100%|█| 20/20 [00:01<00:00, 18.76it/s, epoch=5, train_loss=0.004, train_acc=1.000]\n"
     ]
    },
    {
     "name": "stdout",
     "output_type": "stream",
     "text": [
      "# 374 (meta-train-task) test_loss: 0.066395, test_acc: 0.860526\n",
      "# 374  (meta-test-task) test_loss: 1.130481, test_acc: 0.673947\n"
     ]
    },
    {
     "name": "stderr",
     "output_type": "stream",
     "text": [
      "Meta Train: 100%|█| 96/96 [00:52<00:00,  1.82it/s, epoch=5, train_loss=0.003, train_acc=1.000]\n",
      "Meta Test : 100%|█| 20/20 [00:01<00:00, 18.97it/s, epoch=5, train_loss=0.003, train_acc=1.000]\n"
     ]
    },
    {
     "name": "stdout",
     "output_type": "stream",
     "text": [
      "# 375 (meta-train-task) test_loss: 0.067200, test_acc: 0.851754\n",
      "# 375  (meta-test-task) test_loss: 1.149580, test_acc: 0.661053\n"
     ]
    },
    {
     "name": "stderr",
     "output_type": "stream",
     "text": [
      "Meta Train: 100%|█| 96/96 [00:52<00:00,  1.82it/s, epoch=5, train_loss=0.007, train_acc=1.000]\n",
      "Meta Test : 100%|█| 20/20 [00:01<00:00, 18.91it/s, epoch=5, train_loss=0.003, train_acc=1.000]\n"
     ]
    },
    {
     "name": "stdout",
     "output_type": "stream",
     "text": [
      "# 376 (meta-train-task) test_loss: 0.067920, test_acc: 0.845285\n",
      "# 376  (meta-test-task) test_loss: 1.174641, test_acc: 0.655000\n"
     ]
    },
    {
     "name": "stderr",
     "output_type": "stream",
     "text": [
      "Meta Train: 100%|█| 96/96 [00:53<00:00,  1.81it/s, epoch=5, train_loss=0.003, train_acc=1.000]\n",
      "Meta Test : 100%|█| 20/20 [00:01<00:00, 18.95it/s, epoch=5, train_loss=0.005, train_acc=1.000]\n"
     ]
    },
    {
     "name": "stdout",
     "output_type": "stream",
     "text": [
      "# 377 (meta-train-task) test_loss: 0.068179, test_acc: 0.845504\n",
      "# 377  (meta-test-task) test_loss: 1.089522, test_acc: 0.678947\n"
     ]
    },
    {
     "name": "stderr",
     "output_type": "stream",
     "text": [
      "Meta Train: 100%|█| 96/96 [00:52<00:00,  1.82it/s, epoch=5, train_loss=0.002, train_acc=1.000]\n",
      "Meta Test : 100%|█| 20/20 [00:01<00:00, 18.78it/s, epoch=5, train_loss=0.003, train_acc=1.000]\n"
     ]
    },
    {
     "name": "stdout",
     "output_type": "stream",
     "text": [
      "# 378 (meta-train-task) test_loss: 0.065507, test_acc: 0.859868\n",
      "# 378  (meta-test-task) test_loss: 1.096758, test_acc: 0.687632\n"
     ]
    },
    {
     "name": "stderr",
     "output_type": "stream",
     "text": [
      "Meta Train: 100%|█| 96/96 [00:53<00:00,  1.81it/s, epoch=5, train_loss=0.002, train_acc=1.000]\n",
      "Meta Test : 100%|█| 20/20 [00:01<00:00, 19.01it/s, epoch=5, train_loss=0.003, train_acc=1.000]\n"
     ]
    },
    {
     "name": "stdout",
     "output_type": "stream",
     "text": [
      "# 379 (meta-train-task) test_loss: 0.065781, test_acc: 0.853454\n",
      "# 379  (meta-test-task) test_loss: 1.180463, test_acc: 0.640263\n"
     ]
    },
    {
     "name": "stderr",
     "output_type": "stream",
     "text": [
      "Meta Train: 100%|█| 96/96 [00:52<00:00,  1.82it/s, epoch=5, train_loss=0.003, train_acc=1.000]\n",
      "Meta Test : 100%|█| 20/20 [00:01<00:00, 18.72it/s, epoch=5, train_loss=0.004, train_acc=1.000]\n"
     ]
    },
    {
     "name": "stdout",
     "output_type": "stream",
     "text": [
      "# 380 (meta-train-task) test_loss: 0.066883, test_acc: 0.847368\n",
      "# 380  (meta-test-task) test_loss: 1.140512, test_acc: 0.663684\n"
     ]
    },
    {
     "name": "stderr",
     "output_type": "stream",
     "text": [
      "Meta Train: 100%|█| 96/96 [00:52<00:00,  1.81it/s, epoch=5, train_loss=0.003, train_acc=1.000]\n",
      "Meta Test : 100%|█| 20/20 [00:01<00:00, 18.90it/s, epoch=5, train_loss=0.003, train_acc=1.000]\n"
     ]
    },
    {
     "name": "stdout",
     "output_type": "stream",
     "text": [
      "# 381 (meta-train-task) test_loss: 0.067671, test_acc: 0.845066\n",
      "# 381  (meta-test-task) test_loss: 1.108501, test_acc: 0.669737\n"
     ]
    },
    {
     "name": "stderr",
     "output_type": "stream",
     "text": [
      "Meta Train: 100%|█| 96/96 [00:52<00:00,  1.81it/s, epoch=5, train_loss=0.003, train_acc=1.000]\n",
      "Meta Test : 100%|█| 20/20 [00:01<00:00, 18.99it/s, epoch=5, train_loss=0.003, train_acc=1.000]\n"
     ]
    },
    {
     "name": "stdout",
     "output_type": "stream",
     "text": [
      "# 382 (meta-train-task) test_loss: 0.065966, test_acc: 0.854221\n",
      "# 382  (meta-test-task) test_loss: 1.188099, test_acc: 0.634474\n"
     ]
    },
    {
     "name": "stderr",
     "output_type": "stream",
     "text": [
      "Meta Train: 100%|█| 96/96 [00:53<00:00,  1.81it/s, epoch=5, train_loss=0.002, train_acc=1.000]\n",
      "Meta Test : 100%|█| 20/20 [00:01<00:00, 18.59it/s, epoch=5, train_loss=0.005, train_acc=1.000]\n"
     ]
    },
    {
     "name": "stdout",
     "output_type": "stream",
     "text": [
      "# 383 (meta-train-task) test_loss: 0.064310, test_acc: 0.863158\n",
      "# 383  (meta-test-task) test_loss: 1.055918, test_acc: 0.693684\n"
     ]
    },
    {
     "name": "stderr",
     "output_type": "stream",
     "text": [
      "Meta Train: 100%|█| 96/96 [00:52<00:00,  1.82it/s, epoch=5, train_loss=0.002, train_acc=1.000]\n",
      "Meta Test : 100%|█| 20/20 [00:01<00:00, 18.48it/s, epoch=5, train_loss=0.006, train_acc=1.000]\n"
     ]
    },
    {
     "name": "stdout",
     "output_type": "stream",
     "text": [
      "# 384 (meta-train-task) test_loss: 0.065875, test_acc: 0.853673\n",
      "# 384  (meta-test-task) test_loss: 1.141801, test_acc: 0.662632\n"
     ]
    },
    {
     "name": "stderr",
     "output_type": "stream",
     "text": [
      "Meta Train: 100%|█| 96/96 [00:52<00:00,  1.81it/s, epoch=5, train_loss=0.002, train_acc=1.000]\n",
      "Meta Test : 100%|█| 20/20 [00:01<00:00, 18.98it/s, epoch=5, train_loss=0.003, train_acc=1.000]\n"
     ]
    },
    {
     "name": "stdout",
     "output_type": "stream",
     "text": [
      "# 385 (meta-train-task) test_loss: 0.065842, test_acc: 0.854386\n",
      "# 385  (meta-test-task) test_loss: 1.074820, test_acc: 0.697105\n"
     ]
    },
    {
     "name": "stderr",
     "output_type": "stream",
     "text": [
      "Meta Train: 100%|█| 96/96 [00:52<00:00,  1.82it/s, epoch=5, train_loss=0.002, train_acc=1.000]\n",
      "Meta Test : 100%|█| 20/20 [00:01<00:00, 18.90it/s, epoch=5, train_loss=0.006, train_acc=1.000]\n"
     ]
    },
    {
     "name": "stdout",
     "output_type": "stream",
     "text": [
      "# 386 (meta-train-task) test_loss: 0.063982, test_acc: 0.858717\n",
      "# 386  (meta-test-task) test_loss: 1.131251, test_acc: 0.651579\n"
     ]
    },
    {
     "name": "stderr",
     "output_type": "stream",
     "text": [
      "Meta Train: 100%|█| 96/96 [00:52<00:00,  1.82it/s, epoch=5, train_loss=0.002, train_acc=1.000]\n",
      "Meta Test : 100%|█| 20/20 [00:01<00:00, 19.35it/s, epoch=5, train_loss=0.005, train_acc=1.000]\n"
     ]
    },
    {
     "name": "stdout",
     "output_type": "stream",
     "text": [
      "# 387 (meta-train-task) test_loss: 0.064844, test_acc: 0.857785\n",
      "# 387  (meta-test-task) test_loss: 1.180746, test_acc: 0.648158\n"
     ]
    },
    {
     "name": "stderr",
     "output_type": "stream",
     "text": [
      "Meta Train: 100%|█| 96/96 [00:53<00:00,  1.81it/s, epoch=5, train_loss=0.002, train_acc=1.000]\n",
      "Meta Test : 100%|█| 20/20 [00:01<00:00, 18.54it/s, epoch=5, train_loss=0.004, train_acc=1.000]\n"
     ]
    },
    {
     "name": "stdout",
     "output_type": "stream",
     "text": [
      "# 388 (meta-train-task) test_loss: 0.065625, test_acc: 0.852632\n",
      "# 388  (meta-test-task) test_loss: 1.143718, test_acc: 0.649737\n"
     ]
    },
    {
     "name": "stderr",
     "output_type": "stream",
     "text": [
      "Meta Train: 100%|█| 96/96 [00:52<00:00,  1.82it/s, epoch=5, train_loss=0.002, train_acc=1.000]\n",
      "Meta Test : 100%|█| 20/20 [00:01<00:00, 18.79it/s, epoch=5, train_loss=0.006, train_acc=1.000]\n"
     ]
    },
    {
     "name": "stdout",
     "output_type": "stream",
     "text": [
      "# 389 (meta-train-task) test_loss: 0.064310, test_acc: 0.859375\n",
      "# 389  (meta-test-task) test_loss: 1.136248, test_acc: 0.656053\n"
     ]
    },
    {
     "name": "stderr",
     "output_type": "stream",
     "text": [
      "Meta Train: 100%|█| 96/96 [00:52<00:00,  1.81it/s, epoch=5, train_loss=0.003, train_acc=1.000]\n",
      "Meta Test : 100%|█| 20/20 [00:01<00:00, 18.53it/s, epoch=5, train_loss=0.002, train_acc=1.000]\n"
     ]
    },
    {
     "name": "stdout",
     "output_type": "stream",
     "text": [
      "# 390 (meta-train-task) test_loss: 0.064277, test_acc: 0.858333\n",
      "# 390  (meta-test-task) test_loss: 1.094079, test_acc: 0.682105\n"
     ]
    },
    {
     "name": "stderr",
     "output_type": "stream",
     "text": [
      "Meta Train: 100%|█| 96/96 [00:53<00:00,  1.81it/s, epoch=5, train_loss=0.002, train_acc=1.000]\n",
      "Meta Test : 100%|█| 20/20 [00:01<00:00, 18.95it/s, epoch=5, train_loss=0.004, train_acc=1.000]\n"
     ]
    },
    {
     "name": "stdout",
     "output_type": "stream",
     "text": [
      "# 391 (meta-train-task) test_loss: 0.065591, test_acc: 0.850219\n",
      "# 391  (meta-test-task) test_loss: 1.117998, test_acc: 0.661316\n"
     ]
    },
    {
     "name": "stderr",
     "output_type": "stream",
     "text": [
      "Meta Train: 100%|█| 96/96 [00:53<00:00,  1.81it/s, epoch=5, train_loss=0.003, train_acc=1.000]\n",
      "Meta Test : 100%|█| 20/20 [00:01<00:00, 18.80it/s, epoch=5, train_loss=0.004, train_acc=1.000]\n"
     ]
    },
    {
     "name": "stdout",
     "output_type": "stream",
     "text": [
      "# 392 (meta-train-task) test_loss: 0.064788, test_acc: 0.856634\n",
      "# 392  (meta-test-task) test_loss: 1.093534, test_acc: 0.689737\n"
     ]
    },
    {
     "name": "stderr",
     "output_type": "stream",
     "text": [
      "Meta Train: 100%|█| 96/96 [00:52<00:00,  1.81it/s, epoch=5, train_loss=0.002, train_acc=1.000]\n",
      "Meta Test : 100%|█| 20/20 [00:01<00:00, 18.72it/s, epoch=5, train_loss=0.003, train_acc=1.000]\n"
     ]
    },
    {
     "name": "stdout",
     "output_type": "stream",
     "text": [
      "# 393 (meta-train-task) test_loss: 0.064697, test_acc: 0.856634\n",
      "# 393  (meta-test-task) test_loss: 1.092291, test_acc: 0.668684\n"
     ]
    },
    {
     "name": "stderr",
     "output_type": "stream",
     "text": [
      "Meta Train: 100%|█| 96/96 [00:52<00:00,  1.81it/s, epoch=5, train_loss=0.003, train_acc=1.000]\n",
      "Meta Test : 100%|█| 20/20 [00:01<00:00, 18.63it/s, epoch=5, train_loss=0.002, train_acc=1.000]\n"
     ]
    },
    {
     "name": "stdout",
     "output_type": "stream",
     "text": [
      "# 394 (meta-train-task) test_loss: 0.066328, test_acc: 0.844846\n",
      "# 394  (meta-test-task) test_loss: 1.108967, test_acc: 0.664211\n"
     ]
    },
    {
     "name": "stderr",
     "output_type": "stream",
     "text": [
      "Meta Train: 100%|█| 96/96 [00:52<00:00,  1.82it/s, epoch=5, train_loss=0.002, train_acc=1.000]\n",
      "Meta Test : 100%|█| 20/20 [00:01<00:00, 18.71it/s, epoch=5, train_loss=0.002, train_acc=1.000]\n"
     ]
    },
    {
     "name": "stdout",
     "output_type": "stream",
     "text": [
      "# 395 (meta-train-task) test_loss: 0.064952, test_acc: 0.849287\n",
      "# 395  (meta-test-task) test_loss: 1.079211, test_acc: 0.687895\n"
     ]
    },
    {
     "name": "stderr",
     "output_type": "stream",
     "text": [
      "Meta Train: 100%|█| 96/96 [00:53<00:00,  1.81it/s, epoch=5, train_loss=0.004, train_acc=1.000]\n",
      "Meta Test : 100%|█| 20/20 [00:01<00:00, 18.47it/s, epoch=5, train_loss=0.002, train_acc=1.000]\n"
     ]
    },
    {
     "name": "stdout",
     "output_type": "stream",
     "text": [
      "# 396 (meta-train-task) test_loss: 0.064920, test_acc: 0.848904\n",
      "# 396  (meta-test-task) test_loss: 1.158601, test_acc: 0.644737\n"
     ]
    },
    {
     "name": "stderr",
     "output_type": "stream",
     "text": [
      "Meta Train: 100%|█| 96/96 [00:52<00:00,  1.82it/s, epoch=5, train_loss=0.002, train_acc=1.000]\n",
      "Meta Test : 100%|█| 20/20 [00:01<00:00, 18.65it/s, epoch=5, train_loss=0.009, train_acc=1.000]\n"
     ]
    },
    {
     "name": "stdout",
     "output_type": "stream",
     "text": [
      "# 397 (meta-train-task) test_loss: 0.065448, test_acc: 0.852138\n",
      "# 397  (meta-test-task) test_loss: 1.078751, test_acc: 0.675000\n"
     ]
    },
    {
     "name": "stderr",
     "output_type": "stream",
     "text": [
      "Meta Train: 100%|█| 96/96 [00:52<00:00,  1.82it/s, epoch=5, train_loss=0.003, train_acc=1.000]\n",
      "Meta Test : 100%|█| 20/20 [00:01<00:00, 18.67it/s, epoch=5, train_loss=0.004, train_acc=1.000]\n"
     ]
    },
    {
     "name": "stdout",
     "output_type": "stream",
     "text": [
      "# 398 (meta-train-task) test_loss: 0.064997, test_acc: 0.857785\n",
      "# 398  (meta-test-task) test_loss: 1.047831, test_acc: 0.705263\n"
     ]
    },
    {
     "name": "stderr",
     "output_type": "stream",
     "text": [
      "Meta Train: 100%|█| 96/96 [00:52<00:00,  1.82it/s, epoch=5, train_loss=0.003, train_acc=1.000]\n",
      "Meta Test : 100%|█| 20/20 [00:01<00:00, 19.03it/s, epoch=5, train_loss=0.002, train_acc=1.000]\n"
     ]
    },
    {
     "name": "stdout",
     "output_type": "stream",
     "text": [
      "# 399 (meta-train-task) test_loss: 0.063369, test_acc: 0.857785\n",
      "# 399  (meta-test-task) test_loss: 1.086665, test_acc: 0.681316\n"
     ]
    },
    {
     "name": "stderr",
     "output_type": "stream",
     "text": [
      "Meta Train: 100%|█| 96/96 [00:52<00:00,  1.82it/s, epoch=5, train_loss=0.003, train_acc=1.000]\n",
      "Meta Test : 100%|█| 20/20 [00:01<00:00, 18.83it/s, epoch=5, train_loss=0.005, train_acc=1.000]\n"
     ]
    },
    {
     "name": "stdout",
     "output_type": "stream",
     "text": [
      "# 400 (meta-train-task) test_loss: 0.064279, test_acc: 0.851809\n",
      "# 400  (meta-test-task) test_loss: 1.122547, test_acc: 0.663684\n"
     ]
    },
    {
     "name": "stderr",
     "output_type": "stream",
     "text": [
      "Meta Train: 100%|█| 96/96 [00:53<00:00,  1.81it/s, epoch=5, train_loss=0.002, train_acc=1.000]\n",
      "Meta Test : 100%|█| 20/20 [00:01<00:00, 19.09it/s, epoch=5, train_loss=0.003, train_acc=1.000]\n"
     ]
    },
    {
     "name": "stdout",
     "output_type": "stream",
     "text": [
      "# 401 (meta-train-task) test_loss: 0.065287, test_acc: 0.854002\n",
      "# 401  (meta-test-task) test_loss: 1.104506, test_acc: 0.683158\n"
     ]
    },
    {
     "name": "stderr",
     "output_type": "stream",
     "text": [
      "Meta Train: 100%|█| 96/96 [00:52<00:00,  1.82it/s, epoch=5, train_loss=0.002, train_acc=1.000]\n",
      "Meta Test : 100%|█| 20/20 [00:01<00:00, 18.59it/s, epoch=5, train_loss=0.004, train_acc=1.000]\n"
     ]
    },
    {
     "name": "stdout",
     "output_type": "stream",
     "text": [
      "# 402 (meta-train-task) test_loss: 0.063931, test_acc: 0.856250\n",
      "# 402  (meta-test-task) test_loss: 1.090024, test_acc: 0.683947\n"
     ]
    },
    {
     "name": "stderr",
     "output_type": "stream",
     "text": [
      "Meta Train: 100%|█| 96/96 [00:53<00:00,  1.81it/s, epoch=5, train_loss=0.002, train_acc=1.000]\n",
      "Meta Test : 100%|█| 20/20 [00:01<00:00, 18.75it/s, epoch=5, train_loss=0.003, train_acc=1.000]\n"
     ]
    },
    {
     "name": "stdout",
     "output_type": "stream",
     "text": [
      "# 403 (meta-train-task) test_loss: 0.064370, test_acc: 0.853838\n",
      "# 403  (meta-test-task) test_loss: 1.069157, test_acc: 0.684737\n"
     ]
    },
    {
     "name": "stderr",
     "output_type": "stream",
     "text": [
      "Meta Train: 100%|█| 96/96 [00:53<00:00,  1.80it/s, epoch=5, train_loss=0.003, train_acc=1.000]\n",
      "Meta Test : 100%|█| 20/20 [00:01<00:00, 18.72it/s, epoch=5, train_loss=0.004, train_acc=1.000]\n"
     ]
    },
    {
     "name": "stdout",
     "output_type": "stream",
     "text": [
      "# 404 (meta-train-task) test_loss: 0.063588, test_acc: 0.857456\n",
      "# 404  (meta-test-task) test_loss: 1.114141, test_acc: 0.671053\n"
     ]
    },
    {
     "name": "stderr",
     "output_type": "stream",
     "text": [
      "Meta Train: 100%|█| 96/96 [00:53<00:00,  1.80it/s, epoch=5, train_loss=0.002, train_acc=1.000]\n",
      "Meta Test : 100%|█| 20/20 [00:01<00:00, 18.92it/s, epoch=5, train_loss=0.004, train_acc=1.000]\n"
     ]
    },
    {
     "name": "stdout",
     "output_type": "stream",
     "text": [
      "# 405 (meta-train-task) test_loss: 0.065774, test_acc: 0.847149\n",
      "# 405  (meta-test-task) test_loss: 1.063465, test_acc: 0.693158\n"
     ]
    },
    {
     "name": "stderr",
     "output_type": "stream",
     "text": [
      "Meta Train: 100%|█| 96/96 [00:52<00:00,  1.82it/s, epoch=5, train_loss=0.002, train_acc=1.000]\n",
      "Meta Test : 100%|█| 20/20 [00:01<00:00, 18.96it/s, epoch=5, train_loss=0.004, train_acc=1.000]\n"
     ]
    },
    {
     "name": "stdout",
     "output_type": "stream",
     "text": [
      "# 406 (meta-train-task) test_loss: 0.064304, test_acc: 0.852412\n",
      "# 406  (meta-test-task) test_loss: 1.100614, test_acc: 0.667895\n"
     ]
    },
    {
     "name": "stderr",
     "output_type": "stream",
     "text": [
      "Meta Train: 100%|█| 96/96 [00:53<00:00,  1.81it/s, epoch=5, train_loss=0.002, train_acc=1.000]\n",
      "Meta Test : 100%|█| 20/20 [00:01<00:00, 18.88it/s, epoch=5, train_loss=0.003, train_acc=1.000]\n"
     ]
    },
    {
     "name": "stdout",
     "output_type": "stream",
     "text": [
      "# 407 (meta-train-task) test_loss: 0.060688, test_acc: 0.866886\n",
      "# 407  (meta-test-task) test_loss: 1.104401, test_acc: 0.670526\n"
     ]
    },
    {
     "name": "stderr",
     "output_type": "stream",
     "text": [
      "Meta Train: 100%|█| 96/96 [00:52<00:00,  1.82it/s, epoch=5, train_loss=0.001, train_acc=1.000]\n",
      "Meta Test : 100%|█| 20/20 [00:01<00:00, 19.27it/s, epoch=5, train_loss=0.003, train_acc=1.000]\n"
     ]
    },
    {
     "name": "stdout",
     "output_type": "stream",
     "text": [
      "# 408 (meta-train-task) test_loss: 0.065423, test_acc: 0.847368\n",
      "# 408  (meta-test-task) test_loss: 1.072817, test_acc: 0.684211\n"
     ]
    },
    {
     "name": "stderr",
     "output_type": "stream",
     "text": [
      "Meta Train: 100%|█| 96/96 [00:52<00:00,  1.82it/s, epoch=5, train_loss=0.001, train_acc=1.000]\n",
      "Meta Test : 100%|█| 20/20 [00:01<00:00, 19.00it/s, epoch=5, train_loss=0.004, train_acc=1.000]\n"
     ]
    },
    {
     "name": "stdout",
     "output_type": "stream",
     "text": [
      "# 409 (meta-train-task) test_loss: 0.062042, test_acc: 0.863542\n",
      "# 409  (meta-test-task) test_loss: 1.076993, test_acc: 0.677895\n"
     ]
    },
    {
     "name": "stderr",
     "output_type": "stream",
     "text": [
      "Meta Train: 100%|█| 96/96 [00:52<00:00,  1.82it/s, epoch=5, train_loss=0.002, train_acc=1.000]\n",
      "Meta Test : 100%|█| 20/20 [00:01<00:00, 19.02it/s, epoch=5, train_loss=0.004, train_acc=1.000]\n"
     ]
    },
    {
     "name": "stdout",
     "output_type": "stream",
     "text": [
      "# 410 (meta-train-task) test_loss: 0.063497, test_acc: 0.859211\n",
      "# 410  (meta-test-task) test_loss: 1.103716, test_acc: 0.673684\n"
     ]
    },
    {
     "name": "stderr",
     "output_type": "stream",
     "text": [
      "Meta Train: 100%|█| 96/96 [00:52<00:00,  1.82it/s, epoch=5, train_loss=0.003, train_acc=1.000]\n",
      "Meta Test : 100%|█| 20/20 [00:01<00:00, 18.51it/s, epoch=5, train_loss=0.003, train_acc=1.000]\n"
     ]
    },
    {
     "name": "stdout",
     "output_type": "stream",
     "text": [
      "# 411 (meta-train-task) test_loss: 0.064359, test_acc: 0.847697\n",
      "# 411  (meta-test-task) test_loss: 1.055780, test_acc: 0.685526\n"
     ]
    },
    {
     "name": "stderr",
     "output_type": "stream",
     "text": [
      "Meta Train: 100%|█| 96/96 [00:52<00:00,  1.82it/s, epoch=5, train_loss=0.002, train_acc=1.000]\n",
      "Meta Test : 100%|█| 20/20 [00:01<00:00, 18.95it/s, epoch=5, train_loss=0.005, train_acc=1.000]\n"
     ]
    },
    {
     "name": "stdout",
     "output_type": "stream",
     "text": [
      "# 412 (meta-train-task) test_loss: 0.063892, test_acc: 0.857346\n",
      "# 412  (meta-test-task) test_loss: 1.140695, test_acc: 0.661316\n"
     ]
    },
    {
     "name": "stderr",
     "output_type": "stream",
     "text": [
      "Meta Train: 100%|█| 96/96 [00:52<00:00,  1.82it/s, epoch=5, train_loss=0.002, train_acc=1.000]\n",
      "Meta Test : 100%|█| 20/20 [00:01<00:00, 18.82it/s, epoch=5, train_loss=0.002, train_acc=1.000]\n"
     ]
    },
    {
     "name": "stdout",
     "output_type": "stream",
     "text": [
      "# 413 (meta-train-task) test_loss: 0.062730, test_acc: 0.862281\n",
      "# 413  (meta-test-task) test_loss: 1.188154, test_acc: 0.638684\n"
     ]
    },
    {
     "name": "stderr",
     "output_type": "stream",
     "text": [
      "Meta Train: 100%|█| 96/96 [00:52<00:00,  1.82it/s, epoch=5, train_loss=0.003, train_acc=1.000]\n",
      "Meta Test : 100%|█| 20/20 [00:01<00:00, 18.91it/s, epoch=5, train_loss=0.004, train_acc=1.000]\n"
     ]
    },
    {
     "name": "stdout",
     "output_type": "stream",
     "text": [
      "# 414 (meta-train-task) test_loss: 0.063762, test_acc: 0.855647\n",
      "# 414  (meta-test-task) test_loss: 1.116861, test_acc: 0.655789\n"
     ]
    },
    {
     "name": "stderr",
     "output_type": "stream",
     "text": [
      "Meta Train: 100%|█| 96/96 [00:52<00:00,  1.82it/s, epoch=5, train_loss=0.002, train_acc=1.000]\n",
      "Meta Test : 100%|█| 20/20 [00:01<00:00, 18.75it/s, epoch=5, train_loss=0.002, train_acc=1.000]\n"
     ]
    },
    {
     "name": "stdout",
     "output_type": "stream",
     "text": [
      "# 415 (meta-train-task) test_loss: 0.063973, test_acc: 0.853235\n",
      "# 415  (meta-test-task) test_loss: 1.090183, test_acc: 0.666579\n"
     ]
    },
    {
     "name": "stderr",
     "output_type": "stream",
     "text": [
      "Meta Train: 100%|█| 96/96 [00:52<00:00,  1.82it/s, epoch=5, train_loss=0.003, train_acc=1.000]\n",
      "Meta Test : 100%|█| 20/20 [00:01<00:00, 18.86it/s, epoch=5, train_loss=0.004, train_acc=1.000]\n"
     ]
    },
    {
     "name": "stdout",
     "output_type": "stream",
     "text": [
      "# 416 (meta-train-task) test_loss: 0.061506, test_acc: 0.866996\n",
      "# 416  (meta-test-task) test_loss: 1.067024, test_acc: 0.681579\n"
     ]
    },
    {
     "name": "stderr",
     "output_type": "stream",
     "text": [
      "Meta Train: 100%|█| 96/96 [00:52<00:00,  1.82it/s, epoch=5, train_loss=0.002, train_acc=1.000]\n",
      "Meta Test : 100%|█| 20/20 [00:01<00:00, 18.75it/s, epoch=5, train_loss=0.003, train_acc=1.000]\n"
     ]
    },
    {
     "name": "stdout",
     "output_type": "stream",
     "text": [
      "# 417 (meta-train-task) test_loss: 0.064253, test_acc: 0.854825\n",
      "# 417  (meta-test-task) test_loss: 1.077688, test_acc: 0.684737\n"
     ]
    },
    {
     "name": "stderr",
     "output_type": "stream",
     "text": [
      "Meta Train: 100%|█| 96/96 [00:52<00:00,  1.82it/s, epoch=5, train_loss=0.002, train_acc=1.000]\n",
      "Meta Test : 100%|█| 20/20 [00:01<00:00, 19.22it/s, epoch=5, train_loss=0.004, train_acc=1.000]\n"
     ]
    },
    {
     "name": "stdout",
     "output_type": "stream",
     "text": [
      "# 418 (meta-train-task) test_loss: 0.063452, test_acc: 0.855757\n",
      "# 418  (meta-test-task) test_loss: 1.065902, test_acc: 0.683684\n"
     ]
    },
    {
     "name": "stderr",
     "output_type": "stream",
     "text": [
      "Meta Train: 100%|█| 96/96 [00:52<00:00,  1.82it/s, epoch=5, train_loss=0.002, train_acc=1.000]\n",
      "Meta Test : 100%|█| 20/20 [00:01<00:00, 19.13it/s, epoch=5, train_loss=0.004, train_acc=1.000]\n"
     ]
    },
    {
     "name": "stdout",
     "output_type": "stream",
     "text": [
      "# 419 (meta-train-task) test_loss: 0.063934, test_acc: 0.851974\n",
      "# 419  (meta-test-task) test_loss: 1.093789, test_acc: 0.668947\n"
     ]
    },
    {
     "name": "stderr",
     "output_type": "stream",
     "text": [
      "Meta Train: 100%|█| 96/96 [00:52<00:00,  1.82it/s, epoch=5, train_loss=0.001, train_acc=1.000]\n",
      "Meta Test : 100%|█| 20/20 [00:01<00:00, 18.86it/s, epoch=5, train_loss=0.002, train_acc=1.000]\n"
     ]
    },
    {
     "name": "stdout",
     "output_type": "stream",
     "text": [
      "# 420 (meta-train-task) test_loss: 0.062521, test_acc: 0.859430\n",
      "# 420  (meta-test-task) test_loss: 1.060842, test_acc: 0.686842\n"
     ]
    },
    {
     "name": "stderr",
     "output_type": "stream",
     "text": [
      "Meta Train: 100%|█| 96/96 [00:52<00:00,  1.82it/s, epoch=5, train_loss=0.003, train_acc=1.000]\n",
      "Meta Test : 100%|█| 20/20 [00:01<00:00, 19.17it/s, epoch=5, train_loss=0.003, train_acc=1.000]\n"
     ]
    },
    {
     "name": "stdout",
     "output_type": "stream",
     "text": [
      "# 421 (meta-train-task) test_loss: 0.062213, test_acc: 0.857895\n",
      "# 421  (meta-test-task) test_loss: 1.170808, test_acc: 0.641579\n"
     ]
    },
    {
     "name": "stderr",
     "output_type": "stream",
     "text": [
      "Meta Train: 100%|█| 96/96 [00:52<00:00,  1.83it/s, epoch=5, train_loss=0.002, train_acc=1.000]\n",
      "Meta Test : 100%|█| 20/20 [00:01<00:00, 18.91it/s, epoch=5, train_loss=0.002, train_acc=1.000]\n"
     ]
    },
    {
     "name": "stdout",
     "output_type": "stream",
     "text": [
      "# 422 (meta-train-task) test_loss: 0.062646, test_acc: 0.857621\n",
      "# 422  (meta-test-task) test_loss: 1.057934, test_acc: 0.680526\n"
     ]
    },
    {
     "name": "stderr",
     "output_type": "stream",
     "text": [
      "Meta Train: 100%|█| 96/96 [00:52<00:00,  1.81it/s, epoch=5, train_loss=0.002, train_acc=1.000]\n",
      "Meta Test : 100%|█| 20/20 [00:01<00:00, 18.98it/s, epoch=5, train_loss=0.003, train_acc=1.000]\n"
     ]
    },
    {
     "name": "stdout",
     "output_type": "stream",
     "text": [
      "# 423 (meta-train-task) test_loss: 0.060975, test_acc: 0.858498\n",
      "# 423  (meta-test-task) test_loss: 1.052222, test_acc: 0.687105\n"
     ]
    },
    {
     "name": "stderr",
     "output_type": "stream",
     "text": [
      "Meta Train: 100%|█| 96/96 [00:52<00:00,  1.82it/s, epoch=5, train_loss=0.001, train_acc=1.000]\n",
      "Meta Test : 100%|█| 20/20 [00:01<00:00, 18.79it/s, epoch=5, train_loss=0.004, train_acc=1.000]\n"
     ]
    },
    {
     "name": "stdout",
     "output_type": "stream",
     "text": [
      "# 424 (meta-train-task) test_loss: 0.062362, test_acc: 0.858059\n",
      "# 424  (meta-test-task) test_loss: 1.047518, test_acc: 0.683158\n"
     ]
    },
    {
     "name": "stderr",
     "output_type": "stream",
     "text": [
      "Meta Train: 100%|█| 96/96 [00:52<00:00,  1.82it/s, epoch=5, train_loss=0.002, train_acc=1.000]\n",
      "Meta Test : 100%|█| 20/20 [00:01<00:00, 18.85it/s, epoch=5, train_loss=0.006, train_acc=1.000]\n"
     ]
    },
    {
     "name": "stdout",
     "output_type": "stream",
     "text": [
      "# 425 (meta-train-task) test_loss: 0.062724, test_acc: 0.852686\n",
      "# 425  (meta-test-task) test_loss: 1.126169, test_acc: 0.659474\n"
     ]
    },
    {
     "name": "stderr",
     "output_type": "stream",
     "text": [
      "Meta Train: 100%|█| 96/96 [00:52<00:00,  1.82it/s, epoch=5, train_loss=0.001, train_acc=1.000]\n",
      "Meta Test : 100%|█| 20/20 [00:01<00:00, 18.99it/s, epoch=5, train_loss=0.002, train_acc=1.000]\n"
     ]
    },
    {
     "name": "stdout",
     "output_type": "stream",
     "text": [
      "# 426 (meta-train-task) test_loss: 0.060915, test_acc: 0.864967\n",
      "# 426  (meta-test-task) test_loss: 1.129546, test_acc: 0.653947\n"
     ]
    },
    {
     "name": "stderr",
     "output_type": "stream",
     "text": [
      "Meta Train: 100%|█| 96/96 [00:52<00:00,  1.83it/s, epoch=5, train_loss=0.002, train_acc=1.000]\n",
      "Meta Test : 100%|█| 20/20 [00:01<00:00, 18.95it/s, epoch=5, train_loss=0.002, train_acc=1.000]\n"
     ]
    },
    {
     "name": "stdout",
     "output_type": "stream",
     "text": [
      "# 427 (meta-train-task) test_loss: 0.061252, test_acc: 0.861404\n",
      "# 427  (meta-test-task) test_loss: 1.127667, test_acc: 0.663684\n"
     ]
    },
    {
     "name": "stderr",
     "output_type": "stream",
     "text": [
      "Meta Train: 100%|█| 96/96 [00:52<00:00,  1.82it/s, epoch=5, train_loss=0.002, train_acc=1.000]\n",
      "Meta Test : 100%|█| 20/20 [00:01<00:00, 18.91it/s, epoch=5, train_loss=0.002, train_acc=1.000]\n"
     ]
    },
    {
     "name": "stdout",
     "output_type": "stream",
     "text": [
      "# 428 (meta-train-task) test_loss: 0.060950, test_acc: 0.863158\n",
      "# 428  (meta-test-task) test_loss: 1.175072, test_acc: 0.632368\n"
     ]
    },
    {
     "name": "stderr",
     "output_type": "stream",
     "text": [
      "Meta Train: 100%|█| 96/96 [00:52<00:00,  1.82it/s, epoch=5, train_loss=0.002, train_acc=1.000]\n",
      "Meta Test : 100%|█| 20/20 [00:01<00:00, 19.03it/s, epoch=5, train_loss=0.006, train_acc=1.000]\n"
     ]
    },
    {
     "name": "stdout",
     "output_type": "stream",
     "text": [
      "# 429 (meta-train-task) test_loss: 0.060800, test_acc: 0.864254\n",
      "# 429  (meta-test-task) test_loss: 1.142138, test_acc: 0.652632\n"
     ]
    },
    {
     "name": "stderr",
     "output_type": "stream",
     "text": [
      "Meta Train: 100%|█| 96/96 [00:52<00:00,  1.82it/s, epoch=5, train_loss=0.003, train_acc=1.000]\n",
      "Meta Test : 100%|█| 20/20 [00:01<00:00, 18.88it/s, epoch=5, train_loss=0.003, train_acc=1.000]\n"
     ]
    },
    {
     "name": "stdout",
     "output_type": "stream",
     "text": [
      "# 430 (meta-train-task) test_loss: 0.062527, test_acc: 0.855811\n",
      "# 430  (meta-test-task) test_loss: 1.049020, test_acc: 0.684211\n"
     ]
    },
    {
     "name": "stderr",
     "output_type": "stream",
     "text": [
      "Meta Train: 100%|█| 96/96 [00:52<00:00,  1.82it/s, epoch=5, train_loss=0.002, train_acc=1.000]\n",
      "Meta Test : 100%|█| 20/20 [00:01<00:00, 18.84it/s, epoch=5, train_loss=0.005, train_acc=1.000]\n"
     ]
    },
    {
     "name": "stdout",
     "output_type": "stream",
     "text": [
      "# 431 (meta-train-task) test_loss: 0.061592, test_acc: 0.857895\n",
      "# 431  (meta-test-task) test_loss: 1.129218, test_acc: 0.661053\n"
     ]
    },
    {
     "name": "stderr",
     "output_type": "stream",
     "text": [
      "Meta Train: 100%|█| 96/96 [00:52<00:00,  1.81it/s, epoch=5, train_loss=0.002, train_acc=1.000]\n",
      "Meta Test : 100%|█| 20/20 [00:01<00:00, 18.88it/s, epoch=5, train_loss=0.005, train_acc=1.000]\n"
     ]
    },
    {
     "name": "stdout",
     "output_type": "stream",
     "text": [
      "# 432 (meta-train-task) test_loss: 0.062542, test_acc: 0.856140\n",
      "# 432  (meta-test-task) test_loss: 1.092889, test_acc: 0.674474\n"
     ]
    },
    {
     "name": "stderr",
     "output_type": "stream",
     "text": [
      "Meta Train: 100%|█| 96/96 [00:52<00:00,  1.82it/s, epoch=5, train_loss=0.002, train_acc=1.000]\n",
      "Meta Test : 100%|█| 20/20 [00:01<00:00, 18.78it/s, epoch=5, train_loss=0.002, train_acc=1.000]\n"
     ]
    },
    {
     "name": "stdout",
     "output_type": "stream",
     "text": [
      "# 433 (meta-train-task) test_loss: 0.060869, test_acc: 0.864638\n",
      "# 433  (meta-test-task) test_loss: 1.140235, test_acc: 0.647368\n"
     ]
    },
    {
     "name": "stderr",
     "output_type": "stream",
     "text": [
      "Meta Train: 100%|█| 96/96 [00:52<00:00,  1.82it/s, epoch=5, train_loss=0.002, train_acc=1.000]\n",
      "Meta Test : 100%|█| 20/20 [00:01<00:00, 18.79it/s, epoch=5, train_loss=0.004, train_acc=1.000]\n"
     ]
    },
    {
     "name": "stdout",
     "output_type": "stream",
     "text": [
      "# 434 (meta-train-task) test_loss: 0.062465, test_acc: 0.849452\n",
      "# 434  (meta-test-task) test_loss: 1.064948, test_acc: 0.692368\n"
     ]
    },
    {
     "name": "stderr",
     "output_type": "stream",
     "text": [
      "Meta Train: 100%|█| 96/96 [00:53<00:00,  1.80it/s, epoch=5, train_loss=0.003, train_acc=1.000]\n",
      "Meta Test : 100%|█| 20/20 [00:00<00:00, 20.24it/s, epoch=5, train_loss=0.003, train_acc=1.000]\n"
     ]
    },
    {
     "name": "stdout",
     "output_type": "stream",
     "text": [
      "# 435 (meta-train-task) test_loss: 0.059772, test_acc: 0.865296\n",
      "# 435  (meta-test-task) test_loss: 1.045562, test_acc: 0.688158\n"
     ]
    },
    {
     "name": "stderr",
     "output_type": "stream",
     "text": [
      "Meta Train: 100%|█| 96/96 [00:52<00:00,  1.84it/s, epoch=5, train_loss=0.001, train_acc=1.000]\n",
      "Meta Test : 100%|█| 20/20 [00:01<00:00, 18.87it/s, epoch=5, train_loss=0.004, train_acc=1.000]\n"
     ]
    },
    {
     "name": "stdout",
     "output_type": "stream",
     "text": [
      "# 436 (meta-train-task) test_loss: 0.060729, test_acc: 0.864912\n",
      "# 436  (meta-test-task) test_loss: 1.121564, test_acc: 0.658684\n"
     ]
    },
    {
     "name": "stderr",
     "output_type": "stream",
     "text": [
      "Meta Train: 100%|█| 96/96 [00:52<00:00,  1.81it/s, epoch=5, train_loss=0.002, train_acc=1.000]\n",
      "Meta Test : 100%|█| 20/20 [00:00<00:00, 20.06it/s, epoch=5, train_loss=0.006, train_acc=1.000]\n"
     ]
    },
    {
     "name": "stdout",
     "output_type": "stream",
     "text": [
      "# 437 (meta-train-task) test_loss: 0.061493, test_acc: 0.859759\n",
      "# 437  (meta-test-task) test_loss: 1.027763, test_acc: 0.692895\n"
     ]
    },
    {
     "name": "stderr",
     "output_type": "stream",
     "text": [
      "Meta Train: 100%|█| 96/96 [00:52<00:00,  1.83it/s, epoch=5, train_loss=0.003, train_acc=1.000]\n",
      "Meta Test : 100%|█| 20/20 [00:01<00:00, 19.46it/s, epoch=5, train_loss=0.002, train_acc=1.000]\n"
     ]
    },
    {
     "name": "stdout",
     "output_type": "stream",
     "text": [
      "# 438 (meta-train-task) test_loss: 0.060032, test_acc: 0.865296\n",
      "# 438  (meta-test-task) test_loss: 1.125619, test_acc: 0.667368\n"
     ]
    },
    {
     "name": "stderr",
     "output_type": "stream",
     "text": [
      "Meta Train: 100%|█| 96/96 [00:53<00:00,  1.81it/s, epoch=5, train_loss=0.002, train_acc=1.000]\n",
      "Meta Test : 100%|█| 20/20 [00:01<00:00, 19.87it/s, epoch=5, train_loss=0.002, train_acc=1.000]\n"
     ]
    },
    {
     "name": "stdout",
     "output_type": "stream",
     "text": [
      "# 439 (meta-train-task) test_loss: 0.061498, test_acc: 0.855976\n",
      "# 439  (meta-test-task) test_loss: 1.167127, test_acc: 0.640263\n"
     ]
    },
    {
     "name": "stderr",
     "output_type": "stream",
     "text": [
      "Meta Train: 100%|█| 96/96 [00:53<00:00,  1.79it/s, epoch=5, train_loss=0.002, train_acc=1.000]\n",
      "Meta Test : 100%|█| 20/20 [00:01<00:00, 17.77it/s, epoch=5, train_loss=0.004, train_acc=1.000]\n"
     ]
    },
    {
     "name": "stdout",
     "output_type": "stream",
     "text": [
      "# 440 (meta-train-task) test_loss: 0.062165, test_acc: 0.851151\n",
      "# 440  (meta-test-task) test_loss: 1.082770, test_acc: 0.665789\n"
     ]
    },
    {
     "name": "stderr",
     "output_type": "stream",
     "text": [
      "Meta Train: 100%|█| 96/96 [00:54<00:00,  1.77it/s, epoch=5, train_loss=0.002, train_acc=1.000]\n",
      "Meta Test : 100%|█| 20/20 [00:01<00:00, 17.72it/s, epoch=5, train_loss=0.004, train_acc=1.000]\n"
     ]
    },
    {
     "name": "stdout",
     "output_type": "stream",
     "text": [
      "# 441 (meta-train-task) test_loss: 0.059049, test_acc: 0.865296\n",
      "# 441  (meta-test-task) test_loss: 1.094393, test_acc: 0.669211\n"
     ]
    },
    {
     "name": "stderr",
     "output_type": "stream",
     "text": [
      "Meta Train: 100%|█| 96/96 [00:53<00:00,  1.79it/s, epoch=5, train_loss=0.003, train_acc=1.000]\n",
      "Meta Test : 100%|█| 20/20 [00:01<00:00, 14.75it/s, epoch=5, train_loss=0.003, train_acc=1.000]\n"
     ]
    },
    {
     "name": "stdout",
     "output_type": "stream",
     "text": [
      "# 442 (meta-train-task) test_loss: 0.059477, test_acc: 0.866228\n",
      "# 442  (meta-test-task) test_loss: 1.038811, test_acc: 0.696053\n"
     ]
    },
    {
     "name": "stderr",
     "output_type": "stream",
     "text": [
      "Meta Train: 100%|█| 96/96 [00:53<00:00,  1.80it/s, epoch=5, train_loss=0.002, train_acc=1.000]\n",
      "Meta Test : 100%|█| 20/20 [00:01<00:00, 18.78it/s, epoch=5, train_loss=0.004, train_acc=1.000]\n"
     ]
    },
    {
     "name": "stdout",
     "output_type": "stream",
     "text": [
      "# 443 (meta-train-task) test_loss: 0.060412, test_acc: 0.861294\n",
      "# 443  (meta-test-task) test_loss: 1.168518, test_acc: 0.639737\n"
     ]
    },
    {
     "name": "stderr",
     "output_type": "stream",
     "text": [
      "Meta Train: 100%|█| 96/96 [00:52<00:00,  1.82it/s, epoch=5, train_loss=0.001, train_acc=1.000]\n",
      "Meta Test : 100%|█| 20/20 [00:01<00:00, 19.21it/s, epoch=5, train_loss=0.002, train_acc=1.000]\n"
     ]
    },
    {
     "name": "stdout",
     "output_type": "stream",
     "text": [
      "# 444 (meta-train-task) test_loss: 0.059951, test_acc: 0.862719\n",
      "# 444  (meta-test-task) test_loss: 1.052705, test_acc: 0.688421\n"
     ]
    },
    {
     "name": "stderr",
     "output_type": "stream",
     "text": [
      "Meta Train: 100%|█| 96/96 [00:52<00:00,  1.82it/s, epoch=5, train_loss=0.001, train_acc=1.000]\n",
      "Meta Test : 100%|█| 20/20 [00:00<00:00, 20.37it/s, epoch=5, train_loss=0.004, train_acc=1.000]\n"
     ]
    },
    {
     "name": "stdout",
     "output_type": "stream",
     "text": [
      "# 445 (meta-train-task) test_loss: 0.059620, test_acc: 0.864748\n",
      "# 445  (meta-test-task) test_loss: 1.157767, test_acc: 0.645263\n"
     ]
    },
    {
     "name": "stderr",
     "output_type": "stream",
     "text": [
      "Meta Train: 100%|█| 96/96 [00:52<00:00,  1.82it/s, epoch=5, train_loss=0.001, train_acc=1.000]\n",
      "Meta Test : 100%|█| 20/20 [00:01<00:00, 19.97it/s, epoch=5, train_loss=0.003, train_acc=1.000]\n"
     ]
    },
    {
     "name": "stdout",
     "output_type": "stream",
     "text": [
      "# 446 (meta-train-task) test_loss: 0.061304, test_acc: 0.859101\n",
      "# 446  (meta-test-task) test_loss: 1.051750, test_acc: 0.682632\n"
     ]
    },
    {
     "name": "stderr",
     "output_type": "stream",
     "text": [
      "Meta Train: 100%|█| 96/96 [00:53<00:00,  1.78it/s, epoch=5, train_loss=0.002, train_acc=1.000]\n",
      "Meta Test : 100%|█| 20/20 [00:00<00:00, 20.03it/s, epoch=5, train_loss=0.006, train_acc=1.000]\n"
     ]
    },
    {
     "name": "stdout",
     "output_type": "stream",
     "text": [
      "# 447 (meta-train-task) test_loss: 0.060178, test_acc: 0.861404\n",
      "# 447  (meta-test-task) test_loss: 1.160149, test_acc: 0.650263\n"
     ]
    },
    {
     "name": "stderr",
     "output_type": "stream",
     "text": [
      "Meta Train: 100%|█| 96/96 [00:53<00:00,  1.80it/s, epoch=5, train_loss=0.001, train_acc=1.000]\n",
      "Meta Test : 100%|█| 20/20 [00:01<00:00, 19.96it/s, epoch=5, train_loss=0.005, train_acc=1.000]\n"
     ]
    },
    {
     "name": "stdout",
     "output_type": "stream",
     "text": [
      "# 448 (meta-train-task) test_loss: 0.058536, test_acc: 0.867818\n",
      "# 448  (meta-test-task) test_loss: 1.022660, test_acc: 0.694474\n"
     ]
    },
    {
     "name": "stderr",
     "output_type": "stream",
     "text": [
      "Meta Train: 100%|█| 96/96 [00:53<00:00,  1.79it/s, epoch=5, train_loss=0.001, train_acc=1.000]\n",
      "Meta Test : 100%|█| 20/20 [00:01<00:00, 19.47it/s, epoch=5, train_loss=0.002, train_acc=1.000]\n"
     ]
    },
    {
     "name": "stdout",
     "output_type": "stream",
     "text": [
      "# 449 (meta-train-task) test_loss: 0.061843, test_acc: 0.856798\n",
      "# 449  (meta-test-task) test_loss: 1.083033, test_acc: 0.665263\n"
     ]
    },
    {
     "name": "stderr",
     "output_type": "stream",
     "text": [
      "Meta Train: 100%|█| 96/96 [00:53<00:00,  1.79it/s, epoch=5, train_loss=0.002, train_acc=1.000]\n",
      "Meta Test : 100%|█| 20/20 [00:01<00:00, 19.10it/s, epoch=5, train_loss=0.002, train_acc=1.000]\n"
     ]
    },
    {
     "name": "stdout",
     "output_type": "stream",
     "text": [
      "# 450 (meta-train-task) test_loss: 0.060213, test_acc: 0.862061\n",
      "# 450  (meta-test-task) test_loss: 1.072918, test_acc: 0.684474\n"
     ]
    },
    {
     "name": "stderr",
     "output_type": "stream",
     "text": [
      "Meta Train: 100%|█| 96/96 [00:52<00:00,  1.82it/s, epoch=5, train_loss=0.002, train_acc=1.000]\n",
      "Meta Test : 100%|█| 20/20 [00:01<00:00, 19.06it/s, epoch=5, train_loss=0.002, train_acc=1.000]\n"
     ]
    },
    {
     "name": "stdout",
     "output_type": "stream",
     "text": [
      "# 451 (meta-train-task) test_loss: 0.059818, test_acc: 0.865461\n",
      "# 451  (meta-test-task) test_loss: 1.068204, test_acc: 0.686579\n"
     ]
    },
    {
     "name": "stderr",
     "output_type": "stream",
     "text": [
      "Meta Train: 100%|█| 96/96 [00:53<00:00,  1.78it/s, epoch=5, train_loss=0.002, train_acc=1.000]\n",
      "Meta Test : 100%|█| 20/20 [00:01<00:00, 18.88it/s, epoch=5, train_loss=0.003, train_acc=1.000]\n"
     ]
    },
    {
     "name": "stdout",
     "output_type": "stream",
     "text": [
      "# 452 (meta-train-task) test_loss: 0.060236, test_acc: 0.860471\n",
      "# 452  (meta-test-task) test_loss: 1.062389, test_acc: 0.686316\n"
     ]
    },
    {
     "name": "stderr",
     "output_type": "stream",
     "text": [
      "Meta Train: 100%|█| 96/96 [00:53<00:00,  1.80it/s, epoch=5, train_loss=0.002, train_acc=1.000]\n",
      "Meta Test : 100%|█| 20/20 [00:01<00:00, 19.49it/s, epoch=5, train_loss=0.002, train_acc=1.000]\n"
     ]
    },
    {
     "name": "stdout",
     "output_type": "stream",
     "text": [
      "# 453 (meta-train-task) test_loss: 0.060631, test_acc: 0.860855\n",
      "# 453  (meta-test-task) test_loss: 1.119283, test_acc: 0.661053\n"
     ]
    },
    {
     "name": "stderr",
     "output_type": "stream",
     "text": [
      "Meta Train: 100%|█| 96/96 [00:53<00:00,  1.80it/s, epoch=5, train_loss=0.002, train_acc=1.000]\n",
      "Meta Test : 100%|█| 20/20 [00:01<00:00, 19.74it/s, epoch=5, train_loss=0.003, train_acc=1.000]\n"
     ]
    },
    {
     "name": "stdout",
     "output_type": "stream",
     "text": [
      "# 454 (meta-train-task) test_loss: 0.060015, test_acc: 0.860910\n",
      "# 454  (meta-test-task) test_loss: 1.114580, test_acc: 0.662368\n"
     ]
    },
    {
     "name": "stderr",
     "output_type": "stream",
     "text": [
      "Meta Train: 100%|█| 96/96 [00:52<00:00,  1.82it/s, epoch=5, train_loss=0.001, train_acc=1.000]\n",
      "Meta Test : 100%|█| 20/20 [00:01<00:00, 19.49it/s, epoch=5, train_loss=0.003, train_acc=1.000]\n"
     ]
    },
    {
     "name": "stdout",
     "output_type": "stream",
     "text": [
      "# 455 (meta-train-task) test_loss: 0.062509, test_acc: 0.851974\n",
      "# 455  (meta-test-task) test_loss: 1.090092, test_acc: 0.684211\n"
     ]
    },
    {
     "name": "stderr",
     "output_type": "stream",
     "text": [
      "Meta Train: 100%|█| 96/96 [00:53<00:00,  1.80it/s, epoch=5, train_loss=0.001, train_acc=1.000]\n",
      "Meta Test : 100%|█| 20/20 [00:01<00:00, 19.57it/s, epoch=5, train_loss=0.004, train_acc=1.000]\n"
     ]
    },
    {
     "name": "stdout",
     "output_type": "stream",
     "text": [
      "# 456 (meta-train-task) test_loss: 0.058881, test_acc: 0.867708\n",
      "# 456  (meta-test-task) test_loss: 1.088233, test_acc: 0.667895\n"
     ]
    },
    {
     "name": "stderr",
     "output_type": "stream",
     "text": [
      "Meta Train: 100%|█| 96/96 [00:53<00:00,  1.81it/s, epoch=5, train_loss=0.001, train_acc=1.000]\n",
      "Meta Test : 100%|█| 20/20 [00:01<00:00, 19.81it/s, epoch=5, train_loss=0.003, train_acc=1.000]\n"
     ]
    },
    {
     "name": "stdout",
     "output_type": "stream",
     "text": [
      "# 457 (meta-train-task) test_loss: 0.061483, test_acc: 0.862939\n",
      "# 457  (meta-test-task) test_loss: 1.099843, test_acc: 0.684737\n"
     ]
    },
    {
     "name": "stderr",
     "output_type": "stream",
     "text": [
      "Meta Train: 100%|█| 96/96 [00:53<00:00,  1.81it/s, epoch=5, train_loss=0.001, train_acc=1.000]\n",
      "Meta Test : 100%|█| 20/20 [00:00<00:00, 20.15it/s, epoch=5, train_loss=0.001, train_acc=1.000]\n"
     ]
    },
    {
     "name": "stdout",
     "output_type": "stream",
     "text": [
      "# 458 (meta-train-task) test_loss: 0.060320, test_acc: 0.862500\n",
      "# 458  (meta-test-task) test_loss: 1.035021, test_acc: 0.696842\n"
     ]
    },
    {
     "name": "stderr",
     "output_type": "stream",
     "text": [
      "Meta Train: 100%|█| 96/96 [00:53<00:00,  1.80it/s, epoch=5, train_loss=0.003, train_acc=1.000]\n",
      "Meta Test : 100%|█| 20/20 [00:01<00:00, 19.08it/s, epoch=5, train_loss=0.004, train_acc=1.000]\n"
     ]
    },
    {
     "name": "stdout",
     "output_type": "stream",
     "text": [
      "# 459 (meta-train-task) test_loss: 0.059063, test_acc: 0.868531\n",
      "# 459  (meta-test-task) test_loss: 1.042202, test_acc: 0.700526\n"
     ]
    },
    {
     "name": "stderr",
     "output_type": "stream",
     "text": [
      "Meta Train: 100%|█| 96/96 [00:53<00:00,  1.81it/s, epoch=5, train_loss=0.002, train_acc=1.000]\n",
      "Meta Test : 100%|█| 20/20 [00:00<00:00, 20.15it/s, epoch=5, train_loss=0.004, train_acc=1.000]\n"
     ]
    },
    {
     "name": "stdout",
     "output_type": "stream",
     "text": [
      "# 460 (meta-train-task) test_loss: 0.059374, test_acc: 0.867928\n",
      "# 460  (meta-test-task) test_loss: 1.080358, test_acc: 0.681579\n"
     ]
    },
    {
     "name": "stderr",
     "output_type": "stream",
     "text": [
      "Meta Train: 100%|█| 96/96 [00:53<00:00,  1.81it/s, epoch=5, train_loss=0.003, train_acc=1.000]\n",
      "Meta Test : 100%|█| 20/20 [00:01<00:00, 19.43it/s, epoch=5, train_loss=0.002, train_acc=1.000]\n"
     ]
    },
    {
     "name": "stdout",
     "output_type": "stream",
     "text": [
      "# 461 (meta-train-task) test_loss: 0.057460, test_acc: 0.875274\n",
      "# 461  (meta-test-task) test_loss: 1.002553, test_acc: 0.712895\n"
     ]
    },
    {
     "name": "stderr",
     "output_type": "stream",
     "text": [
      "Meta Train: 100%|█| 96/96 [00:52<00:00,  1.82it/s, epoch=5, train_loss=0.003, train_acc=1.000]\n",
      "Meta Test : 100%|█| 20/20 [00:01<00:00, 18.73it/s, epoch=5, train_loss=0.003, train_acc=1.000]\n"
     ]
    },
    {
     "name": "stdout",
     "output_type": "stream",
     "text": [
      "# 462 (meta-train-task) test_loss: 0.061202, test_acc: 0.857401\n",
      "# 462  (meta-test-task) test_loss: 1.043916, test_acc: 0.702632\n"
     ]
    },
    {
     "name": "stderr",
     "output_type": "stream",
     "text": [
      "Meta Train: 100%|█| 96/96 [00:54<00:00,  1.75it/s, epoch=5, train_loss=0.002, train_acc=1.000]\n",
      "Meta Test : 100%|█| 20/20 [00:01<00:00, 19.51it/s, epoch=5, train_loss=0.005, train_acc=1.000]\n"
     ]
    },
    {
     "name": "stdout",
     "output_type": "stream",
     "text": [
      "# 463 (meta-train-task) test_loss: 0.059744, test_acc: 0.862610\n",
      "# 463  (meta-test-task) test_loss: 1.090129, test_acc: 0.672105\n"
     ]
    },
    {
     "name": "stderr",
     "output_type": "stream",
     "text": [
      "Meta Train: 100%|█| 96/96 [00:54<00:00,  1.77it/s, epoch=5, train_loss=0.002, train_acc=1.000]\n",
      "Meta Test : 100%|█| 20/20 [00:01<00:00, 18.15it/s, epoch=5, train_loss=0.002, train_acc=1.000]\n"
     ]
    },
    {
     "name": "stdout",
     "output_type": "stream",
     "text": [
      "# 464 (meta-train-task) test_loss: 0.059345, test_acc: 0.865954\n",
      "# 464  (meta-test-task) test_loss: 1.029119, test_acc: 0.711053\n"
     ]
    },
    {
     "name": "stderr",
     "output_type": "stream",
     "text": [
      "Meta Train: 100%|█| 96/96 [00:54<00:00,  1.76it/s, epoch=5, train_loss=0.003, train_acc=1.000]\n",
      "Meta Test : 100%|█| 20/20 [00:01<00:00, 17.88it/s, epoch=5, train_loss=0.003, train_acc=1.000]\n"
     ]
    },
    {
     "name": "stdout",
     "output_type": "stream",
     "text": [
      "# 465 (meta-train-task) test_loss: 0.061195, test_acc: 0.860088\n",
      "# 465  (meta-test-task) test_loss: 1.064344, test_acc: 0.689211\n"
     ]
    },
    {
     "name": "stderr",
     "output_type": "stream",
     "text": [
      "Meta Train: 100%|█| 96/96 [00:55<00:00,  1.74it/s, epoch=5, train_loss=0.002, train_acc=1.000]\n",
      "Meta Test : 100%|█| 20/20 [00:01<00:00, 17.69it/s, epoch=5, train_loss=0.002, train_acc=1.000]\n"
     ]
    },
    {
     "name": "stdout",
     "output_type": "stream",
     "text": [
      "# 466 (meta-train-task) test_loss: 0.059560, test_acc: 0.865789\n",
      "# 466  (meta-test-task) test_loss: 1.085356, test_acc: 0.672895\n"
     ]
    },
    {
     "name": "stderr",
     "output_type": "stream",
     "text": [
      "Meta Train: 100%|█| 96/96 [00:56<00:00,  1.69it/s, epoch=5, train_loss=0.002, train_acc=1.000]\n",
      "Meta Test : 100%|█| 20/20 [00:01<00:00, 18.25it/s, epoch=5, train_loss=0.003, train_acc=1.000]\n"
     ]
    },
    {
     "name": "stdout",
     "output_type": "stream",
     "text": [
      "# 467 (meta-train-task) test_loss: 0.058596, test_acc: 0.869024\n",
      "# 467  (meta-test-task) test_loss: 1.041235, test_acc: 0.695000\n"
     ]
    },
    {
     "name": "stderr",
     "output_type": "stream",
     "text": [
      "Meta Train: 100%|█| 96/96 [00:56<00:00,  1.71it/s, epoch=5, train_loss=0.001, train_acc=1.000]\n",
      "Meta Test : 100%|█| 20/20 [00:01<00:00, 17.06it/s, epoch=5, train_loss=0.003, train_acc=1.000]\n"
     ]
    },
    {
     "name": "stdout",
     "output_type": "stream",
     "text": [
      "# 468 (meta-train-task) test_loss: 0.058888, test_acc: 0.869298\n",
      "# 468  (meta-test-task) test_loss: 1.095148, test_acc: 0.680263\n"
     ]
    },
    {
     "name": "stderr",
     "output_type": "stream",
     "text": [
      "Meta Train: 100%|█| 96/96 [00:55<00:00,  1.72it/s, epoch=5, train_loss=0.001, train_acc=1.000]\n",
      "Meta Test : 100%|█| 20/20 [00:01<00:00, 17.60it/s, epoch=5, train_loss=0.002, train_acc=1.000]\n"
     ]
    },
    {
     "name": "stdout",
     "output_type": "stream",
     "text": [
      "# 469 (meta-train-task) test_loss: 0.059006, test_acc: 0.867434\n",
      "# 469  (meta-test-task) test_loss: 1.094997, test_acc: 0.675789\n"
     ]
    },
    {
     "name": "stderr",
     "output_type": "stream",
     "text": [
      "Meta Train: 100%|█| 96/96 [00:57<00:00,  1.66it/s, epoch=5, train_loss=0.001, train_acc=1.000]\n",
      "Meta Test : 100%|█| 20/20 [00:01<00:00, 17.82it/s, epoch=5, train_loss=0.003, train_acc=1.000]\n"
     ]
    },
    {
     "name": "stdout",
     "output_type": "stream",
     "text": [
      "# 470 (meta-train-task) test_loss: 0.058667, test_acc: 0.869956\n",
      "# 470  (meta-test-task) test_loss: 1.082710, test_acc: 0.680000\n"
     ]
    },
    {
     "name": "stderr",
     "output_type": "stream",
     "text": [
      "Meta Train: 100%|█| 96/96 [00:53<00:00,  1.79it/s, epoch=5, train_loss=0.001, train_acc=1.000]\n",
      "Meta Test : 100%|█| 20/20 [00:01<00:00, 19.25it/s, epoch=5, train_loss=0.003, train_acc=1.000]\n"
     ]
    },
    {
     "name": "stdout",
     "output_type": "stream",
     "text": [
      "# 471 (meta-train-task) test_loss: 0.058419, test_acc: 0.872204\n",
      "# 471  (meta-test-task) test_loss: 1.016540, test_acc: 0.705000\n"
     ]
    },
    {
     "name": "stderr",
     "output_type": "stream",
     "text": [
      "Meta Train: 100%|█| 96/96 [00:54<00:00,  1.76it/s, epoch=5, train_loss=0.002, train_acc=1.000]\n",
      "Meta Test : 100%|█| 20/20 [00:01<00:00, 18.47it/s, epoch=5, train_loss=0.004, train_acc=1.000]\n"
     ]
    },
    {
     "name": "stdout",
     "output_type": "stream",
     "text": [
      "# 472 (meta-train-task) test_loss: 0.058592, test_acc: 0.867325\n",
      "# 472  (meta-test-task) test_loss: 1.118116, test_acc: 0.681842\n"
     ]
    },
    {
     "name": "stderr",
     "output_type": "stream",
     "text": [
      "Meta Train: 100%|█| 96/96 [00:54<00:00,  1.78it/s, epoch=5, train_loss=0.001, train_acc=1.000]\n",
      "Meta Test : 100%|█| 20/20 [00:01<00:00, 19.76it/s, epoch=5, train_loss=0.003, train_acc=1.000]\n"
     ]
    },
    {
     "name": "stdout",
     "output_type": "stream",
     "text": [
      "# 473 (meta-train-task) test_loss: 0.059380, test_acc: 0.864803\n",
      "# 473  (meta-test-task) test_loss: 1.066361, test_acc: 0.678158\n"
     ]
    },
    {
     "name": "stderr",
     "output_type": "stream",
     "text": [
      "Meta Train: 100%|█| 96/96 [00:53<00:00,  1.79it/s, epoch=5, train_loss=0.002, train_acc=1.000]\n",
      "Meta Test : 100%|█| 20/20 [00:01<00:00, 19.24it/s, epoch=5, train_loss=0.004, train_acc=1.000]\n"
     ]
    },
    {
     "name": "stdout",
     "output_type": "stream",
     "text": [
      "# 474 (meta-train-task) test_loss: 0.058813, test_acc: 0.867325\n",
      "# 474  (meta-test-task) test_loss: 1.101212, test_acc: 0.671842\n"
     ]
    },
    {
     "name": "stderr",
     "output_type": "stream",
     "text": [
      "Meta Train: 100%|█| 96/96 [00:53<00:00,  1.79it/s, epoch=5, train_loss=0.002, train_acc=1.000]\n",
      "Meta Test : 100%|█| 20/20 [00:01<00:00, 18.06it/s, epoch=5, train_loss=0.003, train_acc=1.000]\n"
     ]
    },
    {
     "name": "stdout",
     "output_type": "stream",
     "text": [
      "# 475 (meta-train-task) test_loss: 0.058811, test_acc: 0.865461\n",
      "# 475  (meta-test-task) test_loss: 1.060910, test_acc: 0.687632\n"
     ]
    },
    {
     "name": "stderr",
     "output_type": "stream",
     "text": [
      "Meta Train: 100%|█| 96/96 [00:53<00:00,  1.78it/s, epoch=5, train_loss=0.003, train_acc=1.000]\n",
      "Meta Test : 100%|█| 20/20 [00:01<00:00, 18.49it/s, epoch=5, train_loss=0.002, train_acc=1.000]\n"
     ]
    },
    {
     "name": "stdout",
     "output_type": "stream",
     "text": [
      "# 476 (meta-train-task) test_loss: 0.058562, test_acc: 0.866502\n",
      "# 476  (meta-test-task) test_loss: 1.068618, test_acc: 0.681842\n"
     ]
    },
    {
     "name": "stderr",
     "output_type": "stream",
     "text": [
      "Meta Train: 100%|█| 96/96 [00:54<00:00,  1.77it/s, epoch=5, train_loss=0.003, train_acc=1.000]\n",
      "Meta Test : 100%|█| 20/20 [00:01<00:00, 16.96it/s, epoch=5, train_loss=0.002, train_acc=1.000]\n"
     ]
    },
    {
     "name": "stdout",
     "output_type": "stream",
     "text": [
      "# 477 (meta-train-task) test_loss: 0.059521, test_acc: 0.861732\n",
      "# 477  (meta-test-task) test_loss: 1.044797, test_acc: 0.700000\n"
     ]
    },
    {
     "name": "stderr",
     "output_type": "stream",
     "text": [
      "Meta Train: 100%|█| 96/96 [00:56<00:00,  1.71it/s, epoch=5, train_loss=0.002, train_acc=1.000]\n",
      "Meta Test : 100%|█| 20/20 [00:01<00:00, 16.97it/s, epoch=5, train_loss=0.001, train_acc=1.000]\n"
     ]
    },
    {
     "name": "stdout",
     "output_type": "stream",
     "text": [
      "# 478 (meta-train-task) test_loss: 0.057752, test_acc: 0.870121\n",
      "# 478  (meta-test-task) test_loss: 1.005886, test_acc: 0.711579\n"
     ]
    },
    {
     "name": "stderr",
     "output_type": "stream",
     "text": [
      "Meta Train: 100%|█| 96/96 [00:55<00:00,  1.73it/s, epoch=5, train_loss=0.001, train_acc=1.000]\n",
      "Meta Test : 100%|█| 20/20 [00:01<00:00, 17.80it/s, epoch=5, train_loss=0.004, train_acc=1.000]\n"
     ]
    },
    {
     "name": "stdout",
     "output_type": "stream",
     "text": [
      "# 479 (meta-train-task) test_loss: 0.058209, test_acc: 0.870450\n",
      "# 479  (meta-test-task) test_loss: 1.063183, test_acc: 0.695000\n"
     ]
    },
    {
     "name": "stderr",
     "output_type": "stream",
     "text": [
      "Meta Train: 100%|█| 96/96 [00:54<00:00,  1.77it/s, epoch=5, train_loss=0.002, train_acc=1.000]\n",
      "Meta Test : 100%|█| 20/20 [00:01<00:00, 18.15it/s, epoch=5, train_loss=0.003, train_acc=1.000]\n"
     ]
    },
    {
     "name": "stdout",
     "output_type": "stream",
     "text": [
      "# 480 (meta-train-task) test_loss: 0.058587, test_acc: 0.870614\n",
      "# 480  (meta-test-task) test_loss: 1.100373, test_acc: 0.669737\n"
     ]
    },
    {
     "name": "stderr",
     "output_type": "stream",
     "text": [
      "Meta Train: 100%|█| 96/96 [00:54<00:00,  1.75it/s, epoch=5, train_loss=0.002, train_acc=1.000]\n",
      "Meta Test : 100%|█| 20/20 [00:01<00:00, 17.80it/s, epoch=5, train_loss=0.003, train_acc=1.000]\n"
     ]
    },
    {
     "name": "stdout",
     "output_type": "stream",
     "text": [
      "# 481 (meta-train-task) test_loss: 0.059514, test_acc: 0.862336\n",
      "# 481  (meta-test-task) test_loss: 1.053527, test_acc: 0.678684\n"
     ]
    },
    {
     "name": "stderr",
     "output_type": "stream",
     "text": [
      "Meta Train: 100%|█| 96/96 [00:55<00:00,  1.72it/s, epoch=5, train_loss=0.001, train_acc=1.000]\n",
      "Meta Test : 100%|█| 20/20 [00:01<00:00, 17.59it/s, epoch=5, train_loss=0.003, train_acc=1.000]\n"
     ]
    },
    {
     "name": "stdout",
     "output_type": "stream",
     "text": [
      "# 482 (meta-train-task) test_loss: 0.059154, test_acc: 0.864474\n",
      "# 482  (meta-test-task) test_loss: 1.068211, test_acc: 0.669737\n"
     ]
    },
    {
     "name": "stderr",
     "output_type": "stream",
     "text": [
      "Meta Train: 100%|█| 96/96 [00:54<00:00,  1.77it/s, epoch=5, train_loss=0.002, train_acc=1.000]\n",
      "Meta Test : 100%|█| 20/20 [00:01<00:00, 18.41it/s, epoch=5, train_loss=0.003, train_acc=1.000]\n"
     ]
    },
    {
     "name": "stdout",
     "output_type": "stream",
     "text": [
      "# 483 (meta-train-task) test_loss: 0.059398, test_acc: 0.865680\n",
      "# 483  (meta-test-task) test_loss: 1.064121, test_acc: 0.688947\n"
     ]
    },
    {
     "name": "stderr",
     "output_type": "stream",
     "text": [
      "Meta Train: 100%|█| 96/96 [00:54<00:00,  1.78it/s, epoch=5, train_loss=0.002, train_acc=1.000]\n",
      "Meta Test : 100%|█| 20/20 [00:01<00:00, 18.57it/s, epoch=5, train_loss=0.003, train_acc=1.000]\n"
     ]
    },
    {
     "name": "stdout",
     "output_type": "stream",
     "text": [
      "# 484 (meta-train-task) test_loss: 0.058808, test_acc: 0.867379\n",
      "# 484  (meta-test-task) test_loss: 1.049068, test_acc: 0.697632\n"
     ]
    },
    {
     "name": "stderr",
     "output_type": "stream",
     "text": [
      "Meta Train: 100%|█| 96/96 [00:52<00:00,  1.83it/s, epoch=5, train_loss=0.002, train_acc=1.000]\n",
      "Meta Test : 100%|█| 20/20 [00:01<00:00, 19.14it/s, epoch=5, train_loss=0.002, train_acc=1.000]\n"
     ]
    },
    {
     "name": "stdout",
     "output_type": "stream",
     "text": [
      "# 485 (meta-train-task) test_loss: 0.058360, test_acc: 0.866941\n",
      "# 485  (meta-test-task) test_loss: 1.046904, test_acc: 0.688947\n"
     ]
    },
    {
     "name": "stderr",
     "output_type": "stream",
     "text": [
      "Meta Train: 100%|█| 96/96 [00:52<00:00,  1.82it/s, epoch=5, train_loss=0.001, train_acc=1.000]\n",
      "Meta Test : 100%|█| 20/20 [00:01<00:00, 19.04it/s, epoch=5, train_loss=0.002, train_acc=1.000]\n"
     ]
    },
    {
     "name": "stdout",
     "output_type": "stream",
     "text": [
      "# 486 (meta-train-task) test_loss: 0.059303, test_acc: 0.865789\n",
      "# 486  (meta-test-task) test_loss: 1.047959, test_acc: 0.685526\n"
     ]
    },
    {
     "name": "stderr",
     "output_type": "stream",
     "text": [
      "Meta Train: 100%|█| 96/96 [00:52<00:00,  1.83it/s, epoch=5, train_loss=0.002, train_acc=1.000]\n",
      "Meta Test : 100%|█| 20/20 [00:01<00:00, 19.17it/s, epoch=5, train_loss=0.002, train_acc=1.000]\n"
     ]
    },
    {
     "name": "stdout",
     "output_type": "stream",
     "text": [
      "# 487 (meta-train-task) test_loss: 0.060185, test_acc: 0.858936\n",
      "# 487  (meta-test-task) test_loss: 1.058439, test_acc: 0.678947\n"
     ]
    },
    {
     "name": "stderr",
     "output_type": "stream",
     "text": [
      "Meta Train: 100%|█| 96/96 [00:52<00:00,  1.83it/s, epoch=5, train_loss=0.003, train_acc=1.000]\n",
      "Meta Test : 100%|█| 20/20 [00:01<00:00, 18.52it/s, epoch=5, train_loss=0.003, train_acc=1.000]\n"
     ]
    },
    {
     "name": "stdout",
     "output_type": "stream",
     "text": [
      "# 488 (meta-train-task) test_loss: 0.057473, test_acc: 0.875274\n",
      "# 488  (meta-test-task) test_loss: 1.072163, test_acc: 0.675263\n"
     ]
    },
    {
     "name": "stderr",
     "output_type": "stream",
     "text": [
      "Meta Train: 100%|█| 96/96 [00:52<00:00,  1.81it/s, epoch=5, train_loss=0.002, train_acc=1.000]\n",
      "Meta Test : 100%|█| 20/20 [00:01<00:00, 19.53it/s, epoch=5, train_loss=0.003, train_acc=1.000]\n"
     ]
    },
    {
     "name": "stdout",
     "output_type": "stream",
     "text": [
      "# 489 (meta-train-task) test_loss: 0.059361, test_acc: 0.862884\n",
      "# 489  (meta-test-task) test_loss: 1.067925, test_acc: 0.692105\n"
     ]
    },
    {
     "name": "stderr",
     "output_type": "stream",
     "text": [
      "Meta Train: 100%|█| 96/96 [00:52<00:00,  1.83it/s, epoch=5, train_loss=0.002, train_acc=1.000]\n",
      "Meta Test : 100%|█| 20/20 [00:01<00:00, 19.13it/s, epoch=5, train_loss=0.002, train_acc=1.000]\n"
     ]
    },
    {
     "name": "stdout",
     "output_type": "stream",
     "text": [
      "# 490 (meta-train-task) test_loss: 0.059103, test_acc: 0.863268\n",
      "# 490  (meta-test-task) test_loss: 1.105770, test_acc: 0.654737\n"
     ]
    },
    {
     "name": "stderr",
     "output_type": "stream",
     "text": [
      "Meta Train: 100%|█| 96/96 [00:52<00:00,  1.81it/s, epoch=5, train_loss=0.002, train_acc=1.000]\n",
      "Meta Test : 100%|█| 20/20 [00:01<00:00, 19.70it/s, epoch=5, train_loss=0.002, train_acc=1.000]\n"
     ]
    },
    {
     "name": "stdout",
     "output_type": "stream",
     "text": [
      "# 491 (meta-train-task) test_loss: 0.057842, test_acc: 0.873136\n",
      "# 491  (meta-test-task) test_loss: 1.089739, test_acc: 0.671316\n"
     ]
    },
    {
     "name": "stderr",
     "output_type": "stream",
     "text": [
      "Meta Train: 100%|█| 96/96 [00:52<00:00,  1.83it/s, epoch=5, train_loss=0.002, train_acc=1.000]\n",
      "Meta Test : 100%|█| 20/20 [00:01<00:00, 18.94it/s, epoch=5, train_loss=0.002, train_acc=1.000]\n"
     ]
    },
    {
     "name": "stdout",
     "output_type": "stream",
     "text": [
      "# 492 (meta-train-task) test_loss: 0.059257, test_acc: 0.864748\n",
      "# 492  (meta-test-task) test_loss: 1.117000, test_acc: 0.657368\n"
     ]
    },
    {
     "name": "stderr",
     "output_type": "stream",
     "text": [
      "Meta Train: 100%|█| 96/96 [00:52<00:00,  1.81it/s, epoch=5, train_loss=0.002, train_acc=1.000]\n",
      "Meta Test : 100%|█| 20/20 [00:01<00:00, 19.08it/s, epoch=5, train_loss=0.003, train_acc=1.000]\n"
     ]
    },
    {
     "name": "stdout",
     "output_type": "stream",
     "text": [
      "# 493 (meta-train-task) test_loss: 0.059386, test_acc: 0.861897\n",
      "# 493  (meta-test-task) test_loss: 1.081064, test_acc: 0.664737\n"
     ]
    },
    {
     "name": "stderr",
     "output_type": "stream",
     "text": [
      "Meta Train: 100%|█| 96/96 [00:52<00:00,  1.82it/s, epoch=5, train_loss=0.003, train_acc=1.000]\n",
      "Meta Test : 100%|█| 20/20 [00:01<00:00, 19.08it/s, epoch=5, train_loss=0.003, train_acc=1.000]\n"
     ]
    },
    {
     "name": "stdout",
     "output_type": "stream",
     "text": [
      "# 494 (meta-train-task) test_loss: 0.059054, test_acc: 0.866941\n",
      "# 494  (meta-test-task) test_loss: 1.058882, test_acc: 0.682368\n"
     ]
    },
    {
     "name": "stderr",
     "output_type": "stream",
     "text": [
      "Meta Train: 100%|█| 96/96 [00:52<00:00,  1.83it/s, epoch=5, train_loss=0.002, train_acc=1.000]\n",
      "Meta Test : 100%|█| 20/20 [00:01<00:00, 18.86it/s, epoch=5, train_loss=0.001, train_acc=1.000]\n"
     ]
    },
    {
     "name": "stdout",
     "output_type": "stream",
     "text": [
      "# 495 (meta-train-task) test_loss: 0.058785, test_acc: 0.866831\n",
      "# 495  (meta-test-task) test_loss: 1.045626, test_acc: 0.690789\n"
     ]
    },
    {
     "name": "stderr",
     "output_type": "stream",
     "text": [
      "Meta Train: 100%|█| 96/96 [00:52<00:00,  1.82it/s, epoch=5, train_loss=0.002, train_acc=1.000]\n",
      "Meta Test : 100%|█| 20/20 [00:01<00:00, 19.63it/s, epoch=5, train_loss=0.004, train_acc=1.000]\n"
     ]
    },
    {
     "name": "stdout",
     "output_type": "stream",
     "text": [
      "# 496 (meta-train-task) test_loss: 0.057253, test_acc: 0.871327\n",
      "# 496  (meta-test-task) test_loss: 1.083845, test_acc: 0.672895\n"
     ]
    },
    {
     "name": "stderr",
     "output_type": "stream",
     "text": [
      "Meta Train: 100%|█| 96/96 [00:52<00:00,  1.83it/s, epoch=5, train_loss=0.002, train_acc=1.000]\n",
      "Meta Test : 100%|█| 20/20 [00:01<00:00, 18.90it/s, epoch=5, train_loss=0.005, train_acc=1.000]\n"
     ]
    },
    {
     "name": "stdout",
     "output_type": "stream",
     "text": [
      "# 497 (meta-train-task) test_loss: 0.059178, test_acc: 0.865680\n",
      "# 497  (meta-test-task) test_loss: 1.099673, test_acc: 0.668684\n"
     ]
    },
    {
     "name": "stderr",
     "output_type": "stream",
     "text": [
      "Meta Train: 100%|█| 96/96 [00:52<00:00,  1.82it/s, epoch=5, train_loss=0.001, train_acc=1.000]\n",
      "Meta Test : 100%|█| 20/20 [00:01<00:00, 19.10it/s, epoch=5, train_loss=0.002, train_acc=1.000]\n"
     ]
    },
    {
     "name": "stdout",
     "output_type": "stream",
     "text": [
      "# 498 (meta-train-task) test_loss: 0.058444, test_acc: 0.866064\n",
      "# 498  (meta-test-task) test_loss: 1.041526, test_acc: 0.690000\n"
     ]
    },
    {
     "name": "stderr",
     "output_type": "stream",
     "text": [
      "Meta Train: 100%|█| 96/96 [00:52<00:00,  1.82it/s, epoch=5, train_loss=0.001, train_acc=1.000]\n",
      "Meta Test : 100%|█| 20/20 [00:01<00:00, 19.27it/s, epoch=5, train_loss=0.003, train_acc=1.000]\n"
     ]
    },
    {
     "name": "stdout",
     "output_type": "stream",
     "text": [
      "# 499 (meta-train-task) test_loss: 0.055741, test_acc: 0.876864\n",
      "# 499  (meta-test-task) test_loss: 1.051709, test_acc: 0.693684\n"
     ]
    },
    {
     "name": "stderr",
     "output_type": "stream",
     "text": [
      "Meta Train: 100%|█| 96/96 [00:52<00:00,  1.83it/s, epoch=5, train_loss=0.002, train_acc=1.000]\n",
      "Meta Test : 100%|█| 20/20 [00:01<00:00, 18.97it/s, epoch=5, train_loss=0.003, train_acc=1.000]\n"
     ]
    },
    {
     "name": "stdout",
     "output_type": "stream",
     "text": [
      "# 500 (meta-train-task) test_loss: 0.058506, test_acc: 0.869846\n",
      "# 500  (meta-test-task) test_loss: 1.055419, test_acc: 0.682895\n"
     ]
    },
    {
     "name": "stderr",
     "output_type": "stream",
     "text": [
      "Meta Train: 100%|█| 96/96 [00:52<00:00,  1.82it/s, epoch=5, train_loss=0.002, train_acc=1.000]\n",
      "Meta Test : 100%|█| 20/20 [00:01<00:00, 18.96it/s, epoch=5, train_loss=0.003, train_acc=1.000]\n"
     ]
    },
    {
     "name": "stdout",
     "output_type": "stream",
     "text": [
      "# 501 (meta-train-task) test_loss: 0.057992, test_acc: 0.867379\n",
      "# 501  (meta-test-task) test_loss: 1.051812, test_acc: 0.690789\n"
     ]
    },
    {
     "name": "stderr",
     "output_type": "stream",
     "text": [
      "Meta Train: 100%|█| 96/96 [00:52<00:00,  1.83it/s, epoch=5, train_loss=0.001, train_acc=1.000]\n",
      "Meta Test : 100%|█| 20/20 [00:01<00:00, 19.10it/s, epoch=5, train_loss=0.002, train_acc=1.000]\n"
     ]
    },
    {
     "name": "stdout",
     "output_type": "stream",
     "text": [
      "# 502 (meta-train-task) test_loss: 0.058823, test_acc: 0.869024\n",
      "# 502  (meta-test-task) test_loss: 1.049732, test_acc: 0.690526\n"
     ]
    },
    {
     "name": "stderr",
     "output_type": "stream",
     "text": [
      "Meta Train: 100%|█| 96/96 [00:53<00:00,  1.79it/s, epoch=5, train_loss=0.002, train_acc=1.000]\n",
      "Meta Test : 100%|█| 20/20 [00:01<00:00, 18.03it/s, epoch=5, train_loss=0.004, train_acc=1.000]\n"
     ]
    },
    {
     "name": "stdout",
     "output_type": "stream",
     "text": [
      "# 503 (meta-train-task) test_loss: 0.056624, test_acc: 0.876151\n",
      "# 503  (meta-test-task) test_loss: 0.982517, test_acc: 0.707632\n"
     ]
    },
    {
     "name": "stderr",
     "output_type": "stream",
     "text": [
      "Meta Train: 100%|█| 96/96 [00:55<00:00,  1.72it/s, epoch=5, train_loss=0.002, train_acc=1.000]\n",
      "Meta Test : 100%|█| 20/20 [00:01<00:00, 16.97it/s, epoch=5, train_loss=0.003, train_acc=1.000]\n"
     ]
    },
    {
     "name": "stdout",
     "output_type": "stream",
     "text": [
      "# 504 (meta-train-task) test_loss: 0.056535, test_acc: 0.873081\n",
      "# 504  (meta-test-task) test_loss: 1.111940, test_acc: 0.664474\n"
     ]
    },
    {
     "name": "stderr",
     "output_type": "stream",
     "text": [
      "Meta Train: 100%|█| 96/96 [00:56<00:00,  1.70it/s, epoch=5, train_loss=0.002, train_acc=1.000]\n",
      "Meta Test : 100%|█| 20/20 [00:01<00:00, 18.66it/s, epoch=5, train_loss=0.003, train_acc=1.000]\n"
     ]
    },
    {
     "name": "stdout",
     "output_type": "stream",
     "text": [
      "# 505 (meta-train-task) test_loss: 0.058459, test_acc: 0.867434\n",
      "# 505  (meta-test-task) test_loss: 1.050485, test_acc: 0.686579\n"
     ]
    },
    {
     "name": "stderr",
     "output_type": "stream",
     "text": [
      "Meta Train: 100%|█| 96/96 [00:54<00:00,  1.76it/s, epoch=5, train_loss=0.002, train_acc=1.000]\n",
      "Meta Test : 100%|█| 20/20 [00:01<00:00, 19.26it/s, epoch=5, train_loss=0.003, train_acc=1.000]\n"
     ]
    },
    {
     "name": "stdout",
     "output_type": "stream",
     "text": [
      "# 506 (meta-train-task) test_loss: 0.055815, test_acc: 0.877741\n",
      "# 506  (meta-test-task) test_loss: 1.063155, test_acc: 0.685526\n"
     ]
    },
    {
     "name": "stderr",
     "output_type": "stream",
     "text": [
      "Meta Train: 100%|█| 96/96 [00:55<00:00,  1.73it/s, epoch=5, train_loss=0.002, train_acc=1.000]\n",
      "Meta Test : 100%|█| 20/20 [00:01<00:00, 18.40it/s, epoch=5, train_loss=0.004, train_acc=1.000]\n"
     ]
    },
    {
     "name": "stdout",
     "output_type": "stream",
     "text": [
      "# 507 (meta-train-task) test_loss: 0.059367, test_acc: 0.864145\n",
      "# 507  (meta-test-task) test_loss: 1.050341, test_acc: 0.677105\n"
     ]
    },
    {
     "name": "stderr",
     "output_type": "stream",
     "text": [
      "Meta Train: 100%|█| 96/96 [00:55<00:00,  1.72it/s, epoch=5, train_loss=0.005, train_acc=1.000]\n",
      "Meta Test : 100%|█| 20/20 [00:01<00:00, 16.32it/s, epoch=5, train_loss=0.004, train_acc=1.000]\n"
     ]
    },
    {
     "name": "stdout",
     "output_type": "stream",
     "text": [
      "# 508 (meta-train-task) test_loss: 0.059216, test_acc: 0.862664\n",
      "# 508  (meta-test-task) test_loss: 1.159755, test_acc: 0.645000\n"
     ]
    },
    {
     "name": "stderr",
     "output_type": "stream",
     "text": [
      "Meta Train: 100%|█| 96/96 [00:56<00:00,  1.69it/s, epoch=5, train_loss=0.002, train_acc=1.000]\n",
      "Meta Test : 100%|█| 20/20 [00:01<00:00, 17.02it/s, epoch=5, train_loss=0.001, train_acc=1.000]\n"
     ]
    },
    {
     "name": "stdout",
     "output_type": "stream",
     "text": [
      "# 509 (meta-train-task) test_loss: 0.059664, test_acc: 0.859375\n",
      "# 509  (meta-test-task) test_loss: 1.162129, test_acc: 0.638421\n"
     ]
    },
    {
     "name": "stderr",
     "output_type": "stream",
     "text": [
      "Meta Train: 100%|█| 96/96 [00:55<00:00,  1.74it/s, epoch=5, train_loss=0.001, train_acc=1.000]\n",
      "Meta Test : 100%|█| 20/20 [00:01<00:00, 18.04it/s, epoch=5, train_loss=0.002, train_acc=1.000]\n"
     ]
    },
    {
     "name": "stdout",
     "output_type": "stream",
     "text": [
      "# 510 (meta-train-task) test_loss: 0.056602, test_acc: 0.877577\n",
      "# 510  (meta-test-task) test_loss: 1.027104, test_acc: 0.693684\n"
     ]
    },
    {
     "name": "stderr",
     "output_type": "stream",
     "text": [
      "Meta Train: 100%|█| 96/96 [00:54<00:00,  1.76it/s, epoch=5, train_loss=0.001, train_acc=1.000]\n",
      "Meta Test : 100%|█| 20/20 [00:01<00:00, 18.72it/s, epoch=5, train_loss=0.002, train_acc=1.000]\n"
     ]
    },
    {
     "name": "stdout",
     "output_type": "stream",
     "text": [
      "# 511 (meta-train-task) test_loss: 0.058714, test_acc: 0.864145\n",
      "# 511  (meta-test-task) test_loss: 1.084866, test_acc: 0.670789\n"
     ]
    },
    {
     "name": "stderr",
     "output_type": "stream",
     "text": [
      "Meta Train: 100%|█| 96/96 [00:54<00:00,  1.76it/s, epoch=5, train_loss=0.002, train_acc=1.000]\n",
      "Meta Test : 100%|█| 20/20 [00:01<00:00, 19.09it/s, epoch=5, train_loss=0.003, train_acc=1.000]\n"
     ]
    },
    {
     "name": "stdout",
     "output_type": "stream",
     "text": [
      "# 512 (meta-train-task) test_loss: 0.057671, test_acc: 0.870011\n",
      "# 512  (meta-test-task) test_loss: 1.073231, test_acc: 0.676316\n"
     ]
    },
    {
     "name": "stderr",
     "output_type": "stream",
     "text": [
      "Meta Train: 100%|█| 96/96 [00:53<00:00,  1.80it/s, epoch=5, train_loss=0.001, train_acc=1.000]\n",
      "Meta Test : 100%|█| 20/20 [00:01<00:00, 19.17it/s, epoch=5, train_loss=0.002, train_acc=1.000]\n"
     ]
    },
    {
     "name": "stdout",
     "output_type": "stream",
     "text": [
      "# 513 (meta-train-task) test_loss: 0.059235, test_acc: 0.863213\n",
      "# 513  (meta-test-task) test_loss: 1.088337, test_acc: 0.661316\n"
     ]
    },
    {
     "name": "stderr",
     "output_type": "stream",
     "text": [
      "Meta Train: 100%|█| 96/96 [00:53<00:00,  1.79it/s, epoch=5, train_loss=0.001, train_acc=1.000]\n",
      "Meta Test : 100%|█| 20/20 [00:01<00:00, 18.47it/s, epoch=5, train_loss=0.003, train_acc=1.000]\n"
     ]
    },
    {
     "name": "stdout",
     "output_type": "stream",
     "text": [
      "# 514 (meta-train-task) test_loss: 0.056737, test_acc: 0.870285\n",
      "# 514  (meta-test-task) test_loss: 1.102378, test_acc: 0.675526\n"
     ]
    },
    {
     "name": "stderr",
     "output_type": "stream",
     "text": [
      "Meta Train: 100%|█| 96/96 [00:53<00:00,  1.81it/s, epoch=5, train_loss=0.001, train_acc=1.000]\n",
      "Meta Test : 100%|█| 20/20 [00:01<00:00, 18.77it/s, epoch=5, train_loss=0.004, train_acc=1.000]\n"
     ]
    },
    {
     "name": "stdout",
     "output_type": "stream",
     "text": [
      "# 515 (meta-train-task) test_loss: 0.056973, test_acc: 0.869956\n",
      "# 515  (meta-test-task) test_loss: 1.052628, test_acc: 0.686316\n"
     ]
    },
    {
     "name": "stderr",
     "output_type": "stream",
     "text": [
      "Meta Train: 100%|█| 96/96 [00:53<00:00,  1.79it/s, epoch=5, train_loss=0.004, train_acc=1.000]\n",
      "Meta Test : 100%|█| 20/20 [00:01<00:00, 18.11it/s, epoch=5, train_loss=0.003, train_acc=1.000]\n"
     ]
    },
    {
     "name": "stdout",
     "output_type": "stream",
     "text": [
      "# 516 (meta-train-task) test_loss: 0.058088, test_acc: 0.864638\n",
      "# 516  (meta-test-task) test_loss: 1.020623, test_acc: 0.704737\n"
     ]
    },
    {
     "name": "stderr",
     "output_type": "stream",
     "text": [
      "Meta Train: 100%|█| 96/96 [00:55<00:00,  1.74it/s, epoch=5, train_loss=0.002, train_acc=1.000]\n",
      "Meta Test : 100%|█| 20/20 [00:01<00:00, 17.88it/s, epoch=5, train_loss=0.002, train_acc=1.000]\n"
     ]
    },
    {
     "name": "stdout",
     "output_type": "stream",
     "text": [
      "# 517 (meta-train-task) test_loss: 0.058587, test_acc: 0.862719\n",
      "# 517  (meta-test-task) test_loss: 1.086472, test_acc: 0.677368\n"
     ]
    },
    {
     "name": "stderr",
     "output_type": "stream",
     "text": [
      "Meta Train: 100%|█| 96/96 [00:55<00:00,  1.74it/s, epoch=5, train_loss=0.002, train_acc=1.000]\n",
      "Meta Test : 100%|█| 20/20 [00:01<00:00, 18.28it/s, epoch=5, train_loss=0.001, train_acc=1.000]\n"
     ]
    },
    {
     "name": "stdout",
     "output_type": "stream",
     "text": [
      "# 518 (meta-train-task) test_loss: 0.058417, test_acc: 0.863596\n",
      "# 518  (meta-test-task) test_loss: 1.061272, test_acc: 0.684211\n"
     ]
    },
    {
     "name": "stderr",
     "output_type": "stream",
     "text": [
      "Meta Train: 100%|█| 96/96 [00:54<00:00,  1.76it/s, epoch=5, train_loss=0.002, train_acc=1.000]\n",
      "Meta Test : 100%|█| 20/20 [00:01<00:00, 18.66it/s, epoch=5, train_loss=0.004, train_acc=1.000]\n"
     ]
    },
    {
     "name": "stdout",
     "output_type": "stream",
     "text": [
      "# 519 (meta-train-task) test_loss: 0.058436, test_acc: 0.867105\n",
      "# 519  (meta-test-task) test_loss: 1.121154, test_acc: 0.676053\n"
     ]
    },
    {
     "name": "stderr",
     "output_type": "stream",
     "text": [
      "Meta Train: 100%|█| 96/96 [00:53<00:00,  1.78it/s, epoch=5, train_loss=0.002, train_acc=1.000]\n",
      "Meta Test : 100%|█| 20/20 [00:01<00:00, 18.82it/s, epoch=5, train_loss=0.001, train_acc=1.000]\n"
     ]
    },
    {
     "name": "stdout",
     "output_type": "stream",
     "text": [
      "# 520 (meta-train-task) test_loss: 0.056798, test_acc: 0.872094\n",
      "# 520  (meta-test-task) test_loss: 1.119273, test_acc: 0.668421\n"
     ]
    },
    {
     "name": "stderr",
     "output_type": "stream",
     "text": [
      "Meta Train: 100%|█| 96/96 [00:53<00:00,  1.78it/s, epoch=5, train_loss=0.001, train_acc=1.000]\n",
      "Meta Test : 100%|█| 20/20 [00:01<00:00, 18.76it/s, epoch=5, train_loss=0.002, train_acc=1.000]\n"
     ]
    },
    {
     "name": "stdout",
     "output_type": "stream",
     "text": [
      "# 521 (meta-train-task) test_loss: 0.057310, test_acc: 0.870230\n",
      "# 521  (meta-test-task) test_loss: 1.050826, test_acc: 0.682632\n"
     ]
    },
    {
     "name": "stderr",
     "output_type": "stream",
     "text": [
      "Meta Train: 100%|█| 96/96 [00:55<00:00,  1.72it/s, epoch=5, train_loss=0.003, train_acc=1.000]\n",
      "Meta Test : 100%|█| 20/20 [00:01<00:00, 15.88it/s, epoch=5, train_loss=0.001, train_acc=1.000]\n"
     ]
    },
    {
     "name": "stdout",
     "output_type": "stream",
     "text": [
      "# 522 (meta-train-task) test_loss: 0.058170, test_acc: 0.862390\n",
      "# 522  (meta-test-task) test_loss: 1.115623, test_acc: 0.655789\n"
     ]
    },
    {
     "name": "stderr",
     "output_type": "stream",
     "text": [
      "Meta Train: 100%|█| 96/96 [00:56<00:00,  1.71it/s, epoch=5, train_loss=0.002, train_acc=1.000]\n",
      "Meta Test : 100%|█| 20/20 [00:01<00:00, 18.97it/s, epoch=5, train_loss=0.003, train_acc=1.000]\n"
     ]
    },
    {
     "name": "stdout",
     "output_type": "stream",
     "text": [
      "# 523 (meta-train-task) test_loss: 0.056109, test_acc: 0.876590\n",
      "# 523  (meta-test-task) test_loss: 1.090941, test_acc: 0.661579\n"
     ]
    },
    {
     "name": "stderr",
     "output_type": "stream",
     "text": [
      "Meta Train: 100%|█| 96/96 [00:54<00:00,  1.77it/s, epoch=5, train_loss=0.002, train_acc=1.000]\n",
      "Meta Test : 100%|█| 20/20 [00:01<00:00, 18.20it/s, epoch=5, train_loss=0.003, train_acc=1.000]\n"
     ]
    },
    {
     "name": "stdout",
     "output_type": "stream",
     "text": [
      "# 524 (meta-train-task) test_loss: 0.058256, test_acc: 0.866228\n",
      "# 524  (meta-test-task) test_loss: 1.061053, test_acc: 0.675526\n"
     ]
    },
    {
     "name": "stderr",
     "output_type": "stream",
     "text": [
      "Meta Train: 100%|█| 96/96 [00:54<00:00,  1.78it/s, epoch=5, train_loss=0.002, train_acc=1.000]\n",
      "Meta Test : 100%|█| 20/20 [00:01<00:00, 18.95it/s, epoch=5, train_loss=0.003, train_acc=1.000]\n"
     ]
    },
    {
     "name": "stdout",
     "output_type": "stream",
     "text": [
      "# 525 (meta-train-task) test_loss: 0.057668, test_acc: 0.870504\n",
      "# 525  (meta-test-task) test_loss: 1.049867, test_acc: 0.669474\n"
     ]
    },
    {
     "name": "stderr",
     "output_type": "stream",
     "text": [
      "Meta Train: 100%|█| 96/96 [00:54<00:00,  1.77it/s, epoch=5, train_loss=0.002, train_acc=1.000]\n",
      "Meta Test : 100%|█| 20/20 [00:01<00:00, 18.81it/s, epoch=5, train_loss=0.004, train_acc=1.000]\n"
     ]
    },
    {
     "name": "stdout",
     "output_type": "stream",
     "text": [
      "# 526 (meta-train-task) test_loss: 0.058010, test_acc: 0.866393\n",
      "# 526  (meta-test-task) test_loss: 1.029227, test_acc: 0.690263\n"
     ]
    },
    {
     "name": "stderr",
     "output_type": "stream",
     "text": [
      "Meta Train: 100%|█| 96/96 [00:54<00:00,  1.78it/s, epoch=5, train_loss=0.001, train_acc=1.000]\n",
      "Meta Test : 100%|█| 20/20 [00:01<00:00, 18.51it/s, epoch=5, train_loss=0.003, train_acc=1.000]\n"
     ]
    },
    {
     "name": "stdout",
     "output_type": "stream",
     "text": [
      "# 527 (meta-train-task) test_loss: 0.055246, test_acc: 0.878618\n",
      "# 527  (meta-test-task) test_loss: 1.146933, test_acc: 0.649211\n"
     ]
    },
    {
     "name": "stderr",
     "output_type": "stream",
     "text": [
      "Meta Train: 100%|█| 96/96 [00:54<00:00,  1.76it/s, epoch=5, train_loss=0.002, train_acc=1.000]\n",
      "Meta Test : 100%|█| 20/20 [00:01<00:00, 17.93it/s, epoch=5, train_loss=0.004, train_acc=1.000]\n"
     ]
    },
    {
     "name": "stdout",
     "output_type": "stream",
     "text": [
      "# 528 (meta-train-task) test_loss: 0.057235, test_acc: 0.872259\n",
      "# 528  (meta-test-task) test_loss: 1.065648, test_acc: 0.680263\n"
     ]
    },
    {
     "name": "stderr",
     "output_type": "stream",
     "text": [
      "Meta Train: 100%|█| 96/96 [00:55<00:00,  1.74it/s, epoch=5, train_loss=0.002, train_acc=1.000]\n",
      "Meta Test : 100%|█| 20/20 [00:01<00:00, 19.18it/s, epoch=5, train_loss=0.001, train_acc=1.000]\n"
     ]
    },
    {
     "name": "stdout",
     "output_type": "stream",
     "text": [
      "# 529 (meta-train-task) test_loss: 0.056714, test_acc: 0.870504\n",
      "# 529  (meta-test-task) test_loss: 1.078300, test_acc: 0.678684\n"
     ]
    },
    {
     "name": "stderr",
     "output_type": "stream",
     "text": [
      "Meta Train: 100%|█| 96/96 [00:55<00:00,  1.74it/s, epoch=5, train_loss=0.002, train_acc=1.000]\n",
      "Meta Test : 100%|█| 20/20 [00:01<00:00, 19.08it/s, epoch=5, train_loss=0.004, train_acc=1.000]\n"
     ]
    },
    {
     "name": "stdout",
     "output_type": "stream",
     "text": [
      "# 530 (meta-train-task) test_loss: 0.056301, test_acc: 0.873629\n",
      "# 530  (meta-test-task) test_loss: 1.070959, test_acc: 0.671053\n"
     ]
    },
    {
     "name": "stderr",
     "output_type": "stream",
     "text": [
      "Meta Train: 100%|█| 96/96 [00:55<00:00,  1.73it/s, epoch=5, train_loss=0.003, train_acc=1.000]\n",
      "Meta Test : 100%|█| 20/20 [00:01<00:00, 18.37it/s, epoch=5, train_loss=0.003, train_acc=1.000]\n"
     ]
    },
    {
     "name": "stdout",
     "output_type": "stream",
     "text": [
      "# 531 (meta-train-task) test_loss: 0.056100, test_acc: 0.875000\n",
      "# 531  (meta-test-task) test_loss: 1.031118, test_acc: 0.697105\n"
     ]
    },
    {
     "name": "stderr",
     "output_type": "stream",
     "text": [
      "Meta Train: 100%|█| 96/96 [00:54<00:00,  1.76it/s, epoch=5, train_loss=0.001, train_acc=1.000]\n",
      "Meta Test : 100%|█| 20/20 [00:01<00:00, 18.90it/s, epoch=5, train_loss=0.002, train_acc=1.000]\n"
     ]
    },
    {
     "name": "stdout",
     "output_type": "stream",
     "text": [
      "# 532 (meta-train-task) test_loss: 0.057043, test_acc: 0.867708\n",
      "# 532  (meta-test-task) test_loss: 1.086502, test_acc: 0.674211\n"
     ]
    },
    {
     "name": "stderr",
     "output_type": "stream",
     "text": [
      "Meta Train: 100%|█| 96/96 [00:54<00:00,  1.77it/s, epoch=5, train_loss=0.003, train_acc=1.000]\n",
      "Meta Test : 100%|█| 20/20 [00:01<00:00, 17.96it/s, epoch=5, train_loss=0.003, train_acc=1.000]\n"
     ]
    },
    {
     "name": "stdout",
     "output_type": "stream",
     "text": [
      "# 533 (meta-train-task) test_loss: 0.056893, test_acc: 0.867105\n",
      "# 533  (meta-test-task) test_loss: 1.126599, test_acc: 0.649474\n"
     ]
    },
    {
     "name": "stderr",
     "output_type": "stream",
     "text": [
      "Meta Train: 100%|█| 96/96 [00:55<00:00,  1.73it/s, epoch=5, train_loss=0.001, train_acc=1.000]\n",
      "Meta Test : 100%|█| 20/20 [00:01<00:00, 16.43it/s, epoch=5, train_loss=0.002, train_acc=1.000]\n"
     ]
    },
    {
     "name": "stdout",
     "output_type": "stream",
     "text": [
      "# 534 (meta-train-task) test_loss: 0.056600, test_acc: 0.872917\n",
      "# 534  (meta-test-task) test_loss: 1.024570, test_acc: 0.686842\n"
     ]
    },
    {
     "name": "stderr",
     "output_type": "stream",
     "text": [
      "Meta Train: 100%|█| 96/96 [00:56<00:00,  1.70it/s, epoch=5, train_loss=0.001, train_acc=1.000]\n",
      "Meta Test : 100%|█| 20/20 [00:01<00:00, 17.76it/s, epoch=5, train_loss=0.003, train_acc=1.000]\n"
     ]
    },
    {
     "name": "stdout",
     "output_type": "stream",
     "text": [
      "# 535 (meta-train-task) test_loss: 0.056080, test_acc: 0.871436\n",
      "# 535  (meta-test-task) test_loss: 1.079795, test_acc: 0.680263\n"
     ]
    },
    {
     "name": "stderr",
     "output_type": "stream",
     "text": [
      "Meta Train: 100%|█| 96/96 [00:56<00:00,  1.71it/s, epoch=5, train_loss=0.002, train_acc=1.000]\n",
      "Meta Test : 100%|█| 20/20 [00:01<00:00, 17.24it/s, epoch=5, train_loss=0.004, train_acc=1.000]\n"
     ]
    },
    {
     "name": "stdout",
     "output_type": "stream",
     "text": [
      "# 536 (meta-train-task) test_loss: 0.055139, test_acc: 0.877083\n",
      "# 536  (meta-test-task) test_loss: 1.083620, test_acc: 0.664737\n"
     ]
    },
    {
     "name": "stderr",
     "output_type": "stream",
     "text": [
      "Meta Train: 100%|█| 96/96 [00:55<00:00,  1.72it/s, epoch=5, train_loss=0.001, train_acc=1.000]\n",
      "Meta Test : 100%|█| 20/20 [00:01<00:00, 17.72it/s, epoch=5, train_loss=0.004, train_acc=1.000]\n"
     ]
    },
    {
     "name": "stdout",
     "output_type": "stream",
     "text": [
      "# 537 (meta-train-task) test_loss: 0.056324, test_acc: 0.873465\n",
      "# 537  (meta-test-task) test_loss: 1.103917, test_acc: 0.671316\n"
     ]
    },
    {
     "name": "stderr",
     "output_type": "stream",
     "text": [
      "Meta Train: 100%|█| 96/96 [00:55<00:00,  1.73it/s, epoch=5, train_loss=0.002, train_acc=1.000]\n",
      "Meta Test : 100%|█| 20/20 [00:01<00:00, 18.54it/s, epoch=5, train_loss=0.005, train_acc=1.000]\n"
     ]
    },
    {
     "name": "stdout",
     "output_type": "stream",
     "text": [
      "# 538 (meta-train-task) test_loss: 0.055998, test_acc: 0.871107\n",
      "# 538  (meta-test-task) test_loss: 1.122681, test_acc: 0.653684\n"
     ]
    },
    {
     "name": "stderr",
     "output_type": "stream",
     "text": [
      "Meta Train: 100%|█| 96/96 [00:55<00:00,  1.72it/s, epoch=5, train_loss=0.002, train_acc=1.000]\n",
      "Meta Test : 100%|█| 20/20 [00:01<00:00, 18.66it/s, epoch=5, train_loss=0.003, train_acc=1.000]\n"
     ]
    },
    {
     "name": "stdout",
     "output_type": "stream",
     "text": [
      "# 539 (meta-train-task) test_loss: 0.057449, test_acc: 0.865186\n",
      "# 539  (meta-test-task) test_loss: 1.047163, test_acc: 0.684474\n"
     ]
    },
    {
     "name": "stderr",
     "output_type": "stream",
     "text": [
      "Meta Train: 100%|█| 96/96 [00:55<00:00,  1.74it/s, epoch=5, train_loss=0.002, train_acc=1.000]\n",
      "Meta Test : 100%|█| 20/20 [00:01<00:00, 17.63it/s, epoch=5, train_loss=0.001, train_acc=1.000]\n"
     ]
    },
    {
     "name": "stdout",
     "output_type": "stream",
     "text": [
      "# 540 (meta-train-task) test_loss: 0.055664, test_acc: 0.873794\n",
      "# 540  (meta-test-task) test_loss: 1.100373, test_acc: 0.657895\n"
     ]
    },
    {
     "name": "stderr",
     "output_type": "stream",
     "text": [
      "Meta Train: 100%|█| 96/96 [00:54<00:00,  1.76it/s, epoch=5, train_loss=0.002, train_acc=1.000]\n",
      "Meta Test : 100%|█| 20/20 [00:01<00:00, 17.72it/s, epoch=5, train_loss=0.003, train_acc=1.000]\n"
     ]
    },
    {
     "name": "stdout",
     "output_type": "stream",
     "text": [
      "# 541 (meta-train-task) test_loss: 0.056868, test_acc: 0.870833\n",
      "# 541  (meta-test-task) test_loss: 1.181648, test_acc: 0.634474\n"
     ]
    },
    {
     "name": "stderr",
     "output_type": "stream",
     "text": [
      "Meta Train: 100%|█| 96/96 [00:55<00:00,  1.74it/s, epoch=5, train_loss=0.002, train_acc=1.000]\n",
      "Meta Test : 100%|█| 20/20 [00:01<00:00, 18.44it/s, epoch=5, train_loss=0.002, train_acc=1.000]\n"
     ]
    },
    {
     "name": "stdout",
     "output_type": "stream",
     "text": [
      "# 542 (meta-train-task) test_loss: 0.055688, test_acc: 0.875384\n",
      "# 542  (meta-test-task) test_loss: 1.105398, test_acc: 0.657895\n"
     ]
    },
    {
     "name": "stderr",
     "output_type": "stream",
     "text": [
      "Meta Train: 100%|█| 96/96 [00:55<00:00,  1.74it/s, epoch=5, train_loss=0.002, train_acc=1.000]\n",
      "Meta Test : 100%|█| 20/20 [00:01<00:00, 17.61it/s, epoch=5, train_loss=0.003, train_acc=1.000]\n"
     ]
    },
    {
     "name": "stdout",
     "output_type": "stream",
     "text": [
      "# 543 (meta-train-task) test_loss: 0.054921, test_acc: 0.877357\n",
      "# 543  (meta-test-task) test_loss: 1.076330, test_acc: 0.681842\n"
     ]
    },
    {
     "name": "stderr",
     "output_type": "stream",
     "text": [
      "Meta Train: 100%|█| 96/96 [00:55<00:00,  1.74it/s, epoch=5, train_loss=0.002, train_acc=1.000]\n",
      "Meta Test : 100%|█| 20/20 [00:01<00:00, 18.85it/s, epoch=5, train_loss=0.003, train_acc=1.000]\n"
     ]
    },
    {
     "name": "stdout",
     "output_type": "stream",
     "text": [
      "# 544 (meta-train-task) test_loss: 0.055512, test_acc: 0.879715\n",
      "# 544  (meta-test-task) test_loss: 1.083287, test_acc: 0.680526\n"
     ]
    },
    {
     "name": "stderr",
     "output_type": "stream",
     "text": [
      "Meta Train: 100%|█| 96/96 [00:55<00:00,  1.73it/s, epoch=5, train_loss=0.008, train_acc=1.000]\n",
      "Meta Test : 100%|█| 20/20 [00:01<00:00, 17.06it/s, epoch=5, train_loss=0.002, train_acc=1.000]\n"
     ]
    },
    {
     "name": "stdout",
     "output_type": "stream",
     "text": [
      "# 545 (meta-train-task) test_loss: 0.055142, test_acc: 0.875000\n",
      "# 545  (meta-test-task) test_loss: 1.093739, test_acc: 0.678684\n"
     ]
    },
    {
     "name": "stderr",
     "output_type": "stream",
     "text": [
      "Meta Train: 100%|█| 96/96 [00:54<00:00,  1.76it/s, epoch=5, train_loss=0.003, train_acc=1.000]\n",
      "Meta Test : 100%|█| 20/20 [00:01<00:00, 18.38it/s, epoch=5, train_loss=0.002, train_acc=1.000]\n"
     ]
    },
    {
     "name": "stdout",
     "output_type": "stream",
     "text": [
      "# 546 (meta-train-task) test_loss: 0.055808, test_acc: 0.876590\n",
      "# 546  (meta-test-task) test_loss: 1.054169, test_acc: 0.676316\n"
     ]
    },
    {
     "name": "stderr",
     "output_type": "stream",
     "text": [
      "Meta Train: 100%|█| 96/96 [00:54<00:00,  1.76it/s, epoch=5, train_loss=0.001, train_acc=1.000]\n",
      "Meta Test : 100%|█| 20/20 [00:01<00:00, 17.15it/s, epoch=5, train_loss=0.004, train_acc=1.000]\n"
     ]
    },
    {
     "name": "stdout",
     "output_type": "stream",
     "text": [
      "# 547 (meta-train-task) test_loss: 0.055385, test_acc: 0.875219\n",
      "# 547  (meta-test-task) test_loss: 1.138621, test_acc: 0.657632\n"
     ]
    },
    {
     "name": "stderr",
     "output_type": "stream",
     "text": [
      "Meta Train: 100%|█| 96/96 [00:56<00:00,  1.71it/s, epoch=5, train_loss=0.002, train_acc=1.000]\n",
      "Meta Test : 100%|█| 20/20 [00:01<00:00, 18.52it/s, epoch=5, train_loss=0.002, train_acc=1.000]\n"
     ]
    },
    {
     "name": "stdout",
     "output_type": "stream",
     "text": [
      "# 548 (meta-train-task) test_loss: 0.055764, test_acc: 0.871765\n",
      "# 548  (meta-test-task) test_loss: 1.000885, test_acc: 0.717895\n"
     ]
    },
    {
     "name": "stderr",
     "output_type": "stream",
     "text": [
      "Meta Train: 100%|█| 96/96 [00:54<00:00,  1.76it/s, epoch=5, train_loss=0.002, train_acc=1.000]\n",
      "Meta Test : 100%|█| 20/20 [00:01<00:00, 17.77it/s, epoch=5, train_loss=0.003, train_acc=1.000]\n"
     ]
    },
    {
     "name": "stdout",
     "output_type": "stream",
     "text": [
      "# 549 (meta-train-task) test_loss: 0.055652, test_acc: 0.870724\n",
      "# 549  (meta-test-task) test_loss: 1.018722, test_acc: 0.697368\n"
     ]
    },
    {
     "name": "stderr",
     "output_type": "stream",
     "text": [
      "Meta Train: 100%|█| 96/96 [00:54<00:00,  1.75it/s, epoch=5, train_loss=0.001, train_acc=1.000]\n",
      "Meta Test : 100%|█| 20/20 [00:01<00:00, 18.74it/s, epoch=5, train_loss=0.001, train_acc=1.000]\n"
     ]
    },
    {
     "name": "stdout",
     "output_type": "stream",
     "text": [
      "# 550 (meta-train-task) test_loss: 0.056045, test_acc: 0.873026\n",
      "# 550  (meta-test-task) test_loss: 1.038695, test_acc: 0.680263\n"
     ]
    },
    {
     "name": "stderr",
     "output_type": "stream",
     "text": [
      "Meta Train: 100%|█| 96/96 [00:54<00:00,  1.75it/s, epoch=5, train_loss=0.002, train_acc=1.000]\n",
      "Meta Test : 100%|█| 20/20 [00:01<00:00, 19.16it/s, epoch=5, train_loss=0.003, train_acc=1.000]\n"
     ]
    },
    {
     "name": "stdout",
     "output_type": "stream",
     "text": [
      "# 551 (meta-train-task) test_loss: 0.056806, test_acc: 0.868366\n",
      "# 551  (meta-test-task) test_loss: 1.025263, test_acc: 0.691842\n"
     ]
    },
    {
     "name": "stderr",
     "output_type": "stream",
     "text": [
      "Meta Train: 100%|█| 96/96 [00:54<00:00,  1.75it/s, epoch=5, train_loss=0.001, train_acc=1.000]\n",
      "Meta Test : 100%|█| 20/20 [00:01<00:00, 19.71it/s, epoch=5, train_loss=0.004, train_acc=1.000]\n"
     ]
    },
    {
     "name": "stdout",
     "output_type": "stream",
     "text": [
      "# 552 (meta-train-task) test_loss: 0.054883, test_acc: 0.874616\n",
      "# 552  (meta-test-task) test_loss: 1.061909, test_acc: 0.680000\n"
     ]
    },
    {
     "name": "stderr",
     "output_type": "stream",
     "text": [
      "Meta Train: 100%|█| 96/96 [00:54<00:00,  1.77it/s, epoch=5, train_loss=0.001, train_acc=1.000]\n",
      "Meta Test : 100%|█| 20/20 [00:01<00:00, 19.04it/s, epoch=5, train_loss=0.001, train_acc=1.000]\n"
     ]
    },
    {
     "name": "stdout",
     "output_type": "stream",
     "text": [
      "# 553 (meta-train-task) test_loss: 0.055436, test_acc: 0.876535\n",
      "# 553  (meta-test-task) test_loss: 1.104257, test_acc: 0.665526\n"
     ]
    },
    {
     "name": "stderr",
     "output_type": "stream",
     "text": [
      "Meta Train: 100%|█| 96/96 [00:55<00:00,  1.74it/s, epoch=5, train_loss=0.002, train_acc=1.000]\n",
      "Meta Test : 100%|█| 20/20 [00:01<00:00, 19.32it/s, epoch=5, train_loss=0.002, train_acc=1.000]\n"
     ]
    },
    {
     "name": "stdout",
     "output_type": "stream",
     "text": [
      "# 554 (meta-train-task) test_loss: 0.055436, test_acc: 0.874836\n",
      "# 554  (meta-test-task) test_loss: 1.112062, test_acc: 0.655526\n"
     ]
    },
    {
     "name": "stderr",
     "output_type": "stream",
     "text": [
      "Meta Train: 100%|█| 96/96 [00:54<00:00,  1.75it/s, epoch=5, train_loss=0.001, train_acc=1.000]\n",
      "Meta Test : 100%|█| 20/20 [00:01<00:00, 18.85it/s, epoch=5, train_loss=0.002, train_acc=1.000]\n"
     ]
    },
    {
     "name": "stdout",
     "output_type": "stream",
     "text": [
      "# 555 (meta-train-task) test_loss: 0.056865, test_acc: 0.868257\n",
      "# 555  (meta-test-task) test_loss: 1.049794, test_acc: 0.686053\n"
     ]
    },
    {
     "name": "stderr",
     "output_type": "stream",
     "text": [
      "Meta Train: 100%|█| 96/96 [00:54<00:00,  1.77it/s, epoch=5, train_loss=0.002, train_acc=1.000]\n",
      "Meta Test : 100%|█| 20/20 [00:01<00:00, 19.14it/s, epoch=5, train_loss=0.003, train_acc=1.000]\n"
     ]
    },
    {
     "name": "stdout",
     "output_type": "stream",
     "text": [
      "# 556 (meta-train-task) test_loss: 0.057218, test_acc: 0.868037\n",
      "# 556  (meta-test-task) test_loss: 1.090656, test_acc: 0.657895\n"
     ]
    },
    {
     "name": "stderr",
     "output_type": "stream",
     "text": [
      "Meta Train: 100%|█| 96/96 [00:56<00:00,  1.71it/s, epoch=5, train_loss=0.002, train_acc=1.000]\n",
      "Meta Test : 100%|█| 20/20 [00:01<00:00, 17.69it/s, epoch=5, train_loss=0.002, train_acc=1.000]\n"
     ]
    },
    {
     "name": "stdout",
     "output_type": "stream",
     "text": [
      "# 557 (meta-train-task) test_loss: 0.056115, test_acc: 0.872752\n",
      "# 557  (meta-test-task) test_loss: 1.123584, test_acc: 0.665000\n"
     ]
    },
    {
     "name": "stderr",
     "output_type": "stream",
     "text": [
      "Meta Train: 100%|█| 96/96 [00:55<00:00,  1.73it/s, epoch=5, train_loss=0.002, train_acc=1.000]\n",
      "Meta Test : 100%|█| 20/20 [00:00<00:00, 20.31it/s, epoch=5, train_loss=0.004, train_acc=1.000]\n"
     ]
    },
    {
     "name": "stdout",
     "output_type": "stream",
     "text": [
      "# 558 (meta-train-task) test_loss: 0.057559, test_acc: 0.866393\n",
      "# 558  (meta-test-task) test_loss: 1.045471, test_acc: 0.673947\n"
     ]
    },
    {
     "name": "stderr",
     "output_type": "stream",
     "text": [
      "Meta Train: 100%|█| 96/96 [00:53<00:00,  1.79it/s, epoch=5, train_loss=0.001, train_acc=1.000]\n",
      "Meta Test : 100%|█| 20/20 [00:01<00:00, 19.55it/s, epoch=5, train_loss=0.002, train_acc=1.000]\n"
     ]
    },
    {
     "name": "stdout",
     "output_type": "stream",
     "text": [
      "# 559 (meta-train-task) test_loss: 0.054865, test_acc: 0.878070\n",
      "# 559  (meta-test-task) test_loss: 1.031244, test_acc: 0.698684\n"
     ]
    },
    {
     "name": "stderr",
     "output_type": "stream",
     "text": [
      "Meta Train: 100%|█| 96/96 [00:54<00:00,  1.77it/s, epoch=5, train_loss=0.001, train_acc=1.000]\n",
      "Meta Test : 100%|█| 20/20 [00:01<00:00, 18.95it/s, epoch=5, train_loss=0.005, train_acc=1.000]\n"
     ]
    },
    {
     "name": "stdout",
     "output_type": "stream",
     "text": [
      "# 560 (meta-train-task) test_loss: 0.055205, test_acc: 0.876206\n",
      "# 560  (meta-test-task) test_loss: 1.048205, test_acc: 0.677632\n"
     ]
    },
    {
     "name": "stderr",
     "output_type": "stream",
     "text": [
      "Meta Train: 100%|█| 96/96 [00:53<00:00,  1.78it/s, epoch=5, train_loss=0.002, train_acc=1.000]\n",
      "Meta Test : 100%|█| 20/20 [00:01<00:00, 19.03it/s, epoch=5, train_loss=0.004, train_acc=1.000]\n"
     ]
    },
    {
     "name": "stdout",
     "output_type": "stream",
     "text": [
      "# 561 (meta-train-task) test_loss: 0.055781, test_acc: 0.873026\n",
      "# 561  (meta-test-task) test_loss: 1.064860, test_acc: 0.668947\n"
     ]
    },
    {
     "name": "stderr",
     "output_type": "stream",
     "text": [
      "Meta Train: 100%|█| 96/96 [00:53<00:00,  1.78it/s, epoch=5, train_loss=0.002, train_acc=1.000]\n",
      "Meta Test : 100%|█| 20/20 [00:01<00:00, 18.87it/s, epoch=5, train_loss=0.003, train_acc=1.000]\n"
     ]
    },
    {
     "name": "stdout",
     "output_type": "stream",
     "text": [
      "# 562 (meta-train-task) test_loss: 0.054518, test_acc: 0.880482\n",
      "# 562  (meta-test-task) test_loss: 1.057690, test_acc: 0.673158\n"
     ]
    },
    {
     "name": "stderr",
     "output_type": "stream",
     "text": [
      "Meta Train: 100%|█| 96/96 [00:54<00:00,  1.78it/s, epoch=5, train_loss=0.001, train_acc=1.000]\n",
      "Meta Test : 100%|█| 20/20 [00:01<00:00, 18.73it/s, epoch=5, train_loss=0.002, train_acc=1.000]\n"
     ]
    },
    {
     "name": "stdout",
     "output_type": "stream",
     "text": [
      "# 563 (meta-train-task) test_loss: 0.056852, test_acc: 0.868640\n",
      "# 563  (meta-test-task) test_loss: 1.069539, test_acc: 0.665000\n"
     ]
    },
    {
     "name": "stderr",
     "output_type": "stream",
     "text": [
      "Meta Train: 100%|█| 96/96 [00:54<00:00,  1.78it/s, epoch=5, train_loss=0.002, train_acc=1.000]\n",
      "Meta Test : 100%|█| 20/20 [00:01<00:00, 19.89it/s, epoch=5, train_loss=0.002, train_acc=1.000]\n"
     ]
    },
    {
     "name": "stdout",
     "output_type": "stream",
     "text": [
      "# 564 (meta-train-task) test_loss: 0.056561, test_acc: 0.873465\n",
      "# 564  (meta-test-task) test_loss: 1.113882, test_acc: 0.670789\n"
     ]
    },
    {
     "name": "stderr",
     "output_type": "stream",
     "text": [
      "Meta Train: 100%|█| 96/96 [00:54<00:00,  1.77it/s, epoch=5, train_loss=0.001, train_acc=1.000]\n",
      "Meta Test : 100%|█| 20/20 [00:00<00:00, 20.33it/s, epoch=5, train_loss=0.002, train_acc=1.000]\n"
     ]
    },
    {
     "name": "stdout",
     "output_type": "stream",
     "text": [
      "# 565 (meta-train-task) test_loss: 0.055215, test_acc: 0.870230\n",
      "# 565  (meta-test-task) test_loss: 1.098352, test_acc: 0.666579\n"
     ]
    },
    {
     "name": "stderr",
     "output_type": "stream",
     "text": [
      "Meta Train: 100%|█| 96/96 [00:54<00:00,  1.78it/s, epoch=5, train_loss=0.002, train_acc=1.000]\n",
      "Meta Test : 100%|█| 20/20 [00:01<00:00, 19.60it/s, epoch=5, train_loss=0.002, train_acc=1.000]\n"
     ]
    },
    {
     "name": "stdout",
     "output_type": "stream",
     "text": [
      "# 566 (meta-train-task) test_loss: 0.054468, test_acc: 0.879660\n",
      "# 566  (meta-test-task) test_loss: 1.056510, test_acc: 0.695789\n"
     ]
    },
    {
     "name": "stderr",
     "output_type": "stream",
     "text": [
      "Meta Train: 100%|█| 96/96 [00:54<00:00,  1.77it/s, epoch=5, train_loss=0.001, train_acc=1.000]\n",
      "Meta Test : 100%|█| 20/20 [00:01<00:00, 19.17it/s, epoch=5, train_loss=0.003, train_acc=1.000]\n"
     ]
    },
    {
     "name": "stdout",
     "output_type": "stream",
     "text": [
      "# 567 (meta-train-task) test_loss: 0.056105, test_acc: 0.871382\n",
      "# 567  (meta-test-task) test_loss: 1.050874, test_acc: 0.687632\n"
     ]
    },
    {
     "name": "stderr",
     "output_type": "stream",
     "text": [
      "Meta Train: 100%|█| 96/96 [00:55<00:00,  1.74it/s, epoch=5, train_loss=0.002, train_acc=1.000]\n",
      "Meta Test : 100%|█| 20/20 [00:01<00:00, 16.87it/s, epoch=5, train_loss=0.003, train_acc=1.000]\n"
     ]
    },
    {
     "name": "stdout",
     "output_type": "stream",
     "text": [
      "# 568 (meta-train-task) test_loss: 0.054785, test_acc: 0.878289\n",
      "# 568  (meta-test-task) test_loss: 1.046050, test_acc: 0.672105\n"
     ]
    },
    {
     "name": "stderr",
     "output_type": "stream",
     "text": [
      "Meta Train: 100%|█| 96/96 [00:54<00:00,  1.76it/s, epoch=5, train_loss=0.002, train_acc=1.000]\n",
      "Meta Test : 100%|█| 20/20 [00:01<00:00, 19.26it/s, epoch=5, train_loss=0.005, train_acc=1.000]\n"
     ]
    },
    {
     "name": "stdout",
     "output_type": "stream",
     "text": [
      "# 569 (meta-train-task) test_loss: 0.056207, test_acc: 0.868914\n",
      "# 569  (meta-test-task) test_loss: 1.017751, test_acc: 0.698421\n"
     ]
    },
    {
     "name": "stderr",
     "output_type": "stream",
     "text": [
      "Meta Train: 100%|█| 96/96 [00:54<00:00,  1.77it/s, epoch=5, train_loss=0.001, train_acc=1.000]\n",
      "Meta Test : 100%|█| 20/20 [00:01<00:00, 18.44it/s, epoch=5, train_loss=0.002, train_acc=1.000]\n"
     ]
    },
    {
     "name": "stdout",
     "output_type": "stream",
     "text": [
      "# 570 (meta-train-task) test_loss: 0.054370, test_acc: 0.880757\n",
      "# 570  (meta-test-task) test_loss: 1.068146, test_acc: 0.681842\n"
     ]
    },
    {
     "name": "stderr",
     "output_type": "stream",
     "text": [
      "Meta Train: 100%|█| 96/96 [00:53<00:00,  1.78it/s, epoch=5, train_loss=0.002, train_acc=1.000]\n",
      "Meta Test : 100%|█| 20/20 [00:01<00:00, 18.88it/s, epoch=5, train_loss=0.002, train_acc=1.000]\n"
     ]
    },
    {
     "name": "stdout",
     "output_type": "stream",
     "text": [
      "# 571 (meta-train-task) test_loss: 0.055149, test_acc: 0.875987\n",
      "# 571  (meta-test-task) test_loss: 1.116271, test_acc: 0.658684\n"
     ]
    },
    {
     "name": "stderr",
     "output_type": "stream",
     "text": [
      "Meta Train: 100%|█| 96/96 [00:54<00:00,  1.77it/s, epoch=5, train_loss=0.002, train_acc=1.000]\n",
      "Meta Test : 100%|█| 20/20 [00:01<00:00, 18.83it/s, epoch=5, train_loss=0.002, train_acc=1.000]\n"
     ]
    },
    {
     "name": "stdout",
     "output_type": "stream",
     "text": [
      "# 572 (meta-train-task) test_loss: 0.057599, test_acc: 0.862884\n",
      "# 572  (meta-test-task) test_loss: 1.072828, test_acc: 0.670000\n"
     ]
    },
    {
     "name": "stderr",
     "output_type": "stream",
     "text": [
      "Meta Train: 100%|█| 96/96 [00:54<00:00,  1.77it/s, epoch=5, train_loss=0.002, train_acc=1.000]\n",
      "Meta Test : 100%|█| 20/20 [00:01<00:00, 18.78it/s, epoch=5, train_loss=0.002, train_acc=1.000]\n"
     ]
    },
    {
     "name": "stdout",
     "output_type": "stream",
     "text": [
      "# 573 (meta-train-task) test_loss: 0.056225, test_acc: 0.870175\n",
      "# 573  (meta-test-task) test_loss: 1.046230, test_acc: 0.690000\n"
     ]
    },
    {
     "name": "stderr",
     "output_type": "stream",
     "text": [
      "Meta Train: 100%|█| 96/96 [00:54<00:00,  1.77it/s, epoch=5, train_loss=0.001, train_acc=1.000]\n",
      "Meta Test : 100%|█| 20/20 [00:01<00:00, 17.88it/s, epoch=5, train_loss=0.003, train_acc=1.000]\n"
     ]
    },
    {
     "name": "stdout",
     "output_type": "stream",
     "text": [
      "# 574 (meta-train-task) test_loss: 0.055157, test_acc: 0.873246\n",
      "# 574  (meta-test-task) test_loss: 1.017631, test_acc: 0.702895\n"
     ]
    },
    {
     "name": "stderr",
     "output_type": "stream",
     "text": [
      "Meta Train: 100%|█| 96/96 [00:55<00:00,  1.74it/s, epoch=5, train_loss=0.002, train_acc=1.000]\n",
      "Meta Test : 100%|█| 20/20 [00:01<00:00, 18.96it/s, epoch=5, train_loss=0.002, train_acc=1.000]\n"
     ]
    },
    {
     "name": "stdout",
     "output_type": "stream",
     "text": [
      "# 575 (meta-train-task) test_loss: 0.056880, test_acc: 0.868695\n",
      "# 575  (meta-test-task) test_loss: 1.134516, test_acc: 0.652105\n"
     ]
    },
    {
     "name": "stderr",
     "output_type": "stream",
     "text": [
      "Meta Train: 100%|█| 96/96 [00:54<00:00,  1.77it/s, epoch=5, train_loss=0.002, train_acc=1.000]\n",
      "Meta Test : 100%|█| 20/20 [00:01<00:00, 19.24it/s, epoch=5, train_loss=0.004, train_acc=1.000]\n"
     ]
    },
    {
     "name": "stdout",
     "output_type": "stream",
     "text": [
      "# 576 (meta-train-task) test_loss: 0.057574, test_acc: 0.863432\n",
      "# 576  (meta-test-task) test_loss: 1.097548, test_acc: 0.669737\n"
     ]
    },
    {
     "name": "stderr",
     "output_type": "stream",
     "text": [
      "Meta Train: 100%|█| 96/96 [00:53<00:00,  1.79it/s, epoch=5, train_loss=0.001, train_acc=1.000]\n",
      "Meta Test : 100%|█| 20/20 [00:01<00:00, 18.51it/s, epoch=5, train_loss=0.002, train_acc=1.000]\n"
     ]
    },
    {
     "name": "stdout",
     "output_type": "stream",
     "text": [
      "# 577 (meta-train-task) test_loss: 0.055742, test_acc: 0.874397\n",
      "# 577  (meta-test-task) test_loss: 1.072482, test_acc: 0.675263\n"
     ]
    },
    {
     "name": "stderr",
     "output_type": "stream",
     "text": [
      "Meta Train: 100%|█| 96/96 [00:54<00:00,  1.77it/s, epoch=5, train_loss=0.001, train_acc=1.000]\n",
      "Meta Test : 100%|█| 20/20 [00:01<00:00, 19.26it/s, epoch=5, train_loss=0.004, train_acc=1.000]\n"
     ]
    },
    {
     "name": "stdout",
     "output_type": "stream",
     "text": [
      "# 578 (meta-train-task) test_loss: 0.056259, test_acc: 0.867982\n",
      "# 578  (meta-test-task) test_loss: 1.056927, test_acc: 0.689737\n"
     ]
    },
    {
     "name": "stderr",
     "output_type": "stream",
     "text": [
      "Meta Train: 100%|█| 96/96 [00:53<00:00,  1.78it/s, epoch=5, train_loss=0.002, train_acc=1.000]\n",
      "Meta Test : 100%|█| 20/20 [00:01<00:00, 17.87it/s, epoch=5, train_loss=0.002, train_acc=1.000]\n"
     ]
    },
    {
     "name": "stdout",
     "output_type": "stream",
     "text": [
      "# 579 (meta-train-task) test_loss: 0.053988, test_acc: 0.880482\n",
      "# 579  (meta-test-task) test_loss: 1.036749, test_acc: 0.688684\n"
     ]
    },
    {
     "name": "stderr",
     "output_type": "stream",
     "text": [
      "Meta Train: 100%|█| 96/96 [00:55<00:00,  1.73it/s, epoch=5, train_loss=0.001, train_acc=1.000]\n",
      "Meta Test : 100%|█| 20/20 [00:01<00:00, 19.93it/s, epoch=5, train_loss=0.004, train_acc=1.000]\n"
     ]
    },
    {
     "name": "stdout",
     "output_type": "stream",
     "text": [
      "# 580 (meta-train-task) test_loss: 0.056096, test_acc: 0.871272\n",
      "# 580  (meta-test-task) test_loss: 1.076301, test_acc: 0.668684\n"
     ]
    },
    {
     "name": "stderr",
     "output_type": "stream",
     "text": [
      "Meta Train: 100%|█| 96/96 [00:54<00:00,  1.77it/s, epoch=5, train_loss=0.002, train_acc=1.000]\n",
      "Meta Test : 100%|█| 20/20 [00:01<00:00, 18.07it/s, epoch=5, train_loss=0.002, train_acc=1.000]\n"
     ]
    },
    {
     "name": "stdout",
     "output_type": "stream",
     "text": [
      "# 581 (meta-train-task) test_loss: 0.054741, test_acc: 0.877632\n",
      "# 581  (meta-test-task) test_loss: 0.999102, test_acc: 0.710526\n"
     ]
    },
    {
     "name": "stderr",
     "output_type": "stream",
     "text": [
      "Meta Train: 100%|█| 96/96 [00:54<00:00,  1.77it/s, epoch=5, train_loss=0.002, train_acc=1.000]\n",
      "Meta Test : 100%|█| 20/20 [00:01<00:00, 19.28it/s, epoch=5, train_loss=0.002, train_acc=1.000]\n"
     ]
    },
    {
     "name": "stdout",
     "output_type": "stream",
     "text": [
      "# 582 (meta-train-task) test_loss: 0.055419, test_acc: 0.874013\n",
      "# 582  (meta-test-task) test_loss: 1.023462, test_acc: 0.693684\n"
     ]
    },
    {
     "name": "stderr",
     "output_type": "stream",
     "text": [
      "Meta Train: 100%|█| 96/96 [00:54<00:00,  1.77it/s, epoch=5, train_loss=0.001, train_acc=1.000]\n",
      "Meta Test : 100%|█| 20/20 [00:01<00:00, 18.86it/s, epoch=5, train_loss=0.003, train_acc=1.000]\n"
     ]
    },
    {
     "name": "stdout",
     "output_type": "stream",
     "text": [
      "# 583 (meta-train-task) test_loss: 0.055416, test_acc: 0.869627\n",
      "# 583  (meta-test-task) test_loss: 1.030969, test_acc: 0.693947\n"
     ]
    },
    {
     "name": "stderr",
     "output_type": "stream",
     "text": [
      "Meta Train: 100%|█| 96/96 [00:54<00:00,  1.78it/s, epoch=5, train_loss=0.001, train_acc=1.000]\n",
      "Meta Test : 100%|█| 20/20 [00:01<00:00, 19.32it/s, epoch=5, train_loss=0.003, train_acc=1.000]\n"
     ]
    },
    {
     "name": "stdout",
     "output_type": "stream",
     "text": [
      "# 584 (meta-train-task) test_loss: 0.053474, test_acc: 0.881853\n",
      "# 584  (meta-test-task) test_loss: 1.106631, test_acc: 0.653947\n"
     ]
    },
    {
     "name": "stderr",
     "output_type": "stream",
     "text": [
      "Meta Train: 100%|█| 96/96 [00:54<00:00,  1.75it/s, epoch=5, train_loss=0.002, train_acc=1.000]\n",
      "Meta Test : 100%|█| 20/20 [00:01<00:00, 18.25it/s, epoch=5, train_loss=0.001, train_acc=1.000]\n"
     ]
    },
    {
     "name": "stdout",
     "output_type": "stream",
     "text": [
      "# 585 (meta-train-task) test_loss: 0.054871, test_acc: 0.874616\n",
      "# 585  (meta-test-task) test_loss: 1.097883, test_acc: 0.660000\n"
     ]
    },
    {
     "name": "stderr",
     "output_type": "stream",
     "text": [
      "Meta Train: 100%|█| 96/96 [00:54<00:00,  1.76it/s, epoch=5, train_loss=0.001, train_acc=1.000]\n",
      "Meta Test : 100%|█| 20/20 [00:01<00:00, 18.58it/s, epoch=5, train_loss=0.002, train_acc=1.000]\n"
     ]
    },
    {
     "name": "stdout",
     "output_type": "stream",
     "text": [
      "# 586 (meta-train-task) test_loss: 0.054774, test_acc: 0.873300\n",
      "# 586  (meta-test-task) test_loss: 1.130056, test_acc: 0.653947\n"
     ]
    },
    {
     "name": "stderr",
     "output_type": "stream",
     "text": [
      "Meta Train: 100%|█| 96/96 [00:55<00:00,  1.72it/s, epoch=5, train_loss=0.002, train_acc=1.000]\n",
      "Meta Test : 100%|█| 20/20 [00:01<00:00, 18.38it/s, epoch=5, train_loss=0.002, train_acc=1.000]\n"
     ]
    },
    {
     "name": "stdout",
     "output_type": "stream",
     "text": [
      "# 587 (meta-train-task) test_loss: 0.054919, test_acc: 0.873136\n",
      "# 587  (meta-test-task) test_loss: 1.040561, test_acc: 0.684474\n"
     ]
    },
    {
     "name": "stderr",
     "output_type": "stream",
     "text": [
      "Meta Train: 100%|█| 96/96 [00:54<00:00,  1.76it/s, epoch=5, train_loss=0.001, train_acc=1.000]\n",
      "Meta Test : 100%|█| 20/20 [00:01<00:00, 18.46it/s, epoch=5, train_loss=0.002, train_acc=1.000]\n"
     ]
    },
    {
     "name": "stdout",
     "output_type": "stream",
     "text": [
      "# 588 (meta-train-task) test_loss: 0.054262, test_acc: 0.877083\n",
      "# 588  (meta-test-task) test_loss: 1.100125, test_acc: 0.667368\n"
     ]
    },
    {
     "name": "stderr",
     "output_type": "stream",
     "text": [
      "Meta Train: 100%|█| 96/96 [00:54<00:00,  1.77it/s, epoch=5, train_loss=0.001, train_acc=1.000]\n",
      "Meta Test : 100%|█| 20/20 [00:01<00:00, 18.38it/s, epoch=5, train_loss=0.002, train_acc=1.000]\n"
     ]
    },
    {
     "name": "stdout",
     "output_type": "stream",
     "text": [
      "# 589 (meta-train-task) test_loss: 0.055587, test_acc: 0.873355\n",
      "# 589  (meta-test-task) test_loss: 1.016985, test_acc: 0.693421\n"
     ]
    },
    {
     "name": "stderr",
     "output_type": "stream",
     "text": [
      "Meta Train: 100%|█| 96/96 [00:54<00:00,  1.76it/s, epoch=5, train_loss=0.002, train_acc=1.000]\n",
      "Meta Test : 100%|█| 20/20 [00:00<00:00, 20.14it/s, epoch=5, train_loss=0.001, train_acc=1.000]\n"
     ]
    },
    {
     "name": "stdout",
     "output_type": "stream",
     "text": [
      "# 590 (meta-train-task) test_loss: 0.054598, test_acc: 0.875219\n",
      "# 590  (meta-test-task) test_loss: 1.007790, test_acc: 0.693947\n"
     ]
    },
    {
     "name": "stderr",
     "output_type": "stream",
     "text": [
      "Meta Train: 100%|█| 96/96 [00:54<00:00,  1.77it/s, epoch=5, train_loss=0.003, train_acc=1.000]\n",
      "Meta Test : 100%|█| 20/20 [00:01<00:00, 18.22it/s, epoch=5, train_loss=0.002, train_acc=1.000]\n"
     ]
    },
    {
     "name": "stdout",
     "output_type": "stream",
     "text": [
      "# 591 (meta-train-task) test_loss: 0.055637, test_acc: 0.870395\n",
      "# 591  (meta-test-task) test_loss: 1.091544, test_acc: 0.665526\n"
     ]
    },
    {
     "name": "stderr",
     "output_type": "stream",
     "text": [
      "Meta Train: 100%|█| 96/96 [00:54<00:00,  1.77it/s, epoch=5, train_loss=0.002, train_acc=1.000]\n",
      "Meta Test : 100%|█| 20/20 [00:01<00:00, 18.76it/s, epoch=5, train_loss=0.002, train_acc=1.000]\n"
     ]
    },
    {
     "name": "stdout",
     "output_type": "stream",
     "text": [
      "# 592 (meta-train-task) test_loss: 0.054068, test_acc: 0.876425\n",
      "# 592  (meta-test-task) test_loss: 1.079181, test_acc: 0.660526\n"
     ]
    },
    {
     "name": "stderr",
     "output_type": "stream",
     "text": [
      "Meta Train: 100%|█| 96/96 [00:54<00:00,  1.77it/s, epoch=5, train_loss=0.001, train_acc=1.000]\n",
      "Meta Test : 100%|█| 20/20 [00:01<00:00, 19.46it/s, epoch=5, train_loss=0.003, train_acc=1.000]\n"
     ]
    },
    {
     "name": "stdout",
     "output_type": "stream",
     "text": [
      "# 593 (meta-train-task) test_loss: 0.055336, test_acc: 0.872807\n",
      "# 593  (meta-test-task) test_loss: 1.052834, test_acc: 0.680526\n"
     ]
    },
    {
     "name": "stderr",
     "output_type": "stream",
     "text": [
      "Meta Train: 100%|█| 96/96 [00:54<00:00,  1.77it/s, epoch=5, train_loss=0.001, train_acc=1.000]\n",
      "Meta Test : 100%|█| 20/20 [00:01<00:00, 19.84it/s, epoch=5, train_loss=0.002, train_acc=1.000]\n"
     ]
    },
    {
     "name": "stdout",
     "output_type": "stream",
     "text": [
      "# 594 (meta-train-task) test_loss: 0.055049, test_acc: 0.874781\n",
      "# 594  (meta-test-task) test_loss: 1.065675, test_acc: 0.665263\n"
     ]
    },
    {
     "name": "stderr",
     "output_type": "stream",
     "text": [
      "Meta Train: 100%|█| 96/96 [00:54<00:00,  1.77it/s, epoch=5, train_loss=0.002, train_acc=1.000]\n",
      "Meta Test : 100%|█| 20/20 [00:01<00:00, 19.32it/s, epoch=5, train_loss=0.002, train_acc=1.000]\n"
     ]
    },
    {
     "name": "stdout",
     "output_type": "stream",
     "text": [
      "# 595 (meta-train-task) test_loss: 0.055271, test_acc: 0.869189\n",
      "# 595  (meta-test-task) test_loss: 1.010155, test_acc: 0.705526\n"
     ]
    },
    {
     "name": "stderr",
     "output_type": "stream",
     "text": [
      "Meta Train: 100%|█| 96/96 [00:54<00:00,  1.76it/s, epoch=5, train_loss=0.002, train_acc=1.000]\n",
      "Meta Test : 100%|█| 20/20 [00:01<00:00, 18.68it/s, epoch=5, train_loss=0.006, train_acc=1.000]\n"
     ]
    },
    {
     "name": "stdout",
     "output_type": "stream",
     "text": [
      "# 596 (meta-train-task) test_loss: 0.055046, test_acc: 0.873026\n",
      "# 596  (meta-test-task) test_loss: 1.074637, test_acc: 0.675263\n"
     ]
    },
    {
     "name": "stderr",
     "output_type": "stream",
     "text": [
      "Meta Train: 100%|█| 96/96 [00:54<00:00,  1.75it/s, epoch=5, train_loss=0.002, train_acc=1.000]\n",
      "Meta Test : 100%|█| 20/20 [00:01<00:00, 19.39it/s, epoch=5, train_loss=0.002, train_acc=1.000]\n"
     ]
    },
    {
     "name": "stdout",
     "output_type": "stream",
     "text": [
      "# 597 (meta-train-task) test_loss: 0.054424, test_acc: 0.874781\n",
      "# 597  (meta-test-task) test_loss: 1.022477, test_acc: 0.697105\n"
     ]
    },
    {
     "name": "stderr",
     "output_type": "stream",
     "text": [
      "Meta Train: 100%|█| 96/96 [00:53<00:00,  1.79it/s, epoch=5, train_loss=0.001, train_acc=1.000]\n",
      "Meta Test : 100%|█| 20/20 [00:01<00:00, 19.23it/s, epoch=5, train_loss=0.003, train_acc=1.000]\n"
     ]
    },
    {
     "name": "stdout",
     "output_type": "stream",
     "text": [
      "# 598 (meta-train-task) test_loss: 0.055355, test_acc: 0.872971\n",
      "# 598  (meta-test-task) test_loss: 1.072125, test_acc: 0.668684\n"
     ]
    },
    {
     "name": "stderr",
     "output_type": "stream",
     "text": [
      "Meta Train: 100%|█| 96/96 [00:54<00:00,  1.76it/s, epoch=5, train_loss=0.001, train_acc=1.000]\n",
      "Meta Test : 100%|█| 20/20 [00:00<00:00, 20.04it/s, epoch=5, train_loss=0.003, train_acc=1.000]\n"
     ]
    },
    {
     "name": "stdout",
     "output_type": "stream",
     "text": [
      "# 599 (meta-train-task) test_loss: 0.056628, test_acc: 0.867873\n",
      "# 599  (meta-test-task) test_loss: 1.063757, test_acc: 0.681316\n"
     ]
    },
    {
     "name": "stderr",
     "output_type": "stream",
     "text": [
      "Meta Train: 100%|█| 96/96 [00:53<00:00,  1.81it/s, epoch=5, train_loss=0.002, train_acc=1.000]\n",
      "Meta Test : 100%|█| 20/20 [00:01<00:00, 18.78it/s, epoch=5, train_loss=0.002, train_acc=1.000]\n"
     ]
    },
    {
     "name": "stdout",
     "output_type": "stream",
     "text": [
      "# 600 (meta-train-task) test_loss: 0.054143, test_acc: 0.877577\n",
      "# 600  (meta-test-task) test_loss: 1.065585, test_acc: 0.680000\n"
     ]
    },
    {
     "name": "stderr",
     "output_type": "stream",
     "text": [
      "Meta Train: 100%|█| 96/96 [00:53<00:00,  1.80it/s, epoch=5, train_loss=0.001, train_acc=1.000]\n",
      "Meta Test : 100%|█| 20/20 [00:01<00:00, 19.03it/s, epoch=5, train_loss=0.003, train_acc=1.000]\n"
     ]
    },
    {
     "name": "stdout",
     "output_type": "stream",
     "text": [
      "# 601 (meta-train-task) test_loss: 0.056321, test_acc: 0.868969\n",
      "# 601  (meta-test-task) test_loss: 1.063597, test_acc: 0.667105\n"
     ]
    },
    {
     "name": "stderr",
     "output_type": "stream",
     "text": [
      "Meta Train:  59%|▌| 57/96 [00:31<00:21,  1.78it/s, epoch=5, train_loss=0.003, train_acc=1.000]\n"
     ]
    },
    {
     "ename": "KeyboardInterrupt",
     "evalue": "",
     "output_type": "error",
     "traceback": [
      "\u001b[0;31m---------------------------------------------------------------------------\u001b[0m",
      "\u001b[0;31mKeyboardInterrupt\u001b[0m                         Traceback (most recent call last)",
      "\u001b[0;32m<ipython-input-10-14208a3211cd>\u001b[0m in \u001b[0;36m<module>\u001b[0;34m()\u001b[0m\n\u001b[1;32m      9\u001b[0m \u001b[0;32mfor\u001b[0m \u001b[0mepoch\u001b[0m \u001b[0;32min\u001b[0m \u001b[0mrange\u001b[0m\u001b[0;34m(\u001b[0m\u001b[0;36m1000\u001b[0m\u001b[0;34m)\u001b[0m\u001b[0;34m:\u001b[0m\u001b[0;34m\u001b[0m\u001b[0m\n\u001b[1;32m     10\u001b[0m \u001b[0;34m\u001b[0m\u001b[0m\n\u001b[0;32m---> 11\u001b[0;31m     \u001b[0mtrain_loss\u001b[0m\u001b[0;34m,\u001b[0m \u001b[0mtrain_acc\u001b[0m \u001b[0;34m=\u001b[0m \u001b[0mmeta_learner\u001b[0m\u001b[0;34m.\u001b[0m\u001b[0mmeta_train\u001b[0m\u001b[0;34m(\u001b[0m\u001b[0;34m)\u001b[0m\u001b[0;34m\u001b[0m\u001b[0m\n\u001b[0m\u001b[1;32m     12\u001b[0m     \u001b[0mtest_loss\u001b[0m\u001b[0;34m,\u001b[0m \u001b[0mtest_acc\u001b[0m \u001b[0;34m=\u001b[0m \u001b[0mmeta_learner\u001b[0m\u001b[0;34m.\u001b[0m\u001b[0mmeta_test\u001b[0m\u001b[0;34m(\u001b[0m\u001b[0;34m)\u001b[0m\u001b[0;34m\u001b[0m\u001b[0m\n\u001b[1;32m     13\u001b[0m \u001b[0;34m\u001b[0m\u001b[0m\n",
      "\u001b[0;32m<ipython-input-9-7d473b5b270a>\u001b[0m in \u001b[0;36mmeta_train\u001b[0;34m(self)\u001b[0m\n\u001b[1;32m    151\u001b[0m \u001b[0;34m\u001b[0m\u001b[0m\n\u001b[1;32m    152\u001b[0m                     \u001b[0;31m# differentiates test_loss by master_net params\u001b[0m\u001b[0;34m\u001b[0m\u001b[0;34m\u001b[0m\u001b[0m\n\u001b[0;32m--> 153\u001b[0;31m                     \u001b[0mgrads\u001b[0m \u001b[0;34m=\u001b[0m \u001b[0mtorch\u001b[0m\u001b[0;34m.\u001b[0m\u001b[0mautograd\u001b[0m\u001b[0;34m.\u001b[0m\u001b[0mgrad\u001b[0m\u001b[0;34m(\u001b[0m\u001b[0mloss\u001b[0m\u001b[0;34m,\u001b[0m \u001b[0mself\u001b[0m\u001b[0;34m.\u001b[0m\u001b[0mmaster_net\u001b[0m\u001b[0;34m.\u001b[0m\u001b[0mparameters\u001b[0m\u001b[0;34m(\u001b[0m\u001b[0;34m)\u001b[0m\u001b[0;34m,\u001b[0m \u001b[0mretain_graph\u001b[0m\u001b[0;34m=\u001b[0m\u001b[0;32mTrue\u001b[0m\u001b[0;34m)\u001b[0m\u001b[0;34m\u001b[0m\u001b[0m\n\u001b[0m\u001b[1;32m    154\u001b[0m                     \u001b[0mgrads\u001b[0m \u001b[0;34m=\u001b[0m \u001b[0;34m{\u001b[0m\u001b[0mname\u001b[0m\u001b[0;34m:\u001b[0m\u001b[0mg\u001b[0m \u001b[0;32mfor\u001b[0m \u001b[0;34m(\u001b[0m\u001b[0;34m(\u001b[0m\u001b[0mname\u001b[0m\u001b[0;34m,\u001b[0m \u001b[0m_\u001b[0m\u001b[0;34m)\u001b[0m\u001b[0;34m,\u001b[0m \u001b[0mg\u001b[0m\u001b[0;34m)\u001b[0m \u001b[0;32min\u001b[0m \u001b[0mzip\u001b[0m\u001b[0;34m(\u001b[0m\u001b[0mfaster_net\u001b[0m\u001b[0;34m.\u001b[0m\u001b[0mnamed_parameters\u001b[0m\u001b[0;34m(\u001b[0m\u001b[0;34m)\u001b[0m\u001b[0;34m,\u001b[0m \u001b[0mgrads\u001b[0m\u001b[0;34m)\u001b[0m\u001b[0;34m}\u001b[0m\u001b[0;34m\u001b[0m\u001b[0m\n\u001b[1;32m    155\u001b[0m                     \u001b[0mmeta_grads\u001b[0m\u001b[0;34m.\u001b[0m\u001b[0mappend\u001b[0m\u001b[0;34m(\u001b[0m\u001b[0mgrads\u001b[0m\u001b[0;34m)\u001b[0m\u001b[0;34m\u001b[0m\u001b[0m\n",
      "\u001b[0;32m~/.pyenv/versions/3.6.5/lib/python3.6/site-packages/torch/autograd/__init__.py\u001b[0m in \u001b[0;36mgrad\u001b[0;34m(outputs, inputs, grad_outputs, retain_graph, create_graph, only_inputs, allow_unused)\u001b[0m\n\u001b[1;32m    143\u001b[0m     return Variable._execution_engine.run_backward(\n\u001b[1;32m    144\u001b[0m         \u001b[0moutputs\u001b[0m\u001b[0;34m,\u001b[0m \u001b[0mgrad_outputs\u001b[0m\u001b[0;34m,\u001b[0m \u001b[0mretain_graph\u001b[0m\u001b[0;34m,\u001b[0m \u001b[0mcreate_graph\u001b[0m\u001b[0;34m,\u001b[0m\u001b[0;34m\u001b[0m\u001b[0m\n\u001b[0;32m--> 145\u001b[0;31m         inputs, allow_unused)\n\u001b[0m\u001b[1;32m    146\u001b[0m \u001b[0;34m\u001b[0m\u001b[0m\n\u001b[1;32m    147\u001b[0m \u001b[0;34m\u001b[0m\u001b[0m\n",
      "\u001b[0;31mKeyboardInterrupt\u001b[0m: "
     ]
    }
   ],
   "source": [
    "meta_learner = MetaLearner()\n",
    "\n",
    "# see normal few-shot learning\n",
    "for _ in range(1):\n",
    "    test_loss, test_acc = meta_learner.meta_test()\n",
    "    print(\"# {}  (meta-test-task) test_loss: {:.6f}, test_acc: {:.6f}\".format(\n",
    "        0, test_loss, test_acc))\n",
    "\n",
    "for epoch in range(1000):\n",
    "    \n",
    "    train_loss, train_acc = meta_learner.meta_train()\n",
    "    test_loss, test_acc = meta_learner.meta_test()\n",
    "    \n",
    "    print(\"# {} (meta-train-task) test_loss: {:.6f}, test_acc: {:.6f}\".format(\n",
    "        epoch+1, train_loss, train_acc))    \n",
    "    print(\"# {}  (meta-test-task) test_loss: {:.6f}, test_acc: {:.6f}\".format(\n",
    "        epoch+1, test_loss, test_acc))\n",
    "    \n",
    "    model_path = \"../model/model-epoch_{:05}-train_loss_{:0.3f}-train_acc_{:0.3f}-test_loss_{:0.3f}-test_acc_{:0.3f}.pt\".format(\n",
    "        epoch, train_loss, train_acc, test_loss, test_acc)\n",
    "    \n",
    "    meta_learner.save(model_path)\n",
    "    meta_learner.load(model_path)"
   ]
  },
  {
   "cell_type": "code",
   "execution_count": null,
   "metadata": {},
   "outputs": [],
   "source": []
  }
 ],
 "metadata": {
  "kernelspec": {
   "display_name": "Python 3",
   "language": "python",
   "name": "python3"
  },
  "language_info": {
   "codemirror_mode": {
    "name": "ipython",
    "version": 3
   },
   "file_extension": ".py",
   "mimetype": "text/x-python",
   "name": "python",
   "nbconvert_exporter": "python",
   "pygments_lexer": "ipython3",
   "version": "3.6.5"
  }
 },
 "nbformat": 4,
 "nbformat_minor": 2
}
