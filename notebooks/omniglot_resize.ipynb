{
 "cells": [
  {
   "cell_type": "code",
   "execution_count": 1,
   "metadata": {},
   "outputs": [],
   "source": [
    "import numpy as np\n",
    "import matplotlib.pyplot as plt\n",
    "import cv2\n",
    "import os\n",
    "import tqdm"
   ]
  },
  {
   "cell_type": "code",
   "execution_count": 2,
   "metadata": {
    "scrolled": false
   },
   "outputs": [
    {
     "name": "stdout",
     "output_type": "stream",
     "text": [
      "(105, 105)\n",
      "(28, 28)\n"
     ]
    },
    {
     "data": {
      "image/png": "[encoded data removed]",
      "text/plain": [
       "<Figure size 432x288 with 2 Axes>"
      ]
     },
     "metadata": {},
     "output_type": "display_data"
    }
   ],
   "source": [
    "x = plt.imread(\"../omniglot/images_background/Japanese_(hiragana)/character01/0488_01.png\")\n",
    "plt.subplot(1,2,1); plt.imshow(x); print(x.shape)\n",
    "x = cv2.resize(x, (28,28))\n",
    "plt.subplot(1,2,2); plt.imshow(x); print(x.shape)"
   ]
  },
  {
   "cell_type": "code",
   "execution_count": 3,
   "metadata": {},
   "outputs": [
    {
     "name": "stdout",
     "output_type": "stream",
     "text": [
      "(28, 28, 4)\n"
     ]
    },
    {
     "data": {
      "image/png": "[encoded data removed]",
      "text/plain": [
       "<Figure size 432x288 with 1 Axes>"
      ]
     },
     "metadata": {},
     "output_type": "display_data"
    }
   ],
   "source": [
    "!mkdir -p ./temp/temp\n",
    "plt.imsave(\"./temp/temp/a.png\", x)\n",
    "x = plt.imread(\"./temp/temp/a.png\")\n",
    "print(x.shape); plt.imshow(x); plt.show()"
   ]
  },
  {
   "cell_type": "markdown",
   "metadata": {},
   "source": [
    "30秒ほどかかりました"
   ]
  },
  {
   "cell_type": "code",
   "execution_count": 4,
   "metadata": {
    "scrolled": false
   },
   "outputs": [],
   "source": [
    "path_from = \"../omniglot/\"\n",
    "path_to = \"../omniglot_mini/\"\n",
    "\n",
    "os.mkdir(path_to)\n",
    "# ['images_background', 'images_evaluation']\n",
    "D0 = sorted(os.listdir(path_from))\n",
    "for d0 in D0:\n",
    "    \n",
    "    os.mkdir(os.path.join(path_to,d0))\n",
    "    # ['Alphabet_of_the_Magi', 'Anglo-Saxon_Futhorc', ...\n",
    "    D1 = sorted(os.listdir(os.path.join(path_from,d0)))\n",
    "    for d1 in D1:\n",
    "        \n",
    "        os.mkdir(os.path.join(path_to,d0,d1))\n",
    "        # ['character01', 'character02', ...\n",
    "        D2 = sorted(os.listdir(os.path.join(path_from,d0,d1)))\n",
    "        for d2 in D2:\n",
    "            \n",
    "            os.mkdir(os.path.join(path_to,d0,d1,d2))\n",
    "            # ['0709_01.png', '0709_02.png', ...\n",
    "            D3 = sorted(os.listdir(os.path.join(path_from,d0,d1,d2)))\n",
    "            for d3 in D3:\n",
    "                \n",
    "                x = plt.imread(os.path.join(path_from,d0,d1,d2,d3))\n",
    "                x = cv2.resize(x, (28,28))\n",
    "                plt.imsave(os.path.join(path_to,d0,d1,d2,d3), x)"
   ]
  }
 ],
 "metadata": {
  "kernelspec": {
   "display_name": "Python 3",
   "language": "python",
   "name": "python3"
  },
  "language_info": {
   "codemirror_mode": {
    "name": "ipython",
    "version": 3
   },
   "file_extension": ".py",
   "mimetype": "text/x-python",
   "name": "python",
   "nbconvert_exporter": "python",
   "pygments_lexer": "ipython3",
   "version": "3.6.5"
  }
 },
 "nbformat": 4,
 "nbformat_minor": 2
}
